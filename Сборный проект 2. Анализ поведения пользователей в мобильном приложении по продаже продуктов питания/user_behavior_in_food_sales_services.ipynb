{
 "cells": [
  {
   "cell_type": "markdown",
   "metadata": {},
   "source": [
    "****Сборный проект 2 - Анализ поведения пользователей в мобильном приложении по продаже продуктов питания****"
   ]
  },
  {
   "cell_type": "markdown",
   "metadata": {},
   "source": [
    "### Описание проекта"
   ]
  },
  {
   "cell_type": "markdown",
   "metadata": {},
   "source": [
    "В данном проекте я выступаю аналитиком стартапа, у которого есть мобильное приложение по заказу продуктов питания.\n",
    "\n",
    "Мне необходимо проанализировать поведение пользователей приложения, изучить воронку продаж и интерпритировать результаты А/А/В - теста.\n",
    "\n",
    "Так же необходимо помнить о первичной и обязательной работе с данными - проверить их качество т.е. провести предобработку."
   ]
  },
  {
   "cell_type": "markdown",
   "metadata": {},
   "source": [
    "### Описание данных"
   ]
  },
  {
   "cell_type": "markdown",
   "metadata": {},
   "source": [
    "Каждая запись в логе — это действие пользователя, или событие. \n",
    "\n",
    "\n",
    "- `EventName` — название события;\n",
    "\n",
    "\n",
    "- `DeviceIDHash` — уникальный идентификатор пользователя;\n",
    "\n",
    "\n",
    "- `EventTimestamp` — время события;\n",
    "\n",
    "\n",
    "- `ExpId` — номер эксперимента: 246 и 247 — контрольные группы, а 248 — экспериментальная."
   ]
  },
  {
   "cell_type": "markdown",
   "metadata": {},
   "source": [
    "### Цель и задачи проекта"
   ]
  },
  {
   "cell_type": "markdown",
   "metadata": {},
   "source": [
    "Цель проекта - изучить поведение пользователей приложения и сделать выводы по результатам А/В-теста для помощи в принятии бизнесс-решения о смене дизайна приложения. \n",
    "\n",
    "Задачи проекта:\n",
    "1. Изучить данные в логе;\n",
    "\n",
    "\n",
    "2. Выстроить воронку событий;\n",
    "\n",
    "\n",
    "3. Выяснить на каком шаге теряется больше всего пользователей;\n",
    "\n",
    "\n",
    "4. Выяснить сколько пользователей проходит от первого события до оплаты;\n",
    "\n",
    "\n",
    "5. Изучить пользователей каждой экспрементальной группы;\n",
    "\n",
    "\n",
    "6. Выяснить есть ли различия в эксперементальных группах;\n",
    "\n",
    "\n",
    "7. Выяснить как повлияли на пользователей изменения, внесенные в эксперементальную группу."
   ]
  },
  {
   "cell_type": "markdown",
   "metadata": {},
   "source": [
    "### План работы"
   ]
  },
  {
   "cell_type": "markdown",
   "metadata": {},
   "source": [
    "1. Ознакомиться с данными;\n",
    "\n",
    "\n",
    "2. Выполнить предобработку;\n",
    "\n",
    "\n",
    "3. Изучить и проверить данные;\n",
    "\n",
    "\n",
    "4. Изучить воронку событий;\n",
    "\n",
    "\n",
    "5. Изучить результаты эксперимента;\n",
    "\n",
    "\n",
    "6. Выводы."
   ]
  },
  {
   "cell_type": "markdown",
   "metadata": {},
   "source": [
    "### Загрузка и изучение данных."
   ]
  },
  {
   "cell_type": "code",
   "execution_count": 1,
   "metadata": {},
   "outputs": [],
   "source": [
    "# Импортирую необходимые библеотеки\n",
    "import pandas as pd\n",
    "import seaborn as sns\n",
    "import matplotlib.pyplot as plt\n",
    "from scipy import stats as st\n",
    "import datetime as dt\n",
    "import numpy as np\n",
    "from statsmodels.stats.proportion import proportions_ztest"
   ]
  },
  {
   "cell_type": "code",
   "execution_count": 3,
   "metadata": {},
   "outputs": [],
   "source": [
    "# Выгружаю данные\n",
    "logs = pd.read_csv('logs_exp.csv', sep='\\t')"
   ]
  },
  {
   "cell_type": "code",
   "execution_count": 4,
   "metadata": {},
   "outputs": [
    {
     "name": "stdout",
     "output_type": "stream",
     "text": [
      "=== Logs: Первые 5 строк ===\n",
      "                 EventName         DeviceIDHash  EventTimestamp  ExpId\n",
      "0         MainScreenAppear  4575588528974610257      1564029816    246\n",
      "1         MainScreenAppear  7416695313311560658      1564053102    246\n",
      "2  PaymentScreenSuccessful  3518123091307005509      1564054127    248\n",
      "3         CartScreenAppear  3518123091307005509      1564054127    248\n",
      "4  PaymentScreenSuccessful  6217807653094995999      1564055322    248\n",
      "\n",
      "\n",
      "=== Logs: Последние 5 строк ===\n",
      "                 EventName         DeviceIDHash  EventTimestamp  ExpId\n",
      "244121    MainScreenAppear  4599628364049201812      1565212345    247\n",
      "244122    MainScreenAppear  5849806612437486590      1565212439    246\n",
      "244123    MainScreenAppear  5746969938801999050      1565212483    246\n",
      "244124    MainScreenAppear  5746969938801999050      1565212498    246\n",
      "244125  OffersScreenAppear  5746969938801999050      1565212517    246\n",
      "\n",
      "\n",
      "=== Logs: Информация о датасете ===\n",
      "<class 'pandas.core.frame.DataFrame'>\n",
      "RangeIndex: 244126 entries, 0 to 244125\n",
      "Data columns (total 4 columns):\n",
      " #   Column          Non-Null Count   Dtype \n",
      "---  ------          --------------   ----- \n",
      " 0   EventName       244126 non-null  object\n",
      " 1   DeviceIDHash    244126 non-null  int64 \n",
      " 2   EventTimestamp  244126 non-null  int64 \n",
      " 3   ExpId           244126 non-null  int64 \n",
      "dtypes: int64(3), object(1)\n",
      "memory usage: 7.5+ MB\n",
      "\n",
      "\n"
     ]
    }
   ],
   "source": [
    "# Напишу функцию для вывода первичной информации о датасетах - по рекомендации других ревьеров\n",
    "def describe_dataset(df, name):\n",
    "    # Устанавливаю максимальную ширину отображаемого текста в колонке до 100 символов\n",
    "    pd.options.display.max_colwidth = 1000\n",
    "\n",
    "    print(f\"=== {name}: Первые 5 строк ===\")\n",
    "    print(df.head())\n",
    "    print(\"\\n\")\n",
    "    \n",
    "    print(f\"=== {name}: Последние 5 строк ===\")\n",
    "    print(df.tail())\n",
    "    print(\"\\n\")\n",
    "    \n",
    "    print(f\"=== {name}: Информация о датасете ===\")\n",
    "    df.info()\n",
    "    print(\"\\n\")\n",
    "    \n",
    "# Применю функцию к датасету\n",
    "describe_dataset(logs, \"Logs\")"
   ]
  },
  {
   "cell_type": "markdown",
   "metadata": {},
   "source": [
    "После вывода предварительной информации о датасете посмотрю колличество дубликатов:"
   ]
  },
  {
   "cell_type": "code",
   "execution_count": 5,
   "metadata": {},
   "outputs": [
    {
     "data": {
      "text/plain": [
       "413"
      ]
     },
     "execution_count": 5,
     "metadata": {},
     "output_type": "execute_result"
    }
   ],
   "source": [
    "logs.duplicated().sum()"
   ]
  },
  {
   "cell_type": "markdown",
   "metadata": {},
   "source": [
    "#### Предварительные выводы после изучения данных"
   ]
  },
  {
   "cell_type": "markdown",
   "metadata": {},
   "source": [
    "Я ознакомилась с данными. В датсете `logs` всего 244 126 строк и 4 столбцв. \n",
    "\n",
    "Уже на данном этапе видны проблемы, которые необходимо устранить на этапе предобработке данных:\n",
    "\n",
    "- Некорректное наименование столбцов (не соотвествует snake_case), а также, думаю, изменить названия на более лаконичные и понятные ;\n",
    "\n",
    "\n",
    "- Некорректные тип данных для столбца `EventTimestamp`;\n",
    "\n",
    "\n",
    "- Не хватает отдельного столбца только с датой;\n",
    "\n",
    "\n",
    "- 413 Дубликатов.\n",
    "\n",
    "\n",
    "Такие проблемы нормальны так как скорее всего в системе сбора данных наименование столбцов указаны в форме удобной для человека (а это названия с большой буквы или слитное написание название ID). Тип данных некорректен в столбцах содержащих даты, вероятно, произошел сбой при выгрузки данных.\n",
    "\n",
    "В целом, данные пригодны для дальнейшего анализа - нет пропущенных значений, но необходима предобратка."
   ]
  },
  {
   "cell_type": "markdown",
   "metadata": {},
   "source": [
    "### Предобработка данных"
   ]
  },
  {
   "cell_type": "markdown",
   "metadata": {},
   "source": [
    "Приведу столбец с датами к корректному типу:"
   ]
  },
  {
   "cell_type": "code",
   "execution_count": 6,
   "metadata": {},
   "outputs": [],
   "source": [
    "# Меняю тип\n",
    "logs['EventTimestamp'] = pd.to_datetime(logs['EventTimestamp'], unit='s')"
   ]
  },
  {
   "cell_type": "code",
   "execution_count": 7,
   "metadata": {},
   "outputs": [
    {
     "data": {
      "text/plain": [
       "EventName                 object\n",
       "DeviceIDHash               int64\n",
       "EventTimestamp    datetime64[ns]\n",
       "ExpId                      int64\n",
       "dtype: object"
      ]
     },
     "execution_count": 7,
     "metadata": {},
     "output_type": "execute_result"
    }
   ],
   "source": [
    "# Выполняю проверку\n",
    "logs.dtypes"
   ]
  },
  {
   "cell_type": "markdown",
   "metadata": {},
   "source": [
    "Отлично, тип корректный.\n",
    "\n",
    "\n",
    "Теперь создам столбец, содержащий только дату:"
   ]
  },
  {
   "cell_type": "code",
   "execution_count": 8,
   "metadata": {},
   "outputs": [],
   "source": [
    "logs['event_date'] = logs['EventTimestamp'].dt.date\n",
    "logs['event_date'] = pd.to_datetime(logs['event_date'])"
   ]
  },
  {
   "cell_type": "code",
   "execution_count": 9,
   "metadata": {},
   "outputs": [
    {
     "data": {
      "text/plain": [
       "EventName                 object\n",
       "DeviceIDHash               int64\n",
       "EventTimestamp    datetime64[ns]\n",
       "ExpId                      int64\n",
       "event_date        datetime64[ns]\n",
       "dtype: object"
      ]
     },
     "execution_count": 9,
     "metadata": {},
     "output_type": "execute_result"
    }
   ],
   "source": [
    "# Выполняю проверку\n",
    "logs.dtypes"
   ]
  },
  {
   "cell_type": "markdown",
   "metadata": {},
   "source": [
    "Теперь изменю наименования столбцов:"
   ]
  },
  {
   "cell_type": "code",
   "execution_count": 10,
   "metadata": {},
   "outputs": [],
   "source": [
    "logs.rename(columns={\n",
    "    'EventName': 'event_name',\n",
    "    'DeviceIDHash': 'device_id',\n",
    "    'EventTimestamp': 'event_time',\n",
    "    'ExpId': 'group_type'\n",
    "}, inplace=True)"
   ]
  },
  {
   "cell_type": "code",
   "execution_count": 11,
   "metadata": {},
   "outputs": [
    {
     "data": {
      "text/plain": [
       "Index(['event_name', 'device_id', 'event_time', 'group_type', 'event_date'], dtype='object')"
      ]
     },
     "execution_count": 11,
     "metadata": {},
     "output_type": "execute_result"
    }
   ],
   "source": [
    "# Выполняю проверку\n",
    "logs.columns"
   ]
  },
  {
   "cell_type": "markdown",
   "metadata": {},
   "source": [
    "Отлично, у всех столбцов корректные и понятные наименования.\n",
    "\n",
    "Теперь удалю дубликату, проверю сколько данных потеряется после удаления и выполню проверку:"
   ]
  },
  {
   "cell_type": "code",
   "execution_count": 12,
   "metadata": {},
   "outputs": [
    {
     "name": "stdout",
     "output_type": "stream",
     "text": [
      "Дубликатов после удаления: 0\n",
      "Процент потери данных после удаления дубликатов: 0.17%\n"
     ]
    }
   ],
   "source": [
    "# Исходное количество записей\n",
    "total_count = logs.shape[0]\n",
    "\n",
    "# Удаление дубликатов\n",
    "logs = logs.drop_duplicates().reset_index(drop=True)\n",
    "\n",
    "# Количество записей после удаления дубликатов\n",
    "final_count = logs.shape[0]\n",
    "\n",
    "# Расчет процента потерянных данных\n",
    "data_loss = ((total_count - final_count) / total_count) * 100\n",
    "\n",
    "print(f\"Дубликатов после удаления: {logs.duplicated().sum()}\")\n",
    "print(f\"Процент потери данных после удаления дубликатов: {data_loss:.2f}%\")"
   ]
  },
  {
   "cell_type": "markdown",
   "metadata": {},
   "source": [
    "Отлично, дубликаты удалены. Удалили менее одного процента данных, что не сущетвенно для дальнейшего анализа."
   ]
  },
  {
   "cell_type": "markdown",
   "metadata": {},
   "source": [
    "#### Вывод по предобработке данных"
   ]
  },
  {
   "cell_type": "markdown",
   "metadata": {},
   "source": [
    "На данном этапе данные готовы к дальнейшей работе:\n",
    "\n",
    "- Данные приведены к корректному типу, где это необходимо;\n",
    "\n",
    "\n",
    "- Добавлен столбец с датой без времени для удобства последующего анализа;\n",
    "\n",
    "\n",
    "- Изменены наименования столбцов в соотвествии с общепринятым и удобным для работы стилем, а так же со смысловым содержанием;\n",
    "\n",
    "\n",
    "- Удалены дубликаты. Проведина проверка на уместность потери данных;\n",
    "\n",
    "\n",
    "\n",
    "- Сделаны выводы о причине проблем в данных."
   ]
  },
  {
   "cell_type": "markdown",
   "metadata": {},
   "source": [
    "###  Изучение и проверка данных"
   ]
  },
  {
   "cell_type": "markdown",
   "metadata": {},
   "source": [
    "****На данном этапе необходимо:****\n",
    "\n",
    "1. Узнать колько всего событий в логе;\n",
    "\n",
    "\n",
    "\n",
    "2. Узнать сколько всего пользователей в логе;\n",
    "\n",
    "\n",
    "\n",
    "3. Узнать сколько в среднем событий приходится на пользователя;\n",
    "\n",
    "\n",
    "\n",
    "4. Узнать данными за какой период я располагаю;\n",
    "\n",
    "    1. Найти максимальную и минимальную дату; \n",
    "    \n",
    "    2. Изучить, как меняется количество данных: построить столбчатую диаграмму, которая отобразит количество событий в зависимости от времени в разрезе групп;\n",
    "    \n",
    "    3. Узнать можно ли быть уверенным, что у вас одинаково полные данные за весь период. Технически в логи новых дней по некоторым пользователям могут «доезжать» события из прошлого — это может «перекашивать данные»; \n",
    "    \n",
    "    4. Определить, с какого момента данные полные и отбросьте более старые; \n",
    "    \n",
    "    5. Узнать данными за какой период времени я располагаю на самом деле.\n",
    "    \n",
    "    \n",
    "    \n",
    "5. Узнать много ли событий и пользователей потеряно при отсечении старых данных;\n",
    "\n",
    "\n",
    "\n",
    "6. Проверить, что у меня есть пользователи из всех трёх экспериментальных групп."
   ]
  },
  {
   "cell_type": "markdown",
   "metadata": {},
   "source": [
    "#### Количество событий в логе:"
   ]
  },
  {
   "cell_type": "code",
   "execution_count": 13,
   "metadata": {},
   "outputs": [
    {
     "name": "stdout",
     "output_type": "stream",
     "text": [
      "Общее количество событий в логе: 243713\n",
      "\n",
      "\n",
      "Количество каждого из событий в логе: event_name\n",
      "MainScreenAppear           119101\n",
      "OffersScreenAppear          46808\n",
      "CartScreenAppear            42668\n",
      "PaymentScreenSuccessful     34118\n",
      "Tutorial                     1018\n",
      "Name: count, dtype: int64\n"
     ]
    }
   ],
   "source": [
    "events_count = logs.shape[0]\n",
    "print(f\"Общее количество событий в логе: {events_count}\")\n",
    "print(\"\\n\")\n",
    "print(f\"Количество каждого из событий в логе: {logs['event_name'].value_counts()}\")"
   ]
  },
  {
   "cell_type": "markdown",
   "metadata": {},
   "source": [
    "#### Количество пользователей в логе:"
   ]
  },
  {
   "cell_type": "code",
   "execution_count": 14,
   "metadata": {},
   "outputs": [
    {
     "name": "stdout",
     "output_type": "stream",
     "text": [
      "Количество пользователей в логе: 7551\n"
     ]
    }
   ],
   "source": [
    "users_count = logs['device_id'].nunique()\n",
    "print(f\"Количество пользователей в логе: {users_count}\")"
   ]
  },
  {
   "cell_type": "markdown",
   "metadata": {},
   "source": [
    "#### Количество событий на пользователя в логе:"
   ]
  },
  {
   "cell_type": "code",
   "execution_count": 15,
   "metadata": {},
   "outputs": [
    {
     "name": "stdout",
     "output_type": "stream",
     "text": [
      "Количество событий на пользователя в логе: 32.28\n"
     ]
    }
   ],
   "source": [
    "events_per_user_count = round((events_count / users_count), 2)\n",
    "print(f\"Количество событий на пользователя в логе: {events_per_user_count}\")"
   ]
  },
  {
   "cell_type": "markdown",
   "metadata": {},
   "source": [
    "#### Период имеющихся данных:"
   ]
  },
  {
   "cell_type": "code",
   "execution_count": 16,
   "metadata": {},
   "outputs": [
    {
     "name": "stdout",
     "output_type": "stream",
     "text": [
      "Максимальная дата: 2019-08-07 00:00:00\n"
     ]
    }
   ],
   "source": [
    "max_date = logs['event_date'].max()\n",
    "print(f\"Максимальная дата: {max_date}\")"
   ]
  },
  {
   "cell_type": "code",
   "execution_count": 17,
   "metadata": {},
   "outputs": [
    {
     "name": "stdout",
     "output_type": "stream",
     "text": [
      "Минимальная дата: 2019-07-25 00:00:00\n"
     ]
    }
   ],
   "source": [
    "min_date = logs['event_date'].min()\n",
    "print(f\"Минимальная дата: {min_date}\")"
   ]
  },
  {
   "cell_type": "code",
   "execution_count": 18,
   "metadata": {},
   "outputs": [
    {
     "name": "stdout",
     "output_type": "stream",
     "text": [
      "Временной промежуток: 13 days 00:00:00\n"
     ]
    }
   ],
   "source": [
    "date_time = max_date - min_date\n",
    "print(f\"Временной промежуток: {date_time}\")"
   ]
  },
  {
   "cell_type": "markdown",
   "metadata": {},
   "source": [
    "##### Столбчатая диаграмма количество событий в зависимости от времени в разрезе групп"
   ]
  },
  {
   "cell_type": "code",
   "execution_count": 19,
   "metadata": {},
   "outputs": [
    {
     "data": {
      "text/html": [
       "<div>\n",
       "<style scoped>\n",
       "    .dataframe tbody tr th:only-of-type {\n",
       "        vertical-align: middle;\n",
       "    }\n",
       "\n",
       "    .dataframe tbody tr th {\n",
       "        vertical-align: top;\n",
       "    }\n",
       "\n",
       "    .dataframe thead th {\n",
       "        text-align: right;\n",
       "    }\n",
       "</style>\n",
       "<table border=\"1\" class=\"dataframe\">\n",
       "  <thead>\n",
       "    <tr style=\"text-align: right;\">\n",
       "      <th></th>\n",
       "      <th>event_date</th>\n",
       "      <th>group_type</th>\n",
       "      <th>event_count</th>\n",
       "    </tr>\n",
       "  </thead>\n",
       "  <tbody>\n",
       "    <tr>\n",
       "      <th>0</th>\n",
       "      <td>2019-07-25</td>\n",
       "      <td>246</td>\n",
       "      <td>4</td>\n",
       "    </tr>\n",
       "    <tr>\n",
       "      <th>1</th>\n",
       "      <td>2019-07-25</td>\n",
       "      <td>247</td>\n",
       "      <td>1</td>\n",
       "    </tr>\n",
       "    <tr>\n",
       "      <th>2</th>\n",
       "      <td>2019-07-25</td>\n",
       "      <td>248</td>\n",
       "      <td>4</td>\n",
       "    </tr>\n",
       "    <tr>\n",
       "      <th>3</th>\n",
       "      <td>2019-07-26</td>\n",
       "      <td>246</td>\n",
       "      <td>14</td>\n",
       "    </tr>\n",
       "    <tr>\n",
       "      <th>4</th>\n",
       "      <td>2019-07-26</td>\n",
       "      <td>247</td>\n",
       "      <td>8</td>\n",
       "    </tr>\n",
       "    <tr>\n",
       "      <th>5</th>\n",
       "      <td>2019-07-26</td>\n",
       "      <td>248</td>\n",
       "      <td>9</td>\n",
       "    </tr>\n",
       "    <tr>\n",
       "      <th>6</th>\n",
       "      <td>2019-07-27</td>\n",
       "      <td>246</td>\n",
       "      <td>24</td>\n",
       "    </tr>\n",
       "    <tr>\n",
       "      <th>7</th>\n",
       "      <td>2019-07-27</td>\n",
       "      <td>247</td>\n",
       "      <td>23</td>\n",
       "    </tr>\n",
       "    <tr>\n",
       "      <th>8</th>\n",
       "      <td>2019-07-27</td>\n",
       "      <td>248</td>\n",
       "      <td>8</td>\n",
       "    </tr>\n",
       "    <tr>\n",
       "      <th>9</th>\n",
       "      <td>2019-07-28</td>\n",
       "      <td>246</td>\n",
       "      <td>33</td>\n",
       "    </tr>\n",
       "    <tr>\n",
       "      <th>10</th>\n",
       "      <td>2019-07-28</td>\n",
       "      <td>247</td>\n",
       "      <td>36</td>\n",
       "    </tr>\n",
       "    <tr>\n",
       "      <th>11</th>\n",
       "      <td>2019-07-28</td>\n",
       "      <td>248</td>\n",
       "      <td>36</td>\n",
       "    </tr>\n",
       "    <tr>\n",
       "      <th>12</th>\n",
       "      <td>2019-07-29</td>\n",
       "      <td>246</td>\n",
       "      <td>55</td>\n",
       "    </tr>\n",
       "    <tr>\n",
       "      <th>13</th>\n",
       "      <td>2019-07-29</td>\n",
       "      <td>247</td>\n",
       "      <td>58</td>\n",
       "    </tr>\n",
       "    <tr>\n",
       "      <th>14</th>\n",
       "      <td>2019-07-29</td>\n",
       "      <td>248</td>\n",
       "      <td>71</td>\n",
       "    </tr>\n",
       "    <tr>\n",
       "      <th>15</th>\n",
       "      <td>2019-07-30</td>\n",
       "      <td>246</td>\n",
       "      <td>129</td>\n",
       "    </tr>\n",
       "    <tr>\n",
       "      <th>16</th>\n",
       "      <td>2019-07-30</td>\n",
       "      <td>247</td>\n",
       "      <td>138</td>\n",
       "    </tr>\n",
       "    <tr>\n",
       "      <th>17</th>\n",
       "      <td>2019-07-30</td>\n",
       "      <td>248</td>\n",
       "      <td>145</td>\n",
       "    </tr>\n",
       "    <tr>\n",
       "      <th>18</th>\n",
       "      <td>2019-07-31</td>\n",
       "      <td>246</td>\n",
       "      <td>620</td>\n",
       "    </tr>\n",
       "    <tr>\n",
       "      <th>19</th>\n",
       "      <td>2019-07-31</td>\n",
       "      <td>247</td>\n",
       "      <td>664</td>\n",
       "    </tr>\n",
       "    <tr>\n",
       "      <th>20</th>\n",
       "      <td>2019-07-31</td>\n",
       "      <td>248</td>\n",
       "      <td>746</td>\n",
       "    </tr>\n",
       "    <tr>\n",
       "      <th>21</th>\n",
       "      <td>2019-08-01</td>\n",
       "      <td>246</td>\n",
       "      <td>11561</td>\n",
       "    </tr>\n",
       "    <tr>\n",
       "      <th>22</th>\n",
       "      <td>2019-08-01</td>\n",
       "      <td>247</td>\n",
       "      <td>12306</td>\n",
       "    </tr>\n",
       "    <tr>\n",
       "      <th>23</th>\n",
       "      <td>2019-08-01</td>\n",
       "      <td>248</td>\n",
       "      <td>12274</td>\n",
       "    </tr>\n",
       "    <tr>\n",
       "      <th>24</th>\n",
       "      <td>2019-08-02</td>\n",
       "      <td>246</td>\n",
       "      <td>10946</td>\n",
       "    </tr>\n",
       "    <tr>\n",
       "      <th>25</th>\n",
       "      <td>2019-08-02</td>\n",
       "      <td>247</td>\n",
       "      <td>10990</td>\n",
       "    </tr>\n",
       "    <tr>\n",
       "      <th>26</th>\n",
       "      <td>2019-08-02</td>\n",
       "      <td>248</td>\n",
       "      <td>13618</td>\n",
       "    </tr>\n",
       "    <tr>\n",
       "      <th>27</th>\n",
       "      <td>2019-08-03</td>\n",
       "      <td>246</td>\n",
       "      <td>10575</td>\n",
       "    </tr>\n",
       "    <tr>\n",
       "      <th>28</th>\n",
       "      <td>2019-08-03</td>\n",
       "      <td>247</td>\n",
       "      <td>11024</td>\n",
       "    </tr>\n",
       "    <tr>\n",
       "      <th>29</th>\n",
       "      <td>2019-08-03</td>\n",
       "      <td>248</td>\n",
       "      <td>11683</td>\n",
       "    </tr>\n",
       "    <tr>\n",
       "      <th>30</th>\n",
       "      <td>2019-08-04</td>\n",
       "      <td>246</td>\n",
       "      <td>11514</td>\n",
       "    </tr>\n",
       "    <tr>\n",
       "      <th>31</th>\n",
       "      <td>2019-08-04</td>\n",
       "      <td>247</td>\n",
       "      <td>9942</td>\n",
       "    </tr>\n",
       "    <tr>\n",
       "      <th>32</th>\n",
       "      <td>2019-08-04</td>\n",
       "      <td>248</td>\n",
       "      <td>11512</td>\n",
       "    </tr>\n",
       "    <tr>\n",
       "      <th>33</th>\n",
       "      <td>2019-08-05</td>\n",
       "      <td>246</td>\n",
       "      <td>12368</td>\n",
       "    </tr>\n",
       "    <tr>\n",
       "      <th>34</th>\n",
       "      <td>2019-08-05</td>\n",
       "      <td>247</td>\n",
       "      <td>10949</td>\n",
       "    </tr>\n",
       "    <tr>\n",
       "      <th>35</th>\n",
       "      <td>2019-08-05</td>\n",
       "      <td>248</td>\n",
       "      <td>12741</td>\n",
       "    </tr>\n",
       "    <tr>\n",
       "      <th>36</th>\n",
       "      <td>2019-08-06</td>\n",
       "      <td>246</td>\n",
       "      <td>11726</td>\n",
       "    </tr>\n",
       "    <tr>\n",
       "      <th>37</th>\n",
       "      <td>2019-08-06</td>\n",
       "      <td>247</td>\n",
       "      <td>11720</td>\n",
       "    </tr>\n",
       "    <tr>\n",
       "      <th>38</th>\n",
       "      <td>2019-08-06</td>\n",
       "      <td>248</td>\n",
       "      <td>12342</td>\n",
       "    </tr>\n",
       "    <tr>\n",
       "      <th>39</th>\n",
       "      <td>2019-08-07</td>\n",
       "      <td>246</td>\n",
       "      <td>10612</td>\n",
       "    </tr>\n",
       "    <tr>\n",
       "      <th>40</th>\n",
       "      <td>2019-08-07</td>\n",
       "      <td>247</td>\n",
       "      <td>10091</td>\n",
       "    </tr>\n",
       "    <tr>\n",
       "      <th>41</th>\n",
       "      <td>2019-08-07</td>\n",
       "      <td>248</td>\n",
       "      <td>10393</td>\n",
       "    </tr>\n",
       "  </tbody>\n",
       "</table>\n",
       "</div>"
      ],
      "text/plain": [
       "   event_date  group_type  event_count\n",
       "0  2019-07-25         246            4\n",
       "1  2019-07-25         247            1\n",
       "2  2019-07-25         248            4\n",
       "3  2019-07-26         246           14\n",
       "4  2019-07-26         247            8\n",
       "5  2019-07-26         248            9\n",
       "6  2019-07-27         246           24\n",
       "7  2019-07-27         247           23\n",
       "8  2019-07-27         248            8\n",
       "9  2019-07-28         246           33\n",
       "10 2019-07-28         247           36\n",
       "11 2019-07-28         248           36\n",
       "12 2019-07-29         246           55\n",
       "13 2019-07-29         247           58\n",
       "14 2019-07-29         248           71\n",
       "15 2019-07-30         246          129\n",
       "16 2019-07-30         247          138\n",
       "17 2019-07-30         248          145\n",
       "18 2019-07-31         246          620\n",
       "19 2019-07-31         247          664\n",
       "20 2019-07-31         248          746\n",
       "21 2019-08-01         246        11561\n",
       "22 2019-08-01         247        12306\n",
       "23 2019-08-01         248        12274\n",
       "24 2019-08-02         246        10946\n",
       "25 2019-08-02         247        10990\n",
       "26 2019-08-02         248        13618\n",
       "27 2019-08-03         246        10575\n",
       "28 2019-08-03         247        11024\n",
       "29 2019-08-03         248        11683\n",
       "30 2019-08-04         246        11514\n",
       "31 2019-08-04         247         9942\n",
       "32 2019-08-04         248        11512\n",
       "33 2019-08-05         246        12368\n",
       "34 2019-08-05         247        10949\n",
       "35 2019-08-05         248        12741\n",
       "36 2019-08-06         246        11726\n",
       "37 2019-08-06         247        11720\n",
       "38 2019-08-06         248        12342\n",
       "39 2019-08-07         246        10612\n",
       "40 2019-08-07         247        10091\n",
       "41 2019-08-07         248        10393"
      ]
     },
     "execution_count": 19,
     "metadata": {},
     "output_type": "execute_result"
    }
   ],
   "source": [
    "# Группирую данные и подсчитываю количество событий для каждой группы на каждую дату.\n",
    "# Использую size() для подсчёта размера группы, т.е. количества событий.\n",
    "# Переименовываю столбец для наглядного вывода.\n",
    "grouped_logs = logs.groupby(['event_date', 'group_type']).size().reset_index(name='event_count')\n",
    "grouped_logs"
   ]
  },
  {
   "cell_type": "code",
   "execution_count": 20,
   "metadata": {},
   "outputs": [
    {
     "data": {
      "image/png": "[encoded data removed]",
      "text/plain": [
       "<Figure size 1500x800 with 1 Axes>"
      ]
     },
     "metadata": {},
     "output_type": "display_data"
    }
   ],
   "source": [
    "# Перевожу дату в строковый формат для читаемости дат на графике\n",
    "grouped_logs['event_date'] = grouped_logs['event_date'].dt.strftime('%Y-%m-%d')\n",
    "\n",
    "# Устанавливаю стиль графика\n",
    "sns.set(style=\"whitegrid\")\n",
    "\n",
    "# Создаю столбчатую диаграмму\n",
    "plt.figure(figsize=(15, 8))\n",
    "bar_plot = sns.barplot(data=grouped_logs, x='event_date', y='event_count', hue='group_type', palette='viridis')\n",
    "\n",
    "# Делаю метки дат под наклоном для более удобного вывода\n",
    "plt.xticks(rotation=45)\n",
    "\n",
    "# Добавляю подписи и заголовок, устанвливаю размер\n",
    "plt.xlabel('Дата', fontsize=14)\n",
    "plt.ylabel('Количество событий', fontsize=14)\n",
    "plt.title('Количество событий в зависимости от времени в разрезе групп', fontsize=16)\n",
    "\n",
    "# Подгоняю легенду\n",
    "plt.legend(title='Группа', title_fontsize='13', fontsize='12')\n",
    "\n",
    "# Вывожу график\n",
    "plt.show()"
   ]
  },
  {
   "cell_type": "markdown",
   "metadata": {},
   "source": [
    "***Выводы по графику:***"
   ]
  },
  {
   "cell_type": "markdown",
   "metadata": {},
   "source": [
    "В начале виден относительно медленный рост количества событий во всех трёх группах.\n",
    "Существенное увеличение количества событий начинается с 1 августа и продолжается в течение первых дней месяца. \n",
    "Самые высокие значения количества событий для всех групп наблюдаются в период с 01.08 по 07.08, с небольшим спадом к 7 августа. Это указывает на высокую активность пользователей в приложении в этот период.\n",
    "Группа 248 (эксперментальная) часто показывает наибольшее количество событий, особенно во второй половине рассматриваемого периода. Это может свидетельствовать о том, что изменения, применённые в этой группе, могли положительно повлиять на активность пользователей."
   ]
  },
  {
   "cell_type": "markdown",
   "metadata": {},
   "source": [
    "##### Полнота данных за весь период. \n",
    "Технически в логи новых дней по некоторым пользователям могут «доезжать» события из прошлого — это может «перекашивать данные»."
   ]
  },
  {
   "cell_type": "markdown",
   "metadata": {},
   "source": [
    "Для того, чтобы быть уверенным, что данные одинаково полные за весь период необходимо: \n",
    "\n",
    "1. Построить график, показывающий количество событий каждый день. Это даст представление о том, как изменялась активность пользователей и были ли дни с необычно низким или высоким количеством событий, что может указывать на проблемы данных.\n",
    "\n",
    "\n",
    "2. Построить график времени появления записей в логе, который может помочь выявить задержки. Например, если много событий за предыдущий день регистрируются после полуночи следующего дня, это может указывать на проблемы с задержкой данных."
   ]
  },
  {
   "cell_type": "code",
   "execution_count": 21,
   "metadata": {},
   "outputs": [
    {
     "data": {
      "image/png": "[encoded data removed]",
      "text/plain": [
       "<Figure size 1200x600 with 1 Axes>"
      ]
     },
     "metadata": {},
     "output_type": "display_data"
    }
   ],
   "source": [
    "# Группировка данных по дате\n",
    "daily_events = grouped_logs.groupby('event_date')['event_count'].sum()\n",
    "\n",
    "# Визуализация количества событий по дням\n",
    "plt.figure(figsize=(12, 6))\n",
    "plt.plot(daily_events.index, daily_events.values, marker='o', linestyle='-')\n",
    "plt.title('Количество событий в день')\n",
    "plt.xlabel('Дата')\n",
    "plt.ylabel('Количество событий')\n",
    "plt.grid(True)\n",
    "plt.xticks(rotation=45)\n",
    "plt.tight_layout()\n",
    "plt.show()"
   ]
  },
  {
   "cell_type": "code",
   "execution_count": 22,
   "metadata": {},
   "outputs": [
    {
     "data": {
      "image/png": "[encoded data removed]",
      "text/plain": [
       "<Figure size 1200x600 with 1 Axes>"
      ]
     },
     "metadata": {},
     "output_type": "display_data"
    }
   ],
   "source": [
    "# Вычисление времени событий относительно начала дня\n",
    "logs['time_of_day'] = logs['event_time'].dt.hour * 60 + logs['event_time'].dt.minute\n",
    "\n",
    "# Группировка данных по дате и расчет среднего времени событий\n",
    "average_time_of_day = logs.groupby('event_date')['time_of_day'].mean()\n",
    "\n",
    "# Визуализация среднего времени событий по дням\n",
    "plt.figure(figsize=(12, 6))\n",
    "plt.plot(average_time_of_day.index, average_time_of_day.values, marker='o', linestyle='-')\n",
    "plt.title('Среднее время событий по дням')\n",
    "plt.xlabel('Дата')\n",
    "plt.ylabel('Срднее время событий (минуты с полночи)')\n",
    "plt.grid(True)\n",
    "plt.xticks(rotation=45)\n",
    "plt.tight_layout()"
   ]
  },
  {
   "cell_type": "markdown",
   "metadata": {},
   "source": [
    "***Выводы по графику***"
   ]
  },
  {
   "cell_type": "markdown",
   "metadata": {},
   "source": [
    "На графике количества событий видно, что количество событий в день было относительно низким до 31 июля. С 1 августа наблюдается резкое увеличение количества событий. Это может быть связанно с началом периода тестирования. \n",
    "На графике среднего времени событий заметны существенные колебания среднего времени событий, особенно резкий пик на 31 июля, когда среднее время событий поднялось до почти 1000 минут (около 16:40). Это указывает на то, что события этого дня могли быть зарегистрированы с задержкой.\n",
    "После резкого пика времени событий на 31 июля, среднее время событий стабилизируется и держится на уровне около 800 минут (примерно 13:20)."
   ]
  },
  {
   "cell_type": "markdown",
   "metadata": {},
   "source": [
    "##### Определение периода полных данных и фильтрация неактуальных данных"
   ]
  },
  {
   "cell_type": "markdown",
   "metadata": {},
   "source": [
    "Благодаря построенным ранее графикам, можно заметить, что данные за июль показывают заметно меньшее количество событий, что может указывать на неполноту данных за этот период. Резкий рост числа событий начинается с 1 августа, что также может быть связано с началом полноценного логирования данных.\n",
    "\n",
    "Уберу данные за июлю и построю графики событий по дням и группам, а также график событий по дням"
   ]
  },
  {
   "cell_type": "code",
   "execution_count": 23,
   "metadata": {},
   "outputs": [
    {
     "data": {
      "text/html": [
       "<div>\n",
       "<style scoped>\n",
       "    .dataframe tbody tr th:only-of-type {\n",
       "        vertical-align: middle;\n",
       "    }\n",
       "\n",
       "    .dataframe tbody tr th {\n",
       "        vertical-align: top;\n",
       "    }\n",
       "\n",
       "    .dataframe thead th {\n",
       "        text-align: right;\n",
       "    }\n",
       "</style>\n",
       "<table border=\"1\" class=\"dataframe\">\n",
       "  <thead>\n",
       "    <tr style=\"text-align: right;\">\n",
       "      <th></th>\n",
       "      <th>event_name</th>\n",
       "      <th>device_id</th>\n",
       "      <th>event_time</th>\n",
       "      <th>group_type</th>\n",
       "      <th>event_date</th>\n",
       "      <th>time_of_day</th>\n",
       "    </tr>\n",
       "  </thead>\n",
       "  <tbody>\n",
       "    <tr>\n",
       "      <th>2826</th>\n",
       "      <td>Tutorial</td>\n",
       "      <td>3737462046622621720</td>\n",
       "      <td>2019-08-01 00:07:28</td>\n",
       "      <td>246</td>\n",
       "      <td>2019-08-01</td>\n",
       "      <td>7</td>\n",
       "    </tr>\n",
       "    <tr>\n",
       "      <th>2827</th>\n",
       "      <td>MainScreenAppear</td>\n",
       "      <td>3737462046622621720</td>\n",
       "      <td>2019-08-01 00:08:00</td>\n",
       "      <td>246</td>\n",
       "      <td>2019-08-01</td>\n",
       "      <td>8</td>\n",
       "    </tr>\n",
       "    <tr>\n",
       "      <th>2828</th>\n",
       "      <td>MainScreenAppear</td>\n",
       "      <td>3737462046622621720</td>\n",
       "      <td>2019-08-01 00:08:55</td>\n",
       "      <td>246</td>\n",
       "      <td>2019-08-01</td>\n",
       "      <td>8</td>\n",
       "    </tr>\n",
       "    <tr>\n",
       "      <th>2829</th>\n",
       "      <td>OffersScreenAppear</td>\n",
       "      <td>3737462046622621720</td>\n",
       "      <td>2019-08-01 00:08:58</td>\n",
       "      <td>246</td>\n",
       "      <td>2019-08-01</td>\n",
       "      <td>8</td>\n",
       "    </tr>\n",
       "    <tr>\n",
       "      <th>2830</th>\n",
       "      <td>MainScreenAppear</td>\n",
       "      <td>1433840883824088890</td>\n",
       "      <td>2019-08-01 00:08:59</td>\n",
       "      <td>247</td>\n",
       "      <td>2019-08-01</td>\n",
       "      <td>8</td>\n",
       "    </tr>\n",
       "    <tr>\n",
       "      <th>...</th>\n",
       "      <td>...</td>\n",
       "      <td>...</td>\n",
       "      <td>...</td>\n",
       "      <td>...</td>\n",
       "      <td>...</td>\n",
       "      <td>...</td>\n",
       "    </tr>\n",
       "    <tr>\n",
       "      <th>243708</th>\n",
       "      <td>MainScreenAppear</td>\n",
       "      <td>4599628364049201812</td>\n",
       "      <td>2019-08-07 21:12:25</td>\n",
       "      <td>247</td>\n",
       "      <td>2019-08-07</td>\n",
       "      <td>1272</td>\n",
       "    </tr>\n",
       "    <tr>\n",
       "      <th>243709</th>\n",
       "      <td>MainScreenAppear</td>\n",
       "      <td>5849806612437486590</td>\n",
       "      <td>2019-08-07 21:13:59</td>\n",
       "      <td>246</td>\n",
       "      <td>2019-08-07</td>\n",
       "      <td>1273</td>\n",
       "    </tr>\n",
       "    <tr>\n",
       "      <th>243710</th>\n",
       "      <td>MainScreenAppear</td>\n",
       "      <td>5746969938801999050</td>\n",
       "      <td>2019-08-07 21:14:43</td>\n",
       "      <td>246</td>\n",
       "      <td>2019-08-07</td>\n",
       "      <td>1274</td>\n",
       "    </tr>\n",
       "    <tr>\n",
       "      <th>243711</th>\n",
       "      <td>MainScreenAppear</td>\n",
       "      <td>5746969938801999050</td>\n",
       "      <td>2019-08-07 21:14:58</td>\n",
       "      <td>246</td>\n",
       "      <td>2019-08-07</td>\n",
       "      <td>1274</td>\n",
       "    </tr>\n",
       "    <tr>\n",
       "      <th>243712</th>\n",
       "      <td>OffersScreenAppear</td>\n",
       "      <td>5746969938801999050</td>\n",
       "      <td>2019-08-07 21:15:17</td>\n",
       "      <td>246</td>\n",
       "      <td>2019-08-07</td>\n",
       "      <td>1275</td>\n",
       "    </tr>\n",
       "  </tbody>\n",
       "</table>\n",
       "<p>240887 rows × 6 columns</p>\n",
       "</div>"
      ],
      "text/plain": [
       "                event_name            device_id          event_time  \\\n",
       "2826              Tutorial  3737462046622621720 2019-08-01 00:07:28   \n",
       "2827      MainScreenAppear  3737462046622621720 2019-08-01 00:08:00   \n",
       "2828      MainScreenAppear  3737462046622621720 2019-08-01 00:08:55   \n",
       "2829    OffersScreenAppear  3737462046622621720 2019-08-01 00:08:58   \n",
       "2830      MainScreenAppear  1433840883824088890 2019-08-01 00:08:59   \n",
       "...                    ...                  ...                 ...   \n",
       "243708    MainScreenAppear  4599628364049201812 2019-08-07 21:12:25   \n",
       "243709    MainScreenAppear  5849806612437486590 2019-08-07 21:13:59   \n",
       "243710    MainScreenAppear  5746969938801999050 2019-08-07 21:14:43   \n",
       "243711    MainScreenAppear  5746969938801999050 2019-08-07 21:14:58   \n",
       "243712  OffersScreenAppear  5746969938801999050 2019-08-07 21:15:17   \n",
       "\n",
       "        group_type event_date  time_of_day  \n",
       "2826           246 2019-08-01            7  \n",
       "2827           246 2019-08-01            8  \n",
       "2828           246 2019-08-01            8  \n",
       "2829           246 2019-08-01            8  \n",
       "2830           247 2019-08-01            8  \n",
       "...            ...        ...          ...  \n",
       "243708         247 2019-08-07         1272  \n",
       "243709         246 2019-08-07         1273  \n",
       "243710         246 2019-08-07         1274  \n",
       "243711         246 2019-08-07         1274  \n",
       "243712         246 2019-08-07         1275  \n",
       "\n",
       "[240887 rows x 6 columns]"
      ]
     },
     "execution_count": 23,
     "metadata": {},
     "output_type": "execute_result"
    }
   ],
   "source": [
    "# Фильтрация данных\n",
    "filtered_logs = logs[logs['event_date'] >= '2019-08-01']\n",
    "filtered_logs"
   ]
  },
  {
   "cell_type": "code",
   "execution_count": 24,
   "metadata": {},
   "outputs": [
    {
     "name": "stdout",
     "output_type": "stream",
     "text": [
      "Количество событий до фильтрации: 243713\n",
      "Количество событий после фильтрации: 240887\n",
      "Количество потерянных данных: 2826\n",
      "Процент потерянных данных: 1.16%\n"
     ]
    }
   ],
   "source": [
    "# Подсчитаю сколько данных я потреяла после фильтрации\n",
    "\n",
    "events_count_after = filtered_logs.shape[0]\n",
    "\n",
    "# Вычисление потерянных данных\n",
    "events_loss = events_count - events_count_after\n",
    "events_loss_percentage = ((events_count - events_count_after) / events_count) * 100\n",
    "\n",
    "print(f\"Количество событий до фильтрации: {events_count}\")\n",
    "print(f\"Количество событий после фильтрации: {events_count_after}\")\n",
    "print(f\"Количество потерянных данных: {events_loss}\")\n",
    "print(f\"Процент потерянных данных: {events_loss_percentage:.2f}%\")"
   ]
  },
  {
   "cell_type": "markdown",
   "metadata": {},
   "source": [
    "Отлично, после фильтрации я потреяла менее 2% процентов данных, что не критично для дальнейшего анализа."
   ]
  },
  {
   "cell_type": "markdown",
   "metadata": {},
   "source": [
    "Снова построю графики, но после фильтрации"
   ]
  },
  {
   "cell_type": "code",
   "execution_count": 25,
   "metadata": {},
   "outputs": [
    {
     "data": {
      "image/png": "[encoded data removed]",
      "text/plain": [
       "<Figure size 1500x800 with 1 Axes>"
      ]
     },
     "metadata": {},
     "output_type": "display_data"
    }
   ],
   "source": [
    "grouped_filtered_logs = filtered_logs.groupby(['event_date', 'group_type']).size().reset_index(name='event_count')\n",
    "\n",
    "# Перевожу дату в строковый формат для читаемости дат на графике\n",
    "grouped_filtered_logs['event_date'] = grouped_filtered_logs['event_date'].dt.strftime('%Y-%m-%d')\n",
    "\n",
    "# Устанавливаю стиль графика\n",
    "sns.set(style=\"whitegrid\")\n",
    "\n",
    "# Создаю столбчатую диаграмму\n",
    "plt.figure(figsize=(15, 8))\n",
    "bar_plot = sns.barplot(data=grouped_filtered_logs, x='event_date', y='event_count', hue='group_type', palette='viridis')\n",
    "\n",
    "# Делаю метки дат под наклоном для более удобного вывода\n",
    "plt.xticks(rotation=45)\n",
    "\n",
    "# Добавляю подписи и заголовок, устанвливаю размер\n",
    "plt.xlabel('Дата', fontsize=14)\n",
    "plt.ylabel('Количество событий после фильтрации', fontsize=14)\n",
    "plt.title('Количество событий после фильтрации в зависимости от времени в разрезе групп', fontsize=16)\n",
    "\n",
    "# Подгоняю легенду\n",
    "plt.legend(title='Группа', title_fontsize='13', fontsize='12')\n",
    "\n",
    "# Вывожу график\n",
    "plt.show()"
   ]
  },
  {
   "cell_type": "code",
   "execution_count": 26,
   "metadata": {},
   "outputs": [
    {
     "data": {
      "image/png": "[encoded data removed]",
      "text/plain": [
       "<Figure size 1200x600 with 1 Axes>"
      ]
     },
     "metadata": {},
     "output_type": "display_data"
    }
   ],
   "source": [
    "# Группировка данных по дате\n",
    "daily_events_filtered = grouped_filtered_logs.groupby('event_date')['event_count'].sum()\n",
    "\n",
    "# Визуализация количества событий по дням\n",
    "plt.figure(figsize=(12, 6))\n",
    "plt.plot(daily_events_filtered.index, daily_events_filtered.values, marker='o', linestyle='-')\n",
    "plt.title('Количество событий в день после фильтрации')\n",
    "plt.xlabel('Дата')\n",
    "plt.ylabel('Количество событий после фильтрации')\n",
    "plt.grid(True)\n",
    "plt.xticks(rotation=45)\n",
    "plt.tight_layout()\n",
    "plt.show()"
   ]
  },
  {
   "cell_type": "code",
   "execution_count": 27,
   "metadata": {},
   "outputs": [
    {
     "data": {
      "image/png": "[encoded data removed]",
      "text/plain": [
       "<Figure size 1200x600 with 1 Axes>"
      ]
     },
     "metadata": {},
     "output_type": "display_data"
    }
   ],
   "source": [
    "\n",
    "# Группировка данных по дате и расчет среднего времени событий\n",
    "average_time_of_day = filtered_logs.groupby('event_date')['time_of_day'].mean()\n",
    "\n",
    "# Визуализация среднего времени событий по дням\n",
    "plt.figure(figsize=(12, 6))\n",
    "plt.plot(average_time_of_day.index, average_time_of_day.values, marker='o', linestyle='-')\n",
    "plt.title('Среднее время событий по дням после фильтрации')\n",
    "plt.xlabel('Дата')\n",
    "plt.ylabel('Срднее время событий (минуты с полночи) после фильтрации')\n",
    "plt.grid(True)\n",
    "plt.xticks(rotation=45)\n",
    "plt.tight_layout()"
   ]
  },
  {
   "cell_type": "markdown",
   "metadata": {},
   "source": [
    "***Выводы по графикам***"
   ]
  },
  {
   "cell_type": "markdown",
   "metadata": {},
   "source": [
    "График количества событий после фильтрации в зависимости от времени и групп показывает стабильное количество событий в каждой из трёх групп (246, 247, 248) на протяжении всего анализируемого периода. Это свидетельствует о том, что каждая группа была равномерно активна, и данные в каждой группе полны и сопоставимы. Не наблюдается значительных падений или всплесков, которые могли бы указывать на технические проблемы с логированием данных.\n",
    "\n",
    "\n",
    "\n",
    "График количества событий в день после фильтрации показывает более стабильное и последовательное количество событий в день с небольшими колебаниями, что характеризует нормальную динамику активности пользователей. Нет значительных просадок, что подтверждает, что проблемы с неполными данными до 1 августа были успешно устранены.\n",
    "\n",
    "\n",
    "\n",
    "График среднего времени событий за день показывает, что большинство событий происходило примерно в одно и то же время, с небольшими колебаниями. Это может свидетельствовать о стабильной работе системы без задержек в логировании данных.\n",
    "Пик 5 августа: Есть заметный пик 5 августа, когда среднее время событий увеличивается. Это может указывать на то, что в этот день события регистрировались позднее по каким-то причинам.\n",
    "\n",
    "\n",
    "Таким образом удаление старых данных помогло исключить период с потенциально неполными или некорректными данными, что сделало анализ более надёжным."
   ]
  },
  {
   "cell_type": "markdown",
   "metadata": {},
   "source": [
    "##### Реальный период имеющихся данных"
   ]
  },
  {
   "cell_type": "code",
   "execution_count": 28,
   "metadata": {},
   "outputs": [
    {
     "name": "stdout",
     "output_type": "stream",
     "text": [
      "Максимальная дата после фильтрации: 2019-08-07 00:00:00\n",
      "Минимальная дата после фильтрации: 2019-08-01 00:00:00\n",
      "Временной промежуток после фильтрации: 6 days 00:00:00\n",
      "Потеря в днях: 7 days 00:00:00\n"
     ]
    }
   ],
   "source": [
    "max_date_filtered = filtered_logs['event_date'].max()\n",
    "min_date_filtered = filtered_logs['event_date'].min()\n",
    "date_time_filtered = max_date_filtered - min_date_filtered\n",
    "\n",
    "print(f\"Максимальная дата после фильтрации: {max_date_filtered}\")\n",
    "print(f\"Минимальная дата после фильтрации: {min_date_filtered}\")\n",
    "print(f\"Временной промежуток после фильтрации: {date_time_filtered}\")\n",
    "print(f\"Потеря в днях: {date_time - date_time_filtered}\")"
   ]
  },
  {
   "cell_type": "markdown",
   "metadata": {},
   "source": [
    "Фактически я обладаю полными данными за 6 дней. Потеря данных в днях - 7."
   ]
  },
  {
   "cell_type": "markdown",
   "metadata": {},
   "source": [
    "#### Потеря данных в событиях и пользователях"
   ]
  },
  {
   "cell_type": "code",
   "execution_count": 29,
   "metadata": {},
   "outputs": [
    {
     "name": "stdout",
     "output_type": "stream",
     "text": [
      "Количество событий до фильтрации: 243713\n",
      "Количество событий после фильтрации: 240887\n",
      "Потеряно событий: 2826 (1.16%)\n",
      "Количество пользователей до фильтрации: 7551\n",
      "Количество пользователей после фильтрации: 7534\n",
      "Потеряно пользователей: 17 (0.23%)\n"
     ]
    }
   ],
   "source": [
    "# Подсчет пользователй после фильтрации\n",
    "users_count_after = filtered_logs['device_id'].nunique()\n",
    "\n",
    "# Вычисление разницы в количестве пользователей\n",
    "users_loss = users_count - users_count_after\n",
    "\n",
    "# Вычисление процента потерянных данных\n",
    "users_loss_percentage = ((users_count - users_count_after) / users_count) * 100\n",
    "\n",
    "# Вывод результатов\n",
    "print(f\"Количество событий до фильтрации: {events_count}\")\n",
    "print(f\"Количество событий после фильтрации: {events_count_after}\")\n",
    "print(f\"Потеряно событий: {events_loss} ({events_loss_percentage:.2f}%)\")\n",
    "\n",
    "print(f\"Количество пользователей до фильтрации: {users_count}\")\n",
    "print(f\"Количество пользователей после фильтрации: {users_count_after}\")\n",
    "print(f\"Потеряно пользователей: {users_loss} ({users_loss_percentage:.2f}%)\")"
   ]
  },
  {
   "cell_type": "markdown",
   "metadata": {},
   "source": [
    "***Вывод***"
   ]
  },
  {
   "cell_type": "markdown",
   "metadata": {},
   "source": [
    "После удаления старых данных потрея пользователй составила менее 1%, потеря событий составила менее 2%, что является минимальной и незначительной потерей для анализа. "
   ]
  },
  {
   "cell_type": "markdown",
   "metadata": {},
   "source": [
    "#### Проверка наличия пользователей из всех трёх экспериментальных групп."
   ]
  },
  {
   "cell_type": "code",
   "execution_count": 30,
   "metadata": {},
   "outputs": [
    {
     "name": "stdout",
     "output_type": "stream",
     "text": [
      "Количество пользователей в каждой группе: group_type\n",
      "246    2484\n",
      "247    2513\n",
      "248    2537\n",
      "Name: device_id, dtype: int64\n"
     ]
    }
   ],
   "source": [
    "# Группировка данных по группе и подсчет уникальных пользователей в каждой группе\n",
    "users_per_group = filtered_logs.groupby('group_type')['device_id'].nunique()\n",
    "print(f\"Количество пользователей в каждой группе: {users_per_group}\")"
   ]
  },
  {
   "cell_type": "markdown",
   "metadata": {},
   "source": [
    "***Вывод***"
   ]
  },
  {
   "cell_type": "markdown",
   "metadata": {},
   "source": [
    "В данных присутствуют пользователи из всех трёх экспериментальных групп, что позволяет проводить дальнейший анализ. Количество пользователей в группах достаточно сравнимо, что также позволяет проводить дальнейший анализ."
   ]
  },
  {
   "cell_type": "markdown",
   "metadata": {},
   "source": [
    "### Изучение воронки событий"
   ]
  },
  {
   "cell_type": "markdown",
   "metadata": {},
   "source": [
    "****На данном этапе необходимо:****\n",
    "\n",
    "1. Посмотреть, какие события есть в логах, как часто они встречаются. Отсортировать события по частоте;\n",
    "\n",
    "\n",
    "2. Посчитать, сколько пользователей совершали каждое из этих событий. Отсортировать события по числу пользователей. Посчитать долю пользователей, которые хоть раз совершали событие;\n",
    "\n",
    "\n",
    "3. Предположить, в каком порядке происходят события. Понять все ли они выстраиваются в последовательную цепочку. Их не нужно учитывать при расчёте воронки;\n",
    "\n",
    "\n",
    "4. По воронке событий посчитать, какая доля пользователей проходит на следующий шаг воронки (от числа пользователей на предыдущем). То есть для последовательности событий A → B → C посчитать отношение числа пользователей с событием B к количеству пользователей с событием A, а также отношение числа пользователей с событием C к количеству пользователей с событием B;\n",
    "\n",
    "\n",
    "5. Узнать на каком шаге теряете больше всего пользователе;\n",
    "\n",
    "\n",
    "6. Узнать какая доля пользователей доходит от первого события до оплаты."
   ]
  },
  {
   "cell_type": "markdown",
   "metadata": {},
   "source": [
    "#### События в логах и их частота"
   ]
  },
  {
   "cell_type": "code",
   "execution_count": 31,
   "metadata": {},
   "outputs": [
    {
     "data": {
      "text/html": [
       "<div>\n",
       "<style scoped>\n",
       "    .dataframe tbody tr th:only-of-type {\n",
       "        vertical-align: middle;\n",
       "    }\n",
       "\n",
       "    .dataframe tbody tr th {\n",
       "        vertical-align: top;\n",
       "    }\n",
       "\n",
       "    .dataframe thead th {\n",
       "        text-align: right;\n",
       "    }\n",
       "</style>\n",
       "<table border=\"1\" class=\"dataframe\">\n",
       "  <thead>\n",
       "    <tr style=\"text-align: right;\">\n",
       "      <th></th>\n",
       "      <th>name</th>\n",
       "      <th>count</th>\n",
       "    </tr>\n",
       "  </thead>\n",
       "  <tbody>\n",
       "    <tr>\n",
       "      <th>0</th>\n",
       "      <td>MainScreenAppear</td>\n",
       "      <td>117328</td>\n",
       "    </tr>\n",
       "    <tr>\n",
       "      <th>1</th>\n",
       "      <td>OffersScreenAppear</td>\n",
       "      <td>46333</td>\n",
       "    </tr>\n",
       "    <tr>\n",
       "      <th>2</th>\n",
       "      <td>CartScreenAppear</td>\n",
       "      <td>42303</td>\n",
       "    </tr>\n",
       "    <tr>\n",
       "      <th>3</th>\n",
       "      <td>PaymentScreenSuccessful</td>\n",
       "      <td>33918</td>\n",
       "    </tr>\n",
       "    <tr>\n",
       "      <th>4</th>\n",
       "      <td>Tutorial</td>\n",
       "      <td>1005</td>\n",
       "    </tr>\n",
       "  </tbody>\n",
       "</table>\n",
       "</div>"
      ],
      "text/plain": [
       "                      name   count\n",
       "0         MainScreenAppear  117328\n",
       "1       OffersScreenAppear   46333\n",
       "2         CartScreenAppear   42303\n",
       "3  PaymentScreenSuccessful   33918\n",
       "4                 Tutorial    1005"
      ]
     },
     "execution_count": 31,
     "metadata": {},
     "output_type": "execute_result"
    }
   ],
   "source": [
    "# Считаю количество каждого события\n",
    "events = filtered_logs['event_name'].value_counts().reset_index()\n",
    "events.columns = ['name', 'count']\n",
    "events"
   ]
  },
  {
   "cell_type": "code",
   "execution_count": 32,
   "metadata": {},
   "outputs": [
    {
     "data": {
      "image/png": "[encoded data removed]",
      "text/plain": [
       "<Figure size 1200x800 with 1 Axes>"
      ]
     },
     "metadata": {},
     "output_type": "display_data"
    }
   ],
   "source": [
    "# Строю график частоты событий\n",
    "plt.figure(figsize=(12, 8))\n",
    "sns.barplot(data=events, x='count', y='name', palette='viridis')\n",
    "plt.xlabel('Количество событий')\n",
    "plt.ylabel('Тип события')\n",
    "plt.title('Частота событий в логах')\n",
    "plt.tight_layout()\n",
    "plt.show()"
   ]
  },
  {
   "cell_type": "markdown",
   "metadata": {},
   "source": [
    "***Вывод***"
   ]
  },
  {
   "cell_type": "markdown",
   "metadata": {},
   "source": [
    "Основные экраны (главный экран, экран предложений, экран корзины) и процесс оплаты являются наиболее посещаемыми и используемыми функциями приложения.\n",
    "Обучение используется реже всего, что может указывать на интуитивно понятный интерфейс или на то, что пользователи пропускают обучение."
   ]
  },
  {
   "cell_type": "markdown",
   "metadata": {},
   "source": [
    "#### Количество пользователей совершивших каждое событие. \n",
    "Необходимо отсортировать события по числу пользователей. Посчитать долю пользователей, которые хоть раз совершали событие."
   ]
  },
  {
   "cell_type": "code",
   "execution_count": 33,
   "metadata": {},
   "outputs": [
    {
     "data": {
      "text/html": [
       "<div>\n",
       "<style scoped>\n",
       "    .dataframe tbody tr th:only-of-type {\n",
       "        vertical-align: middle;\n",
       "    }\n",
       "\n",
       "    .dataframe tbody tr th {\n",
       "        vertical-align: top;\n",
       "    }\n",
       "\n",
       "    .dataframe thead th {\n",
       "        text-align: right;\n",
       "    }\n",
       "</style>\n",
       "<table border=\"1\" class=\"dataframe\">\n",
       "  <thead>\n",
       "    <tr style=\"text-align: right;\">\n",
       "      <th></th>\n",
       "      <th>event_name</th>\n",
       "      <th>user_count</th>\n",
       "      <th>user_share</th>\n",
       "    </tr>\n",
       "  </thead>\n",
       "  <tbody>\n",
       "    <tr>\n",
       "      <th>1</th>\n",
       "      <td>MainScreenAppear</td>\n",
       "      <td>7419</td>\n",
       "      <td>0.98</td>\n",
       "    </tr>\n",
       "    <tr>\n",
       "      <th>2</th>\n",
       "      <td>OffersScreenAppear</td>\n",
       "      <td>4593</td>\n",
       "      <td>0.61</td>\n",
       "    </tr>\n",
       "    <tr>\n",
       "      <th>0</th>\n",
       "      <td>CartScreenAppear</td>\n",
       "      <td>3734</td>\n",
       "      <td>0.50</td>\n",
       "    </tr>\n",
       "    <tr>\n",
       "      <th>3</th>\n",
       "      <td>PaymentScreenSuccessful</td>\n",
       "      <td>3539</td>\n",
       "      <td>0.47</td>\n",
       "    </tr>\n",
       "    <tr>\n",
       "      <th>4</th>\n",
       "      <td>Tutorial</td>\n",
       "      <td>840</td>\n",
       "      <td>0.11</td>\n",
       "    </tr>\n",
       "  </tbody>\n",
       "</table>\n",
       "</div>"
      ],
      "text/plain": [
       "                event_name  user_count  user_share\n",
       "1         MainScreenAppear        7419        0.98\n",
       "2       OffersScreenAppear        4593        0.61\n",
       "0         CartScreenAppear        3734        0.50\n",
       "3  PaymentScreenSuccessful        3539        0.47\n",
       "4                 Tutorial         840        0.11"
      ]
     },
     "execution_count": 33,
     "metadata": {},
     "output_type": "execute_result"
    }
   ],
   "source": [
    "# Считаю количество пользователей, совершивших каждое событие\n",
    "user_event_counts = filtered_logs.groupby('event_name')['device_id'].nunique().reset_index()\n",
    "user_event_counts.columns = ['event_name', 'user_count']\n",
    "\n",
    "# Добавляю столбца с долей пользователей\n",
    "user_event_counts['user_share'] = round((user_event_counts['user_count'] / users_count_after), 2)\n",
    "\n",
    "# Сортирую событий по числу пользователей\n",
    "user_event_counts = user_event_counts.sort_values(by='user_count', ascending=False)\n",
    "user_event_counts"
   ]
  },
  {
   "cell_type": "code",
   "execution_count": 34,
   "metadata": {},
   "outputs": [
    {
     "data": {
      "image/png": "[encoded data removed]",
      "text/plain": [
       "<Figure size 1200x800 with 1 Axes>"
      ]
     },
     "metadata": {},
     "output_type": "display_data"
    }
   ],
   "source": [
    "# Строю графика\n",
    "plt.figure(figsize=(12, 8))\n",
    "sns.barplot(data=user_event_counts, x='user_count', y='event_name', palette='viridis')\n",
    "plt.xlabel('Количество пользователей')\n",
    "plt.ylabel('Тип события')\n",
    "plt.title('Количество пользователей, совершивших каждое событие')\n",
    "plt.tight_layout()\n",
    "plt.show()"
   ]
  },
  {
   "cell_type": "markdown",
   "metadata": {},
   "source": [
    "***Выводы***"
   ]
  },
  {
   "cell_type": "markdown",
   "metadata": {},
   "source": [
    "Большая часть пользователей проходит экран главной страницы (более 7 000), но , возможно, перход на главную страницу не первостепенен. Самый большой разрыв по количеству пользователей, совершивших событие  - между главной страницей и страницей предложений (каталогом) - почти 40% пользователей туда не переходят. Но на следующих шагах отсеивается всего 19% и 5% пользователей соответветственно."
   ]
  },
  {
   "cell_type": "markdown",
   "metadata": {},
   "source": [
    "#### Порядок событий.\n",
    "Необходимо понять все ли события выстраиваются в последовательную цепочку. Их не нужно учитывать при расчёте воронки."
   ]
  },
  {
   "cell_type": "markdown",
   "metadata": {},
   "source": [
    "Для предположения порядка, в котором происходят события, и понимания, выстраиваются ли они в последовательную цепочку, можно рассмотреть логический путь пользователя через приложение. Обычно пользователи проходят через несколько ключевых этапов в приложении для покупки:\n",
    "\n",
    "\n",
    "1. MainScreenAppear\n",
    "\n",
    "\n",
    "2. OffersScreenAppear\n",
    "\n",
    "\n",
    "3. CartScreenAppear\n",
    "\n",
    "\n",
    "4. PaymentScreenSuccessful\n",
    "\n",
    "\n",
    "5. Tutorial\n",
    "\n",
    "Событие Tutorial не обязательно учитывать , так как оно может происходить в любое время и не является обязательным для совершения покупки."
   ]
  },
  {
   "cell_type": "code",
   "execution_count": 35,
   "metadata": {},
   "outputs": [
    {
     "data": {
      "text/html": [
       "<div>\n",
       "<style scoped>\n",
       "    .dataframe tbody tr th:only-of-type {\n",
       "        vertical-align: middle;\n",
       "    }\n",
       "\n",
       "    .dataframe tbody tr th {\n",
       "        vertical-align: top;\n",
       "    }\n",
       "\n",
       "    .dataframe thead th {\n",
       "        text-align: right;\n",
       "    }\n",
       "</style>\n",
       "<table border=\"1\" class=\"dataframe\">\n",
       "  <thead>\n",
       "    <tr style=\"text-align: right;\">\n",
       "      <th></th>\n",
       "      <th>prev_event</th>\n",
       "      <th>event_name</th>\n",
       "      <th>count</th>\n",
       "    </tr>\n",
       "  </thead>\n",
       "  <tbody>\n",
       "    <tr>\n",
       "      <th>6</th>\n",
       "      <td>MainScreenAppear</td>\n",
       "      <td>MainScreenAppear</td>\n",
       "      <td>80323</td>\n",
       "    </tr>\n",
       "    <tr>\n",
       "      <th>15</th>\n",
       "      <td>PaymentScreenSuccessful</td>\n",
       "      <td>CartScreenAppear</td>\n",
       "      <td>23984</td>\n",
       "    </tr>\n",
       "    <tr>\n",
       "      <th>7</th>\n",
       "      <td>MainScreenAppear</td>\n",
       "      <td>OffersScreenAppear</td>\n",
       "      <td>20179</td>\n",
       "    </tr>\n",
       "    <tr>\n",
       "      <th>3</th>\n",
       "      <td>CartScreenAppear</td>\n",
       "      <td>PaymentScreenSuccessful</td>\n",
       "      <td>19819</td>\n",
       "    </tr>\n",
       "    <tr>\n",
       "      <th>11</th>\n",
       "      <td>OffersScreenAppear</td>\n",
       "      <td>MainScreenAppear</td>\n",
       "      <td>17443</td>\n",
       "    </tr>\n",
       "    <tr>\n",
       "      <th>12</th>\n",
       "      <td>OffersScreenAppear</td>\n",
       "      <td>OffersScreenAppear</td>\n",
       "      <td>16690</td>\n",
       "    </tr>\n",
       "    <tr>\n",
       "      <th>1</th>\n",
       "      <td>CartScreenAppear</td>\n",
       "      <td>MainScreenAppear</td>\n",
       "      <td>8341</td>\n",
       "    </tr>\n",
       "    <tr>\n",
       "      <th>0</th>\n",
       "      <td>CartScreenAppear</td>\n",
       "      <td>CartScreenAppear</td>\n",
       "      <td>7129</td>\n",
       "    </tr>\n",
       "    <tr>\n",
       "      <th>5</th>\n",
       "      <td>MainScreenAppear</td>\n",
       "      <td>CartScreenAppear</td>\n",
       "      <td>6704</td>\n",
       "    </tr>\n",
       "    <tr>\n",
       "      <th>2</th>\n",
       "      <td>CartScreenAppear</td>\n",
       "      <td>OffersScreenAppear</td>\n",
       "      <td>6462</td>\n",
       "    </tr>\n",
       "    <tr>\n",
       "      <th>8</th>\n",
       "      <td>MainScreenAppear</td>\n",
       "      <td>PaymentScreenSuccessful</td>\n",
       "      <td>5696</td>\n",
       "    </tr>\n",
       "    <tr>\n",
       "      <th>13</th>\n",
       "      <td>OffersScreenAppear</td>\n",
       "      <td>PaymentScreenSuccessful</td>\n",
       "      <td>5356</td>\n",
       "    </tr>\n",
       "    <tr>\n",
       "      <th>10</th>\n",
       "      <td>OffersScreenAppear</td>\n",
       "      <td>CartScreenAppear</td>\n",
       "      <td>4424</td>\n",
       "    </tr>\n",
       "    <tr>\n",
       "      <th>16</th>\n",
       "      <td>PaymentScreenSuccessful</td>\n",
       "      <td>MainScreenAppear</td>\n",
       "      <td>4047</td>\n",
       "    </tr>\n",
       "    <tr>\n",
       "      <th>18</th>\n",
       "      <td>PaymentScreenSuccessful</td>\n",
       "      <td>PaymentScreenSuccessful</td>\n",
       "      <td>2950</td>\n",
       "    </tr>\n",
       "    <tr>\n",
       "      <th>17</th>\n",
       "      <td>PaymentScreenSuccessful</td>\n",
       "      <td>OffersScreenAppear</td>\n",
       "      <td>2714</td>\n",
       "    </tr>\n",
       "    <tr>\n",
       "      <th>20</th>\n",
       "      <td>Tutorial</td>\n",
       "      <td>MainScreenAppear</td>\n",
       "      <td>869</td>\n",
       "    </tr>\n",
       "    <tr>\n",
       "      <th>22</th>\n",
       "      <td>Tutorial</td>\n",
       "      <td>Tutorial</td>\n",
       "      <td>131</td>\n",
       "    </tr>\n",
       "    <tr>\n",
       "      <th>9</th>\n",
       "      <td>MainScreenAppear</td>\n",
       "      <td>Tutorial</td>\n",
       "      <td>55</td>\n",
       "    </tr>\n",
       "    <tr>\n",
       "      <th>14</th>\n",
       "      <td>OffersScreenAppear</td>\n",
       "      <td>Tutorial</td>\n",
       "      <td>26</td>\n",
       "    </tr>\n",
       "    <tr>\n",
       "      <th>4</th>\n",
       "      <td>CartScreenAppear</td>\n",
       "      <td>Tutorial</td>\n",
       "      <td>9</td>\n",
       "    </tr>\n",
       "    <tr>\n",
       "      <th>19</th>\n",
       "      <td>PaymentScreenSuccessful</td>\n",
       "      <td>Tutorial</td>\n",
       "      <td>1</td>\n",
       "    </tr>\n",
       "    <tr>\n",
       "      <th>21</th>\n",
       "      <td>Tutorial</td>\n",
       "      <td>PaymentScreenSuccessful</td>\n",
       "      <td>1</td>\n",
       "    </tr>\n",
       "  </tbody>\n",
       "</table>\n",
       "</div>"
      ],
      "text/plain": [
       "                 prev_event               event_name  count\n",
       "6          MainScreenAppear         MainScreenAppear  80323\n",
       "15  PaymentScreenSuccessful         CartScreenAppear  23984\n",
       "7          MainScreenAppear       OffersScreenAppear  20179\n",
       "3          CartScreenAppear  PaymentScreenSuccessful  19819\n",
       "11       OffersScreenAppear         MainScreenAppear  17443\n",
       "12       OffersScreenAppear       OffersScreenAppear  16690\n",
       "1          CartScreenAppear         MainScreenAppear   8341\n",
       "0          CartScreenAppear         CartScreenAppear   7129\n",
       "5          MainScreenAppear         CartScreenAppear   6704\n",
       "2          CartScreenAppear       OffersScreenAppear   6462\n",
       "8          MainScreenAppear  PaymentScreenSuccessful   5696\n",
       "13       OffersScreenAppear  PaymentScreenSuccessful   5356\n",
       "10       OffersScreenAppear         CartScreenAppear   4424\n",
       "16  PaymentScreenSuccessful         MainScreenAppear   4047\n",
       "18  PaymentScreenSuccessful  PaymentScreenSuccessful   2950\n",
       "17  PaymentScreenSuccessful       OffersScreenAppear   2714\n",
       "20                 Tutorial         MainScreenAppear    869\n",
       "22                 Tutorial                 Tutorial    131\n",
       "9          MainScreenAppear                 Tutorial     55\n",
       "14       OffersScreenAppear                 Tutorial     26\n",
       "4          CartScreenAppear                 Tutorial      9\n",
       "19  PaymentScreenSuccessful                 Tutorial      1\n",
       "21                 Tutorial  PaymentScreenSuccessful      1"
      ]
     },
     "execution_count": 35,
     "metadata": {},
     "output_type": "execute_result"
    }
   ],
   "source": [
    "# Фильтрация данных по уникальному идентификатору пользователя и времени события\n",
    "filtered_logs = filtered_logs.sort_values(by=['device_id', 'event_time'])\n",
    "\n",
    "# Добавление столбца с предыдущим событием для каждого пользователя\n",
    "filtered_logs['prev_event'] = filtered_logs.groupby('device_id')['event_name'].shift(1)\n",
    "\n",
    "# Подсчет переходов между событиями\n",
    "transitions = filtered_logs.groupby(['prev_event', 'event_name']).size().reset_index(name='count')\n",
    "\n",
    "# Вывод результатов\n",
    "transitions.sort_values(by='count', ascending=False)"
   ]
  },
  {
   "cell_type": "markdown",
   "metadata": {},
   "source": [
    "***Вывод***"
   ]
  },
  {
   "cell_type": "markdown",
   "metadata": {},
   "source": [
    "Часто пользователи возвращаются на тот же экран (например, MainScreenAppear to MainScreenAppear), что может свидетельствовать о повторных посещениях или обновлениях экрана.\n",
    "Наиболее частые переходы включают переходы от главного экрана к другим ключевым экранам (предложения, корзина, успешная оплата), что соответствует ожидаемому пути пользователя через приложение. Наименее популярные переходы связаны с событием Tutorial.\n",
    "\n",
    "Обновленный порядок событий:\n",
    "\n",
    "\n",
    "1. MainScreenAppear\n",
    "\n",
    "\n",
    "2. OffersScreenAppear\n",
    "\n",
    "\n",
    "3. CartScreenAppear\n",
    "\n",
    "\n",
    "4. PaymentScreenSuccessful"
   ]
  },
  {
   "cell_type": "markdown",
   "metadata": {},
   "source": [
    "#### Доля пользователей проходящих на следующий шаг воронки (от числа пользователей на предыдущем). \n",
    "То есть для последовательности событий A → B → C посчитать отношение числа пользователей с событием B к количеству пользователей с событием A, а также отношение числа пользователей с событием C к количеству пользователей с событием B"
   ]
  },
  {
   "cell_type": "code",
   "execution_count": 36,
   "metadata": {},
   "outputs": [
    {
     "name": "stdout",
     "output_type": "stream",
     "text": [
      "\n",
      "Доля пользователей, перешедших с \n",
      "\n",
      "MainScreenAppear на OffersScreenAppear: 61.91%\n",
      "OffersScreenAppear на CartScreenAppear: 81.30%\n",
      "CartScreenAppear на PaymentScreenSuccessful: 94.78%\n",
      "\n",
      "Количество уникальных пользователей на каждом этапе:\n",
      "\n",
      "MainScreenAppear: 7419 пользователей\n",
      "OffersScreenAppear: 4593 пользователей\n",
      "CartScreenAppear: 3734 пользователей\n",
      "PaymentScreenSuccessful: 3539 пользователей\n"
     ]
    }
   ],
   "source": [
    "# Считаю количество уникальных пользователей на каждом этапе воронки\n",
    "funnel_steps = ['MainScreenAppear', 'OffersScreenAppear', 'CartScreenAppear', 'PaymentScreenSuccessful']\n",
    "funnel = {}\n",
    "\n",
    "for step in funnel_steps:\n",
    "    funnel[step] = filtered_logs[filtered_logs['event_name'] == step]['device_id'].nunique()\n",
    "\n",
    "# Вычисляю доли пользователей, проходящих на следующий шаг\n",
    "conversion_rates = {}\n",
    "\n",
    "for i in range(len(funnel_steps) - 1):\n",
    "    current_step = funnel_steps[i]\n",
    "    next_step = funnel_steps[i + 1]\n",
    "    conversion_rates[f\"{current_step} на {next_step}\"] = funnel[next_step] / funnel[current_step]\n",
    "\n",
    "# Вывод результата\n",
    " \n",
    "print(\"\\nДоля пользователей, перешедших с \\n\")\n",
    "for transition, rate in conversion_rates.items():\n",
    "    print(f\"{transition}: {rate:.2%}\")\n",
    "\n",
    "print(\"\\nКоличество уникальных пользователей на каждом этапе:\\n\")\n",
    "for step, count in funnel.items():\n",
    "    print(f\"{step}: {count} пользователей\")\n"
   ]
  },
  {
   "cell_type": "markdown",
   "metadata": {},
   "source": [
    "***Вывод***"
   ]
  },
  {
   "cell_type": "markdown",
   "metadata": {},
   "source": [
    "Почти две трети пользователей, посетивших главный экран, переходят к экрану предложений. Это хороший показатель, который указывает на то, что пользователи заинтересованы в предложениях и акциях. \n",
    "Большая часть пользователей, просмотревших предложения, добавляют товары в корзину. \n",
    "Почти все пользователи, которые добавили товары в корзину, завершают покупку. 94% очень высокий показатель конверсии."
   ]
  },
  {
   "cell_type": "markdown",
   "metadata": {},
   "source": [
    "#### Потеря пользователей на шаге."
   ]
  },
  {
   "cell_type": "code",
   "execution_count": 37,
   "metadata": {},
   "outputs": [
    {
     "name": "stdout",
     "output_type": "stream",
     "text": [
      "Потеря пользователей на каждом шаге:\n",
      "\n",
      "MainScreenAppear на OffersScreenAppear: потеряно 2826 пользователей\n",
      "OffersScreenAppear на CartScreenAppear: потеряно 859 пользователей\n",
      "CartScreenAppear на PaymentScreenSuccessful: потеряно 195 пользователей\n",
      "\n",
      "Наибольшие потери пользователей на шаге: MainScreenAppear на OffersScreenAppear - 2826 пользователей\n"
     ]
    }
   ],
   "source": [
    "# Вычисляю потерю пользователей на каждом шаге\n",
    "losses = {}\n",
    "for i in range(len(funnel_steps) - 1):\n",
    "    current_step = funnel_steps[i]\n",
    "    next_step = funnel_steps[i + 1]\n",
    "    losses[f\"{current_step} на {next_step}\"] = funnel[current_step] - funnel[next_step]\n",
    "\n",
    "# Определяю шага с наибольшими потерями\n",
    "max_loss_step = max(losses, key=losses.get)\n",
    "max_loss_value = losses[max_loss_step]\n",
    "\n",
    "# Вывод результатов\n",
    "print(\"Потеря пользователей на каждом шаге:\\n\")\n",
    "for step, loss in losses.items():\n",
    "    print(f\"{step}: потеряно {loss} пользователей\")\n",
    "\n",
    "print(f\"\\nНаибольшие потери пользователей на шаге: {max_loss_step} - {max_loss_value} пользователей\")"
   ]
  },
  {
   "cell_type": "markdown",
   "metadata": {},
   "source": [
    "***Вывод***"
   ]
  },
  {
   "cell_type": "markdown",
   "metadata": {},
   "source": [
    "Большего всего пользователей теряется при перехое с главной страницы на страницу предложений - более 2 800."
   ]
  },
  {
   "cell_type": "markdown",
   "metadata": {},
   "source": [
    "#### Доля пользователей перходящих от первого события до оплаты."
   ]
  },
  {
   "cell_type": "code",
   "execution_count": 38,
   "metadata": {},
   "outputs": [
    {
     "name": "stdout",
     "output_type": "stream",
     "text": [
      "Доля пользователей, дошедших от первого события до оплаты: 47.70%\n"
     ]
    }
   ],
   "source": [
    "print(f\"Доля пользователей, дошедших от первого события до оплаты: {(funnel['PaymentScreenSuccessful'] / funnel['MainScreenAppear']) * 100:.2f}%\")"
   ]
  },
  {
   "cell_type": "markdown",
   "metadata": {},
   "source": [
    "Почти половина пользователей (более 47%) проходят весь путь от первого взаимодействия с приложением (главный экран) до успешной оплаты. Это довольно хороший показатель, который свидетельствует о том, что значительная часть пользователей успешно выполняет все необходимые шаги для совершения покупки."
   ]
  },
  {
   "cell_type": "markdown",
   "metadata": {},
   "source": [
    "### Изучение результатов эксперимента"
   ]
  },
  {
   "cell_type": "markdown",
   "metadata": {},
   "source": [
    "****На данном этапе необходимо:****\n",
    "\n",
    "1. Количество пользоватлей в каждой экспериментальной группе;\n",
    "\n",
    "\n",
    "2. Проверить, находят ли статистические критерии разницу между выборками 246 и 247. Есть 2 контрольные группы для А/А-эксперимента, чтобы проверить корректность всех механизмов и расчётов;\n",
    "\n",
    "\n",
    "3. Выберите самое популярное событие:\n",
    "    1. Посчитать число пользователей, совершивших это событие в каждой из контрольных групп;\n",
    "    2. Посчитать долю пользователей, совершивших это событие;\n",
    "    3. Проверить, будет ли отличие между группами статистически достоверным;\n",
    "    4. Проделать то же самое для всех других событий (удобно обернуть проверку в отдельную функцию);\n",
    "    5. Узнать работает ли корректно разбиение на группы;\n",
    "\n",
    "\n",
    "4. Аналогично поступить с группой с изменённым шрифтом. Сравнить результаты с каждой из контрольных групп в отдельности по каждому событию. Сравнить результаты с объединённой контрольной группой. Выводы из экспремента;\n",
    "\n",
    "\n",
    "5. Какой уровень значимости я выбрала при проверке статистических гипотез выше. Посчитать, сколько проверок статистических гипотез я сделала. При уровне значимости 0.1 в 10% случаев можно ошибочно отклонить нулевую гипотезу при условии, что она верна. Какой уровень значимости стоит применить? Если я хочу изменить его, проделать предыдущие пункты и проверьте свои выводы."
   ]
  },
  {
   "cell_type": "markdown",
   "metadata": {},
   "source": [
    "#### Количество пользоватлей в каждой группе"
   ]
  },
  {
   "cell_type": "code",
   "execution_count": 39,
   "metadata": {},
   "outputs": [
    {
     "name": "stdout",
     "output_type": "stream",
     "text": [
      "Количество пользователей в каждой группе: group_type\n",
      "246    2484\n",
      "247    2513\n",
      "248    2537\n",
      "Name: device_id, dtype: int64\n"
     ]
    }
   ],
   "source": [
    "print(f\"Количество пользователей в каждой группе: {users_per_group}\")"
   ]
  },
  {
   "cell_type": "markdown",
   "metadata": {},
   "source": [
    "#### Статистическая разница между группами 246 и 247"
   ]
  },
  {
   "cell_type": "markdown",
   "metadata": {},
   "source": [
    "Для чтобы проверить корректность всех механизмов необходимо провести А/А-тест групп 246 и 247.\n",
    "\n",
    "\n",
    "***Критерии успешного A/A-теста:*** \n",
    "- Количество пользователей в различных группах различается не более, чем на 1%;\n",
    "\n",
    "\n",
    "- Для всех групп фиксируют и отправляют в системы аналитики данные об одном и том же;\n",
    "\n",
    "\n",
    "- Различие ключевых метрик по группам не превышает 1% и не имеет статистической значимости;\n",
    "\n",
    "\n",
    "- Попавший в одну из групп посетитель остаётся в этой группе до конца теста."
   ]
  },
  {
   "cell_type": "code",
   "execution_count": 40,
   "metadata": {},
   "outputs": [],
   "source": [
    "# Выделею данные для контрольных групп 246 и 247\n",
    "group_246 = filtered_logs[filtered_logs['group_type'] == 246]\n",
    "group_247 = filtered_logs[filtered_logs['group_type'] == 247]"
   ]
  },
  {
   "cell_type": "code",
   "execution_count": 41,
   "metadata": {},
   "outputs": [],
   "source": [
    "# Считаю количества пользователей в каждой группе\n",
    "users_246 = group_246['device_id'].nunique()\n",
    "users_247 = group_247['device_id'].nunique()"
   ]
  },
  {
   "cell_type": "code",
   "execution_count": 42,
   "metadata": {},
   "outputs": [
    {
     "name": "stdout",
     "output_type": "stream",
     "text": [
      "Количество пользователей в группе 246: 2484\n",
      "Количество пользователей в группе 247: 2513\n",
      "Разница в количестве пользователей: 29 (1.17%)\n",
      "Различие в количестве пользователей превышает 1%.\n"
     ]
    }
   ],
   "source": [
    "# Проверяю равенство количества пользователей \n",
    "user_difference = abs(users_246 - users_247) # Использую abs(), чтобы расчеты были без учета знака\n",
    "user_difference_percentage = (user_difference / min(users_246, users_247)) * 100 # В данном случае min() возвращает меньшее из двух значений\n",
    "\n",
    "# Вывод\n",
    "print(f\"Количество пользователей в группе 246: {users_246}\")\n",
    "print(f\"Количество пользователей в группе 247: {users_247}\")\n",
    "print(f\"Разница в количестве пользователей: {user_difference} ({user_difference_percentage:.2f}%)\")\n",
    "\n",
    "if user_difference_percentage > 1:\n",
    "    print(\"Различие в количестве пользователей превышает 1%.\")\n",
    "else:\n",
    "    print(\"Различие в количестве пользователей не превышает 1%.\")"
   ]
  },
  {
   "cell_type": "code",
   "execution_count": 43,
   "metadata": {},
   "outputs": [
    {
     "data": {
      "text/html": [
       "<div>\n",
       "<style scoped>\n",
       "    .dataframe tbody tr th:only-of-type {\n",
       "        vertical-align: middle;\n",
       "    }\n",
       "\n",
       "    .dataframe tbody tr th {\n",
       "        vertical-align: top;\n",
       "    }\n",
       "\n",
       "    .dataframe thead th {\n",
       "        text-align: right;\n",
       "    }\n",
       "</style>\n",
       "<table border=\"1\" class=\"dataframe\">\n",
       "  <thead>\n",
       "    <tr style=\"text-align: right;\">\n",
       "      <th></th>\n",
       "      <th>group_246</th>\n",
       "      <th>group_247</th>\n",
       "    </tr>\n",
       "    <tr>\n",
       "      <th>event_name</th>\n",
       "      <th></th>\n",
       "      <th></th>\n",
       "    </tr>\n",
       "  </thead>\n",
       "  <tbody>\n",
       "    <tr>\n",
       "      <th>CartScreenAppear</th>\n",
       "      <td>14690</td>\n",
       "      <td>12434</td>\n",
       "    </tr>\n",
       "    <tr>\n",
       "      <th>MainScreenAppear</th>\n",
       "      <td>37676</td>\n",
       "      <td>39090</td>\n",
       "    </tr>\n",
       "    <tr>\n",
       "      <th>OffersScreenAppear</th>\n",
       "      <td>14767</td>\n",
       "      <td>15179</td>\n",
       "    </tr>\n",
       "    <tr>\n",
       "      <th>PaymentScreenSuccessful</th>\n",
       "      <td>11852</td>\n",
       "      <td>9981</td>\n",
       "    </tr>\n",
       "    <tr>\n",
       "      <th>Tutorial</th>\n",
       "      <td>317</td>\n",
       "      <td>338</td>\n",
       "    </tr>\n",
       "  </tbody>\n",
       "</table>\n",
       "</div>"
      ],
      "text/plain": [
       "                         group_246  group_247\n",
       "event_name                                   \n",
       "CartScreenAppear             14690      12434\n",
       "MainScreenAppear             37676      39090\n",
       "OffersScreenAppear           14767      15179\n",
       "PaymentScreenSuccessful      11852       9981\n",
       "Tutorial                       317        338"
      ]
     },
     "execution_count": 43,
     "metadata": {},
     "output_type": "execute_result"
    }
   ],
   "source": [
    "# Подсчет количества каждого типа события для обеих групп\n",
    "event_counts_246 = group_246['event_name'].value_counts().sort_index()\n",
    "event_counts_247 = group_247['event_name'].value_counts().sort_index()\n",
    "\n",
    "\n",
    "# Объединение результатов для наглядности\n",
    "event_counts_comparison = pd.DataFrame({'group_246': event_counts_246, 'group_247': event_counts_247}).fillna(0)\n",
    "event_counts_comparison"
   ]
  },
  {
   "cell_type": "code",
   "execution_count": 44,
   "metadata": {},
   "outputs": [
    {
     "name": "stdout",
     "output_type": "stream",
     "text": [
      "p-значение: 0.4584152588842866\n",
      "Нет статистически значимых различий между контрольными группами 246 и 247.\n"
     ]
    }
   ],
   "source": [
    "# Сравниваю ключевых метрик - количество событий на пользователя\n",
    "events_per_user_246 = group_246.groupby('device_id').size()\n",
    "events_per_user_247 = group_247.groupby('device_id').size()\n",
    "\n",
    "# Провожу t-тест для независимых выборок\n",
    "t_stat, p_value = st.ttest_ind(events_per_user_246, events_per_user_247, equal_var=False)\n",
    "\n",
    "# Вывод \n",
    "print(f\"p-значение: {p_value}\")\n",
    "\n",
    "\n",
    "alpha = 0.05\n",
    "if p_value < alpha:\n",
    "    print(\"Есть статистически значимые различия между контрольными группами 246 и 247.\")\n",
    "else:\n",
    "    print(\"Нет статистически значимых различий между контрольными группами 246 и 247.\")"
   ]
  },
  {
   "cell_type": "code",
   "execution_count": 45,
   "metadata": {
    "scrolled": true
   },
   "outputs": [
    {
     "name": "stdout",
     "output_type": "stream",
     "text": [
      "Количество пользователей, попавших в обе группы: 0\n",
      "Нет пользователей, попавших в обе группы.\n"
     ]
    }
   ],
   "source": [
    "# Извлекаю уникальных пользователей для каждой группы и преобразовываю в список\n",
    "users_246_list = group_246['device_id'].unique().tolist()\n",
    "users_247_list = group_247['device_id'].unique().tolist()\n",
    "\n",
    "# с помощью цикла нахожу пересечения между группами\n",
    "double_users = [user for user in users_246_list if user in users_247_list]\n",
    "\n",
    "# Вывод\n",
    "print(f\"Количество пользователей, попавших в обе группы: {len(double_users)}\")\n",
    "\n",
    "if len(double_users) > 0:\n",
    "    print(\"Есть пользователи, попавшие в обе группы.\")\n",
    "else:\n",
    "    print(\"Нет пользователей, попавших в обе группы.\")"
   ]
  },
  {
   "cell_type": "code",
   "execution_count": 46,
   "metadata": {},
   "outputs": [],
   "source": [
    "# Выделяю пользователей группы 248\n",
    "group_248_for_double = filtered_logs[filtered_logs['group_type'] == 248]"
   ]
  },
  {
   "cell_type": "code",
   "execution_count": 47,
   "metadata": {},
   "outputs": [
    {
     "name": "stdout",
     "output_type": "stream",
     "text": [
      "Количество пользователей, попавших в группы 246 и 248: 0\n",
      "Нет пользователей, попавших в группы 246 и 248.\n",
      "\n",
      "\n",
      "Количество пользователей, попавших в группы 247 и 248: 0\n",
      "Нет пользователей, попавших в группы 247 и 248.\n",
      "\n",
      "\n",
      "Количество пользователей, попавших сразу в три группы: 0\n",
      "Нет пользователей, попавших сразу в три группы.\n"
     ]
    }
   ],
   "source": [
    "users_248_list = group_248_for_double['device_id'].unique().tolist()\n",
    "\n",
    "double_users_246_248 = [user for user in users_246_list if user in users_248_list]\n",
    "double_users_247_248 = [user for user in users_247_list if user in users_248_list]\n",
    "triple_users = [user for user in users_246_list if user in users_247_list and user in users_248_list]\n",
    "\n",
    "\n",
    "print(f\"Количество пользователей, попавших в группы 246 и 248: {len(double_users_246_248)}\")\n",
    "\n",
    "if len(double_users_246_248) > 0:\n",
    "    print(\"Есть пользователи, попавшие в группы 246 и 248.\")\n",
    "else:\n",
    "    print(\"Нет пользователей, попавших в группы 246 и 248.\")\n",
    "    \n",
    "\n",
    "print(\"\\n\")\n",
    "print(f\"Количество пользователей, попавших в группы 247 и 248: {len(double_users_247_248)}\")\n",
    "\n",
    "if len(double_users_247_248) > 0:\n",
    "    print(\"Есть пользователи, попавшие в группы 247 и 248.\")\n",
    "else:\n",
    "    print(\"Нет пользователей, попавших в группы 247 и 248.\")\n",
    "\n",
    "    \n",
    "print(\"\\n\")\n",
    "print(f\"Количество пользователей, попавших сразу в три группы: {len(triple_users)}\")\n",
    "\n",
    "if len(triple_users) > 0:\n",
    "    print(\"Есть пользователи, попавшие сразу в три группы.\")\n",
    "else:\n",
    "    print(\"Нет пользователей, попавших сразу в три группы.\")"
   ]
  },
  {
   "cell_type": "markdown",
   "metadata": {},
   "source": [
    "***Вывод***"
   ]
  },
  {
   "cell_type": "markdown",
   "metadata": {},
   "source": [
    "Хотя различие в количестве пользователей превышает 1%, другие критерии успешного A/A теста выполнены: распределение событий между группами равномерное, нет статистически значимых различий между ключевыми метриками, и нет пересечения пользователей между группами. Это свидетельствует о корректности большинства аспектов A/A теста."
   ]
  },
  {
   "cell_type": "markdown",
   "metadata": {},
   "source": [
    "#### Самое популярное событие"
   ]
  },
  {
   "cell_type": "markdown",
   "metadata": {},
   "source": [
    "##### Популярное событие"
   ]
  },
  {
   "cell_type": "code",
   "execution_count": 48,
   "metadata": {},
   "outputs": [
    {
     "name": "stdout",
     "output_type": "stream",
     "text": [
      "Самое популярное событие: MainScreenAppear\n"
     ]
    }
   ],
   "source": [
    "# Определяю самого популярного события\n",
    "# Cоздаю серию, где индексами являются названия событий, а значениями — количество их вхождений. \n",
    "# Затем idxmax() находит индекс с максимальным значением\n",
    "most_pop_event = filtered_logs['event_name'].value_counts().idxmax()\n",
    "print(f\"Самое популярное событие: {most_pop_event}\")"
   ]
  },
  {
   "cell_type": "markdown",
   "metadata": {},
   "source": [
    "#####  Число пользователей, совершивших это событие в каждой из контрольных групп"
   ]
  },
  {
   "cell_type": "markdown",
   "metadata": {},
   "source": [
    "Фильтрую данные для каждой группы по самому популярному событию и подсчитываю уникальных пользователей, совершивших это событие."
   ]
  },
  {
   "cell_type": "code",
   "execution_count": 49,
   "metadata": {},
   "outputs": [
    {
     "name": "stdout",
     "output_type": "stream",
     "text": [
      "Число пользователей, совершивших событие 'MainScreenAppear' в группе 246: 2450\n",
      "Число пользователей, совершивших событие 'MainScreenAppear' в группе 247: 2476\n"
     ]
    }
   ],
   "source": [
    "most_pop_event_246 = group_246[group_246['event_name'] == most_pop_event]['device_id'].nunique()\n",
    "most_pop_event_247 = group_247[group_247['event_name'] == most_pop_event]['device_id'].nunique()\n",
    "print(f\"Число пользователей, совершивших событие '{most_pop_event}' в группе 246: {most_pop_event_246}\")\n",
    "print(f\"Число пользователей, совершивших событие '{most_pop_event}' в группе 247: {most_pop_event_247}\")"
   ]
  },
  {
   "cell_type": "markdown",
   "metadata": {},
   "source": [
    "#####  Доля пользователей, совершивших это событие в каждой из контрольных групп"
   ]
  },
  {
   "cell_type": "code",
   "execution_count": 50,
   "metadata": {},
   "outputs": [
    {
     "name": "stdout",
     "output_type": "stream",
     "text": [
      "Доля пользователей, совершивших событие 'MainScreenAppear' в группе 246: 98.63%\n",
      "Доля пользователей, совершивших событие 'MainScreenAppear' в группе 247: 98.53%\n"
     ]
    }
   ],
   "source": [
    "share_most_pop_event_246 = most_pop_event_246 / users_246\n",
    "share_most_pop_event_247 = most_pop_event_247 / users_247\n",
    "\n",
    "\n",
    "print(f\"Доля пользователей, совершивших событие '{most_pop_event}' в группе 246: {share_most_pop_event_246:.2%}\")\n",
    "\n",
    "\n",
    "print(f\"Доля пользователей, совершивших событие '{most_pop_event}' в группе 247: {share_most_pop_event_247:.2%}\")"
   ]
  },
  {
   "cell_type": "markdown",
   "metadata": {},
   "source": [
    "##### Проверка отличий на статистическую достоверность."
   ]
  },
  {
   "cell_type": "markdown",
   "metadata": {},
   "source": [
    "Для проверки использую z-тест для пропорций чтобы проверить есть статистически значимые различия пользователей двух групп, совершивших самое популярное событие."
   ]
  },
  {
   "cell_type": "code",
   "execution_count": 51,
   "metadata": {},
   "outputs": [
    {
     "name": "stdout",
     "output_type": "stream",
     "text": [
      "Нет статистически значимых различий между группами 246 и 247.\n"
     ]
    }
   ],
   "source": [
    "# Создам numpy массивы содержать количество успешных пользователей и общего числа пользователей.\n",
    "counts = np.array([most_pop_event_246, most_pop_event_247])\n",
    "totals = np.array([users_246, users_247])\n",
    "st, p_value = proportions_ztest(count, totals)\n",
    "\n",
    "alpha = 0.05\n",
    "if p_value < alpha:\n",
    "    print(\"Есть статистически значимые различия между группами 246 и 247.\")\n",
    "else:\n",
    "    print(\"Нет статистически значимых различий между группами 246 и 247.\")"
   ]
  },
  {
   "cell_type": "markdown",
   "metadata": {},
   "source": [
    "##### Создание функции для анализа остальных событий"
   ]
  },
  {
   "cell_type": "code",
   "execution_count": 52,
   "metadata": {
    "scrolled": false
   },
   "outputs": [
    {
     "name": "stdout",
     "output_type": "stream",
     "text": [
      "Событие: MainScreenAppear\n",
      "Группа 246 - Количество пользователей: 2450, Доля: 98.63%\n",
      "Группа 247 - Количество пользователей: 2476, Доля: 98.53%\n",
      "p-значение: 0.76\n",
      "Результат: Нет статистически значимых различий между Группа 246 и Группа 247.\n",
      "\n",
      "Событие: PaymentScreenSuccessful\n",
      "Группа 246 - Количество пользователей: 1200, Доля: 48.31%\n",
      "Группа 247 - Количество пользователей: 1158, Доля: 46.08%\n",
      "p-значение: 0.11\n",
      "Результат: Нет статистически значимых различий между Группа 246 и Группа 247.\n",
      "\n",
      "Событие: CartScreenAppear\n",
      "Группа 246 - Количество пользователей: 1266, Доля: 50.97%\n",
      "Группа 247 - Количество пользователей: 1238, Доля: 49.26%\n",
      "p-значение: 0.23\n",
      "Результат: Нет статистически значимых различий между Группа 246 и Группа 247.\n",
      "\n",
      "Событие: OffersScreenAppear\n",
      "Группа 246 - Количество пользователей: 1542, Доля: 62.08%\n",
      "Группа 247 - Количество пользователей: 1520, Доля: 60.49%\n",
      "p-значение: 0.25\n",
      "Результат: Нет статистически значимых различий между Группа 246 и Группа 247.\n",
      "\n",
      "Событие: Tutorial\n",
      "Группа 246 - Количество пользователей: 278, Доля: 11.19%\n",
      "Группа 247 - Количество пользователей: 283, Доля: 11.26%\n",
      "p-значение: 0.94\n",
      "Результат: Нет статистически значимых различий между Группа 246 и Группа 247.\n",
      "\n"
     ]
    }
   ],
   "source": [
    "def analyze_events(event_name, group_1, group_2, group_1_label=\"Group 1\", group_2_label=\"Group 2\"):\n",
    "    # Считаю число пользователей, совершивших событие в каждой группе\n",
    "    users_1_event = group_1[group_1['event_name'] == event_name]['device_id'].nunique()\n",
    "    users_2_event = group_2[group_2['event_name'] == event_name]['device_id'].nunique()\n",
    "    \n",
    "    # Считаю общее число пользователей в каждой группе\n",
    "    total_users_1 = group_1['device_id'].nunique()\n",
    "    total_users_2 = group_2['device_id'].nunique()\n",
    "    \n",
    "    # Вычисляю доли пользователей, совершивших событие в каждой группе\n",
    "    share_1_event = users_1_event / total_users_1\n",
    "    share_2_event = users_2_event / total_users_2\n",
    "    \n",
    "    counts = np.array([users_1_event, users_2_event])\n",
    "    totals = np.array([total_users_1, total_users_2])\n",
    "    \n",
    "    # Провожу z-тест для пропорций\n",
    "    stat, p_value = proportions_ztest(counts, totals)\n",
    "    \n",
    "    # Вывод результатов\n",
    "    print(f\"Событие: {event_name}\")\n",
    "    print(f\"{group_1_label} - Количество пользователей: {users_1_event}, Доля: {share_1_event:.2%}\")\n",
    "    print(f\"{group_2_label} - Количество пользователей: {users_2_event}, Доля: {share_2_event:.2%}\")\n",
    "    print(f\"p-значение: {p_value:.2f}\")\n",
    "    \n",
    "    alpha = 0.05\n",
    "    if p_value < alpha:\n",
    "        print(f\"Результат: Есть статистически значимые различия между {group_1_label} и {group_2_label}.\\n\")\n",
    "    else:\n",
    "        print(f\"Результат: Нет статистически значимых различий между {group_1_label} и {group_2_label}.\\n\")\n",
    "    \n",
    "    return {\n",
    "        'event_name': event_name,\n",
    "        'users_1': users_1_event,\n",
    "        'users_2': users_2_event,\n",
    "        'share_1': share_1_event,\n",
    "        'share_2': share_2_event,\n",
    "        'p_value': p_value\n",
    "    }\n",
    "\n",
    "# Получаю список всех уникальных событий\n",
    "unique_events = filtered_logs['event_name'].unique()\n",
    "\n",
    "\n",
    "# Применяю функцию к каждому событию\n",
    "for event in unique_events:\n",
    "    result = analyze_events(event, group_246, group_247, group_1_label=\"Группа 246\", group_2_label=\"Группа 247\")\n",
    "    \n"
   ]
  },
  {
   "cell_type": "markdown",
   "metadata": {},
   "source": [
    "##### Выводы о корректности разбиения на группы"
   ]
  },
  {
   "cell_type": "markdown",
   "metadata": {},
   "source": [
    "По всем рассмотренным событиям p-значение выше 0.05, что означает отсутствие статистически значимых различий между группами 246 и 247.\n",
    "Это свидетельствует о том, что разбиение на группы работает корректно для всех рассмотренных событий."
   ]
  },
  {
   "cell_type": "markdown",
   "metadata": {},
   "source": [
    "#### Анализ группы с измененным шрифтом\n",
    "Сравнить результаты с каждой из контрольных групп в отдельности по каждому событию. Сравнить результаты с объединённой контрольной группой. Выводы из экспремента"
   ]
  },
  {
   "cell_type": "code",
   "execution_count": 53,
   "metadata": {},
   "outputs": [],
   "source": [
    "# Создам датафрейм с группой 248\n",
    "group_248 = filtered_logs[filtered_logs['group_type'] == 248]"
   ]
  },
  {
   "cell_type": "markdown",
   "metadata": {},
   "source": [
    "Для дальнейшей работы мне также понадобятся данные групп 246 и 247, которые хранят датасеты `group_246` и `group_247`.\n",
    "\n",
    "Применю функцию `analyze_events()` к парам датасетов `group_246` и `group_248`, `group_247` и `group_248`."
   ]
  },
  {
   "cell_type": "code",
   "execution_count": 54,
   "metadata": {},
   "outputs": [
    {
     "name": "stdout",
     "output_type": "stream",
     "text": [
      "Событие: MainScreenAppear\n",
      "Группа 246 - Количество пользователей: 2450, Доля: 98.63%\n",
      "Группа 248 - Количество пользователей: 2493, Доля: 98.27%\n",
      "p-значение: 0.29\n",
      "Результат: Нет статистически значимых различий между Группа 246 и Группа 248.\n",
      "\n",
      "Событие: PaymentScreenSuccessful\n",
      "Группа 246 - Количество пользователей: 1200, Доля: 48.31%\n",
      "Группа 248 - Количество пользователей: 1181, Доля: 46.55%\n",
      "p-значение: 0.21\n",
      "Результат: Нет статистически значимых различий между Группа 246 и Группа 248.\n",
      "\n",
      "Событие: CartScreenAppear\n",
      "Группа 246 - Количество пользователей: 1266, Доля: 50.97%\n",
      "Группа 248 - Количество пользователей: 1230, Доля: 48.48%\n",
      "p-значение: 0.08\n",
      "Результат: Нет статистически значимых различий между Группа 246 и Группа 248.\n",
      "\n",
      "Событие: OffersScreenAppear\n",
      "Группа 246 - Количество пользователей: 1542, Доля: 62.08%\n",
      "Группа 248 - Количество пользователей: 1531, Доля: 60.35%\n",
      "p-значение: 0.21\n",
      "Результат: Нет статистически значимых различий между Группа 246 и Группа 248.\n",
      "\n",
      "Событие: Tutorial\n",
      "Группа 246 - Количество пользователей: 278, Доля: 11.19%\n",
      "Группа 248 - Количество пользователей: 279, Доля: 11.00%\n",
      "p-значение: 0.83\n",
      "Результат: Нет статистически значимых различий между Группа 246 и Группа 248.\n",
      "\n"
     ]
    }
   ],
   "source": [
    "for event in unique_events:\n",
    "    result = analyze_events(event, group_246, group_248, group_1_label=\"Группа 246\", group_2_label=\"Группа 248\")"
   ]
  },
  {
   "cell_type": "code",
   "execution_count": 55,
   "metadata": {},
   "outputs": [
    {
     "name": "stdout",
     "output_type": "stream",
     "text": [
      "Событие: MainScreenAppear\n",
      "Группа 247 - Количество пользователей: 2476, Доля: 98.53%\n",
      "Группа 248 - Количество пользователей: 2493, Доля: 98.27%\n",
      "p-значение: 0.46\n",
      "Результат: Нет статистически значимых различий между Группа 247 и Группа 248.\n",
      "\n",
      "Событие: PaymentScreenSuccessful\n",
      "Группа 247 - Количество пользователей: 1158, Доля: 46.08%\n",
      "Группа 248 - Количество пользователей: 1181, Доля: 46.55%\n",
      "p-значение: 0.74\n",
      "Результат: Нет статистически значимых различий между Группа 247 и Группа 248.\n",
      "\n",
      "Событие: CartScreenAppear\n",
      "Группа 247 - Количество пользователей: 1238, Доля: 49.26%\n",
      "Группа 248 - Количество пользователей: 1230, Доля: 48.48%\n",
      "p-значение: 0.58\n",
      "Результат: Нет статистически значимых различий между Группа 247 и Группа 248.\n",
      "\n",
      "Событие: OffersScreenAppear\n",
      "Группа 247 - Количество пользователей: 1520, Доля: 60.49%\n",
      "Группа 248 - Количество пользователей: 1531, Доля: 60.35%\n",
      "p-значение: 0.92\n",
      "Результат: Нет статистически значимых различий между Группа 247 и Группа 248.\n",
      "\n",
      "Событие: Tutorial\n",
      "Группа 247 - Количество пользователей: 283, Доля: 11.26%\n",
      "Группа 248 - Количество пользователей: 279, Доля: 11.00%\n",
      "p-значение: 0.77\n",
      "Результат: Нет статистически значимых различий между Группа 247 и Группа 248.\n",
      "\n"
     ]
    }
   ],
   "source": [
    "for event in unique_events:\n",
    "    result = analyze_events(event, group_247, group_248, group_1_label=\"Группа 247\", group_2_label=\"Группа 248\")"
   ]
  },
  {
   "cell_type": "markdown",
   "metadata": {},
   "source": [
    "Теперь необходимо объединить две контрольные группы и сравнить их с эксперементальной"
   ]
  },
  {
   "cell_type": "code",
   "execution_count": 56,
   "metadata": {},
   "outputs": [
    {
     "data": {
      "text/html": [
       "<div>\n",
       "<style scoped>\n",
       "    .dataframe tbody tr th:only-of-type {\n",
       "        vertical-align: middle;\n",
       "    }\n",
       "\n",
       "    .dataframe tbody tr th {\n",
       "        vertical-align: top;\n",
       "    }\n",
       "\n",
       "    .dataframe thead th {\n",
       "        text-align: right;\n",
       "    }\n",
       "</style>\n",
       "<table border=\"1\" class=\"dataframe\">\n",
       "  <thead>\n",
       "    <tr style=\"text-align: right;\">\n",
       "      <th></th>\n",
       "      <th>event_name</th>\n",
       "      <th>device_id</th>\n",
       "      <th>event_time</th>\n",
       "      <th>group_type</th>\n",
       "      <th>event_date</th>\n",
       "      <th>time_of_day</th>\n",
       "      <th>prev_event</th>\n",
       "    </tr>\n",
       "  </thead>\n",
       "  <tbody>\n",
       "    <tr>\n",
       "      <th>0</th>\n",
       "      <td>MainScreenAppear</td>\n",
       "      <td>6888746892508752</td>\n",
       "      <td>2019-08-06 14:06:34</td>\n",
       "      <td>246</td>\n",
       "      <td>2019-08-06</td>\n",
       "      <td>846</td>\n",
       "      <td>NaN</td>\n",
       "    </tr>\n",
       "    <tr>\n",
       "      <th>1</th>\n",
       "      <td>MainScreenAppear</td>\n",
       "      <td>6922444491712477</td>\n",
       "      <td>2019-08-04 14:19:33</td>\n",
       "      <td>246</td>\n",
       "      <td>2019-08-04</td>\n",
       "      <td>859</td>\n",
       "      <td>NaN</td>\n",
       "    </tr>\n",
       "    <tr>\n",
       "      <th>2</th>\n",
       "      <td>PaymentScreenSuccessful</td>\n",
       "      <td>6922444491712477</td>\n",
       "      <td>2019-08-04 14:19:40</td>\n",
       "      <td>246</td>\n",
       "      <td>2019-08-04</td>\n",
       "      <td>859</td>\n",
       "      <td>MainScreenAppear</td>\n",
       "    </tr>\n",
       "    <tr>\n",
       "      <th>3</th>\n",
       "      <td>CartScreenAppear</td>\n",
       "      <td>6922444491712477</td>\n",
       "      <td>2019-08-04 14:19:40</td>\n",
       "      <td>246</td>\n",
       "      <td>2019-08-04</td>\n",
       "      <td>859</td>\n",
       "      <td>PaymentScreenSuccessful</td>\n",
       "    </tr>\n",
       "    <tr>\n",
       "      <th>4</th>\n",
       "      <td>MainScreenAppear</td>\n",
       "      <td>6922444491712477</td>\n",
       "      <td>2019-08-04 14:19:40</td>\n",
       "      <td>246</td>\n",
       "      <td>2019-08-04</td>\n",
       "      <td>859</td>\n",
       "      <td>CartScreenAppear</td>\n",
       "    </tr>\n",
       "    <tr>\n",
       "      <th>...</th>\n",
       "      <td>...</td>\n",
       "      <td>...</td>\n",
       "      <td>...</td>\n",
       "      <td>...</td>\n",
       "      <td>...</td>\n",
       "      <td>...</td>\n",
       "      <td>...</td>\n",
       "    </tr>\n",
       "    <tr>\n",
       "      <th>156319</th>\n",
       "      <td>CartScreenAppear</td>\n",
       "      <td>9206002508877262744</td>\n",
       "      <td>2019-08-07 09:46:01</td>\n",
       "      <td>247</td>\n",
       "      <td>2019-08-07</td>\n",
       "      <td>586</td>\n",
       "      <td>PaymentScreenSuccessful</td>\n",
       "    </tr>\n",
       "    <tr>\n",
       "      <th>156320</th>\n",
       "      <td>CartScreenAppear</td>\n",
       "      <td>9206002508877262744</td>\n",
       "      <td>2019-08-07 09:46:20</td>\n",
       "      <td>247</td>\n",
       "      <td>2019-08-07</td>\n",
       "      <td>586</td>\n",
       "      <td>CartScreenAppear</td>\n",
       "    </tr>\n",
       "    <tr>\n",
       "      <th>156321</th>\n",
       "      <td>PaymentScreenSuccessful</td>\n",
       "      <td>9206002508877262744</td>\n",
       "      <td>2019-08-07 09:48:45</td>\n",
       "      <td>247</td>\n",
       "      <td>2019-08-07</td>\n",
       "      <td>588</td>\n",
       "      <td>CartScreenAppear</td>\n",
       "    </tr>\n",
       "    <tr>\n",
       "      <th>156322</th>\n",
       "      <td>PaymentScreenSuccessful</td>\n",
       "      <td>9206002508877262744</td>\n",
       "      <td>2019-08-07 10:22:08</td>\n",
       "      <td>247</td>\n",
       "      <td>2019-08-07</td>\n",
       "      <td>622</td>\n",
       "      <td>PaymentScreenSuccessful</td>\n",
       "    </tr>\n",
       "    <tr>\n",
       "      <th>156323</th>\n",
       "      <td>CartScreenAppear</td>\n",
       "      <td>9206002508877262744</td>\n",
       "      <td>2019-08-07 10:22:09</td>\n",
       "      <td>247</td>\n",
       "      <td>2019-08-07</td>\n",
       "      <td>622</td>\n",
       "      <td>PaymentScreenSuccessful</td>\n",
       "    </tr>\n",
       "  </tbody>\n",
       "</table>\n",
       "<p>156324 rows × 7 columns</p>\n",
       "</div>"
      ],
      "text/plain": [
       "                     event_name            device_id          event_time  \\\n",
       "0              MainScreenAppear     6888746892508752 2019-08-06 14:06:34   \n",
       "1              MainScreenAppear     6922444491712477 2019-08-04 14:19:33   \n",
       "2       PaymentScreenSuccessful     6922444491712477 2019-08-04 14:19:40   \n",
       "3              CartScreenAppear     6922444491712477 2019-08-04 14:19:40   \n",
       "4              MainScreenAppear     6922444491712477 2019-08-04 14:19:40   \n",
       "...                         ...                  ...                 ...   \n",
       "156319         CartScreenAppear  9206002508877262744 2019-08-07 09:46:01   \n",
       "156320         CartScreenAppear  9206002508877262744 2019-08-07 09:46:20   \n",
       "156321  PaymentScreenSuccessful  9206002508877262744 2019-08-07 09:48:45   \n",
       "156322  PaymentScreenSuccessful  9206002508877262744 2019-08-07 10:22:08   \n",
       "156323         CartScreenAppear  9206002508877262744 2019-08-07 10:22:09   \n",
       "\n",
       "        group_type event_date  time_of_day               prev_event  \n",
       "0              246 2019-08-06          846                      NaN  \n",
       "1              246 2019-08-04          859                      NaN  \n",
       "2              246 2019-08-04          859         MainScreenAppear  \n",
       "3              246 2019-08-04          859  PaymentScreenSuccessful  \n",
       "4              246 2019-08-04          859         CartScreenAppear  \n",
       "...            ...        ...          ...                      ...  \n",
       "156319         247 2019-08-07          586  PaymentScreenSuccessful  \n",
       "156320         247 2019-08-07          586         CartScreenAppear  \n",
       "156321         247 2019-08-07          588         CartScreenAppear  \n",
       "156322         247 2019-08-07          622  PaymentScreenSuccessful  \n",
       "156323         247 2019-08-07          622  PaymentScreenSuccessful  \n",
       "\n",
       "[156324 rows x 7 columns]"
      ]
     },
     "execution_count": 56,
     "metadata": {},
     "output_type": "execute_result"
    }
   ],
   "source": [
    "# Использую метод pd.concat() так как он объединяет строки двух датафреймов без потерь \n",
    "# Параметр ignore_index=True сбрасывает индексы, чтобы в новом датафрейме они были уникальными и последовательными\n",
    "group_combined = pd.concat([group_246, group_247], ignore_index=True)\n",
    "group_combined"
   ]
  },
  {
   "cell_type": "code",
   "execution_count": 57,
   "metadata": {},
   "outputs": [
    {
     "name": "stdout",
     "output_type": "stream",
     "text": [
      "Событие: MainScreenAppear\n",
      "Объедененная группа - Количество пользователей: 4926, Доля: 98.58%\n",
      "Группа 248 - Количество пользователей: 2493, Доля: 98.27%\n",
      "p-значение: 0.29\n",
      "Результат: Нет статистически значимых различий между Объедененная группа и Группа 248.\n",
      "\n",
      "Событие: PaymentScreenSuccessful\n",
      "Объедененная группа - Количество пользователей: 2358, Доля: 47.19%\n",
      "Группа 248 - Количество пользователей: 1181, Доля: 46.55%\n",
      "p-значение: 0.60\n",
      "Результат: Нет статистически значимых различий между Объедененная группа и Группа 248.\n",
      "\n",
      "Событие: CartScreenAppear\n",
      "Объедененная группа - Количество пользователей: 2504, Доля: 50.11%\n",
      "Группа 248 - Количество пользователей: 1230, Доля: 48.48%\n",
      "p-значение: 0.18\n",
      "Результат: Нет статистически значимых различий между Объедененная группа и Группа 248.\n",
      "\n",
      "Событие: OffersScreenAppear\n",
      "Объедененная группа - Количество пользователей: 3062, Доля: 61.28%\n",
      "Группа 248 - Количество пользователей: 1531, Доля: 60.35%\n",
      "p-значение: 0.43\n",
      "Результат: Нет статистически значимых различий между Объедененная группа и Группа 248.\n",
      "\n",
      "Событие: Tutorial\n",
      "Объедененная группа - Количество пользователей: 561, Доля: 11.23%\n",
      "Группа 248 - Количество пользователей: 279, Доля: 11.00%\n",
      "p-значение: 0.76\n",
      "Результат: Нет статистически значимых различий между Объедененная группа и Группа 248.\n",
      "\n"
     ]
    }
   ],
   "source": [
    "for event in unique_events:\n",
    "    result = analyze_events(event, group_combined, group_248, group_1_label=\"Объедененная группа\", group_2_label=\"Группа 248\")"
   ]
  },
  {
   "cell_type": "markdown",
   "metadata": {},
   "source": [
    "****Вывод****"
   ]
  },
  {
   "cell_type": "markdown",
   "metadata": {},
   "source": [
    "Во всех рассмотренных случаях нет статистически значимых различий между контрольными группами (246 и 247) и экспериментальной группой (248).Изменение шрифта в экспериментальной группе (248) не оказало значимого влияния на поведение пользователей по сравнению с контрольными группами."
   ]
  },
  {
   "cell_type": "markdown",
   "metadata": {},
   "source": [
    "#### Проверка корректности уровня значимости\n",
    "Какой уровень значимости я выбрала при проверке статистических гипотез выше. Посчитать, сколько проверок статистических гипотез я сделала. При уровне значимости 0.1 в 10% случаев можно ошибочно отклонить нулевую гипотезу при условии, что она верна. Какой уровень значимости стоит применить? Если я хочу изменить его, проделать предыдущие пункты и проверьте свои выводы."
   ]
  },
  {
   "cell_type": "markdown",
   "metadata": {},
   "source": [
    "***Выводы***"
   ]
  },
  {
   "cell_type": "markdown",
   "metadata": {},
   "source": [
    "В предыдущем пункте при сравнении контрольных групп с экспериментальной группой я провела 15 статистических тестов, используя уровень значимости 0.05. Этот уровень является стандартом в статистических исследованиях и обеспечивает более строгий контроль ошибок первого рода (ложноположительных результатов). Применение уровня значимости 0.1 увеличивает вероятность получения ложноположительных результатов, что может привести к неверным выводам.\n",
    "\n",
    "Проведение большого количества тестов увеличивает вероятность ошибки первого рода, поэтому важно учитывать корректировки для множественных сравнений или придерживаться более консервативного уровня значимости. В данном случае, использование уровня значимости 0.05 позволяет более надежно интерпретировать результаты, минимизируя вероятность принятия ложных гипотез."
   ]
  },
  {
   "cell_type": "markdown",
   "metadata": {},
   "source": [
    "### Общий вывод"
   ]
  },
  {
   "cell_type": "markdown",
   "metadata": {},
   "source": [
    "В ходе исследования я подготовила данные к анализу, проанализировала воронку событий и сравнила контрольные группы в рамках A/A-теста для проверки корректности разбиения на группы. Затем я сравнила каждую контрольную группу с экспериментальной и также сравнила объединённые контрольные группы. Я проверила статистические различия между группами по каждому событию и проанализировала корректность выбранного уровня значимости. По итогам исследования я определила, что нет статистически значимых различий между группами по каждому событию. Это говорит об отсутствии влияния изменения шрифта на поведение пользователей.\n",
    "\n",
    "Можно спокойно внедрять новый шрифт, зная, что он не изменит отношение пользователей к приложению. Кроме того, я определила, что больше всего пользователей теряется при переходе с главной страницы на страницу предложений. Это стоит учитывать при внедрении других изменений и принятии различных бизнес-решений."
   ]
  }
 ],
 "metadata": {
  "ExecuteTimeLog": [
   {
    "duration": 1188,
    "start_time": "2024-07-13T15:23:26.750Z"
   },
   {
    "duration": 967,
    "start_time": "2024-07-13T15:23:27.939Z"
   },
   {
    "duration": 5,
    "start_time": "2024-07-13T15:23:28.907Z"
   },
   {
    "duration": 25,
    "start_time": "2024-07-13T15:24:19.793Z"
   },
   {
    "duration": 3,
    "start_time": "2024-07-13T15:25:27.120Z"
   },
   {
    "duration": 174,
    "start_time": "2024-07-13T15:25:27.391Z"
   },
   {
    "duration": 25,
    "start_time": "2024-07-13T15:25:27.648Z"
   },
   {
    "duration": 54,
    "start_time": "2024-07-13T15:26:46.449Z"
   },
   {
    "duration": 52,
    "start_time": "2024-07-13T15:26:50.833Z"
   },
   {
    "duration": 171,
    "start_time": "2024-07-13T15:31:47.094Z"
   },
   {
    "duration": 35,
    "start_time": "2024-07-13T15:32:12.178Z"
   },
   {
    "duration": 2,
    "start_time": "2024-07-13T15:32:17.919Z"
   },
   {
    "duration": 202,
    "start_time": "2024-07-13T15:32:18.143Z"
   },
   {
    "duration": 24,
    "start_time": "2024-07-13T15:32:18.350Z"
   },
   {
    "duration": 53,
    "start_time": "2024-07-13T15:32:18.783Z"
   },
   {
    "duration": 48,
    "start_time": "2024-07-13T15:32:20.095Z"
   },
   {
    "duration": 37,
    "start_time": "2024-07-13T17:14:07.421Z"
   },
   {
    "duration": 21,
    "start_time": "2024-07-13T17:14:34.766Z"
   },
   {
    "duration": 5,
    "start_time": "2024-07-13T17:14:53.957Z"
   },
   {
    "duration": 4,
    "start_time": "2024-07-13T17:15:18.758Z"
   },
   {
    "duration": 1073,
    "start_time": "2024-07-13T17:16:29.375Z"
   },
   {
    "duration": 171,
    "start_time": "2024-07-13T17:16:30.450Z"
   },
   {
    "duration": 28,
    "start_time": "2024-07-13T17:16:30.623Z"
   },
   {
    "duration": 87,
    "start_time": "2024-07-13T17:16:30.653Z"
   },
   {
    "duration": 5,
    "start_time": "2024-07-13T17:16:31.479Z"
   },
   {
    "duration": 39,
    "start_time": "2024-07-13T17:16:32.231Z"
   },
   {
    "duration": 20,
    "start_time": "2024-07-13T17:16:32.616Z"
   },
   {
    "duration": 5,
    "start_time": "2024-07-13T17:16:32.920Z"
   },
   {
    "duration": 5,
    "start_time": "2024-07-13T17:18:16.650Z"
   },
   {
    "duration": 64,
    "start_time": "2024-07-13T17:18:17.033Z"
   },
   {
    "duration": 21,
    "start_time": "2024-07-13T17:18:17.625Z"
   },
   {
    "duration": 12,
    "start_time": "2024-07-13T17:18:27.306Z"
   },
   {
    "duration": 20,
    "start_time": "2024-07-13T17:18:28.113Z"
   },
   {
    "duration": 4,
    "start_time": "2024-07-13T17:18:28.801Z"
   },
   {
    "duration": 988,
    "start_time": "2024-07-13T17:18:50.433Z"
   },
   {
    "duration": 165,
    "start_time": "2024-07-13T17:18:51.423Z"
   },
   {
    "duration": 28,
    "start_time": "2024-07-13T17:18:51.589Z"
   },
   {
    "duration": 77,
    "start_time": "2024-07-13T17:18:51.618Z"
   },
   {
    "duration": 5,
    "start_time": "2024-07-13T17:18:52.577Z"
   },
   {
    "duration": 12,
    "start_time": "2024-07-13T17:18:52.881Z"
   },
   {
    "duration": 20,
    "start_time": "2024-07-13T17:18:53.346Z"
   },
   {
    "duration": 4,
    "start_time": "2024-07-13T17:18:53.634Z"
   },
   {
    "duration": 5,
    "start_time": "2024-07-13T17:20:31.523Z"
   },
   {
    "duration": 11,
    "start_time": "2024-07-13T17:20:31.892Z"
   },
   {
    "duration": 19,
    "start_time": "2024-07-13T17:20:32.196Z"
   },
   {
    "duration": 5,
    "start_time": "2024-07-13T17:20:32.435Z"
   },
   {
    "duration": 1057,
    "start_time": "2024-07-13T17:20:55.956Z"
   },
   {
    "duration": 167,
    "start_time": "2024-07-13T17:20:57.015Z"
   },
   {
    "duration": 28,
    "start_time": "2024-07-13T17:20:57.184Z"
   },
   {
    "duration": 77,
    "start_time": "2024-07-13T17:20:57.214Z"
   },
   {
    "duration": 4,
    "start_time": "2024-07-13T17:20:58.444Z"
   },
   {
    "duration": 11,
    "start_time": "2024-07-13T17:20:58.668Z"
   },
   {
    "duration": 19,
    "start_time": "2024-07-13T17:20:59.004Z"
   },
   {
    "duration": 4,
    "start_time": "2024-07-13T17:20:59.644Z"
   },
   {
    "duration": 91,
    "start_time": "2024-07-13T17:30:07.734Z"
   },
   {
    "duration": 9,
    "start_time": "2024-07-13T17:30:11.327Z"
   },
   {
    "duration": 5,
    "start_time": "2024-07-13T17:30:12.246Z"
   },
   {
    "duration": 8,
    "start_time": "2024-07-13T17:30:45.872Z"
   },
   {
    "duration": 5,
    "start_time": "2024-07-13T17:30:49.176Z"
   },
   {
    "duration": 4,
    "start_time": "2024-07-13T17:31:00.336Z"
   },
   {
    "duration": 5,
    "start_time": "2024-07-13T17:31:08.656Z"
   },
   {
    "duration": 73,
    "start_time": "2024-07-13T17:35:03.708Z"
   },
   {
    "duration": 4,
    "start_time": "2024-07-13T17:35:04.028Z"
   },
   {
    "duration": 10,
    "start_time": "2024-07-13T17:35:25.020Z"
   },
   {
    "duration": 101,
    "start_time": "2024-07-13T17:36:29.038Z"
   },
   {
    "duration": 4,
    "start_time": "2024-07-13T17:36:29.374Z"
   },
   {
    "duration": 9,
    "start_time": "2024-07-13T17:36:29.672Z"
   },
   {
    "duration": 4,
    "start_time": "2024-07-13T17:43:28.525Z"
   },
   {
    "duration": 4,
    "start_time": "2024-07-13T17:43:28.917Z"
   },
   {
    "duration": 80,
    "start_time": "2024-07-13T17:46:55.137Z"
   },
   {
    "duration": 55,
    "start_time": "2024-07-13T17:46:55.426Z"
   },
   {
    "duration": 72,
    "start_time": "2024-07-13T17:48:18.019Z"
   },
   {
    "duration": 57,
    "start_time": "2024-07-13T17:48:33.788Z"
   },
   {
    "duration": 1034,
    "start_time": "2024-07-13T17:48:48.981Z"
   },
   {
    "duration": 170,
    "start_time": "2024-07-13T17:48:50.017Z"
   },
   {
    "duration": 40,
    "start_time": "2024-07-13T17:48:50.188Z"
   },
   {
    "duration": 72,
    "start_time": "2024-07-13T17:48:50.230Z"
   },
   {
    "duration": 12,
    "start_time": "2024-07-13T17:48:51.733Z"
   },
   {
    "duration": 5,
    "start_time": "2024-07-13T17:48:52.020Z"
   },
   {
    "duration": 104,
    "start_time": "2024-07-13T17:48:52.709Z"
   },
   {
    "duration": 4,
    "start_time": "2024-07-13T17:48:52.981Z"
   },
   {
    "duration": 3,
    "start_time": "2024-07-13T17:48:53.588Z"
   },
   {
    "duration": 3,
    "start_time": "2024-07-13T17:48:53.877Z"
   },
   {
    "duration": 79,
    "start_time": "2024-07-13T17:48:54.517Z"
   },
   {
    "duration": 2,
    "start_time": "2024-07-13T17:48:54.821Z"
   },
   {
    "duration": 1,
    "start_time": "2024-07-13T17:48:55.045Z"
   },
   {
    "duration": 108,
    "start_time": "2024-07-13T17:50:20.662Z"
   },
   {
    "duration": 117,
    "start_time": "2024-07-13T17:51:10.120Z"
   },
   {
    "duration": 2,
    "start_time": "2024-07-13T20:57:14.264Z"
   },
   {
    "duration": 163,
    "start_time": "2024-07-13T20:57:14.503Z"
   },
   {
    "duration": 25,
    "start_time": "2024-07-13T20:57:14.760Z"
   },
   {
    "duration": 46,
    "start_time": "2024-07-13T20:57:15.256Z"
   },
   {
    "duration": 7,
    "start_time": "2024-07-13T20:57:16.440Z"
   },
   {
    "duration": 5,
    "start_time": "2024-07-13T20:57:16.663Z"
   },
   {
    "duration": 102,
    "start_time": "2024-07-13T20:57:17.111Z"
   },
   {
    "duration": 5,
    "start_time": "2024-07-13T20:57:17.335Z"
   },
   {
    "duration": 3,
    "start_time": "2024-07-13T20:57:17.799Z"
   },
   {
    "duration": 3,
    "start_time": "2024-07-13T20:57:18.048Z"
   },
   {
    "duration": 111,
    "start_time": "2024-07-13T20:57:18.464Z"
   },
   {
    "duration": 4,
    "start_time": "2024-07-13T20:57:20.415Z"
   },
   {
    "duration": 92,
    "start_time": "2024-07-13T20:58:48.842Z"
   },
   {
    "duration": 7,
    "start_time": "2024-07-13T20:59:15.946Z"
   },
   {
    "duration": 80,
    "start_time": "2024-07-14T08:31:54.237Z"
   },
   {
    "duration": 81,
    "start_time": "2024-07-14T08:32:02.280Z"
   },
   {
    "duration": 47,
    "start_time": "2024-07-14T08:32:19.624Z"
   },
   {
    "duration": 1311,
    "start_time": "2024-07-14T08:32:27.696Z"
   },
   {
    "duration": 738,
    "start_time": "2024-07-14T08:32:29.009Z"
   },
   {
    "duration": 42,
    "start_time": "2024-07-14T08:32:29.749Z"
   },
   {
    "duration": 78,
    "start_time": "2024-07-14T08:32:29.793Z"
   },
   {
    "duration": 12,
    "start_time": "2024-07-14T08:32:29.872Z"
   },
   {
    "duration": 6,
    "start_time": "2024-07-14T08:32:30.993Z"
   },
   {
    "duration": 118,
    "start_time": "2024-07-14T08:32:31.455Z"
   },
   {
    "duration": 5,
    "start_time": "2024-07-14T08:32:31.664Z"
   },
   {
    "duration": 3,
    "start_time": "2024-07-14T08:32:32.128Z"
   },
   {
    "duration": 5,
    "start_time": "2024-07-14T08:32:32.336Z"
   },
   {
    "duration": 235,
    "start_time": "2024-07-14T08:32:32.784Z"
   },
   {
    "duration": 29,
    "start_time": "2024-07-14T08:32:34.376Z"
   },
   {
    "duration": 9,
    "start_time": "2024-07-14T08:32:34.857Z"
   },
   {
    "duration": 128,
    "start_time": "2024-07-14T08:33:01.977Z"
   },
   {
    "duration": 1142,
    "start_time": "2024-07-14T08:33:48.408Z"
   },
   {
    "duration": 212,
    "start_time": "2024-07-14T08:33:49.553Z"
   },
   {
    "duration": 43,
    "start_time": "2024-07-14T08:33:49.767Z"
   },
   {
    "duration": 78,
    "start_time": "2024-07-14T08:33:50.208Z"
   },
   {
    "duration": 13,
    "start_time": "2024-07-14T08:33:51.392Z"
   },
   {
    "duration": 5,
    "start_time": "2024-07-14T08:33:51.617Z"
   },
   {
    "duration": 128,
    "start_time": "2024-07-14T08:33:52.064Z"
   },
   {
    "duration": 6,
    "start_time": "2024-07-14T08:33:52.260Z"
   },
   {
    "duration": 4,
    "start_time": "2024-07-14T08:33:52.688Z"
   },
   {
    "duration": 5,
    "start_time": "2024-07-14T08:33:52.945Z"
   },
   {
    "duration": 163,
    "start_time": "2024-07-14T08:33:53.361Z"
   },
   {
    "duration": 80,
    "start_time": "2024-07-14T08:33:54.945Z"
   },
   {
    "duration": 1220,
    "start_time": "2024-07-14T10:23:54.008Z"
   },
   {
    "duration": 678,
    "start_time": "2024-07-14T10:23:55.230Z"
   },
   {
    "duration": 24,
    "start_time": "2024-07-14T10:23:55.909Z"
   },
   {
    "duration": 71,
    "start_time": "2024-07-14T10:23:55.934Z"
   },
   {
    "duration": 11,
    "start_time": "2024-07-14T10:23:58.405Z"
   },
   {
    "duration": 5,
    "start_time": "2024-07-14T10:23:58.917Z"
   },
   {
    "duration": 105,
    "start_time": "2024-07-14T10:23:59.830Z"
   },
   {
    "duration": 9,
    "start_time": "2024-07-14T10:24:00.054Z"
   },
   {
    "duration": 3,
    "start_time": "2024-07-14T10:24:00.886Z"
   },
   {
    "duration": 15,
    "start_time": "2024-07-14T10:24:01.172Z"
   },
   {
    "duration": 146,
    "start_time": "2024-07-14T10:24:01.883Z"
   },
   {
    "duration": 58,
    "start_time": "2024-07-14T10:24:03.984Z"
   },
   {
    "duration": 41,
    "start_time": "2024-07-14T10:24:09.750Z"
   },
   {
    "duration": 6,
    "start_time": "2024-07-14T10:24:21.102Z"
   },
   {
    "duration": 3,
    "start_time": "2024-07-14T10:32:22.482Z"
   },
   {
    "duration": 15,
    "start_time": "2024-07-14T10:34:32.954Z"
   },
   {
    "duration": 9,
    "start_time": "2024-07-14T10:35:03.659Z"
   },
   {
    "duration": 1399,
    "start_time": "2024-07-15T08:58:47.756Z"
   },
   {
    "duration": 809,
    "start_time": "2024-07-15T08:58:49.157Z"
   },
   {
    "duration": 30,
    "start_time": "2024-07-15T08:58:49.968Z"
   },
   {
    "duration": 224,
    "start_time": "2024-07-15T08:58:49.999Z"
   },
   {
    "duration": 16,
    "start_time": "2024-07-15T08:58:52.035Z"
   },
   {
    "duration": 6,
    "start_time": "2024-07-15T08:58:52.995Z"
   },
   {
    "duration": 113,
    "start_time": "2024-07-15T08:58:55.187Z"
   },
   {
    "duration": 6,
    "start_time": "2024-07-15T08:58:55.515Z"
   },
   {
    "duration": 4,
    "start_time": "2024-07-15T08:58:56.187Z"
   },
   {
    "duration": 5,
    "start_time": "2024-07-15T08:58:56.572Z"
   },
   {
    "duration": 164,
    "start_time": "2024-07-15T08:58:57.403Z"
   },
   {
    "duration": 37,
    "start_time": "2024-07-15T08:59:02.676Z"
   },
   {
    "duration": 7,
    "start_time": "2024-07-15T08:59:06.435Z"
   },
   {
    "duration": 4,
    "start_time": "2024-07-15T08:59:07.803Z"
   },
   {
    "duration": 5,
    "start_time": "2024-07-15T08:59:10.267Z"
   },
   {
    "duration": 5,
    "start_time": "2024-07-15T08:59:10.716Z"
   },
   {
    "duration": 21,
    "start_time": "2024-07-15T09:05:25.858Z"
   },
   {
    "duration": 96,
    "start_time": "2024-07-15T09:05:26.442Z"
   },
   {
    "duration": 56,
    "start_time": "2024-07-15T09:05:44.250Z"
   },
   {
    "duration": 181,
    "start_time": "2024-07-15T09:05:44.633Z"
   },
   {
    "duration": 1186,
    "start_time": "2024-07-15T09:05:54.881Z"
   },
   {
    "duration": 172,
    "start_time": "2024-07-15T09:05:56.070Z"
   },
   {
    "duration": 28,
    "start_time": "2024-07-15T09:05:56.243Z"
   },
   {
    "duration": 78,
    "start_time": "2024-07-15T09:05:56.273Z"
   },
   {
    "duration": 14,
    "start_time": "2024-07-15T09:05:57.425Z"
   },
   {
    "duration": 5,
    "start_time": "2024-07-15T09:05:57.650Z"
   },
   {
    "duration": 150,
    "start_time": "2024-07-15T09:05:58.130Z"
   },
   {
    "duration": 9,
    "start_time": "2024-07-15T09:05:58.354Z"
   },
   {
    "duration": 4,
    "start_time": "2024-07-15T09:05:58.786Z"
   },
   {
    "duration": 4,
    "start_time": "2024-07-15T09:05:59.010Z"
   },
   {
    "duration": 142,
    "start_time": "2024-07-15T09:05:59.409Z"
   },
   {
    "duration": 27,
    "start_time": "2024-07-15T09:06:00.786Z"
   },
   {
    "duration": 10,
    "start_time": "2024-07-15T09:06:01.186Z"
   },
   {
    "duration": 5,
    "start_time": "2024-07-15T09:06:01.594Z"
   },
   {
    "duration": 5,
    "start_time": "2024-07-15T09:06:02.010Z"
   },
   {
    "duration": 4,
    "start_time": "2024-07-15T09:06:02.218Z"
   },
   {
    "duration": 13,
    "start_time": "2024-07-15T09:06:02.618Z"
   },
   {
    "duration": 639,
    "start_time": "2024-07-15T09:06:02.810Z"
   },
   {
    "duration": 610,
    "start_time": "2024-07-15T09:10:25.416Z"
   },
   {
    "duration": 104,
    "start_time": "2024-07-15T09:12:03.888Z"
   },
   {
    "duration": 485,
    "start_time": "2024-07-15T09:12:16.745Z"
   },
   {
    "duration": 13,
    "start_time": "2024-07-15T09:15:00.307Z"
   },
   {
    "duration": 9,
    "start_time": "2024-07-15T09:15:56.637Z"
   },
   {
    "duration": 33,
    "start_time": "2024-07-15T09:17:12.158Z"
   },
   {
    "duration": 27,
    "start_time": "2024-07-15T09:17:21.039Z"
   },
   {
    "duration": 8,
    "start_time": "2024-07-15T09:17:23.784Z"
   },
   {
    "duration": 21,
    "start_time": "2024-07-15T09:27:59.890Z"
   },
   {
    "duration": 836,
    "start_time": "2024-07-15T09:31:10.334Z"
   },
   {
    "duration": 29,
    "start_time": "2024-07-15T09:31:45.610Z"
   },
   {
    "duration": 81,
    "start_time": "2024-07-15T09:31:55.471Z"
   },
   {
    "duration": 705,
    "start_time": "2024-07-15T09:31:55.983Z"
   },
   {
    "duration": 588,
    "start_time": "2024-07-15T09:34:48.538Z"
   },
   {
    "duration": 38,
    "start_time": "2024-07-15T09:34:51.513Z"
   },
   {
    "duration": 691,
    "start_time": "2024-07-15T09:34:51.770Z"
   },
   {
    "duration": 5,
    "start_time": "2024-07-15T09:36:36.763Z"
   },
   {
    "duration": 541,
    "start_time": "2024-07-15T09:39:09.982Z"
   },
   {
    "duration": 5,
    "start_time": "2024-07-15T09:39:43.670Z"
   },
   {
    "duration": 4,
    "start_time": "2024-07-15T09:41:29.697Z"
   },
   {
    "duration": 413,
    "start_time": "2024-07-15T09:52:37.437Z"
   },
   {
    "duration": 644,
    "start_time": "2024-07-15T09:52:59.165Z"
   },
   {
    "duration": 12,
    "start_time": "2024-07-15T09:53:28.541Z"
   },
   {
    "duration": 514,
    "start_time": "2024-07-15T09:53:45.870Z"
   },
   {
    "duration": 484,
    "start_time": "2024-07-15T09:54:32.240Z"
   },
   {
    "duration": 551,
    "start_time": "2024-07-15T09:55:22.336Z"
   },
   {
    "duration": 436,
    "start_time": "2024-07-15T09:57:40.171Z"
   },
   {
    "duration": 18,
    "start_time": "2024-07-15T10:05:25.747Z"
   },
   {
    "duration": 26,
    "start_time": "2024-07-15T10:05:30.795Z"
   },
   {
    "duration": 6,
    "start_time": "2024-07-15T10:12:16.939Z"
   },
   {
    "duration": 315,
    "start_time": "2024-07-15T10:15:08.862Z"
   },
   {
    "duration": 139,
    "start_time": "2024-07-15T10:16:49.959Z"
   },
   {
    "duration": 296,
    "start_time": "2024-07-15T10:17:03.424Z"
   },
   {
    "duration": 456,
    "start_time": "2024-07-15T10:19:15.235Z"
   },
   {
    "duration": 23,
    "start_time": "2024-07-15T10:19:19.397Z"
   },
   {
    "duration": 5,
    "start_time": "2024-07-15T10:19:20.507Z"
   },
   {
    "duration": 1177,
    "start_time": "2024-07-15T10:19:36.922Z"
   },
   {
    "duration": 227,
    "start_time": "2024-07-15T10:19:38.101Z"
   },
   {
    "duration": 33,
    "start_time": "2024-07-15T10:19:38.330Z"
   },
   {
    "duration": 78,
    "start_time": "2024-07-15T10:19:38.365Z"
   },
   {
    "duration": 14,
    "start_time": "2024-07-15T10:19:39.546Z"
   },
   {
    "duration": 6,
    "start_time": "2024-07-15T10:19:39.786Z"
   },
   {
    "duration": 107,
    "start_time": "2024-07-15T10:19:40.850Z"
   },
   {
    "duration": 6,
    "start_time": "2024-07-15T10:19:43.842Z"
   },
   {
    "duration": 4,
    "start_time": "2024-07-15T10:19:44.338Z"
   },
   {
    "duration": 4,
    "start_time": "2024-07-15T10:19:44.659Z"
   },
   {
    "duration": 155,
    "start_time": "2024-07-15T10:19:45.235Z"
   },
   {
    "duration": 25,
    "start_time": "2024-07-15T10:19:47.226Z"
   },
   {
    "duration": 7,
    "start_time": "2024-07-15T10:19:47.850Z"
   },
   {
    "duration": 4,
    "start_time": "2024-07-15T10:19:48.474Z"
   },
   {
    "duration": 5,
    "start_time": "2024-07-15T10:19:49.001Z"
   },
   {
    "duration": 6,
    "start_time": "2024-07-15T10:19:49.258Z"
   },
   {
    "duration": 3,
    "start_time": "2024-07-15T10:19:49.514Z"
   },
   {
    "duration": 21,
    "start_time": "2024-07-15T10:19:50.250Z"
   },
   {
    "duration": 480,
    "start_time": "2024-07-15T10:19:50.538Z"
   },
   {
    "duration": 374,
    "start_time": "2024-07-15T10:19:52.690Z"
   },
   {
    "duration": 576,
    "start_time": "2024-07-15T10:19:54.051Z"
   },
   {
    "duration": 27,
    "start_time": "2024-07-15T10:19:58.778Z"
   },
   {
    "duration": 476,
    "start_time": "2024-07-15T10:20:20.452Z"
   },
   {
    "duration": 24,
    "start_time": "2024-07-15T10:20:22.843Z"
   },
   {
    "duration": 467,
    "start_time": "2024-07-15T10:20:50.420Z"
   },
   {
    "duration": 24,
    "start_time": "2024-07-15T10:20:52.067Z"
   },
   {
    "duration": 5,
    "start_time": "2024-07-15T10:20:53.588Z"
   },
   {
    "duration": 306,
    "start_time": "2024-07-15T10:20:54.676Z"
   },
   {
    "duration": 427,
    "start_time": "2024-07-15T10:20:55.275Z"
   },
   {
    "duration": 458,
    "start_time": "2024-07-15T10:20:56.763Z"
   },
   {
    "duration": 394,
    "start_time": "2024-07-15T10:21:22.740Z"
   },
   {
    "duration": 432,
    "start_time": "2024-07-15T10:21:49.061Z"
   },
   {
    "duration": 7,
    "start_time": "2024-07-15T10:35:47.797Z"
   },
   {
    "duration": 7,
    "start_time": "2024-07-15T10:36:33.710Z"
   },
   {
    "duration": 15,
    "start_time": "2024-07-15T10:46:10.456Z"
   },
   {
    "duration": 14,
    "start_time": "2024-07-15T10:46:10.696Z"
   },
   {
    "duration": 21,
    "start_time": "2024-07-15T10:47:00.834Z"
   },
   {
    "duration": 6,
    "start_time": "2024-07-15T10:51:06.038Z"
   },
   {
    "duration": 9,
    "start_time": "2024-07-15T10:53:50.505Z"
   },
   {
    "duration": 1160,
    "start_time": "2024-07-15T10:54:35.137Z"
   },
   {
    "duration": 217,
    "start_time": "2024-07-15T10:54:36.300Z"
   },
   {
    "duration": 48,
    "start_time": "2024-07-15T10:54:36.519Z"
   },
   {
    "duration": 82,
    "start_time": "2024-07-15T10:54:36.570Z"
   },
   {
    "duration": 14,
    "start_time": "2024-07-15T10:54:37.362Z"
   },
   {
    "duration": 5,
    "start_time": "2024-07-15T10:54:37.585Z"
   },
   {
    "duration": 114,
    "start_time": "2024-07-15T10:54:38.347Z"
   },
   {
    "duration": 4,
    "start_time": "2024-07-15T10:54:38.463Z"
   },
   {
    "duration": 3,
    "start_time": "2024-07-15T10:54:38.618Z"
   },
   {
    "duration": 4,
    "start_time": "2024-07-15T10:54:38.825Z"
   },
   {
    "duration": 167,
    "start_time": "2024-07-15T10:54:39.226Z"
   },
   {
    "duration": 23,
    "start_time": "2024-07-15T10:54:40.682Z"
   },
   {
    "duration": 8,
    "start_time": "2024-07-15T10:54:43.257Z"
   },
   {
    "duration": 3,
    "start_time": "2024-07-15T10:54:43.674Z"
   },
   {
    "duration": 4,
    "start_time": "2024-07-15T10:54:44.089Z"
   },
   {
    "duration": 4,
    "start_time": "2024-07-15T10:54:44.289Z"
   },
   {
    "duration": 3,
    "start_time": "2024-07-15T10:54:44.498Z"
   },
   {
    "duration": 20,
    "start_time": "2024-07-15T10:54:44.913Z"
   },
   {
    "duration": 435,
    "start_time": "2024-07-15T10:54:45.138Z"
   },
   {
    "duration": 355,
    "start_time": "2024-07-15T10:54:46.146Z"
   },
   {
    "duration": 499,
    "start_time": "2024-07-15T10:54:46.503Z"
   },
   {
    "duration": 22,
    "start_time": "2024-07-15T10:54:47.393Z"
   },
   {
    "duration": 4,
    "start_time": "2024-07-15T10:54:47.602Z"
   },
   {
    "duration": 307,
    "start_time": "2024-07-15T10:54:48.210Z"
   },
   {
    "duration": 294,
    "start_time": "2024-07-15T10:54:48.519Z"
   },
   {
    "duration": 387,
    "start_time": "2024-07-15T10:54:48.814Z"
   },
   {
    "duration": 7,
    "start_time": "2024-07-15T10:54:49.442Z"
   },
   {
    "duration": 10,
    "start_time": "2024-07-15T10:54:50.082Z"
   },
   {
    "duration": 31,
    "start_time": "2024-07-15T10:59:52.153Z"
   },
   {
    "duration": 32,
    "start_time": "2024-07-15T11:00:40.849Z"
   },
   {
    "duration": 125,
    "start_time": "2024-07-15T11:22:45.594Z"
   },
   {
    "duration": 452,
    "start_time": "2024-07-15T11:22:53.138Z"
   },
   {
    "duration": 40,
    "start_time": "2024-07-15T11:23:23.586Z"
   },
   {
    "duration": 361,
    "start_time": "2024-07-15T11:23:28.490Z"
   },
   {
    "duration": 38,
    "start_time": "2024-07-15T11:23:42.139Z"
   },
   {
    "duration": 349,
    "start_time": "2024-07-15T11:23:50.372Z"
   },
   {
    "duration": 28,
    "start_time": "2024-07-15T11:24:54.068Z"
   },
   {
    "duration": 324,
    "start_time": "2024-07-15T11:25:09.717Z"
   },
   {
    "duration": 389,
    "start_time": "2024-07-15T11:28:52.897Z"
   },
   {
    "duration": 56,
    "start_time": "2024-07-15T11:31:11.654Z"
   },
   {
    "duration": 340,
    "start_time": "2024-07-15T11:31:28.228Z"
   },
   {
    "duration": 55,
    "start_time": "2024-07-15T11:33:32.103Z"
   },
   {
    "duration": 333,
    "start_time": "2024-07-15T11:33:35.093Z"
   },
   {
    "duration": 157,
    "start_time": "2024-07-15T11:39:28.429Z"
   },
   {
    "duration": 149,
    "start_time": "2024-07-15T11:43:28.849Z"
   },
   {
    "duration": 132,
    "start_time": "2024-07-15T11:45:06.383Z"
   },
   {
    "duration": 75,
    "start_time": "2024-07-15T11:53:28.964Z"
   },
   {
    "duration": 78,
    "start_time": "2024-07-15T11:53:37.595Z"
   },
   {
    "duration": 76,
    "start_time": "2024-07-15T11:53:51.252Z"
   },
   {
    "duration": 79,
    "start_time": "2024-07-15T11:56:32.767Z"
   },
   {
    "duration": 76,
    "start_time": "2024-07-15T11:56:52.136Z"
   },
   {
    "duration": 75,
    "start_time": "2024-07-15T11:57:33.200Z"
   },
   {
    "duration": 81,
    "start_time": "2024-07-15T11:59:04.170Z"
   },
   {
    "duration": 5,
    "start_time": "2024-07-15T12:01:43.669Z"
   },
   {
    "duration": 5,
    "start_time": "2024-07-15T12:04:18.783Z"
   },
   {
    "duration": 5,
    "start_time": "2024-07-15T12:04:44.232Z"
   },
   {
    "duration": 10,
    "start_time": "2024-07-15T12:09:10.685Z"
   },
   {
    "duration": 3,
    "start_time": "2024-07-15T12:09:16.525Z"
   },
   {
    "duration": 3,
    "start_time": "2024-07-15T12:10:07.742Z"
   },
   {
    "duration": 4,
    "start_time": "2024-07-15T12:19:40.110Z"
   },
   {
    "duration": 14,
    "start_time": "2024-07-15T12:19:50.739Z"
   },
   {
    "duration": 4,
    "start_time": "2024-07-15T12:20:47.097Z"
   },
   {
    "duration": 30,
    "start_time": "2024-07-15T12:44:40.117Z"
   },
   {
    "duration": 19,
    "start_time": "2024-07-15T12:44:56.996Z"
   },
   {
    "duration": 19,
    "start_time": "2024-07-15T12:45:10.549Z"
   },
   {
    "duration": 18,
    "start_time": "2024-07-15T12:48:27.337Z"
   },
   {
    "duration": 13,
    "start_time": "2024-07-15T12:57:03.499Z"
   },
   {
    "duration": 6,
    "start_time": "2024-07-15T12:57:07.858Z"
   },
   {
    "duration": 5,
    "start_time": "2024-07-15T12:57:18.267Z"
   },
   {
    "duration": 19,
    "start_time": "2024-07-15T12:58:15.131Z"
   },
   {
    "duration": 21,
    "start_time": "2024-07-15T12:59:05.060Z"
   },
   {
    "duration": 24,
    "start_time": "2024-07-15T12:59:31.173Z"
   },
   {
    "duration": 11,
    "start_time": "2024-07-15T13:00:10.149Z"
   },
   {
    "duration": 9,
    "start_time": "2024-07-15T13:00:20.133Z"
   },
   {
    "duration": 21,
    "start_time": "2024-07-15T13:01:55.207Z"
   },
   {
    "duration": 10,
    "start_time": "2024-07-15T13:03:48.930Z"
   },
   {
    "duration": 71,
    "start_time": "2024-07-15T13:09:37.331Z"
   },
   {
    "duration": 95,
    "start_time": "2024-07-15T13:10:24.545Z"
   },
   {
    "duration": 5,
    "start_time": "2024-07-15T13:14:00.837Z"
   },
   {
    "duration": 4,
    "start_time": "2024-07-15T13:14:40.365Z"
   },
   {
    "duration": 5,
    "start_time": "2024-07-15T13:15:50.982Z"
   },
   {
    "duration": 47,
    "start_time": "2024-07-15T13:27:21.796Z"
   },
   {
    "duration": 25,
    "start_time": "2024-07-15T13:29:28.903Z"
   },
   {
    "duration": 12,
    "start_time": "2024-07-15T13:33:26.210Z"
   },
   {
    "duration": 9,
    "start_time": "2024-07-15T13:33:35.658Z"
   },
   {
    "duration": 10,
    "start_time": "2024-07-15T13:33:46.802Z"
   },
   {
    "duration": 6,
    "start_time": "2024-07-15T13:34:15.243Z"
   },
   {
    "duration": 11,
    "start_time": "2024-07-15T13:34:46.139Z"
   },
   {
    "duration": 40,
    "start_time": "2024-07-15T13:35:28.492Z"
   },
   {
    "duration": 20,
    "start_time": "2024-07-15T13:35:29.724Z"
   },
   {
    "duration": 4,
    "start_time": "2024-07-15T13:39:38.288Z"
   },
   {
    "duration": 2,
    "start_time": "2024-07-15T13:39:56.922Z"
   },
   {
    "duration": 63,
    "start_time": "2024-07-15T13:46:14.872Z"
   },
   {
    "duration": 4,
    "start_time": "2024-07-15T15:23:06.264Z"
   },
   {
    "duration": 13,
    "start_time": "2024-07-15T15:23:09.961Z"
   },
   {
    "duration": 6,
    "start_time": "2024-07-15T15:26:16.004Z"
   },
   {
    "duration": 36,
    "start_time": "2024-07-15T15:31:11.645Z"
   },
   {
    "duration": 45,
    "start_time": "2024-07-15T15:31:19.114Z"
   },
   {
    "duration": 96,
    "start_time": "2024-07-15T15:31:27.498Z"
   },
   {
    "duration": 45,
    "start_time": "2024-07-15T15:32:43.316Z"
   },
   {
    "duration": 97,
    "start_time": "2024-07-15T15:32:59.267Z"
   },
   {
    "duration": 94,
    "start_time": "2024-07-15T15:33:39.212Z"
   },
   {
    "duration": 94,
    "start_time": "2024-07-15T15:33:49.653Z"
   },
   {
    "duration": 107,
    "start_time": "2024-07-15T15:33:56.669Z"
   },
   {
    "duration": 48,
    "start_time": "2024-07-15T15:34:05.181Z"
   },
   {
    "duration": 111,
    "start_time": "2024-07-15T15:34:09.550Z"
   },
   {
    "duration": 98,
    "start_time": "2024-07-15T15:37:54.042Z"
   },
   {
    "duration": 343,
    "start_time": "2024-07-15T15:41:13.094Z"
   },
   {
    "duration": 1224,
    "start_time": "2024-07-16T08:36:51.170Z"
   },
   {
    "duration": 729,
    "start_time": "2024-07-16T08:36:52.396Z"
   },
   {
    "duration": 25,
    "start_time": "2024-07-16T08:36:53.126Z"
   },
   {
    "duration": 64,
    "start_time": "2024-07-16T08:36:53.153Z"
   },
   {
    "duration": 10,
    "start_time": "2024-07-16T08:36:53.219Z"
   },
   {
    "duration": 5,
    "start_time": "2024-07-16T08:36:53.300Z"
   },
   {
    "duration": 97,
    "start_time": "2024-07-16T08:36:53.708Z"
   },
   {
    "duration": 4,
    "start_time": "2024-07-16T08:36:53.901Z"
   },
   {
    "duration": 3,
    "start_time": "2024-07-16T08:36:54.317Z"
   },
   {
    "duration": 3,
    "start_time": "2024-07-16T08:36:54.526Z"
   },
   {
    "duration": 126,
    "start_time": "2024-07-16T08:36:54.988Z"
   },
   {
    "duration": 20,
    "start_time": "2024-07-16T08:36:56.475Z"
   },
   {
    "duration": 7,
    "start_time": "2024-07-16T08:36:56.907Z"
   },
   {
    "duration": 4,
    "start_time": "2024-07-16T08:36:57.323Z"
   },
   {
    "duration": 3,
    "start_time": "2024-07-16T08:36:57.725Z"
   },
   {
    "duration": 4,
    "start_time": "2024-07-16T08:36:57.918Z"
   },
   {
    "duration": 3,
    "start_time": "2024-07-16T08:36:58.109Z"
   },
   {
    "duration": 21,
    "start_time": "2024-07-16T08:36:58.551Z"
   },
   {
    "duration": 375,
    "start_time": "2024-07-16T08:36:58.765Z"
   },
   {
    "duration": 401,
    "start_time": "2024-07-16T08:36:59.843Z"
   },
   {
    "duration": 463,
    "start_time": "2024-07-16T08:37:00.245Z"
   },
   {
    "duration": 21,
    "start_time": "2024-07-16T08:37:01.235Z"
   },
   {
    "duration": 4,
    "start_time": "2024-07-16T08:37:01.461Z"
   },
   {
    "duration": 291,
    "start_time": "2024-07-16T08:37:02.099Z"
   },
   {
    "duration": 290,
    "start_time": "2024-07-16T08:37:02.392Z"
   },
   {
    "duration": 364,
    "start_time": "2024-07-16T08:37:02.683Z"
   },
   {
    "duration": 6,
    "start_time": "2024-07-16T08:37:03.332Z"
   },
   {
    "duration": 8,
    "start_time": "2024-07-16T08:37:04.008Z"
   },
   {
    "duration": 28,
    "start_time": "2024-07-16T08:37:04.836Z"
   },
   {
    "duration": 22,
    "start_time": "2024-07-16T08:37:06.078Z"
   },
   {
    "duration": 364,
    "start_time": "2024-07-16T08:37:06.284Z"
   },
   {
    "duration": 55,
    "start_time": "2024-07-16T08:37:07.372Z"
   },
   {
    "duration": 294,
    "start_time": "2024-07-16T08:37:07.612Z"
   },
   {
    "duration": 151,
    "start_time": "2024-07-16T08:37:08.691Z"
   },
   {
    "duration": 79,
    "start_time": "2024-07-16T08:37:09.566Z"
   },
   {
    "duration": 5,
    "start_time": "2024-07-16T08:37:10.444Z"
   },
   {
    "duration": 3,
    "start_time": "2024-07-16T08:37:11.372Z"
   },
   {
    "duration": 3,
    "start_time": "2024-07-16T08:37:12.516Z"
   },
   {
    "duration": 10,
    "start_time": "2024-07-16T08:37:13.396Z"
   },
   {
    "duration": 6,
    "start_time": "2024-07-16T08:37:13.621Z"
   },
   {
    "duration": 6,
    "start_time": "2024-07-16T08:37:13.989Z"
   },
   {
    "duration": 20,
    "start_time": "2024-07-16T08:37:14.260Z"
   },
   {
    "duration": 9,
    "start_time": "2024-07-16T08:37:14.471Z"
   },
   {
    "duration": 49,
    "start_time": "2024-07-16T08:37:14.726Z"
   },
   {
    "duration": 19,
    "start_time": "2024-07-16T08:37:15.828Z"
   },
   {
    "duration": 16,
    "start_time": "2024-07-16T08:37:16.549Z"
   },
   {
    "duration": 100,
    "start_time": "2024-07-16T08:37:17.414Z"
   },
   {
    "duration": 4,
    "start_time": "2024-07-16T08:37:18.140Z"
   },
   {
    "duration": 89,
    "start_time": "2024-07-16T08:37:18.829Z"
   },
   {
    "duration": 8,
    "start_time": "2024-07-16T08:37:19.741Z"
   },
   {
    "duration": 20,
    "start_time": "2024-07-16T08:38:12.784Z"
   },
   {
    "duration": 6,
    "start_time": "2024-07-16T08:38:25.263Z"
   },
   {
    "duration": 26,
    "start_time": "2024-07-16T08:45:29.935Z"
   },
   {
    "duration": 25,
    "start_time": "2024-07-16T08:45:33.681Z"
   },
   {
    "duration": 25,
    "start_time": "2024-07-16T08:45:45.375Z"
   },
   {
    "duration": 80,
    "start_time": "2024-07-16T08:46:27.107Z"
   },
   {
    "duration": 92,
    "start_time": "2024-07-16T08:48:13.401Z"
   },
   {
    "duration": 72,
    "start_time": "2024-07-16T08:48:36.842Z"
   },
   {
    "duration": 73,
    "start_time": "2024-07-16T08:49:01.425Z"
   },
   {
    "duration": 7,
    "start_time": "2024-07-16T08:51:39.750Z"
   },
   {
    "duration": 15,
    "start_time": "2024-07-16T08:51:45.260Z"
   },
   {
    "duration": 13,
    "start_time": "2024-07-16T08:51:50.905Z"
   },
   {
    "duration": 76,
    "start_time": "2024-07-16T08:53:49.303Z"
   },
   {
    "duration": 26,
    "start_time": "2024-07-16T09:02:46.053Z"
   },
   {
    "duration": 106,
    "start_time": "2024-07-16T09:06:57.182Z"
   },
   {
    "duration": 96,
    "start_time": "2024-07-16T09:07:08.360Z"
   },
   {
    "duration": 4,
    "start_time": "2024-07-16T09:11:27.060Z"
   },
   {
    "duration": 1153,
    "start_time": "2024-07-16T09:48:31.572Z"
   },
   {
    "duration": 150,
    "start_time": "2024-07-16T09:48:32.727Z"
   },
   {
    "duration": 24,
    "start_time": "2024-07-16T09:48:33.500Z"
   },
   {
    "duration": 63,
    "start_time": "2024-07-16T09:48:40.932Z"
   },
   {
    "duration": 11,
    "start_time": "2024-07-16T09:49:19.300Z"
   },
   {
    "duration": 5,
    "start_time": "2024-07-16T09:49:20.052Z"
   },
   {
    "duration": 97,
    "start_time": "2024-07-16T09:49:21.653Z"
   },
   {
    "duration": 5,
    "start_time": "2024-07-16T09:49:22.134Z"
   },
   {
    "duration": 3,
    "start_time": "2024-07-16T09:49:26.637Z"
   },
   {
    "duration": 3,
    "start_time": "2024-07-16T09:49:27.165Z"
   },
   {
    "duration": 133,
    "start_time": "2024-07-16T09:49:28.868Z"
   },
   {
    "duration": 19,
    "start_time": "2024-07-16T09:49:57.877Z"
   },
   {
    "duration": 7,
    "start_time": "2024-07-16T09:49:59.804Z"
   },
   {
    "duration": 3,
    "start_time": "2024-07-16T09:50:01.725Z"
   },
   {
    "duration": 4,
    "start_time": "2024-07-16T09:50:05.205Z"
   },
   {
    "duration": 4,
    "start_time": "2024-07-16T09:50:06.966Z"
   },
   {
    "duration": 3,
    "start_time": "2024-07-16T09:50:07.463Z"
   },
   {
    "duration": 27,
    "start_time": "2024-07-16T09:50:09.637Z"
   },
   {
    "duration": 380,
    "start_time": "2024-07-16T09:50:16.094Z"
   },
   {
    "duration": 350,
    "start_time": "2024-07-16T09:50:26.966Z"
   },
   {
    "duration": 458,
    "start_time": "2024-07-16T09:50:27.575Z"
   },
   {
    "duration": 22,
    "start_time": "2024-07-16T09:50:35.086Z"
   },
   {
    "duration": 4,
    "start_time": "2024-07-16T09:50:35.710Z"
   },
   {
    "duration": 287,
    "start_time": "2024-07-16T09:50:41.574Z"
   },
   {
    "duration": 279,
    "start_time": "2024-07-16T09:50:42.439Z"
   },
   {
    "duration": 396,
    "start_time": "2024-07-16T09:50:43.039Z"
   },
   {
    "duration": 6,
    "start_time": "2024-07-16T09:50:52.134Z"
   },
   {
    "duration": 9,
    "start_time": "2024-07-16T09:50:57.487Z"
   },
   {
    "duration": 30,
    "start_time": "2024-07-16T09:51:09.502Z"
   },
   {
    "duration": 24,
    "start_time": "2024-07-16T09:51:12.878Z"
   },
   {
    "duration": 369,
    "start_time": "2024-07-16T09:51:14.215Z"
   },
   {
    "duration": 61,
    "start_time": "2024-07-16T09:51:20.494Z"
   },
   {
    "duration": 326,
    "start_time": "2024-07-16T09:51:21.567Z"
   },
   {
    "duration": 134,
    "start_time": "2024-07-16T09:51:24.495Z"
   },
   {
    "duration": 80,
    "start_time": "2024-07-16T09:51:29.416Z"
   },
   {
    "duration": 5,
    "start_time": "2024-07-16T09:51:34.783Z"
   },
   {
    "duration": 4,
    "start_time": "2024-07-16T09:51:39.382Z"
   },
   {
    "duration": 3,
    "start_time": "2024-07-16T09:51:53.255Z"
   },
   {
    "duration": 10,
    "start_time": "2024-07-16T09:51:58.112Z"
   },
   {
    "duration": 5,
    "start_time": "2024-07-16T09:51:58.895Z"
   },
   {
    "duration": 4,
    "start_time": "2024-07-16T09:51:59.842Z"
   },
   {
    "duration": 19,
    "start_time": "2024-07-16T09:52:04.328Z"
   },
   {
    "duration": 7,
    "start_time": "2024-07-16T09:52:05.064Z"
   },
   {
    "duration": 50,
    "start_time": "2024-07-16T09:52:06.168Z"
   },
   {
    "duration": 17,
    "start_time": "2024-07-16T09:52:09.711Z"
   },
   {
    "duration": 17,
    "start_time": "2024-07-16T09:52:11.359Z"
   },
   {
    "duration": 3,
    "start_time": "2024-07-16T09:52:12.338Z"
   },
   {
    "duration": 4,
    "start_time": "2024-07-16T09:52:13.809Z"
   },
   {
    "duration": 85,
    "start_time": "2024-07-16T09:52:14.681Z"
   },
   {
    "duration": 7,
    "start_time": "2024-07-16T09:52:17.232Z"
   },
   {
    "duration": 71,
    "start_time": "2024-07-16T09:52:18.167Z"
   },
   {
    "duration": 68,
    "start_time": "2024-07-16T09:52:18.825Z"
   },
   {
    "duration": 25,
    "start_time": "2024-07-16T09:52:19.895Z"
   },
   {
    "duration": 111,
    "start_time": "2024-07-16T09:52:20.425Z"
   },
   {
    "duration": 1148,
    "start_time": "2024-07-16T16:13:25.063Z"
   },
   {
    "duration": 179,
    "start_time": "2024-07-16T16:13:26.212Z"
   },
   {
    "duration": 27,
    "start_time": "2024-07-16T16:13:26.393Z"
   },
   {
    "duration": 70,
    "start_time": "2024-07-16T16:13:26.422Z"
   },
   {
    "duration": 10,
    "start_time": "2024-07-16T16:13:26.494Z"
   },
   {
    "duration": 4,
    "start_time": "2024-07-16T16:13:26.506Z"
   },
   {
    "duration": 128,
    "start_time": "2024-07-16T16:13:26.512Z"
   },
   {
    "duration": 4,
    "start_time": "2024-07-16T16:13:26.642Z"
   },
   {
    "duration": 15,
    "start_time": "2024-07-16T16:13:26.648Z"
   },
   {
    "duration": 18,
    "start_time": "2024-07-16T16:13:26.665Z"
   },
   {
    "duration": 146,
    "start_time": "2024-07-16T16:13:26.684Z"
   },
   {
    "duration": 24,
    "start_time": "2024-07-16T16:13:26.831Z"
   },
   {
    "duration": 31,
    "start_time": "2024-07-16T16:13:26.857Z"
   },
   {
    "duration": 17,
    "start_time": "2024-07-16T16:13:26.889Z"
   },
   {
    "duration": 14,
    "start_time": "2024-07-16T16:13:26.907Z"
   },
   {
    "duration": 6,
    "start_time": "2024-07-16T16:13:26.922Z"
   },
   {
    "duration": 24,
    "start_time": "2024-07-16T16:13:26.929Z"
   },
   {
    "duration": 43,
    "start_time": "2024-07-16T16:13:26.955Z"
   },
   {
    "duration": 409,
    "start_time": "2024-07-16T16:13:26.999Z"
   },
   {
    "duration": 365,
    "start_time": "2024-07-16T16:13:27.409Z"
   },
   {
    "duration": 493,
    "start_time": "2024-07-16T16:13:27.776Z"
   },
   {
    "duration": 31,
    "start_time": "2024-07-16T16:13:28.271Z"
   },
   {
    "duration": 4,
    "start_time": "2024-07-16T16:13:28.303Z"
   },
   {
    "duration": 343,
    "start_time": "2024-07-16T16:13:28.309Z"
   },
   {
    "duration": 301,
    "start_time": "2024-07-16T16:13:28.653Z"
   },
   {
    "duration": 376,
    "start_time": "2024-07-16T16:13:28.956Z"
   },
   {
    "duration": 7,
    "start_time": "2024-07-16T16:13:29.334Z"
   },
   {
    "duration": 17,
    "start_time": "2024-07-16T16:13:29.345Z"
   },
   {
    "duration": 44,
    "start_time": "2024-07-16T16:13:29.363Z"
   },
   {
    "duration": 28,
    "start_time": "2024-07-16T16:13:29.409Z"
   },
   {
    "duration": 417,
    "start_time": "2024-07-16T16:13:29.439Z"
   },
   {
    "duration": 63,
    "start_time": "2024-07-16T16:13:29.858Z"
   },
   {
    "duration": 343,
    "start_time": "2024-07-16T16:13:29.923Z"
   },
   {
    "duration": 166,
    "start_time": "2024-07-16T16:13:30.267Z"
   },
   {
    "duration": 128,
    "start_time": "2024-07-16T16:13:30.435Z"
   },
   {
    "duration": 38,
    "start_time": "2024-07-16T16:13:30.564Z"
   },
   {
    "duration": 37,
    "start_time": "2024-07-16T16:13:30.604Z"
   },
   {
    "duration": 47,
    "start_time": "2024-07-16T16:13:30.642Z"
   },
   {
    "duration": 46,
    "start_time": "2024-07-16T16:13:30.691Z"
   },
   {
    "duration": 34,
    "start_time": "2024-07-16T16:13:30.739Z"
   },
   {
    "duration": 40,
    "start_time": "2024-07-16T16:13:30.774Z"
   },
   {
    "duration": 48,
    "start_time": "2024-07-16T16:13:30.815Z"
   },
   {
    "duration": 99,
    "start_time": "2024-07-16T16:13:30.864Z"
   },
   {
    "duration": 112,
    "start_time": "2024-07-16T16:13:30.965Z"
   },
   {
    "duration": 63,
    "start_time": "2024-07-16T16:13:31.079Z"
   },
   {
    "duration": 69,
    "start_time": "2024-07-16T16:13:31.144Z"
   },
   {
    "duration": 17,
    "start_time": "2024-07-16T16:13:31.214Z"
   },
   {
    "duration": 87,
    "start_time": "2024-07-16T16:13:31.232Z"
   },
   {
    "duration": 120,
    "start_time": "2024-07-16T16:13:31.320Z"
   },
   {
    "duration": 7,
    "start_time": "2024-07-16T16:13:31.442Z"
   },
   {
    "duration": 91,
    "start_time": "2024-07-16T16:13:31.451Z"
   },
   {
    "duration": 92,
    "start_time": "2024-07-16T16:13:31.544Z"
   },
   {
    "duration": 25,
    "start_time": "2024-07-16T16:13:31.637Z"
   },
   {
    "duration": 137,
    "start_time": "2024-07-16T16:13:31.663Z"
   },
   {
    "duration": 90,
    "start_time": "2024-07-16T16:24:47.427Z"
   },
   {
    "duration": 76,
    "start_time": "2024-07-16T16:26:08.430Z"
   },
   {
    "duration": 81,
    "start_time": "2024-07-16T16:26:18.110Z"
   },
   {
    "duration": 110,
    "start_time": "2024-07-16T16:26:29.293Z"
   },
   {
    "duration": 1091,
    "start_time": "2024-07-16T16:29:28.435Z"
   },
   {
    "duration": 175,
    "start_time": "2024-07-16T16:29:29.527Z"
   },
   {
    "duration": 26,
    "start_time": "2024-07-16T16:29:29.704Z"
   },
   {
    "duration": 69,
    "start_time": "2024-07-16T16:29:29.732Z"
   },
   {
    "duration": 11,
    "start_time": "2024-07-16T16:29:29.803Z"
   },
   {
    "duration": 4,
    "start_time": "2024-07-16T16:29:29.816Z"
   },
   {
    "duration": 121,
    "start_time": "2024-07-16T16:29:29.821Z"
   },
   {
    "duration": 4,
    "start_time": "2024-07-16T16:29:29.944Z"
   },
   {
    "duration": 19,
    "start_time": "2024-07-16T16:29:29.949Z"
   },
   {
    "duration": 7,
    "start_time": "2024-07-16T16:29:29.969Z"
   },
   {
    "duration": 138,
    "start_time": "2024-07-16T16:29:29.977Z"
   },
   {
    "duration": 25,
    "start_time": "2024-07-16T16:29:30.116Z"
   },
   {
    "duration": 109,
    "start_time": "2024-07-16T16:29:30.142Z"
   },
   {
    "duration": 80,
    "start_time": "2024-07-16T16:29:30.253Z"
   },
   {
    "duration": 71,
    "start_time": "2024-07-16T16:29:30.335Z"
   },
   {
    "duration": 93,
    "start_time": "2024-07-16T16:29:30.408Z"
   },
   {
    "duration": 59,
    "start_time": "2024-07-16T16:29:30.503Z"
   },
   {
    "duration": 57,
    "start_time": "2024-07-16T16:29:30.563Z"
   },
   {
    "duration": 433,
    "start_time": "2024-07-16T16:29:30.621Z"
   },
   {
    "duration": 340,
    "start_time": "2024-07-16T16:29:31.055Z"
   },
   {
    "duration": 509,
    "start_time": "2024-07-16T16:29:31.397Z"
   },
   {
    "duration": 22,
    "start_time": "2024-07-16T16:29:31.907Z"
   },
   {
    "duration": 3,
    "start_time": "2024-07-16T16:29:31.931Z"
   },
   {
    "duration": 313,
    "start_time": "2024-07-16T16:29:31.936Z"
   },
   {
    "duration": 301,
    "start_time": "2024-07-16T16:29:32.251Z"
   },
   {
    "duration": 375,
    "start_time": "2024-07-16T16:29:32.554Z"
   },
   {
    "duration": 6,
    "start_time": "2024-07-16T16:29:32.931Z"
   },
   {
    "duration": 9,
    "start_time": "2024-07-16T16:29:32.938Z"
   },
   {
    "duration": 46,
    "start_time": "2024-07-16T16:29:32.948Z"
   },
   {
    "duration": 28,
    "start_time": "2024-07-16T16:29:32.995Z"
   },
   {
    "duration": 375,
    "start_time": "2024-07-16T16:29:33.024Z"
   },
   {
    "duration": 52,
    "start_time": "2024-07-16T16:29:33.400Z"
   },
   {
    "duration": 324,
    "start_time": "2024-07-16T16:29:33.454Z"
   },
   {
    "duration": 149,
    "start_time": "2024-07-16T16:29:33.784Z"
   },
   {
    "duration": 93,
    "start_time": "2024-07-16T16:29:33.935Z"
   },
   {
    "duration": 5,
    "start_time": "2024-07-16T16:29:34.030Z"
   },
   {
    "duration": 9,
    "start_time": "2024-07-16T16:29:34.036Z"
   },
   {
    "duration": 23,
    "start_time": "2024-07-16T16:29:34.047Z"
   },
   {
    "duration": 10,
    "start_time": "2024-07-16T16:29:34.072Z"
   },
   {
    "duration": 5,
    "start_time": "2024-07-16T16:29:34.083Z"
   },
   {
    "duration": 8,
    "start_time": "2024-07-16T16:29:34.091Z"
   },
   {
    "duration": 35,
    "start_time": "2024-07-16T16:29:34.100Z"
   },
   {
    "duration": 8,
    "start_time": "2024-07-16T16:29:34.136Z"
   },
   {
    "duration": 98,
    "start_time": "2024-07-16T16:29:34.145Z"
   },
   {
    "duration": 24,
    "start_time": "2024-07-16T16:29:34.244Z"
   },
   {
    "duration": 27,
    "start_time": "2024-07-16T16:29:34.269Z"
   },
   {
    "duration": 4,
    "start_time": "2024-07-16T16:29:34.297Z"
   },
   {
    "duration": 15,
    "start_time": "2024-07-16T16:29:34.302Z"
   },
   {
    "duration": 102,
    "start_time": "2024-07-16T16:29:34.318Z"
   },
   {
    "duration": 7,
    "start_time": "2024-07-16T16:29:34.422Z"
   },
   {
    "duration": 94,
    "start_time": "2024-07-16T16:29:34.430Z"
   },
   {
    "duration": 88,
    "start_time": "2024-07-16T16:29:34.525Z"
   },
   {
    "duration": 25,
    "start_time": "2024-07-16T16:29:34.614Z"
   },
   {
    "duration": 128,
    "start_time": "2024-07-16T16:29:34.640Z"
   },
   {
    "duration": 48,
    "start_time": "2024-07-17T08:35:48.529Z"
   },
   {
    "duration": 1353,
    "start_time": "2024-07-17T08:40:11.267Z"
   },
   {
    "duration": 669,
    "start_time": "2024-07-17T08:40:12.622Z"
   },
   {
    "duration": 26,
    "start_time": "2024-07-17T08:40:13.293Z"
   },
   {
    "duration": 72,
    "start_time": "2024-07-17T08:40:13.321Z"
   },
   {
    "duration": 12,
    "start_time": "2024-07-17T08:40:13.587Z"
   },
   {
    "duration": 7,
    "start_time": "2024-07-17T08:40:13.798Z"
   },
   {
    "duration": 114,
    "start_time": "2024-07-17T08:40:14.228Z"
   },
   {
    "duration": 4,
    "start_time": "2024-07-17T08:40:14.674Z"
   },
   {
    "duration": 3,
    "start_time": "2024-07-17T08:40:15.111Z"
   },
   {
    "duration": 4,
    "start_time": "2024-07-17T08:40:15.563Z"
   },
   {
    "duration": 156,
    "start_time": "2024-07-17T08:40:15.995Z"
   },
   {
    "duration": 34,
    "start_time": "2024-07-17T08:40:17.755Z"
   },
   {
    "duration": 8,
    "start_time": "2024-07-17T08:40:18.203Z"
   },
   {
    "duration": 4,
    "start_time": "2024-07-17T08:40:18.635Z"
   },
   {
    "duration": 4,
    "start_time": "2024-07-17T08:40:19.322Z"
   },
   {
    "duration": 5,
    "start_time": "2024-07-17T08:40:19.531Z"
   },
   {
    "duration": 4,
    "start_time": "2024-07-17T08:40:19.867Z"
   },
   {
    "duration": 19,
    "start_time": "2024-07-17T08:40:20.347Z"
   },
   {
    "duration": 430,
    "start_time": "2024-07-17T08:40:20.619Z"
   },
   {
    "duration": 405,
    "start_time": "2024-07-17T08:40:22.003Z"
   },
   {
    "duration": 527,
    "start_time": "2024-07-17T08:40:22.410Z"
   },
   {
    "duration": 21,
    "start_time": "2024-07-17T08:40:23.379Z"
   },
   {
    "duration": 4,
    "start_time": "2024-07-17T08:40:23.620Z"
   },
   {
    "duration": 320,
    "start_time": "2024-07-17T08:40:24.307Z"
   },
   {
    "duration": 314,
    "start_time": "2024-07-17T08:40:24.628Z"
   },
   {
    "duration": 373,
    "start_time": "2024-07-17T08:40:24.944Z"
   },
   {
    "duration": 7,
    "start_time": "2024-07-17T08:40:25.906Z"
   },
   {
    "duration": 10,
    "start_time": "2024-07-17T08:40:26.627Z"
   },
   {
    "duration": 41,
    "start_time": "2024-07-17T08:40:27.851Z"
   },
   {
    "duration": 29,
    "start_time": "2024-07-17T08:40:29.275Z"
   },
   {
    "duration": 437,
    "start_time": "2024-07-17T08:40:29.499Z"
   },
   {
    "duration": 56,
    "start_time": "2024-07-17T08:40:30.508Z"
   },
   {
    "duration": 358,
    "start_time": "2024-07-17T08:40:31.291Z"
   },
   {
    "duration": 146,
    "start_time": "2024-07-17T08:40:33.628Z"
   },
   {
    "duration": 95,
    "start_time": "2024-07-17T08:40:34.979Z"
   },
   {
    "duration": 6,
    "start_time": "2024-07-17T08:40:36.755Z"
   },
   {
    "duration": 2,
    "start_time": "2024-07-17T08:40:38.115Z"
   },
   {
    "duration": 6,
    "start_time": "2024-07-17T08:40:39.770Z"
   },
   {
    "duration": 11,
    "start_time": "2024-07-17T08:40:40.603Z"
   },
   {
    "duration": 6,
    "start_time": "2024-07-17T08:40:40.860Z"
   },
   {
    "duration": 5,
    "start_time": "2024-07-17T08:40:41.083Z"
   },
   {
    "duration": 24,
    "start_time": "2024-07-17T08:40:41.307Z"
   },
   {
    "duration": 11,
    "start_time": "2024-07-17T08:40:41.900Z"
   },
   {
    "duration": 70,
    "start_time": "2024-07-17T08:40:42.139Z"
   },
   {
    "duration": 8,
    "start_time": "2024-07-17T08:40:43.803Z"
   },
   {
    "duration": 193,
    "start_time": "2024-07-17T08:40:44.765Z"
   },
   {
    "duration": 197,
    "start_time": "2024-07-17T08:41:14.158Z"
   },
   {
    "duration": 208,
    "start_time": "2024-07-17T08:41:24.589Z"
   },
   {
    "duration": 24,
    "start_time": "2024-07-17T08:43:07.638Z"
   },
   {
    "duration": 19,
    "start_time": "2024-07-17T08:43:08.374Z"
   },
   {
    "duration": 4,
    "start_time": "2024-07-17T08:43:08.853Z"
   },
   {
    "duration": 5,
    "start_time": "2024-07-17T08:48:37.043Z"
   },
   {
    "duration": 127,
    "start_time": "2024-07-17T08:48:37.498Z"
   },
   {
    "duration": 1199,
    "start_time": "2024-07-17T08:49:14.651Z"
   },
   {
    "duration": 189,
    "start_time": "2024-07-17T08:49:15.853Z"
   },
   {
    "duration": 44,
    "start_time": "2024-07-17T08:49:16.045Z"
   },
   {
    "duration": 81,
    "start_time": "2024-07-17T08:49:16.091Z"
   },
   {
    "duration": 12,
    "start_time": "2024-07-17T08:49:16.835Z"
   },
   {
    "duration": 5,
    "start_time": "2024-07-17T08:49:17.011Z"
   },
   {
    "duration": 122,
    "start_time": "2024-07-17T08:49:17.412Z"
   },
   {
    "duration": 5,
    "start_time": "2024-07-17T08:49:17.826Z"
   },
   {
    "duration": 3,
    "start_time": "2024-07-17T08:49:18.211Z"
   },
   {
    "duration": 4,
    "start_time": "2024-07-17T08:49:18.626Z"
   },
   {
    "duration": 135,
    "start_time": "2024-07-17T08:49:19.043Z"
   },
   {
    "duration": 40,
    "start_time": "2024-07-17T08:49:20.739Z"
   },
   {
    "duration": 7,
    "start_time": "2024-07-17T08:49:21.122Z"
   },
   {
    "duration": 4,
    "start_time": "2024-07-17T08:49:21.531Z"
   },
   {
    "duration": 4,
    "start_time": "2024-07-17T08:49:22.155Z"
   },
   {
    "duration": 5,
    "start_time": "2024-07-17T08:49:22.381Z"
   },
   {
    "duration": 4,
    "start_time": "2024-07-17T08:49:22.574Z"
   },
   {
    "duration": 29,
    "start_time": "2024-07-17T08:49:23.003Z"
   },
   {
    "duration": 400,
    "start_time": "2024-07-17T08:49:23.423Z"
   },
   {
    "duration": 340,
    "start_time": "2024-07-17T08:49:24.826Z"
   },
   {
    "duration": 512,
    "start_time": "2024-07-17T08:49:25.168Z"
   },
   {
    "duration": 22,
    "start_time": "2024-07-17T08:49:26.746Z"
   },
   {
    "duration": 4,
    "start_time": "2024-07-17T08:49:27.021Z"
   },
   {
    "duration": 330,
    "start_time": "2024-07-17T08:49:27.763Z"
   },
   {
    "duration": 337,
    "start_time": "2024-07-17T08:49:28.095Z"
   },
   {
    "duration": 372,
    "start_time": "2024-07-17T08:49:28.433Z"
   },
   {
    "duration": 6,
    "start_time": "2024-07-17T08:49:29.379Z"
   },
   {
    "duration": 9,
    "start_time": "2024-07-17T08:49:30.067Z"
   },
   {
    "duration": 32,
    "start_time": "2024-07-17T08:49:31.270Z"
   },
   {
    "duration": 28,
    "start_time": "2024-07-17T08:49:32.642Z"
   },
   {
    "duration": 372,
    "start_time": "2024-07-17T08:49:32.884Z"
   },
   {
    "duration": 84,
    "start_time": "2024-07-17T08:49:33.803Z"
   },
   {
    "duration": 340,
    "start_time": "2024-07-17T08:49:35.802Z"
   },
   {
    "duration": 150,
    "start_time": "2024-07-17T08:49:37.611Z"
   },
   {
    "duration": 87,
    "start_time": "2024-07-17T08:49:38.939Z"
   },
   {
    "duration": 5,
    "start_time": "2024-07-17T08:49:40.226Z"
   },
   {
    "duration": 3,
    "start_time": "2024-07-17T08:49:41.459Z"
   },
   {
    "duration": 3,
    "start_time": "2024-07-17T08:49:42.931Z"
   },
   {
    "duration": 14,
    "start_time": "2024-07-17T08:49:43.925Z"
   },
   {
    "duration": 5,
    "start_time": "2024-07-17T08:49:44.211Z"
   },
   {
    "duration": 5,
    "start_time": "2024-07-17T08:49:44.549Z"
   },
   {
    "duration": 22,
    "start_time": "2024-07-17T08:49:45.210Z"
   },
   {
    "duration": 10,
    "start_time": "2024-07-17T08:49:45.683Z"
   },
   {
    "duration": 69,
    "start_time": "2024-07-17T08:49:46.477Z"
   },
   {
    "duration": 11,
    "start_time": "2024-07-17T08:49:48.347Z"
   },
   {
    "duration": 198,
    "start_time": "2024-07-17T08:49:48.875Z"
   },
   {
    "duration": 23,
    "start_time": "2024-07-17T08:49:51.371Z"
   },
   {
    "duration": 25,
    "start_time": "2024-07-17T08:49:52.163Z"
   },
   {
    "duration": 4,
    "start_time": "2024-07-17T08:49:52.627Z"
   },
   {
    "duration": 5,
    "start_time": "2024-07-17T08:49:54.147Z"
   },
   {
    "duration": 129,
    "start_time": "2024-07-17T08:49:54.758Z"
   },
   {
    "duration": 86,
    "start_time": "2024-07-17T08:50:52.834Z"
   },
   {
    "duration": 11,
    "start_time": "2024-07-17T08:51:09.292Z"
   },
   {
    "duration": 78,
    "start_time": "2024-07-17T08:51:10.027Z"
   },
   {
    "duration": 86,
    "start_time": "2024-07-17T08:51:11.830Z"
   },
   {
    "duration": 27,
    "start_time": "2024-07-17T08:51:13.685Z"
   },
   {
    "duration": 116,
    "start_time": "2024-07-17T08:51:14.021Z"
   },
   {
    "duration": 1173,
    "start_time": "2024-07-17T09:04:30.434Z"
   },
   {
    "duration": 175,
    "start_time": "2024-07-17T09:04:33.521Z"
   },
   {
    "duration": 27,
    "start_time": "2024-07-17T09:04:33.729Z"
   },
   {
    "duration": 62,
    "start_time": "2024-07-17T09:04:34.249Z"
   },
   {
    "duration": 11,
    "start_time": "2024-07-17T09:04:35.658Z"
   },
   {
    "duration": 5,
    "start_time": "2024-07-17T09:04:35.914Z"
   },
   {
    "duration": 101,
    "start_time": "2024-07-17T09:04:37.482Z"
   },
   {
    "duration": 5,
    "start_time": "2024-07-17T09:04:37.961Z"
   },
   {
    "duration": 3,
    "start_time": "2024-07-17T09:04:38.458Z"
   },
   {
    "duration": 3,
    "start_time": "2024-07-17T09:04:39.130Z"
   },
   {
    "duration": 148,
    "start_time": "2024-07-17T09:04:40.177Z"
   },
   {
    "duration": 26,
    "start_time": "2024-07-17T09:04:43.109Z"
   },
   {
    "duration": 9,
    "start_time": "2024-07-17T09:04:43.522Z"
   },
   {
    "duration": 3,
    "start_time": "2024-07-17T09:04:43.986Z"
   },
   {
    "duration": 4,
    "start_time": "2024-07-17T09:04:44.626Z"
   },
   {
    "duration": 4,
    "start_time": "2024-07-17T09:04:44.818Z"
   },
   {
    "duration": 3,
    "start_time": "2024-07-17T09:04:45.026Z"
   },
   {
    "duration": 22,
    "start_time": "2024-07-17T09:04:45.462Z"
   },
   {
    "duration": 431,
    "start_time": "2024-07-17T09:04:45.654Z"
   },
   {
    "duration": 360,
    "start_time": "2024-07-17T09:04:46.842Z"
   },
   {
    "duration": 508,
    "start_time": "2024-07-17T09:04:47.204Z"
   },
   {
    "duration": 23,
    "start_time": "2024-07-17T09:04:48.122Z"
   },
   {
    "duration": 4,
    "start_time": "2024-07-17T09:04:48.363Z"
   },
   {
    "duration": 323,
    "start_time": "2024-07-17T09:04:49.002Z"
   },
   {
    "duration": 301,
    "start_time": "2024-07-17T09:04:49.327Z"
   },
   {
    "duration": 396,
    "start_time": "2024-07-17T09:04:49.630Z"
   },
   {
    "duration": 7,
    "start_time": "2024-07-17T09:04:50.515Z"
   },
   {
    "duration": 10,
    "start_time": "2024-07-17T09:04:51.186Z"
   },
   {
    "duration": 31,
    "start_time": "2024-07-17T09:04:52.377Z"
   },
   {
    "duration": 29,
    "start_time": "2024-07-17T09:04:53.753Z"
   },
   {
    "duration": 393,
    "start_time": "2024-07-17T09:04:53.980Z"
   },
   {
    "duration": 54,
    "start_time": "2024-07-17T09:04:54.929Z"
   },
   {
    "duration": 311,
    "start_time": "2024-07-17T09:04:56.650Z"
   },
   {
    "duration": 165,
    "start_time": "2024-07-17T09:04:57.755Z"
   },
   {
    "duration": 92,
    "start_time": "2024-07-17T09:04:58.850Z"
   },
   {
    "duration": 5,
    "start_time": "2024-07-17T09:05:00.101Z"
   },
   {
    "duration": 4,
    "start_time": "2024-07-17T09:05:00.978Z"
   },
   {
    "duration": 4,
    "start_time": "2024-07-17T09:05:02.259Z"
   },
   {
    "duration": 12,
    "start_time": "2024-07-17T09:05:02.979Z"
   },
   {
    "duration": 6,
    "start_time": "2024-07-17T09:05:03.188Z"
   },
   {
    "duration": 4,
    "start_time": "2024-07-17T09:05:03.429Z"
   },
   {
    "duration": 23,
    "start_time": "2024-07-17T09:05:03.653Z"
   },
   {
    "duration": 9,
    "start_time": "2024-07-17T09:05:03.926Z"
   },
   {
    "duration": 69,
    "start_time": "2024-07-17T09:05:04.243Z"
   },
   {
    "duration": 8,
    "start_time": "2024-07-17T09:05:05.547Z"
   },
   {
    "duration": 214,
    "start_time": "2024-07-17T09:05:05.884Z"
   },
   {
    "duration": 23,
    "start_time": "2024-07-17T09:05:08.858Z"
   },
   {
    "duration": 29,
    "start_time": "2024-07-17T09:05:09.482Z"
   },
   {
    "duration": 4,
    "start_time": "2024-07-17T09:05:09.915Z"
   },
   {
    "duration": 4,
    "start_time": "2024-07-17T09:05:12.355Z"
   },
   {
    "duration": 93,
    "start_time": "2024-07-17T09:05:12.786Z"
   },
   {
    "duration": 9,
    "start_time": "2024-07-17T09:05:14.226Z"
   },
   {
    "duration": 88,
    "start_time": "2024-07-17T09:05:16.516Z"
   },
   {
    "duration": 81,
    "start_time": "2024-07-17T09:05:16.970Z"
   },
   {
    "duration": 27,
    "start_time": "2024-07-17T09:05:17.419Z"
   },
   {
    "duration": 124,
    "start_time": "2024-07-17T09:05:17.659Z"
   },
   {
    "duration": 1277,
    "start_time": "2024-07-18T07:43:41.632Z"
   },
   {
    "duration": 744,
    "start_time": "2024-07-18T07:43:42.911Z"
   },
   {
    "duration": 24,
    "start_time": "2024-07-18T07:43:43.656Z"
   },
   {
    "duration": 64,
    "start_time": "2024-07-18T07:43:43.681Z"
   },
   {
    "duration": 54,
    "start_time": "2024-07-18T07:43:43.747Z"
   },
   {
    "duration": 5,
    "start_time": "2024-07-18T07:43:43.802Z"
   },
   {
    "duration": 102,
    "start_time": "2024-07-18T07:43:43.808Z"
   },
   {
    "duration": 4,
    "start_time": "2024-07-18T07:43:43.911Z"
   },
   {
    "duration": 6,
    "start_time": "2024-07-18T07:43:43.917Z"
   },
   {
    "duration": 187,
    "start_time": "2024-07-18T07:43:43.924Z"
   },
   {
    "duration": 142,
    "start_time": "2024-07-18T07:43:44.112Z"
   },
   {
    "duration": 19,
    "start_time": "2024-07-18T07:43:44.255Z"
   },
   {
    "duration": 27,
    "start_time": "2024-07-18T07:43:44.276Z"
   },
   {
    "duration": 3,
    "start_time": "2024-07-18T07:43:44.306Z"
   },
   {
    "duration": 23,
    "start_time": "2024-07-18T07:43:44.311Z"
   },
   {
    "duration": 12,
    "start_time": "2024-07-18T07:43:44.335Z"
   },
   {
    "duration": 11,
    "start_time": "2024-07-18T07:43:44.348Z"
   },
   {
    "duration": 39,
    "start_time": "2024-07-18T07:43:44.360Z"
   },
   {
    "duration": 393,
    "start_time": "2024-07-18T07:43:44.401Z"
   },
   {
    "duration": 391,
    "start_time": "2024-07-18T07:43:44.802Z"
   },
   {
    "duration": 474,
    "start_time": "2024-07-18T07:43:45.201Z"
   },
   {
    "duration": 30,
    "start_time": "2024-07-18T07:43:45.676Z"
   },
   {
    "duration": 41,
    "start_time": "2024-07-18T07:43:45.707Z"
   },
   {
    "duration": 288,
    "start_time": "2024-07-18T07:43:45.749Z"
   },
   {
    "duration": 334,
    "start_time": "2024-07-18T07:43:46.039Z"
   },
   {
    "duration": 354,
    "start_time": "2024-07-18T07:43:46.375Z"
   },
   {
    "duration": 6,
    "start_time": "2024-07-18T07:43:46.730Z"
   },
   {
    "duration": 27,
    "start_time": "2024-07-18T07:43:46.737Z"
   },
   {
    "duration": 63,
    "start_time": "2024-07-18T07:43:46.765Z"
   },
   {
    "duration": 22,
    "start_time": "2024-07-18T07:43:46.829Z"
   },
   {
    "duration": 427,
    "start_time": "2024-07-18T07:43:46.853Z"
   },
   {
    "duration": 59,
    "start_time": "2024-07-18T07:43:47.283Z"
   },
   {
    "duration": 332,
    "start_time": "2024-07-18T07:43:47.343Z"
   },
   {
    "duration": 151,
    "start_time": "2024-07-18T07:43:47.676Z"
   },
   {
    "duration": 88,
    "start_time": "2024-07-18T07:43:47.828Z"
   },
   {
    "duration": 5,
    "start_time": "2024-07-18T07:43:47.918Z"
   },
   {
    "duration": 143,
    "start_time": "2024-07-18T07:43:47.924Z"
   },
   {
    "duration": 52,
    "start_time": "2024-07-18T07:43:48.068Z"
   },
   {
    "duration": 13,
    "start_time": "2024-07-18T07:43:48.121Z"
   },
   {
    "duration": 7,
    "start_time": "2024-07-18T07:43:48.135Z"
   },
   {
    "duration": 4,
    "start_time": "2024-07-18T07:43:48.145Z"
   },
   {
    "duration": 39,
    "start_time": "2024-07-18T07:43:48.150Z"
   },
   {
    "duration": 22,
    "start_time": "2024-07-18T07:43:48.190Z"
   },
   {
    "duration": 49,
    "start_time": "2024-07-18T07:43:48.214Z"
   },
   {
    "duration": 8,
    "start_time": "2024-07-18T07:43:48.264Z"
   },
   {
    "duration": 148,
    "start_time": "2024-07-18T07:43:48.273Z"
   },
   {
    "duration": 18,
    "start_time": "2024-07-18T07:43:48.422Z"
   },
   {
    "duration": 26,
    "start_time": "2024-07-18T07:43:48.441Z"
   },
   {
    "duration": 10,
    "start_time": "2024-07-18T07:43:48.468Z"
   },
   {
    "duration": 21,
    "start_time": "2024-07-18T07:43:48.479Z"
   },
   {
    "duration": 176,
    "start_time": "2024-07-18T07:43:48.501Z"
   },
   {
    "duration": 9,
    "start_time": "2024-07-18T07:43:48.678Z"
   },
   {
    "duration": 79,
    "start_time": "2024-07-18T07:43:48.688Z"
   },
   {
    "duration": 77,
    "start_time": "2024-07-18T07:43:48.768Z"
   },
   {
    "duration": 24,
    "start_time": "2024-07-18T07:43:48.846Z"
   },
   {
    "duration": 116,
    "start_time": "2024-07-18T07:43:48.871Z"
   },
   {
    "duration": 1080,
    "start_time": "2024-07-18T07:44:55.806Z"
   },
   {
    "duration": 146,
    "start_time": "2024-07-18T07:44:56.887Z"
   },
   {
    "duration": 23,
    "start_time": "2024-07-18T07:44:57.034Z"
   },
   {
    "duration": 116,
    "start_time": "2024-07-18T07:44:57.059Z"
   },
   {
    "duration": 12,
    "start_time": "2024-07-18T07:44:57.177Z"
   },
   {
    "duration": 22,
    "start_time": "2024-07-18T07:44:57.191Z"
   },
   {
    "duration": 125,
    "start_time": "2024-07-18T07:44:57.215Z"
   },
   {
    "duration": 4,
    "start_time": "2024-07-18T07:44:57.342Z"
   },
   {
    "duration": 29,
    "start_time": "2024-07-18T07:44:57.347Z"
   },
   {
    "duration": 25,
    "start_time": "2024-07-18T07:44:57.377Z"
   },
   {
    "duration": 150,
    "start_time": "2024-07-18T07:44:57.404Z"
   },
   {
    "duration": 19,
    "start_time": "2024-07-18T07:44:57.556Z"
   },
   {
    "duration": 176,
    "start_time": "2024-07-18T07:44:57.577Z"
   },
   {
    "duration": 17,
    "start_time": "2024-07-18T07:44:57.756Z"
   },
   {
    "duration": 27,
    "start_time": "2024-07-18T07:44:57.774Z"
   },
   {
    "duration": 31,
    "start_time": "2024-07-18T07:44:57.802Z"
   },
   {
    "duration": 45,
    "start_time": "2024-07-18T07:44:57.834Z"
   },
   {
    "duration": 34,
    "start_time": "2024-07-18T07:44:57.880Z"
   },
   {
    "duration": 371,
    "start_time": "2024-07-18T07:44:57.915Z"
   },
   {
    "duration": 318,
    "start_time": "2024-07-18T07:44:58.287Z"
   },
   {
    "duration": 428,
    "start_time": "2024-07-18T07:44:58.607Z"
   },
   {
    "duration": 25,
    "start_time": "2024-07-18T07:44:59.046Z"
   },
   {
    "duration": 6,
    "start_time": "2024-07-18T07:44:59.072Z"
   },
   {
    "duration": 288,
    "start_time": "2024-07-18T07:44:59.079Z"
   },
   {
    "duration": 290,
    "start_time": "2024-07-18T07:44:59.369Z"
   },
   {
    "duration": 378,
    "start_time": "2024-07-18T07:44:59.661Z"
   },
   {
    "duration": 7,
    "start_time": "2024-07-18T07:45:00.041Z"
   },
   {
    "duration": 193,
    "start_time": "2024-07-18T07:45:00.049Z"
   },
   {
    "duration": 86,
    "start_time": "2024-07-18T07:45:00.244Z"
   },
   {
    "duration": 158,
    "start_time": "2024-07-18T07:45:00.331Z"
   },
   {
    "duration": 581,
    "start_time": "2024-07-18T07:45:00.491Z"
   },
   {
    "duration": 69,
    "start_time": "2024-07-18T07:45:01.074Z"
   },
   {
    "duration": 339,
    "start_time": "2024-07-18T07:45:01.144Z"
   },
   {
    "duration": 152,
    "start_time": "2024-07-18T07:45:01.484Z"
   },
   {
    "duration": 84,
    "start_time": "2024-07-18T07:45:01.637Z"
   },
   {
    "duration": 48,
    "start_time": "2024-07-18T07:45:01.722Z"
   },
   {
    "duration": 16,
    "start_time": "2024-07-18T07:45:01.771Z"
   },
   {
    "duration": 20,
    "start_time": "2024-07-18T07:45:01.789Z"
   },
   {
    "duration": 26,
    "start_time": "2024-07-18T07:45:01.811Z"
   },
   {
    "duration": 19,
    "start_time": "2024-07-18T07:45:01.838Z"
   },
   {
    "duration": 17,
    "start_time": "2024-07-18T07:45:01.861Z"
   },
   {
    "duration": 50,
    "start_time": "2024-07-18T07:45:01.879Z"
   },
   {
    "duration": 278,
    "start_time": "2024-07-18T07:45:01.930Z"
   },
   {
    "duration": 146,
    "start_time": "2024-07-18T07:45:02.209Z"
   },
   {
    "duration": 10,
    "start_time": "2024-07-18T07:45:02.356Z"
   },
   {
    "duration": 158,
    "start_time": "2024-07-18T07:45:02.368Z"
   },
   {
    "duration": 20,
    "start_time": "2024-07-18T07:45:02.528Z"
   },
   {
    "duration": 58,
    "start_time": "2024-07-18T07:45:02.549Z"
   },
   {
    "duration": 4,
    "start_time": "2024-07-18T07:45:02.609Z"
   },
   {
    "duration": 14,
    "start_time": "2024-07-18T07:45:02.614Z"
   },
   {
    "duration": 99,
    "start_time": "2024-07-18T07:45:02.630Z"
   },
   {
    "duration": 8,
    "start_time": "2024-07-18T07:45:02.730Z"
   },
   {
    "duration": 81,
    "start_time": "2024-07-18T07:45:02.739Z"
   },
   {
    "duration": 65,
    "start_time": "2024-07-18T07:45:02.821Z"
   },
   {
    "duration": 23,
    "start_time": "2024-07-18T07:45:02.902Z"
   },
   {
    "duration": 123,
    "start_time": "2024-07-18T07:45:02.927Z"
   },
   {
    "duration": 1138,
    "start_time": "2024-07-18T08:00:18.367Z"
   },
   {
    "duration": 143,
    "start_time": "2024-07-18T08:00:19.507Z"
   },
   {
    "duration": 23,
    "start_time": "2024-07-18T08:00:19.651Z"
   },
   {
    "duration": 201,
    "start_time": "2024-07-18T08:00:19.675Z"
   },
   {
    "duration": 43,
    "start_time": "2024-07-18T08:00:19.879Z"
   },
   {
    "duration": 11,
    "start_time": "2024-07-18T08:00:19.924Z"
   },
   {
    "duration": 110,
    "start_time": "2024-07-18T08:00:19.937Z"
   },
   {
    "duration": 142,
    "start_time": "2024-07-18T08:00:20.048Z"
   },
   {
    "duration": 55,
    "start_time": "2024-07-18T08:00:20.191Z"
   },
   {
    "duration": 42,
    "start_time": "2024-07-18T08:00:20.248Z"
   },
   {
    "duration": 147,
    "start_time": "2024-07-18T08:00:20.292Z"
   },
   {
    "duration": 19,
    "start_time": "2024-07-18T08:00:20.441Z"
   },
   {
    "duration": 46,
    "start_time": "2024-07-18T08:00:20.461Z"
   },
   {
    "duration": 18,
    "start_time": "2024-07-18T08:00:20.509Z"
   },
   {
    "duration": 24,
    "start_time": "2024-07-18T08:00:20.528Z"
   },
   {
    "duration": 13,
    "start_time": "2024-07-18T08:00:20.553Z"
   },
   {
    "duration": 57,
    "start_time": "2024-07-18T08:00:20.567Z"
   },
   {
    "duration": 90,
    "start_time": "2024-07-18T08:00:20.626Z"
   },
   {
    "duration": 375,
    "start_time": "2024-07-18T08:00:20.717Z"
   },
   {
    "duration": 328,
    "start_time": "2024-07-18T08:00:21.093Z"
   },
   {
    "duration": 462,
    "start_time": "2024-07-18T08:00:21.422Z"
   },
   {
    "duration": 32,
    "start_time": "2024-07-18T08:00:21.885Z"
   },
   {
    "duration": 3,
    "start_time": "2024-07-18T08:00:21.919Z"
   },
   {
    "duration": 282,
    "start_time": "2024-07-18T08:00:21.924Z"
   },
   {
    "duration": 269,
    "start_time": "2024-07-18T08:00:22.208Z"
   },
   {
    "duration": 367,
    "start_time": "2024-07-18T08:00:22.478Z"
   },
   {
    "duration": 6,
    "start_time": "2024-07-18T08:00:22.846Z"
   },
   {
    "duration": 10,
    "start_time": "2024-07-18T08:00:22.853Z"
   },
   {
    "duration": 47,
    "start_time": "2024-07-18T08:00:22.864Z"
   },
   {
    "duration": 22,
    "start_time": "2024-07-18T08:00:22.912Z"
   },
   {
    "duration": 399,
    "start_time": "2024-07-18T08:00:22.936Z"
   },
   {
    "duration": 51,
    "start_time": "2024-07-18T08:00:23.336Z"
   },
   {
    "duration": 292,
    "start_time": "2024-07-18T08:00:23.401Z"
   },
   {
    "duration": 147,
    "start_time": "2024-07-18T08:00:23.694Z"
   },
   {
    "duration": 85,
    "start_time": "2024-07-18T08:00:23.843Z"
   },
   {
    "duration": 5,
    "start_time": "2024-07-18T08:00:23.930Z"
   },
   {
    "duration": 38,
    "start_time": "2024-07-18T08:00:23.937Z"
   },
   {
    "duration": 147,
    "start_time": "2024-07-18T08:00:23.977Z"
   },
   {
    "duration": 72,
    "start_time": "2024-07-18T08:00:24.126Z"
   },
   {
    "duration": 12,
    "start_time": "2024-07-18T08:00:24.199Z"
   },
   {
    "duration": 5,
    "start_time": "2024-07-18T08:00:24.215Z"
   },
   {
    "duration": 19,
    "start_time": "2024-07-18T08:00:24.222Z"
   },
   {
    "duration": 20,
    "start_time": "2024-07-18T08:00:24.243Z"
   },
   {
    "duration": 82,
    "start_time": "2024-07-18T08:00:24.264Z"
   },
   {
    "duration": 8,
    "start_time": "2024-07-18T08:00:24.347Z"
   },
   {
    "duration": 146,
    "start_time": "2024-07-18T08:00:24.356Z"
   },
   {
    "duration": 18,
    "start_time": "2024-07-18T08:00:24.503Z"
   },
   {
    "duration": 30,
    "start_time": "2024-07-18T08:00:24.523Z"
   },
   {
    "duration": 4,
    "start_time": "2024-07-18T08:00:24.554Z"
   },
   {
    "duration": 14,
    "start_time": "2024-07-18T08:00:24.559Z"
   },
   {
    "duration": 87,
    "start_time": "2024-07-18T08:00:24.575Z"
   },
   {
    "duration": 32,
    "start_time": "2024-07-18T08:00:24.663Z"
   },
   {
    "duration": 68,
    "start_time": "2024-07-18T08:00:24.697Z"
   },
   {
    "duration": 76,
    "start_time": "2024-07-18T08:00:24.766Z"
   },
   {
    "duration": 24,
    "start_time": "2024-07-18T08:00:24.844Z"
   },
   {
    "duration": 116,
    "start_time": "2024-07-18T08:00:24.869Z"
   },
   {
    "duration": 1320,
    "start_time": "2024-07-18T08:20:22.885Z"
   },
   {
    "duration": 908,
    "start_time": "2024-07-18T08:20:24.207Z"
   },
   {
    "duration": 29,
    "start_time": "2024-07-18T08:20:25.117Z"
   },
   {
    "duration": 65,
    "start_time": "2024-07-18T08:20:25.147Z"
   },
   {
    "duration": 12,
    "start_time": "2024-07-18T08:20:25.389Z"
   },
   {
    "duration": 5,
    "start_time": "2024-07-18T08:20:25.614Z"
   },
   {
    "duration": 112,
    "start_time": "2024-07-18T08:20:26.101Z"
   },
   {
    "duration": 5,
    "start_time": "2024-07-18T08:20:26.528Z"
   },
   {
    "duration": 4,
    "start_time": "2024-07-18T08:20:26.974Z"
   },
   {
    "duration": 4,
    "start_time": "2024-07-18T08:20:27.437Z"
   },
   {
    "duration": 141,
    "start_time": "2024-07-18T08:20:27.869Z"
   },
   {
    "duration": 26,
    "start_time": "2024-07-18T08:20:32.157Z"
   },
   {
    "duration": 6,
    "start_time": "2024-07-18T08:20:32.621Z"
   },
   {
    "duration": 3,
    "start_time": "2024-07-18T08:20:33.085Z"
   },
   {
    "duration": 4,
    "start_time": "2024-07-18T08:20:33.773Z"
   },
   {
    "duration": 4,
    "start_time": "2024-07-18T08:20:33.997Z"
   },
   {
    "duration": 3,
    "start_time": "2024-07-18T08:20:34.225Z"
   },
   {
    "duration": 21,
    "start_time": "2024-07-18T08:20:34.653Z"
   },
   {
    "duration": 433,
    "start_time": "2024-07-18T08:20:34.878Z"
   },
   {
    "duration": 392,
    "start_time": "2024-07-18T08:20:36.277Z"
   },
   {
    "duration": 511,
    "start_time": "2024-07-18T08:20:36.670Z"
   },
   {
    "duration": 23,
    "start_time": "2024-07-18T08:20:37.709Z"
   },
   {
    "duration": 4,
    "start_time": "2024-07-18T08:20:37.950Z"
   },
   {
    "duration": 324,
    "start_time": "2024-07-18T08:20:38.910Z"
   },
   {
    "duration": 294,
    "start_time": "2024-07-18T08:20:39.293Z"
   },
   {
    "duration": 386,
    "start_time": "2024-07-18T08:20:39.949Z"
   },
   {
    "duration": 6,
    "start_time": "2024-07-18T08:20:40.957Z"
   },
   {
    "duration": 10,
    "start_time": "2024-07-18T08:20:42.102Z"
   },
   {
    "duration": 32,
    "start_time": "2024-07-18T08:20:43.701Z"
   },
   {
    "duration": 29,
    "start_time": "2024-07-18T08:20:45.302Z"
   },
   {
    "duration": 428,
    "start_time": "2024-07-18T08:20:45.551Z"
   },
   {
    "duration": 54,
    "start_time": "2024-07-18T08:20:46.798Z"
   },
   {
    "duration": 328,
    "start_time": "2024-07-18T08:20:48.245Z"
   },
   {
    "duration": 151,
    "start_time": "2024-07-18T08:20:50.565Z"
   },
   {
    "duration": 85,
    "start_time": "2024-07-18T08:20:51.990Z"
   },
   {
    "duration": 5,
    "start_time": "2024-07-18T08:20:53.710Z"
   },
   {
    "duration": 3,
    "start_time": "2024-07-18T08:20:54.798Z"
   },
   {
    "duration": 3,
    "start_time": "2024-07-18T08:20:56.430Z"
   },
   {
    "duration": 11,
    "start_time": "2024-07-18T08:20:57.469Z"
   },
   {
    "duration": 5,
    "start_time": "2024-07-18T08:20:57.774Z"
   },
   {
    "duration": 5,
    "start_time": "2024-07-18T08:20:58.096Z"
   },
   {
    "duration": 22,
    "start_time": "2024-07-18T08:20:58.494Z"
   },
   {
    "duration": 9,
    "start_time": "2024-07-18T08:20:58.814Z"
   },
   {
    "duration": 72,
    "start_time": "2024-07-18T08:20:59.086Z"
   },
   {
    "duration": 8,
    "start_time": "2024-07-18T08:21:01.497Z"
   },
   {
    "duration": 204,
    "start_time": "2024-07-18T08:21:01.830Z"
   },
   {
    "duration": 26,
    "start_time": "2024-07-18T08:21:05.101Z"
   },
   {
    "duration": 19,
    "start_time": "2024-07-18T08:21:06.374Z"
   },
   {
    "duration": 4,
    "start_time": "2024-07-18T08:21:06.999Z"
   },
   {
    "duration": 4,
    "start_time": "2024-07-18T08:21:08.728Z"
   },
   {
    "duration": 96,
    "start_time": "2024-07-18T08:21:09.382Z"
   },
   {
    "duration": 9,
    "start_time": "2024-07-18T08:21:11.774Z"
   },
   {
    "duration": 88,
    "start_time": "2024-07-18T08:21:13.477Z"
   },
   {
    "duration": 79,
    "start_time": "2024-07-18T08:21:14.821Z"
   },
   {
    "duration": 41,
    "start_time": "2024-07-18T08:21:16.950Z"
   },
   {
    "duration": 130,
    "start_time": "2024-07-18T08:21:17.286Z"
   },
   {
    "duration": 1179,
    "start_time": "2024-07-18T08:28:07.557Z"
   },
   {
    "duration": 181,
    "start_time": "2024-07-18T08:28:08.737Z"
   },
   {
    "duration": 30,
    "start_time": "2024-07-18T08:28:08.919Z"
   },
   {
    "duration": 79,
    "start_time": "2024-07-18T08:28:08.950Z"
   },
   {
    "duration": 12,
    "start_time": "2024-07-18T08:28:09.892Z"
   },
   {
    "duration": 4,
    "start_time": "2024-07-18T08:28:10.117Z"
   },
   {
    "duration": 111,
    "start_time": "2024-07-18T08:28:10.597Z"
   },
   {
    "duration": 4,
    "start_time": "2024-07-18T08:28:11.054Z"
   },
   {
    "duration": 3,
    "start_time": "2024-07-18T08:28:11.469Z"
   },
   {
    "duration": 4,
    "start_time": "2024-07-18T08:28:11.902Z"
   },
   {
    "duration": 144,
    "start_time": "2024-07-18T08:28:12.333Z"
   },
   {
    "duration": 27,
    "start_time": "2024-07-18T08:28:14.020Z"
   },
   {
    "duration": 8,
    "start_time": "2024-07-18T08:28:14.453Z"
   },
   {
    "duration": 3,
    "start_time": "2024-07-18T08:28:14.901Z"
   },
   {
    "duration": 4,
    "start_time": "2024-07-18T08:28:15.541Z"
   },
   {
    "duration": 6,
    "start_time": "2024-07-18T08:28:15.748Z"
   },
   {
    "duration": 3,
    "start_time": "2024-07-18T08:28:15.924Z"
   },
   {
    "duration": 20,
    "start_time": "2024-07-18T08:28:16.343Z"
   },
   {
    "duration": 421,
    "start_time": "2024-07-18T08:28:16.567Z"
   },
   {
    "duration": 365,
    "start_time": "2024-07-18T08:28:17.805Z"
   },
   {
    "duration": 528,
    "start_time": "2024-07-18T08:28:18.173Z"
   },
   {
    "duration": 23,
    "start_time": "2024-07-18T08:28:19.101Z"
   },
   {
    "duration": 4,
    "start_time": "2024-07-18T08:28:19.326Z"
   },
   {
    "duration": 319,
    "start_time": "2024-07-18T08:28:19.964Z"
   },
   {
    "duration": 309,
    "start_time": "2024-07-18T08:28:20.285Z"
   },
   {
    "duration": 434,
    "start_time": "2024-07-18T08:28:20.596Z"
   },
   {
    "duration": 6,
    "start_time": "2024-07-18T08:28:21.405Z"
   },
   {
    "duration": 10,
    "start_time": "2024-07-18T08:28:22.237Z"
   },
   {
    "duration": 31,
    "start_time": "2024-07-18T08:28:26.181Z"
   },
   {
    "duration": 31,
    "start_time": "2024-07-18T08:28:28.004Z"
   },
   {
    "duration": 418,
    "start_time": "2024-07-18T08:28:28.245Z"
   },
   {
    "duration": 57,
    "start_time": "2024-07-18T08:28:29.149Z"
   },
   {
    "duration": 350,
    "start_time": "2024-07-18T08:28:30.029Z"
   },
   {
    "duration": 184,
    "start_time": "2024-07-18T08:28:31.127Z"
   },
   {
    "duration": 91,
    "start_time": "2024-07-18T08:28:32.173Z"
   },
   {
    "duration": 6,
    "start_time": "2024-07-18T08:28:33.261Z"
   },
   {
    "duration": 3,
    "start_time": "2024-07-18T08:28:34.110Z"
   },
   {
    "duration": 4,
    "start_time": "2024-07-18T08:28:35.428Z"
   },
   {
    "duration": 10,
    "start_time": "2024-07-18T08:28:36.087Z"
   },
   {
    "duration": 5,
    "start_time": "2024-07-18T08:28:36.293Z"
   },
   {
    "duration": 4,
    "start_time": "2024-07-18T08:28:36.504Z"
   },
   {
    "duration": 24,
    "start_time": "2024-07-18T08:28:36.725Z"
   },
   {
    "duration": 8,
    "start_time": "2024-07-18T08:28:36.950Z"
   },
   {
    "duration": 72,
    "start_time": "2024-07-18T08:28:37.191Z"
   },
   {
    "duration": 9,
    "start_time": "2024-07-18T08:28:37.860Z"
   },
   {
    "duration": 205,
    "start_time": "2024-07-18T08:28:38.133Z"
   },
   {
    "duration": 26,
    "start_time": "2024-07-18T08:28:43.374Z"
   },
   {
    "duration": 19,
    "start_time": "2024-07-18T08:28:44.253Z"
   },
   {
    "duration": 3,
    "start_time": "2024-07-18T08:28:44.893Z"
   },
   {
    "duration": 4,
    "start_time": "2024-07-18T08:28:47.767Z"
   },
   {
    "duration": 95,
    "start_time": "2024-07-18T08:28:48.262Z"
   },
   {
    "duration": 10,
    "start_time": "2024-07-18T08:28:51.492Z"
   },
   {
    "duration": 78,
    "start_time": "2024-07-18T08:28:52.005Z"
   },
   {
    "duration": 81,
    "start_time": "2024-07-18T08:28:52.486Z"
   },
   {
    "duration": 28,
    "start_time": "2024-07-18T08:28:52.967Z"
   },
   {
    "duration": 123,
    "start_time": "2024-07-18T08:28:53.221Z"
   },
   {
    "duration": 1122,
    "start_time": "2024-07-18T11:44:38.767Z"
   },
   {
    "duration": 146,
    "start_time": "2024-07-18T11:44:39.891Z"
   },
   {
    "duration": 23,
    "start_time": "2024-07-18T11:44:40.038Z"
   },
   {
    "duration": 72,
    "start_time": "2024-07-18T11:44:40.062Z"
   },
   {
    "duration": 11,
    "start_time": "2024-07-18T11:44:40.136Z"
   },
   {
    "duration": 13,
    "start_time": "2024-07-18T11:44:40.149Z"
   },
   {
    "duration": 102,
    "start_time": "2024-07-18T11:44:40.164Z"
   },
   {
    "duration": 5,
    "start_time": "2024-07-18T11:44:40.267Z"
   },
   {
    "duration": 9,
    "start_time": "2024-07-18T11:44:40.273Z"
   },
   {
    "duration": 14,
    "start_time": "2024-07-18T11:44:40.283Z"
   },
   {
    "duration": 148,
    "start_time": "2024-07-18T11:44:40.298Z"
   },
   {
    "duration": 19,
    "start_time": "2024-07-18T11:44:40.447Z"
   },
   {
    "duration": 95,
    "start_time": "2024-07-18T11:44:40.467Z"
   },
   {
    "duration": 3,
    "start_time": "2024-07-18T11:44:40.565Z"
   },
   {
    "duration": 13,
    "start_time": "2024-07-18T11:44:40.569Z"
   },
   {
    "duration": 12,
    "start_time": "2024-07-18T11:44:40.583Z"
   },
   {
    "duration": 20,
    "start_time": "2024-07-18T11:44:40.596Z"
   },
   {
    "duration": 20,
    "start_time": "2024-07-18T11:44:40.617Z"
   },
   {
    "duration": 366,
    "start_time": "2024-07-18T11:44:40.639Z"
   },
   {
    "duration": 354,
    "start_time": "2024-07-18T11:44:41.006Z"
   },
   {
    "duration": 476,
    "start_time": "2024-07-18T11:44:41.362Z"
   },
   {
    "duration": 22,
    "start_time": "2024-07-18T11:44:41.840Z"
   },
   {
    "duration": 66,
    "start_time": "2024-07-18T11:44:41.864Z"
   },
   {
    "duration": 276,
    "start_time": "2024-07-18T11:44:41.932Z"
   },
   {
    "duration": 272,
    "start_time": "2024-07-18T11:44:42.209Z"
   },
   {
    "duration": 375,
    "start_time": "2024-07-18T11:44:42.483Z"
   },
   {
    "duration": 7,
    "start_time": "2024-07-18T11:44:42.860Z"
   },
   {
    "duration": 40,
    "start_time": "2024-07-18T11:44:42.869Z"
   },
   {
    "duration": 39,
    "start_time": "2024-07-18T11:44:42.911Z"
   },
   {
    "duration": 24,
    "start_time": "2024-07-18T11:44:42.951Z"
   },
   {
    "duration": 402,
    "start_time": "2024-07-18T11:44:42.976Z"
   },
   {
    "duration": 72,
    "start_time": "2024-07-18T11:44:43.379Z"
   },
   {
    "duration": 314,
    "start_time": "2024-07-18T11:44:43.453Z"
   },
   {
    "duration": 148,
    "start_time": "2024-07-18T11:44:43.768Z"
   },
   {
    "duration": 85,
    "start_time": "2024-07-18T11:44:43.918Z"
   },
   {
    "duration": 5,
    "start_time": "2024-07-18T11:44:44.004Z"
   },
   {
    "duration": 4,
    "start_time": "2024-07-18T11:44:44.010Z"
   },
   {
    "duration": 17,
    "start_time": "2024-07-18T11:44:44.015Z"
   },
   {
    "duration": 19,
    "start_time": "2024-07-18T11:44:44.033Z"
   },
   {
    "duration": 7,
    "start_time": "2024-07-18T11:44:44.054Z"
   },
   {
    "duration": 5,
    "start_time": "2024-07-18T11:44:44.064Z"
   },
   {
    "duration": 35,
    "start_time": "2024-07-18T11:44:44.070Z"
   },
   {
    "duration": 10,
    "start_time": "2024-07-18T11:44:44.107Z"
   },
   {
    "duration": 49,
    "start_time": "2024-07-18T11:44:44.118Z"
   },
   {
    "duration": 7,
    "start_time": "2024-07-18T11:44:44.168Z"
   },
   {
    "duration": 169,
    "start_time": "2024-07-18T11:44:44.176Z"
   },
   {
    "duration": 19,
    "start_time": "2024-07-18T11:44:44.347Z"
   },
   {
    "duration": 75,
    "start_time": "2024-07-18T11:44:44.368Z"
   },
   {
    "duration": 4,
    "start_time": "2024-07-18T11:44:44.445Z"
   },
   {
    "duration": 23,
    "start_time": "2024-07-18T11:44:44.450Z"
   },
   {
    "duration": 161,
    "start_time": "2024-07-18T11:44:44.474Z"
   },
   {
    "duration": 9,
    "start_time": "2024-07-18T11:44:44.636Z"
   },
   {
    "duration": 86,
    "start_time": "2024-07-18T11:44:44.646Z"
   },
   {
    "duration": 90,
    "start_time": "2024-07-18T11:44:44.734Z"
   },
   {
    "duration": 53,
    "start_time": "2024-07-18T11:44:44.826Z"
   },
   {
    "duration": 110,
    "start_time": "2024-07-18T11:44:44.883Z"
   },
   {
    "duration": 1117,
    "start_time": "2024-07-18T11:45:53.671Z"
   },
   {
    "duration": 146,
    "start_time": "2024-07-18T11:45:54.790Z"
   },
   {
    "duration": 24,
    "start_time": "2024-07-18T11:45:54.938Z"
   },
   {
    "duration": 94,
    "start_time": "2024-07-18T11:45:54.963Z"
   },
   {
    "duration": 13,
    "start_time": "2024-07-18T11:45:55.059Z"
   },
   {
    "duration": 16,
    "start_time": "2024-07-18T11:45:55.074Z"
   },
   {
    "duration": 101,
    "start_time": "2024-07-18T11:45:55.091Z"
   },
   {
    "duration": 9,
    "start_time": "2024-07-18T11:45:55.193Z"
   },
   {
    "duration": 79,
    "start_time": "2024-07-18T11:45:55.203Z"
   },
   {
    "duration": 34,
    "start_time": "2024-07-18T11:45:55.284Z"
   },
   {
    "duration": 137,
    "start_time": "2024-07-18T11:45:55.320Z"
   },
   {
    "duration": 18,
    "start_time": "2024-07-18T11:45:55.459Z"
   },
   {
    "duration": 27,
    "start_time": "2024-07-18T11:45:55.478Z"
   },
   {
    "duration": 16,
    "start_time": "2024-07-18T11:45:55.507Z"
   },
   {
    "duration": 41,
    "start_time": "2024-07-18T11:45:55.525Z"
   },
   {
    "duration": 11,
    "start_time": "2024-07-18T11:45:55.568Z"
   },
   {
    "duration": 34,
    "start_time": "2024-07-18T11:45:55.580Z"
   },
   {
    "duration": 162,
    "start_time": "2024-07-18T11:45:55.616Z"
   },
   {
    "duration": 366,
    "start_time": "2024-07-18T11:45:55.779Z"
   },
   {
    "duration": 423,
    "start_time": "2024-07-18T11:45:56.147Z"
   },
   {
    "duration": 459,
    "start_time": "2024-07-18T11:45:56.572Z"
   },
   {
    "duration": 23,
    "start_time": "2024-07-18T11:45:57.033Z"
   },
   {
    "duration": 4,
    "start_time": "2024-07-18T11:45:57.058Z"
   },
   {
    "duration": 306,
    "start_time": "2024-07-18T11:45:57.063Z"
   },
   {
    "duration": 301,
    "start_time": "2024-07-18T11:45:57.371Z"
   },
   {
    "duration": 373,
    "start_time": "2024-07-18T11:45:57.673Z"
   },
   {
    "duration": 7,
    "start_time": "2024-07-18T11:45:58.048Z"
   },
   {
    "duration": 45,
    "start_time": "2024-07-18T11:45:58.057Z"
   },
   {
    "duration": 54,
    "start_time": "2024-07-18T11:45:58.103Z"
   },
   {
    "duration": 44,
    "start_time": "2024-07-18T11:45:58.159Z"
   },
   {
    "duration": 378,
    "start_time": "2024-07-18T11:45:58.205Z"
   },
   {
    "duration": 62,
    "start_time": "2024-07-18T11:45:58.584Z"
   },
   {
    "duration": 324,
    "start_time": "2024-07-18T11:45:58.648Z"
   },
   {
    "duration": 155,
    "start_time": "2024-07-18T11:45:58.973Z"
   },
   {
    "duration": 84,
    "start_time": "2024-07-18T11:45:59.130Z"
   },
   {
    "duration": 5,
    "start_time": "2024-07-18T11:45:59.216Z"
   },
   {
    "duration": 18,
    "start_time": "2024-07-18T11:45:59.222Z"
   },
   {
    "duration": 31,
    "start_time": "2024-07-18T11:45:59.242Z"
   },
   {
    "duration": 17,
    "start_time": "2024-07-18T11:45:59.275Z"
   },
   {
    "duration": 5,
    "start_time": "2024-07-18T11:45:59.294Z"
   },
   {
    "duration": 4,
    "start_time": "2024-07-18T11:45:59.303Z"
   },
   {
    "duration": 25,
    "start_time": "2024-07-18T11:45:59.308Z"
   },
   {
    "duration": 26,
    "start_time": "2024-07-18T11:45:59.335Z"
   },
   {
    "duration": 74,
    "start_time": "2024-07-18T11:45:59.363Z"
   },
   {
    "duration": 6,
    "start_time": "2024-07-18T11:45:59.438Z"
   },
   {
    "duration": 157,
    "start_time": "2024-07-18T11:45:59.446Z"
   },
   {
    "duration": 19,
    "start_time": "2024-07-18T11:45:59.604Z"
   },
   {
    "duration": 37,
    "start_time": "2024-07-18T11:45:59.625Z"
   },
   {
    "duration": 5,
    "start_time": "2024-07-18T11:45:59.664Z"
   },
   {
    "duration": 10,
    "start_time": "2024-07-18T11:45:59.671Z"
   },
   {
    "duration": 119,
    "start_time": "2024-07-18T11:45:59.683Z"
   },
   {
    "duration": 8,
    "start_time": "2024-07-18T11:45:59.804Z"
   },
   {
    "duration": 92,
    "start_time": "2024-07-18T11:45:59.814Z"
   },
   {
    "duration": 76,
    "start_time": "2024-07-18T11:45:59.908Z"
   },
   {
    "duration": 26,
    "start_time": "2024-07-18T11:46:00.001Z"
   },
   {
    "duration": 158,
    "start_time": "2024-07-18T11:46:00.029Z"
   },
   {
    "duration": 1113,
    "start_time": "2024-07-18T11:46:20.258Z"
   },
   {
    "duration": 173,
    "start_time": "2024-07-18T11:46:21.372Z"
   },
   {
    "duration": 24,
    "start_time": "2024-07-18T11:46:21.546Z"
   },
   {
    "duration": 78,
    "start_time": "2024-07-18T11:46:21.572Z"
   },
   {
    "duration": 11,
    "start_time": "2024-07-18T11:46:21.652Z"
   },
   {
    "duration": 85,
    "start_time": "2024-07-18T11:46:21.664Z"
   },
   {
    "duration": 109,
    "start_time": "2024-07-18T11:46:21.751Z"
   },
   {
    "duration": 4,
    "start_time": "2024-07-18T11:46:21.862Z"
   },
   {
    "duration": 73,
    "start_time": "2024-07-18T11:46:21.868Z"
   },
   {
    "duration": 12,
    "start_time": "2024-07-18T11:46:21.945Z"
   },
   {
    "duration": 157,
    "start_time": "2024-07-18T11:46:21.959Z"
   },
   {
    "duration": 19,
    "start_time": "2024-07-18T11:46:22.117Z"
   },
   {
    "duration": 12,
    "start_time": "2024-07-18T11:46:22.137Z"
   },
   {
    "duration": 6,
    "start_time": "2024-07-18T11:46:22.150Z"
   },
   {
    "duration": 10,
    "start_time": "2024-07-18T11:46:22.158Z"
   },
   {
    "duration": 13,
    "start_time": "2024-07-18T11:46:22.169Z"
   },
   {
    "duration": 18,
    "start_time": "2024-07-18T11:46:22.184Z"
   },
   {
    "duration": 52,
    "start_time": "2024-07-18T11:46:22.204Z"
   },
   {
    "duration": 391,
    "start_time": "2024-07-18T11:46:22.257Z"
   },
   {
    "duration": 336,
    "start_time": "2024-07-18T11:46:22.650Z"
   },
   {
    "duration": 463,
    "start_time": "2024-07-18T11:46:22.987Z"
   },
   {
    "duration": 33,
    "start_time": "2024-07-18T11:46:23.452Z"
   },
   {
    "duration": 16,
    "start_time": "2024-07-18T11:46:23.487Z"
   },
   {
    "duration": 309,
    "start_time": "2024-07-18T11:46:23.505Z"
   },
   {
    "duration": 254,
    "start_time": "2024-07-18T11:46:23.815Z"
   },
   {
    "duration": 365,
    "start_time": "2024-07-18T11:46:24.070Z"
   },
   {
    "duration": 7,
    "start_time": "2024-07-18T11:46:24.436Z"
   },
   {
    "duration": 30,
    "start_time": "2024-07-18T11:46:24.448Z"
   },
   {
    "duration": 148,
    "start_time": "2024-07-18T11:46:24.480Z"
   },
   {
    "duration": 21,
    "start_time": "2024-07-18T11:46:24.629Z"
   },
   {
    "duration": 392,
    "start_time": "2024-07-18T11:46:24.652Z"
   },
   {
    "duration": 68,
    "start_time": "2024-07-18T11:46:25.046Z"
   },
   {
    "duration": 311,
    "start_time": "2024-07-18T11:46:25.115Z"
   },
   {
    "duration": 151,
    "start_time": "2024-07-18T11:46:25.427Z"
   },
   {
    "duration": 82,
    "start_time": "2024-07-18T11:46:25.580Z"
   },
   {
    "duration": 5,
    "start_time": "2024-07-18T11:46:25.664Z"
   },
   {
    "duration": 20,
    "start_time": "2024-07-18T11:46:25.670Z"
   },
   {
    "duration": 22,
    "start_time": "2024-07-18T11:46:25.691Z"
   },
   {
    "duration": 14,
    "start_time": "2024-07-18T11:46:25.714Z"
   },
   {
    "duration": 6,
    "start_time": "2024-07-18T11:46:25.730Z"
   },
   {
    "duration": 12,
    "start_time": "2024-07-18T11:46:25.737Z"
   },
   {
    "duration": 19,
    "start_time": "2024-07-18T11:46:25.751Z"
   },
   {
    "duration": 20,
    "start_time": "2024-07-18T11:46:25.771Z"
   },
   {
    "duration": 58,
    "start_time": "2024-07-18T11:46:25.793Z"
   },
   {
    "duration": 9,
    "start_time": "2024-07-18T11:46:25.852Z"
   },
   {
    "duration": 224,
    "start_time": "2024-07-18T11:46:25.862Z"
   },
   {
    "duration": 18,
    "start_time": "2024-07-18T11:46:26.087Z"
   },
   {
    "duration": 28,
    "start_time": "2024-07-18T11:46:26.107Z"
   },
   {
    "duration": 3,
    "start_time": "2024-07-18T11:46:26.137Z"
   },
   {
    "duration": 8,
    "start_time": "2024-07-18T11:46:26.141Z"
   },
   {
    "duration": 96,
    "start_time": "2024-07-18T11:46:26.150Z"
   },
   {
    "duration": 8,
    "start_time": "2024-07-18T11:46:26.247Z"
   },
   {
    "duration": 87,
    "start_time": "2024-07-18T11:46:26.257Z"
   },
   {
    "duration": 90,
    "start_time": "2024-07-18T11:46:26.346Z"
   },
   {
    "duration": 28,
    "start_time": "2024-07-18T11:46:26.438Z"
   },
   {
    "duration": 139,
    "start_time": "2024-07-18T11:46:26.467Z"
   }
  ],
  "kernelspec": {
   "display_name": "Python 3 (ipykernel)",
   "language": "python",
   "name": "python3"
  },
  "language_info": {
   "codemirror_mode": {
    "name": "ipython",
    "version": 3
   },
   "file_extension": ".py",
   "mimetype": "text/x-python",
   "name": "python",
   "nbconvert_exporter": "python",
   "pygments_lexer": "ipython3",
   "version": "3.11.5"
  },
  "toc": {
   "base_numbering": 1,
   "nav_menu": {
    "height": "300px",
    "width": "396px"
   },
   "number_sections": true,
   "sideBar": true,
   "skip_h1_title": true,
   "title_cell": "Table of Contents",
   "title_sidebar": "Contents",
   "toc_cell": false,
   "toc_position": {},
   "toc_section_display": true,
   "toc_window_display": false
  }
 },
 "nbformat": 4,
 "nbformat_minor": 2
}
