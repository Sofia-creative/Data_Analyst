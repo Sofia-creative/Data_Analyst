{
 "cells": [
  {
   "cell_type": "markdown",
   "metadata": {},
   "source": [
    "****Принятие решений в бизнесе - Проведение A/B-теста для крупного интерент магазина****"
   ]
  },
  {
   "cell_type": "markdown",
   "metadata": {},
   "source": [
    "### Описание проекта"
   ]
  },
  {
   "cell_type": "markdown",
   "metadata": {},
   "source": [
    "В данном проекте я выступаю аналитиком крупного интернет-магазина. Вместе с отделом маркетинга был подготовлен список гипотез для увеличения выручки.\n",
    "Теперь мне необходимо приоритизировать гипотезы, запустить A/B-тест и проанализировать результаты.\n",
    "\n",
    "Так же необходимо помнить о первичной и обязательной работе с данными - проверить их качество т.е. провести предобработку."
   ]
  },
  {
   "cell_type": "markdown",
   "metadata": {},
   "source": [
    "### Описание данных"
   ]
  },
  {
   "cell_type": "markdown",
   "metadata": {},
   "source": [
    "***Данные для первой части***"
   ]
  },
  {
   "cell_type": "markdown",
   "metadata": {},
   "source": [
    "Файл /datasets/hypothesis.csv\n",
    "\n",
    "- `Hypothesis` — краткое описание гипотезы;\n",
    "\n",
    "\n",
    "- `Reach` — охват пользователей по 10-балльной шкале;\n",
    "\n",
    "\n",
    "- `Impact` — влияние на пользователей по 10-балльной шкале;\n",
    "\n",
    "\n",
    "- `Confidence` — уверенность в гипотезе по 10-балльной шкале;\n",
    "\n",
    "\n",
    "- `Efforts` — затраты ресурсов на проверку гипотезы по 10-балльной шкале. Чем больше значение Efforts, тем дороже проверка гипотезы."
   ]
  },
  {
   "cell_type": "markdown",
   "metadata": {},
   "source": [
    "***Данные для второй части***"
   ]
  },
  {
   "cell_type": "markdown",
   "metadata": {},
   "source": [
    "Файл /datasets/orders.csv. \n",
    "\n",
    "- `transactionId` — идентификатор заказа;\n",
    "\n",
    "\n",
    "- `visitorId` — идентификатор пользователя, совершившего заказ;\n",
    "\n",
    "\n",
    "- `date` — дата, когда был совершён заказ;\n",
    "\n",
    "\n",
    "- `revenue` — выручка заказа;\n",
    "\n",
    "\n",
    "- `group` — группа A/B-теста, в которую попал заказ."
   ]
  },
  {
   "cell_type": "markdown",
   "metadata": {},
   "source": [
    "Файл /datasets/visitors.csv. \n",
    "\n",
    "- `date` — дата;\n",
    "\n",
    "\n",
    "- `group` — группа A/B-теста;\n",
    "\n",
    "\n",
    "- `visitors` — количество пользователей в указанную дату в указанной группе A/B-теста"
   ]
  },
  {
   "cell_type": "markdown",
   "metadata": {},
   "source": [
    "***Цель проекта*** -  изучить данные А/В теста и интерпритировать результаты. В рамках исследования будут изучены следующие показатели: \n",
    "   \n",
    "    1. Выручка\n",
    "   \n",
    "    2. Средний чек\n",
    "   \n",
    "    3. Среднее количество заказов"
   ]
  },
  {
   "cell_type": "markdown",
   "metadata": {},
   "source": [
    "***План работы***\n",
    "\n",
    "1. Загрузка, изучение данных. Подготовка данных к анализу.\n",
    "2. Приоритизация гипотез.\n",
    "3. Анализ A/B-теста.\n",
    "4. Выводы."
   ]
  },
  {
   "cell_type": "markdown",
   "metadata": {},
   "source": [
    "### Загрузка и изучение данных. Подготовка данных к анализу"
   ]
  },
  {
   "cell_type": "code",
   "execution_count": 1,
   "metadata": {},
   "outputs": [],
   "source": [
    "# Импортирую необходимые библеотеки\n",
    "import pandas as pd\n",
    "import matplotlib.pyplot as plt\n",
    "from scipy import stats as st\n",
    "import datetime as dt"
   ]
  },
  {
   "cell_type": "code",
   "execution_count": 2,
   "metadata": {},
   "outputs": [],
   "source": [
    "# Выгружаю данные\n",
    "hypothesis = pd.read_csv('hypothesis.csv')\n",
    "orders = pd.read_csv('orders.csv')\n",
    "visitors = pd.read_csv('visitors.csv')"
   ]
  },
  {
   "cell_type": "code",
   "execution_count": 3,
   "metadata": {
    "scrolled": false
   },
   "outputs": [
    {
     "name": "stdout",
     "output_type": "stream",
     "text": [
      "=== Hypothesis: Первые 5 строк ===\n",
      "                                                                                                     Hypothesis  \\\n",
      "0            Добавить два новых канала привлечения трафика, что позволит привлекать на 30% больше пользователей   \n",
      "1                                     Запустить собственную службу доставки, что сократит срок доставки заказов   \n",
      "2  Добавить блоки рекомендаций товаров на сайт интернет магазина, чтобы повысить конверсию и средний чек заказа   \n",
      "3           Изменить структура категорий, что увеличит конверсию, т.к. пользователи быстрее найдут нужный товар   \n",
      "4                              Изменить цвет фона главной страницы, чтобы увеличить вовлеченность пользователей   \n",
      "\n",
      "   Reach  Impact  Confidence  Efforts  \n",
      "0      3      10           8        6  \n",
      "1      2       5           4       10  \n",
      "2      8       3           7        3  \n",
      "3      8       3           3        8  \n",
      "4      3       1           1        1  \n",
      "\n",
      "\n",
      "=== Hypothesis: Последние 5 строк ===\n",
      "                                                                                             Hypothesis  \\\n",
      "4                      Изменить цвет фона главной страницы, чтобы увеличить вовлеченность пользователей   \n",
      "5              Добавить страницу отзывов клиентов о магазине, что позволит увеличить количество заказов   \n",
      "6  Показать на главной странице баннеры с актуальными акциями и распродажами, чтобы увеличить конверсию   \n",
      "7      Добавить форму подписки на все основные страницы, чтобы собрать базу клиентов для email-рассылок   \n",
      "8                                               Запустить акцию, дающую скидку на товар в день рождения   \n",
      "\n",
      "   Reach  Impact  Confidence  Efforts  \n",
      "4      3       1           1        1  \n",
      "5      3       2           2        3  \n",
      "6      5       3           8        3  \n",
      "7     10       7           8        5  \n",
      "8      1       9           9        5  \n",
      "\n",
      "\n",
      "=== Hypothesis: Информация о датасете ===\n",
      "<class 'pandas.core.frame.DataFrame'>\n",
      "RangeIndex: 9 entries, 0 to 8\n",
      "Data columns (total 5 columns):\n",
      " #   Column      Non-Null Count  Dtype \n",
      "---  ------      --------------  ----- \n",
      " 0   Hypothesis  9 non-null      object\n",
      " 1   Reach       9 non-null      int64 \n",
      " 2   Impact      9 non-null      int64 \n",
      " 3   Confidence  9 non-null      int64 \n",
      " 4   Efforts     9 non-null      int64 \n",
      "dtypes: int64(4), object(1)\n",
      "memory usage: 492.0+ bytes\n",
      "\n",
      "\n",
      "=== Orders: Первые 5 строк ===\n",
      "   transactionId   visitorId        date  revenue group\n",
      "0     3667963787  3312258926  2019-08-15     1650     B\n",
      "1     2804400009  3642806036  2019-08-15      730     B\n",
      "2     2961555356  4069496402  2019-08-15      400     A\n",
      "3     3797467345  1196621759  2019-08-15     9759     B\n",
      "4     2282983706  2322279887  2019-08-15     2308     B\n",
      "\n",
      "\n",
      "=== Orders: Последние 5 строк ===\n",
      "      transactionId   visitorId        date  revenue group\n",
      "1192     2662137336  3733762160  2019-08-14     6490     B\n",
      "1193     2203539145   370388673  2019-08-14     3190     A\n",
      "1194     1807773912   573423106  2019-08-14    10550     A\n",
      "1195     1947021204  1614305549  2019-08-14      100     A\n",
      "1196     3936777065  2108080724  2019-08-15   202740     B\n",
      "\n",
      "\n",
      "=== Orders: Информация о датасете ===\n",
      "<class 'pandas.core.frame.DataFrame'>\n",
      "RangeIndex: 1197 entries, 0 to 1196\n",
      "Data columns (total 5 columns):\n",
      " #   Column         Non-Null Count  Dtype \n",
      "---  ------         --------------  ----- \n",
      " 0   transactionId  1197 non-null   int64 \n",
      " 1   visitorId      1197 non-null   int64 \n",
      " 2   date           1197 non-null   object\n",
      " 3   revenue        1197 non-null   int64 \n",
      " 4   group          1197 non-null   object\n",
      "dtypes: int64(3), object(2)\n",
      "memory usage: 46.9+ KB\n",
      "\n",
      "\n",
      "=== Visitors: Первые 5 строк ===\n",
      "         date group  visitors\n",
      "0  2019-08-01     A       719\n",
      "1  2019-08-02     A       619\n",
      "2  2019-08-03     A       507\n",
      "3  2019-08-04     A       717\n",
      "4  2019-08-05     A       756\n",
      "\n",
      "\n",
      "=== Visitors: Последние 5 строк ===\n",
      "          date group  visitors\n",
      "57  2019-08-27     B       720\n",
      "58  2019-08-28     B       654\n",
      "59  2019-08-29     B       531\n",
      "60  2019-08-30     B       490\n",
      "61  2019-08-31     B       718\n",
      "\n",
      "\n",
      "=== Visitors: Информация о датасете ===\n",
      "<class 'pandas.core.frame.DataFrame'>\n",
      "RangeIndex: 62 entries, 0 to 61\n",
      "Data columns (total 3 columns):\n",
      " #   Column    Non-Null Count  Dtype \n",
      "---  ------    --------------  ----- \n",
      " 0   date      62 non-null     object\n",
      " 1   group     62 non-null     object\n",
      " 2   visitors  62 non-null     int64 \n",
      "dtypes: int64(1), object(2)\n",
      "memory usage: 1.6+ KB\n",
      "\n",
      "\n"
     ]
    }
   ],
   "source": [
    "def describe_dataset_2(df, name):\n",
    "    # Устанавливаем максимальную ширину отображаемого текста в колонке до 100 символов\n",
    "    pd.options.display.max_colwidth = 1000\n",
    "\n",
    "    print(f\"=== {name}: Первые 5 строк ===\")\n",
    "    print(df.head())\n",
    "    print(\"\\n\")\n",
    "    \n",
    "    print(f\"=== {name}: Последние 5 строк ===\")\n",
    "    print(df.tail())\n",
    "    print(\"\\n\")\n",
    "    \n",
    "    print(f\"=== {name}: Информация о датасете ===\")\n",
    "    df.info()\n",
    "    print(\"\\n\")\n",
    "    \n",
    "    \n",
    "    \n",
    "describe_dataset_2(hypothesis, \"Hypothesis\")\n",
    "describe_dataset_2(orders, \"Orders\")\n",
    "describe_dataset_2(visitors, \"Visitors\")"
   ]
  },
  {
   "cell_type": "markdown",
   "metadata": {},
   "source": [
    "После вывода предварительной информации о датасете посмотрю колличество дубликатов для каждого датасета отдельно:"
   ]
  },
  {
   "cell_type": "code",
   "execution_count": 4,
   "metadata": {},
   "outputs": [
    {
     "data": {
      "text/plain": [
       "0"
      ]
     },
     "execution_count": 4,
     "metadata": {},
     "output_type": "execute_result"
    }
   ],
   "source": [
    "hypothesis.duplicated().sum()"
   ]
  },
  {
   "cell_type": "code",
   "execution_count": 5,
   "metadata": {},
   "outputs": [
    {
     "data": {
      "text/plain": [
       "0"
      ]
     },
     "execution_count": 5,
     "metadata": {},
     "output_type": "execute_result"
    }
   ],
   "source": [
    "orders.duplicated().sum()"
   ]
  },
  {
   "cell_type": "code",
   "execution_count": 6,
   "metadata": {},
   "outputs": [
    {
     "data": {
      "text/plain": [
       "0"
      ]
     },
     "execution_count": 6,
     "metadata": {},
     "output_type": "execute_result"
    }
   ],
   "source": [
    "visitors.duplicated().sum()"
   ]
  },
  {
   "cell_type": "markdown",
   "metadata": {},
   "source": [
    "Отлично, дубликатов нет."
   ]
  },
  {
   "cell_type": "markdown",
   "metadata": {},
   "source": [
    "### Промежуточные выводы по предобработке данных"
   ]
  },
  {
   "cell_type": "markdown",
   "metadata": {},
   "source": [
    "Я ознакомилась с данными. В датсете `hypothesis` всего 9 строк и 5 столбцов. В `orders` всего 1 197 строк и 5 столбца. В `visitors` всего 62 строки и 3 столбца.\n",
    "\n",
    "Уже на данном этапе видны проблемы, которые необходимо устранить на этапе предобработке данных:\n",
    "\n",
    "1. Некорректное наименование столбцов (не соотвествует snake_case);\n",
    "2. Некорректные тип данных для некоторых столбцов.\n",
    "\n",
    "Такие проблемы нормальны так как скорее всего в системе сбора данных наименование столбцов указаны в форме удобной для человека (а это названия с большой буквы или слитное написание название ID). Тип данных некорректен в столбцах содержащих даты, вероятно, произошел сбой при выгрузки данных. \n",
    "\n",
    "\n",
    "В целом, данные пригодны для дальнейшего анализа - нет пропущенных значений, а так же дубликатов, но необходима предобратка. "
   ]
  },
  {
   "cell_type": "markdown",
   "metadata": {},
   "source": [
    "### Проведение предобработки"
   ]
  },
  {
   "cell_type": "markdown",
   "metadata": {},
   "source": [
    "Приведу столбцы с датами к корректному типу:"
   ]
  },
  {
   "cell_type": "code",
   "execution_count": 14,
   "metadata": {},
   "outputs": [
    {
     "name": "stdout",
     "output_type": "stream",
     "text": [
      "<class 'pandas.core.frame.DataFrame'>\n",
      "RangeIndex: 1197 entries, 0 to 1196\n",
      "Data columns (total 5 columns):\n",
      " #   Column         Non-Null Count  Dtype         \n",
      "---  ------         --------------  -----         \n",
      " 0   transactionId  1197 non-null   int64         \n",
      " 1   visitorId      1197 non-null   int64         \n",
      " 2   date           1197 non-null   datetime64[ns]\n",
      " 3   revenue        1197 non-null   int64         \n",
      " 4   group          1197 non-null   object        \n",
      "dtypes: datetime64[ns](1), int64(3), object(1)\n",
      "memory usage: 46.9+ KB\n"
     ]
    }
   ],
   "source": [
    "orders = pd.read_csv('orders.csv', parse_dates = ['date'])\n",
    "orders.info()"
   ]
  },
  {
   "cell_type": "code",
   "execution_count": 16,
   "metadata": {},
   "outputs": [
    {
     "name": "stdout",
     "output_type": "stream",
     "text": [
      "<class 'pandas.core.frame.DataFrame'>\n",
      "RangeIndex: 62 entries, 0 to 61\n",
      "Data columns (total 3 columns):\n",
      " #   Column    Non-Null Count  Dtype         \n",
      "---  ------    --------------  -----         \n",
      " 0   date      62 non-null     datetime64[ns]\n",
      " 1   group     62 non-null     object        \n",
      " 2   visitors  62 non-null     int64         \n",
      "dtypes: datetime64[ns](1), int64(1), object(1)\n",
      "memory usage: 1.6+ KB\n"
     ]
    }
   ],
   "source": [
    "visitors = pd.read_csv('visitors.csv', parse_dates = ['date'])\n",
    "visitors.info()"
   ]
  },
  {
   "cell_type": "markdown",
   "metadata": {},
   "source": [
    "Отлично, все столбцы имеют корректные тип данных."
   ]
  },
  {
   "cell_type": "markdown",
   "metadata": {},
   "source": [
    "Теперь исправлю наименования стоблцов:"
   ]
  },
  {
   "cell_type": "code",
   "execution_count": 17,
   "metadata": {},
   "outputs": [],
   "source": [
    "hypothesis.columns = hypothesis.columns.str.lower()"
   ]
  },
  {
   "cell_type": "code",
   "execution_count": 18,
   "metadata": {},
   "outputs": [],
   "source": [
    "orders.rename(columns={'transactionId': 'transaction_id', 'visitorId': 'visitor_id'}, inplace=True)"
   ]
  },
  {
   "cell_type": "code",
   "execution_count": 19,
   "metadata": {},
   "outputs": [
    {
     "data": {
      "text/plain": [
       "Index(['hypothesis', 'reach', 'impact', 'confidence', 'efforts'], dtype='object')"
      ]
     },
     "execution_count": 19,
     "metadata": {},
     "output_type": "execute_result"
    }
   ],
   "source": [
    "hypothesis.columns"
   ]
  },
  {
   "cell_type": "code",
   "execution_count": 20,
   "metadata": {},
   "outputs": [
    {
     "data": {
      "text/plain": [
       "Index(['transaction_id', 'visitor_id', 'date', 'revenue', 'group'], dtype='object')"
      ]
     },
     "execution_count": 20,
     "metadata": {},
     "output_type": "execute_result"
    }
   ],
   "source": [
    "orders.columns"
   ]
  },
  {
   "cell_type": "code",
   "execution_count": 21,
   "metadata": {},
   "outputs": [
    {
     "data": {
      "text/plain": [
       "Index(['date', 'group', 'visitors'], dtype='object')"
      ]
     },
     "execution_count": 21,
     "metadata": {},
     "output_type": "execute_result"
    }
   ],
   "source": [
    "visitors.columns"
   ]
  },
  {
   "cell_type": "markdown",
   "metadata": {},
   "source": [
    "Отлично, все столбцы имеют корректные наименования"
   ]
  },
  {
   "cell_type": "markdown",
   "metadata": {},
   "source": [
    "### Вывод по предобработке данных"
   ]
  },
  {
   "cell_type": "markdown",
   "metadata": {},
   "source": [
    "На данном этапе данные готовы к дальнейшей работе:\n",
    "\n",
    "1. Выволнена проверка на дубликаты (их не оказалось)\n",
    "2. При посмотрены данных с помощью метода `info()` сделан вывод об отсутсвие пропущенных значений\n",
    "3. Изменены наименования столбцов в соотвествии с общепринятым и удобным для работы стилем.\n",
    "4. Изменен тип данных данных в столбцах содержащих дату и время\n",
    "5. Сделаны выводы о причинах проблем в данных"
   ]
  },
  {
   "cell_type": "markdown",
   "metadata": {},
   "source": [
    "### Часть 1. Приоритизация гипотез."
   ]
  },
  {
   "cell_type": "markdown",
   "metadata": {},
   "source": [
    "В файле `hypothesis` 9 гипотез по увеличению выручки интернет-магазина с указанными параметрами `Reach`, `Impact`, `Confidence`, `Effort`."
   ]
  },
  {
   "cell_type": "markdown",
   "metadata": {},
   "source": [
    "****Задача:****"
   ]
  },
  {
   "cell_type": "markdown",
   "metadata": {},
   "source": [
    "- Применить фреймворк ICE для приоритизации гипотез. Отсортировать их по убыванию приоритета.\n",
    "\n",
    "\n",
    "- Применить фреймворк RICE для приоритизации гипотез. Отсортировать их по убыванию приоритета.\n",
    "\n",
    "\n",
    "- Указать, как изменилась приоритизация гипотез при применении RICE вместо ICE. Объяснить, почему так произошло."
   ]
  },
  {
   "cell_type": "markdown",
   "metadata": {},
   "source": [
    "фреймворк ICE считается по следующей формуле:"
   ]
  },
  {
   "cell_type": "code",
   "execution_count": 22,
   "metadata": {},
   "outputs": [
    {
     "data": {
      "text/html": [
       "<img src=\"https://pictures.s3.yandex.net/resources/ice_score_2-27da3b9e-15cd-4f96-91a4-fefffd1d986e_1569198107.jpg\"/>"
      ],
      "text/plain": [
       "<IPython.core.display.Image object>"
      ]
     },
     "execution_count": 22,
     "metadata": {},
     "output_type": "execute_result"
    }
   ],
   "source": [
    "from IPython.display import Image\n",
    "Image(url='https://pictures.s3.yandex.net/resources/ice_score_2-27da3b9e-15cd-4f96-91a4-fefffd1d986e_1569198107.jpg')"
   ]
  },
  {
   "cell_type": "code",
   "execution_count": 26,
   "metadata": {},
   "outputs": [],
   "source": [
    "hypothesis['ICE'] = hypothesis['impact'] * hypothesis['confidence']/hypothesis['efforts']\n",
    "\n",
    "hypothesis['ICE'] = hypothesis['ICE'].astype('float')"
   ]
  },
  {
   "cell_type": "code",
   "execution_count": 27,
   "metadata": {},
   "outputs": [
    {
     "data": {
      "text/html": [
       "<div>\n",
       "<style scoped>\n",
       "    .dataframe tbody tr th:only-of-type {\n",
       "        vertical-align: middle;\n",
       "    }\n",
       "\n",
       "    .dataframe tbody tr th {\n",
       "        vertical-align: top;\n",
       "    }\n",
       "\n",
       "    .dataframe thead th {\n",
       "        text-align: right;\n",
       "    }\n",
       "</style>\n",
       "<table border=\"1\" class=\"dataframe\">\n",
       "  <thead>\n",
       "    <tr style=\"text-align: right;\">\n",
       "      <th></th>\n",
       "      <th>hypothesis</th>\n",
       "      <th>reach</th>\n",
       "      <th>impact</th>\n",
       "      <th>confidence</th>\n",
       "      <th>efforts</th>\n",
       "      <th>ICE</th>\n",
       "    </tr>\n",
       "  </thead>\n",
       "  <tbody>\n",
       "    <tr>\n",
       "      <th>8</th>\n",
       "      <td>Запустить акцию, дающую скидку на товар в день рождения</td>\n",
       "      <td>1</td>\n",
       "      <td>9</td>\n",
       "      <td>9</td>\n",
       "      <td>5</td>\n",
       "      <td>16.20</td>\n",
       "    </tr>\n",
       "    <tr>\n",
       "      <th>0</th>\n",
       "      <td>Добавить два новых канала привлечения трафика, что позволит привлекать на 30% больше пользователей</td>\n",
       "      <td>3</td>\n",
       "      <td>10</td>\n",
       "      <td>8</td>\n",
       "      <td>6</td>\n",
       "      <td>13.33</td>\n",
       "    </tr>\n",
       "    <tr>\n",
       "      <th>7</th>\n",
       "      <td>Добавить форму подписки на все основные страницы, чтобы собрать базу клиентов для email-рассылок</td>\n",
       "      <td>10</td>\n",
       "      <td>7</td>\n",
       "      <td>8</td>\n",
       "      <td>5</td>\n",
       "      <td>11.20</td>\n",
       "    </tr>\n",
       "    <tr>\n",
       "      <th>6</th>\n",
       "      <td>Показать на главной странице баннеры с актуальными акциями и распродажами, чтобы увеличить конверсию</td>\n",
       "      <td>5</td>\n",
       "      <td>3</td>\n",
       "      <td>8</td>\n",
       "      <td>3</td>\n",
       "      <td>8.00</td>\n",
       "    </tr>\n",
       "    <tr>\n",
       "      <th>2</th>\n",
       "      <td>Добавить блоки рекомендаций товаров на сайт интернет магазина, чтобы повысить конверсию и средний чек заказа</td>\n",
       "      <td>8</td>\n",
       "      <td>3</td>\n",
       "      <td>7</td>\n",
       "      <td>3</td>\n",
       "      <td>7.00</td>\n",
       "    </tr>\n",
       "    <tr>\n",
       "      <th>1</th>\n",
       "      <td>Запустить собственную службу доставки, что сократит срок доставки заказов</td>\n",
       "      <td>2</td>\n",
       "      <td>5</td>\n",
       "      <td>4</td>\n",
       "      <td>10</td>\n",
       "      <td>2.00</td>\n",
       "    </tr>\n",
       "    <tr>\n",
       "      <th>5</th>\n",
       "      <td>Добавить страницу отзывов клиентов о магазине, что позволит увеличить количество заказов</td>\n",
       "      <td>3</td>\n",
       "      <td>2</td>\n",
       "      <td>2</td>\n",
       "      <td>3</td>\n",
       "      <td>1.33</td>\n",
       "    </tr>\n",
       "    <tr>\n",
       "      <th>3</th>\n",
       "      <td>Изменить структура категорий, что увеличит конверсию, т.к. пользователи быстрее найдут нужный товар</td>\n",
       "      <td>8</td>\n",
       "      <td>3</td>\n",
       "      <td>3</td>\n",
       "      <td>8</td>\n",
       "      <td>1.12</td>\n",
       "    </tr>\n",
       "    <tr>\n",
       "      <th>4</th>\n",
       "      <td>Изменить цвет фона главной страницы, чтобы увеличить вовлеченность пользователей</td>\n",
       "      <td>3</td>\n",
       "      <td>1</td>\n",
       "      <td>1</td>\n",
       "      <td>1</td>\n",
       "      <td>1.00</td>\n",
       "    </tr>\n",
       "  </tbody>\n",
       "</table>\n",
       "</div>"
      ],
      "text/plain": [
       "                                                                                                     hypothesis  \\\n",
       "8                                                       Запустить акцию, дающую скидку на товар в день рождения   \n",
       "0            Добавить два новых канала привлечения трафика, что позволит привлекать на 30% больше пользователей   \n",
       "7              Добавить форму подписки на все основные страницы, чтобы собрать базу клиентов для email-рассылок   \n",
       "6          Показать на главной странице баннеры с актуальными акциями и распродажами, чтобы увеличить конверсию   \n",
       "2  Добавить блоки рекомендаций товаров на сайт интернет магазина, чтобы повысить конверсию и средний чек заказа   \n",
       "1                                     Запустить собственную службу доставки, что сократит срок доставки заказов   \n",
       "5                      Добавить страницу отзывов клиентов о магазине, что позволит увеличить количество заказов   \n",
       "3           Изменить структура категорий, что увеличит конверсию, т.к. пользователи быстрее найдут нужный товар   \n",
       "4                              Изменить цвет фона главной страницы, чтобы увеличить вовлеченность пользователей   \n",
       "\n",
       "   reach  impact  confidence  efforts    ICE  \n",
       "8      1       9           9        5  16.20  \n",
       "0      3      10           8        6  13.33  \n",
       "7     10       7           8        5  11.20  \n",
       "6      5       3           8        3   8.00  \n",
       "2      8       3           7        3   7.00  \n",
       "1      2       5           4       10   2.00  \n",
       "5      3       2           2        3   1.33  \n",
       "3      8       3           3        8   1.12  \n",
       "4      3       1           1        1   1.00  "
      ]
     },
     "execution_count": 27,
     "metadata": {},
     "output_type": "execute_result"
    }
   ],
   "source": [
    "hypothesis['ICE'] = hypothesis['ICE'].round(2)\n",
    "hypothesis.sort_values(by='ICE', ascending=False)"
   ]
  },
  {
   "cell_type": "markdown",
   "metadata": {},
   "source": [
    "фреймворк RICE считается по следующей формуле:"
   ]
  },
  {
   "cell_type": "code",
   "execution_count": 28,
   "metadata": {},
   "outputs": [
    {
     "data": {
      "text/html": [
       "<img src=\"https://pictures.s3.yandex.net/resources/rice_score_1634305501.png\"/>"
      ],
      "text/plain": [
       "<IPython.core.display.Image object>"
      ]
     },
     "execution_count": 28,
     "metadata": {},
     "output_type": "execute_result"
    }
   ],
   "source": [
    "from IPython.display import Image\n",
    "Image(url='https://pictures.s3.yandex.net/resources/rice_score_1634305501.png')"
   ]
  },
  {
   "cell_type": "code",
   "execution_count": 29,
   "metadata": {},
   "outputs": [],
   "source": [
    "hypothesis['RICE'] = hypothesis['reach'] * hypothesis['impact'] * hypothesis['confidence']/hypothesis['efforts']\n",
    "\n",
    "hypothesis['RICE'] = hypothesis['RICE'].astype('float')"
   ]
  },
  {
   "cell_type": "code",
   "execution_count": 30,
   "metadata": {},
   "outputs": [
    {
     "data": {
      "text/html": [
       "<div>\n",
       "<style scoped>\n",
       "    .dataframe tbody tr th:only-of-type {\n",
       "        vertical-align: middle;\n",
       "    }\n",
       "\n",
       "    .dataframe tbody tr th {\n",
       "        vertical-align: top;\n",
       "    }\n",
       "\n",
       "    .dataframe thead th {\n",
       "        text-align: right;\n",
       "    }\n",
       "</style>\n",
       "<table border=\"1\" class=\"dataframe\">\n",
       "  <thead>\n",
       "    <tr style=\"text-align: right;\">\n",
       "      <th></th>\n",
       "      <th>hypothesis</th>\n",
       "      <th>reach</th>\n",
       "      <th>impact</th>\n",
       "      <th>confidence</th>\n",
       "      <th>efforts</th>\n",
       "      <th>ICE</th>\n",
       "      <th>RICE</th>\n",
       "    </tr>\n",
       "  </thead>\n",
       "  <tbody>\n",
       "    <tr>\n",
       "      <th>7</th>\n",
       "      <td>Добавить форму подписки на все основные страницы, чтобы собрать базу клиентов для email-рассылок</td>\n",
       "      <td>10</td>\n",
       "      <td>7</td>\n",
       "      <td>8</td>\n",
       "      <td>5</td>\n",
       "      <td>11.20</td>\n",
       "      <td>112.0</td>\n",
       "    </tr>\n",
       "    <tr>\n",
       "      <th>2</th>\n",
       "      <td>Добавить блоки рекомендаций товаров на сайт интернет магазина, чтобы повысить конверсию и средний чек заказа</td>\n",
       "      <td>8</td>\n",
       "      <td>3</td>\n",
       "      <td>7</td>\n",
       "      <td>3</td>\n",
       "      <td>7.00</td>\n",
       "      <td>56.0</td>\n",
       "    </tr>\n",
       "    <tr>\n",
       "      <th>0</th>\n",
       "      <td>Добавить два новых канала привлечения трафика, что позволит привлекать на 30% больше пользователей</td>\n",
       "      <td>3</td>\n",
       "      <td>10</td>\n",
       "      <td>8</td>\n",
       "      <td>6</td>\n",
       "      <td>13.33</td>\n",
       "      <td>40.0</td>\n",
       "    </tr>\n",
       "    <tr>\n",
       "      <th>6</th>\n",
       "      <td>Показать на главной странице баннеры с актуальными акциями и распродажами, чтобы увеличить конверсию</td>\n",
       "      <td>5</td>\n",
       "      <td>3</td>\n",
       "      <td>8</td>\n",
       "      <td>3</td>\n",
       "      <td>8.00</td>\n",
       "      <td>40.0</td>\n",
       "    </tr>\n",
       "    <tr>\n",
       "      <th>8</th>\n",
       "      <td>Запустить акцию, дающую скидку на товар в день рождения</td>\n",
       "      <td>1</td>\n",
       "      <td>9</td>\n",
       "      <td>9</td>\n",
       "      <td>5</td>\n",
       "      <td>16.20</td>\n",
       "      <td>16.2</td>\n",
       "    </tr>\n",
       "    <tr>\n",
       "      <th>3</th>\n",
       "      <td>Изменить структура категорий, что увеличит конверсию, т.к. пользователи быстрее найдут нужный товар</td>\n",
       "      <td>8</td>\n",
       "      <td>3</td>\n",
       "      <td>3</td>\n",
       "      <td>8</td>\n",
       "      <td>1.12</td>\n",
       "      <td>9.0</td>\n",
       "    </tr>\n",
       "    <tr>\n",
       "      <th>1</th>\n",
       "      <td>Запустить собственную службу доставки, что сократит срок доставки заказов</td>\n",
       "      <td>2</td>\n",
       "      <td>5</td>\n",
       "      <td>4</td>\n",
       "      <td>10</td>\n",
       "      <td>2.00</td>\n",
       "      <td>4.0</td>\n",
       "    </tr>\n",
       "    <tr>\n",
       "      <th>5</th>\n",
       "      <td>Добавить страницу отзывов клиентов о магазине, что позволит увеличить количество заказов</td>\n",
       "      <td>3</td>\n",
       "      <td>2</td>\n",
       "      <td>2</td>\n",
       "      <td>3</td>\n",
       "      <td>1.33</td>\n",
       "      <td>4.0</td>\n",
       "    </tr>\n",
       "    <tr>\n",
       "      <th>4</th>\n",
       "      <td>Изменить цвет фона главной страницы, чтобы увеличить вовлеченность пользователей</td>\n",
       "      <td>3</td>\n",
       "      <td>1</td>\n",
       "      <td>1</td>\n",
       "      <td>1</td>\n",
       "      <td>1.00</td>\n",
       "      <td>3.0</td>\n",
       "    </tr>\n",
       "  </tbody>\n",
       "</table>\n",
       "</div>"
      ],
      "text/plain": [
       "                                                                                                     hypothesis  \\\n",
       "7              Добавить форму подписки на все основные страницы, чтобы собрать базу клиентов для email-рассылок   \n",
       "2  Добавить блоки рекомендаций товаров на сайт интернет магазина, чтобы повысить конверсию и средний чек заказа   \n",
       "0            Добавить два новых канала привлечения трафика, что позволит привлекать на 30% больше пользователей   \n",
       "6          Показать на главной странице баннеры с актуальными акциями и распродажами, чтобы увеличить конверсию   \n",
       "8                                                       Запустить акцию, дающую скидку на товар в день рождения   \n",
       "3           Изменить структура категорий, что увеличит конверсию, т.к. пользователи быстрее найдут нужный товар   \n",
       "1                                     Запустить собственную службу доставки, что сократит срок доставки заказов   \n",
       "5                      Добавить страницу отзывов клиентов о магазине, что позволит увеличить количество заказов   \n",
       "4                              Изменить цвет фона главной страницы, чтобы увеличить вовлеченность пользователей   \n",
       "\n",
       "   reach  impact  confidence  efforts    ICE   RICE  \n",
       "7     10       7           8        5  11.20  112.0  \n",
       "2      8       3           7        3   7.00   56.0  \n",
       "0      3      10           8        6  13.33   40.0  \n",
       "6      5       3           8        3   8.00   40.0  \n",
       "8      1       9           9        5  16.20   16.2  \n",
       "3      8       3           3        8   1.12    9.0  \n",
       "1      2       5           4       10   2.00    4.0  \n",
       "5      3       2           2        3   1.33    4.0  \n",
       "4      3       1           1        1   1.00    3.0  "
      ]
     },
     "execution_count": 30,
     "metadata": {},
     "output_type": "execute_result"
    }
   ],
   "source": [
    "hypothesis.sort_values(by='RICE', ascending=False)"
   ]
  },
  {
   "cell_type": "markdown",
   "metadata": {},
   "source": [
    "### Объяснение изменений в приоритезации гипотез"
   ]
  },
  {
   "cell_type": "markdown",
   "metadata": {},
   "source": [
    "1. Значительное повышение гипотезы \"Добавить форму подписки на все основные страницы сайта\":\n",
    "\n",
    "\n",
    "`ICE`: 11.2\n",
    "\n",
    "\n",
    "`RICE`: 112.0 (первая в приоритете)\n",
    "\n",
    "\n",
    "Эта гипотеза значительно повысилась в приоритете при использовании RICE, потому что добавился фактор охвата пользователей (Reach). Если форма подписки доступна на всех основных страницах, она может привлечь много пользователей, что значительно увеличивает значение RICE.\n",
    "\n",
    "\n",
    "\n",
    "\n",
    "2. Повышение гипотезы \"Добавить блоки рекомендаций товаров на сайт\":\n",
    "\n",
    "\n",
    "`ICE`: 7.0\n",
    "\n",
    "\n",
    "`RICE`: 56.0 (вторая в приоритете)\n",
    "\n",
    "\n",
    "Подобно первой гипотезе, добавление блока рекомендаций может охватить большую аудиторию, особенно если он будет виден многим пользователям, что также увеличивает значение RICE.\n",
    "\n",
    "\n",
    "\n",
    "\n",
    "3. Понижение гипотезы \"Запустить акцию, дающую скидку на товар в день...\":\n",
    "\n",
    "\n",
    "`ICE`: 16.2 (первая в приоритете)\n",
    "\n",
    "\n",
    "`RICE`: 16.2 (пятая в приоритете)\n",
    "\n",
    "\n",
    "Хотя эта гипотеза была первой по ICE, она не показывает значительного охвата пользователей (Reach), что объясняет её понижение при использовании RICE."
   ]
  },
  {
   "cell_type": "markdown",
   "metadata": {},
   "source": [
    "При использовании фреймворка RICE в приоритизации гипотез добавляется фактор охвата (Reach), который значительно влияет на приоритет гипотез. Гипотезы, которые могут охватить большее количество пользователей, получают более высокие значения RICE и, следовательно, становятся более приоритетными. "
   ]
  },
  {
   "cell_type": "markdown",
   "metadata": {},
   "source": [
    "### Часть 2. Анализ A/B-теста"
   ]
  },
  {
   "cell_type": "markdown",
   "metadata": {},
   "source": [
    "Результаты проведенного A/B-теста описаны в файлах `orders` и `visitors`."
   ]
  },
  {
   "cell_type": "markdown",
   "metadata": {},
   "source": [
    "***Задача:***"
   ]
  },
  {
   "cell_type": "markdown",
   "metadata": {},
   "source": [
    "*Необходимо проанализировать A/B-тест:*\n",
    "\n",
    "\n",
    "1. Построить график кумулятивной выручки по группам. Сделать выводы и предположения.\n",
    "\n",
    "\n",
    "2. Построить график кумулятивного среднего чека по группам. Сделать выводы и предположения.\n",
    "\n",
    "\n",
    "3. Построить график относительного изменения кумулятивного среднего чека группы B к группе A. Сделать выводы и предположения.\n",
    "\n",
    "\n",
    "4. Построить график кумулятивного среднего количества заказов на посетителя по группам. Сделать выводы и предположения.\n",
    "\n",
    "\n",
    "5. Построить график относительного изменения кумулятивного среднего количества заказов на посетителя группы B к группе A. Сделать выводы и предположения.\n",
    "\n",
    "\n",
    "6. Построить точечный график количества заказов по пользователям. Сделать выводы и предположения.\n",
    "\n",
    "\n",
    "7. Посчитать 95-й и 99-й перцентили количества заказов на пользователя. Выбрать границу для определения аномальных пользователей.\n",
    "\n",
    "\n",
    "8. Построить точечный график стоимостей заказов. Сделать выводы и предположения.\n",
    "\n",
    "\n",
    "9. Посчитать 95-й и 99-й перцентили стоимости заказов. Выбрать границу для определения аномальных заказов.\n",
    "\n",
    "\n",
    "10. Посчитать статистическую значимость различий в среднем количестве заказов на посетителя между группами по «сырым» данным. Сделать выводы и предположения.\n",
    "\n",
    "\n",
    "11. Посчитать статистическую значимость различий в среднем чеке заказа между группами по «сырым» данным. Сделать выводы и предположения.\n",
    "\n",
    "\n",
    "12. Посчитать статистическую значимость различий в среднем количестве заказов на посетителя между группами по «очищенным» данным. Сделать выводы и предположения.\n",
    "\n",
    "\n",
    "13. Посчитать статистическую значимость различий в среднем чеке заказа между группами по «очищенным» данным. Сделать выводы и предположения.\n",
    "\n",
    "\n",
    "14. Примить решение по результатам теста и объяснить его. Варианты решений:\n",
    "    1. Остановить тест, зафиксировать победу одной из групп.\n",
    "    2. Остановить тест, зафиксировать отсутствие различий между группами.\n",
    "    3. Продолжить тест."
   ]
  },
  {
   "cell_type": "markdown",
   "metadata": {},
   "source": [
    "#### Построю график кумулятивной выручки по группам. Сделаю выводы и предположения"
   ]
  },
  {
   "cell_type": "code",
   "execution_count": 47,
   "metadata": {},
   "outputs": [],
   "source": [
    "# Создаю кумулятивные данные по датам и группам\n",
    "cumulative_revenue = orders.groupby(['date', 'group']).agg({'revenue': 'sum'}).groupby(level=['group']).cumsum().reset_index()"
   ]
  },
  {
   "cell_type": "code",
   "execution_count": 48,
   "metadata": {},
   "outputs": [
    {
     "data": {
      "text/html": [
       "<div>\n",
       "<style scoped>\n",
       "    .dataframe tbody tr th:only-of-type {\n",
       "        vertical-align: middle;\n",
       "    }\n",
       "\n",
       "    .dataframe tbody tr th {\n",
       "        vertical-align: top;\n",
       "    }\n",
       "\n",
       "    .dataframe thead th {\n",
       "        text-align: right;\n",
       "    }\n",
       "</style>\n",
       "<table border=\"1\" class=\"dataframe\">\n",
       "  <thead>\n",
       "    <tr style=\"text-align: right;\">\n",
       "      <th></th>\n",
       "      <th>date</th>\n",
       "      <th>group</th>\n",
       "      <th>revenue</th>\n",
       "    </tr>\n",
       "  </thead>\n",
       "  <tbody>\n",
       "    <tr>\n",
       "      <th>0</th>\n",
       "      <td>2019-08-01</td>\n",
       "      <td>A</td>\n",
       "      <td>148579</td>\n",
       "    </tr>\n",
       "    <tr>\n",
       "      <th>1</th>\n",
       "      <td>2019-08-01</td>\n",
       "      <td>B</td>\n",
       "      <td>101217</td>\n",
       "    </tr>\n",
       "    <tr>\n",
       "      <th>2</th>\n",
       "      <td>2019-08-02</td>\n",
       "      <td>A</td>\n",
       "      <td>242401</td>\n",
       "    </tr>\n",
       "    <tr>\n",
       "      <th>3</th>\n",
       "      <td>2019-08-02</td>\n",
       "      <td>B</td>\n",
       "      <td>266748</td>\n",
       "    </tr>\n",
       "    <tr>\n",
       "      <th>4</th>\n",
       "      <td>2019-08-03</td>\n",
       "      <td>A</td>\n",
       "      <td>354874</td>\n",
       "    </tr>\n",
       "    <tr>\n",
       "      <th>...</th>\n",
       "      <td>...</td>\n",
       "      <td>...</td>\n",
       "      <td>...</td>\n",
       "    </tr>\n",
       "    <tr>\n",
       "      <th>57</th>\n",
       "      <td>2019-08-29</td>\n",
       "      <td>B</td>\n",
       "      <td>5559398</td>\n",
       "    </tr>\n",
       "    <tr>\n",
       "      <th>58</th>\n",
       "      <td>2019-08-30</td>\n",
       "      <td>A</td>\n",
       "      <td>4022970</td>\n",
       "    </tr>\n",
       "    <tr>\n",
       "      <th>59</th>\n",
       "      <td>2019-08-30</td>\n",
       "      <td>B</td>\n",
       "      <td>5774631</td>\n",
       "    </tr>\n",
       "    <tr>\n",
       "      <th>60</th>\n",
       "      <td>2019-08-31</td>\n",
       "      <td>A</td>\n",
       "      <td>4084803</td>\n",
       "    </tr>\n",
       "    <tr>\n",
       "      <th>61</th>\n",
       "      <td>2019-08-31</td>\n",
       "      <td>B</td>\n",
       "      <td>5907760</td>\n",
       "    </tr>\n",
       "  </tbody>\n",
       "</table>\n",
       "<p>62 rows × 3 columns</p>\n",
       "</div>"
      ],
      "text/plain": [
       "         date group  revenue\n",
       "0  2019-08-01     A   148579\n",
       "1  2019-08-01     B   101217\n",
       "2  2019-08-02     A   242401\n",
       "3  2019-08-02     B   266748\n",
       "4  2019-08-03     A   354874\n",
       "..        ...   ...      ...\n",
       "57 2019-08-29     B  5559398\n",
       "58 2019-08-30     A  4022970\n",
       "59 2019-08-30     B  5774631\n",
       "60 2019-08-31     A  4084803\n",
       "61 2019-08-31     B  5907760\n",
       "\n",
       "[62 rows x 3 columns]"
      ]
     },
     "execution_count": 48,
     "metadata": {},
     "output_type": "execute_result"
    }
   ],
   "source": [
    "cumulative_revenue"
   ]
  },
  {
   "cell_type": "code",
   "execution_count": 49,
   "metadata": {},
   "outputs": [
    {
     "data": {
      "image/png": "[encoded data removed]",
      "text/plain": [
       "<Figure size 1400x700 with 1 Axes>"
      ]
     },
     "metadata": {},
     "output_type": "display_data"
    }
   ],
   "source": [
    "# Фильтрую данные для группы A и группы B\n",
    "cumulative_revenue_a = cumulative_revenue[cumulative_revenue['group'] == 'A']\n",
    "cumulative_revenue_b = cumulative_revenue[cumulative_revenue['group'] == 'B']\n",
    "\n",
    "# Строю график кумулятивной выручки по группам\n",
    "plt.figure(figsize=(14, 7))\n",
    "\n",
    "# График для группы A\n",
    "plt.plot(cumulative_revenue_a['date'],\n",
    "         cumulative_revenue_a['revenue'],\n",
    "         label='Группа A')\n",
    "\n",
    "# График для группы B\n",
    "plt.plot(cumulative_revenue_b['date'],\n",
    "         cumulative_revenue_b['revenue'],\n",
    "         label='Группа B')\n",
    "\n",
    "plt.title('Кумулятивная выручка по группам')\n",
    "plt.xlabel('Дата')\n",
    "plt.ylabel('Кумулятивная выручка')\n",
    "plt.legend()\n",
    "plt.grid(True)\n",
    "plt.show()"
   ]
  },
  {
   "cell_type": "markdown",
   "metadata": {},
   "source": [
    "***Выводы***"
   ]
  },
  {
   "cell_type": "markdown",
   "metadata": {},
   "source": [
    "Кумулятивная выручка обеих групп увеличивается на протяжении всего теста, но для группы B наблюдается более крупный скачок выручки в середине теста. Это может указывать на наличие аномально больших заказов в этот период."
   ]
  },
  {
   "cell_type": "markdown",
   "metadata": {},
   "source": [
    "#### Построю график кумулятивного среднего чека по группам. Сделаю выводы и предположения."
   ]
  },
  {
   "cell_type": "code",
   "execution_count": 50,
   "metadata": {},
   "outputs": [
    {
     "data": {
      "text/html": [
       "<div>\n",
       "<style scoped>\n",
       "    .dataframe tbody tr th:only-of-type {\n",
       "        vertical-align: middle;\n",
       "    }\n",
       "\n",
       "    .dataframe tbody tr th {\n",
       "        vertical-align: top;\n",
       "    }\n",
       "\n",
       "    .dataframe thead th {\n",
       "        text-align: right;\n",
       "    }\n",
       "</style>\n",
       "<table border=\"1\" class=\"dataframe\">\n",
       "  <thead>\n",
       "    <tr style=\"text-align: right;\">\n",
       "      <th></th>\n",
       "      <th>date</th>\n",
       "      <th>group</th>\n",
       "      <th>transaction</th>\n",
       "      <th>revenue</th>\n",
       "      <th>average_check</th>\n",
       "    </tr>\n",
       "  </thead>\n",
       "  <tbody>\n",
       "    <tr>\n",
       "      <th>0</th>\n",
       "      <td>2019-08-01</td>\n",
       "      <td>A</td>\n",
       "      <td>24</td>\n",
       "      <td>148579</td>\n",
       "      <td>6190.791667</td>\n",
       "    </tr>\n",
       "    <tr>\n",
       "      <th>1</th>\n",
       "      <td>2019-08-01</td>\n",
       "      <td>B</td>\n",
       "      <td>21</td>\n",
       "      <td>101217</td>\n",
       "      <td>4819.857143</td>\n",
       "    </tr>\n",
       "    <tr>\n",
       "      <th>2</th>\n",
       "      <td>2019-08-02</td>\n",
       "      <td>A</td>\n",
       "      <td>44</td>\n",
       "      <td>242401</td>\n",
       "      <td>5509.113636</td>\n",
       "    </tr>\n",
       "    <tr>\n",
       "      <th>3</th>\n",
       "      <td>2019-08-02</td>\n",
       "      <td>B</td>\n",
       "      <td>45</td>\n",
       "      <td>266748</td>\n",
       "      <td>5927.733333</td>\n",
       "    </tr>\n",
       "    <tr>\n",
       "      <th>4</th>\n",
       "      <td>2019-08-03</td>\n",
       "      <td>A</td>\n",
       "      <td>68</td>\n",
       "      <td>354874</td>\n",
       "      <td>5218.735294</td>\n",
       "    </tr>\n",
       "    <tr>\n",
       "      <th>...</th>\n",
       "      <td>...</td>\n",
       "      <td>...</td>\n",
       "      <td>...</td>\n",
       "      <td>...</td>\n",
       "      <td>...</td>\n",
       "    </tr>\n",
       "    <tr>\n",
       "      <th>57</th>\n",
       "      <td>2019-08-29</td>\n",
       "      <td>B</td>\n",
       "      <td>596</td>\n",
       "      <td>5559398</td>\n",
       "      <td>9327.848993</td>\n",
       "    </tr>\n",
       "    <tr>\n",
       "      <th>58</th>\n",
       "      <td>2019-08-30</td>\n",
       "      <td>A</td>\n",
       "      <td>545</td>\n",
       "      <td>4022970</td>\n",
       "      <td>7381.596330</td>\n",
       "    </tr>\n",
       "    <tr>\n",
       "      <th>59</th>\n",
       "      <td>2019-08-30</td>\n",
       "      <td>B</td>\n",
       "      <td>620</td>\n",
       "      <td>5774631</td>\n",
       "      <td>9313.920968</td>\n",
       "    </tr>\n",
       "    <tr>\n",
       "      <th>60</th>\n",
       "      <td>2019-08-31</td>\n",
       "      <td>A</td>\n",
       "      <td>557</td>\n",
       "      <td>4084803</td>\n",
       "      <td>7333.578097</td>\n",
       "    </tr>\n",
       "    <tr>\n",
       "      <th>61</th>\n",
       "      <td>2019-08-31</td>\n",
       "      <td>B</td>\n",
       "      <td>640</td>\n",
       "      <td>5907760</td>\n",
       "      <td>9230.875000</td>\n",
       "    </tr>\n",
       "  </tbody>\n",
       "</table>\n",
       "<p>62 rows × 5 columns</p>\n",
       "</div>"
      ],
      "text/plain": [
       "         date group  transaction  revenue  average_check\n",
       "0  2019-08-01     A           24   148579    6190.791667\n",
       "1  2019-08-01     B           21   101217    4819.857143\n",
       "2  2019-08-02     A           44   242401    5509.113636\n",
       "3  2019-08-02     B           45   266748    5927.733333\n",
       "4  2019-08-03     A           68   354874    5218.735294\n",
       "..        ...   ...          ...      ...            ...\n",
       "57 2019-08-29     B          596  5559398    9327.848993\n",
       "58 2019-08-30     A          545  4022970    7381.596330\n",
       "59 2019-08-30     B          620  5774631    9313.920968\n",
       "60 2019-08-31     A          557  4084803    7333.578097\n",
       "61 2019-08-31     B          640  5907760    9230.875000\n",
       "\n",
       "[62 rows x 5 columns]"
      ]
     },
     "execution_count": 50,
     "metadata": {},
     "output_type": "execute_result"
    }
   ],
   "source": [
    "# Создам кумулятивныt данныt по датам и группам\n",
    "cumulative_data = (\n",
    "    orders.groupby(['date', 'group']).agg({'transaction_id': 'count', 'revenue': 'sum'})\n",
    "    .rename(columns={'transaction_id': 'transaction'})\n",
    "    .groupby(level='group').cumsum().reset_index()\n",
    ")\n",
    "\n",
    "# Расчетаю кумулятивный средний чек\n",
    "cumulative_data['average_check'] = cumulative_data['revenue'] / cumulative_data['transaction']\n",
    "\n",
    "cumulative_data"
   ]
  },
  {
   "cell_type": "code",
   "execution_count": 51,
   "metadata": {},
   "outputs": [
    {
     "data": {
      "image/png": "[encoded data removed]",
      "text/plain": [
       "<Figure size 1400x700 with 1 Axes>"
      ]
     },
     "metadata": {},
     "output_type": "display_data"
    }
   ],
   "source": [
    "# Фильтрую данные для групп A и B\n",
    "cumulative_data_a = cumulative_data[cumulative_data['group'] == 'A']\n",
    "cumulative_data_b = cumulative_data[cumulative_data['group'] == 'B']\n",
    "\n",
    "# Строю графика кумулятивного среднего чека\n",
    "plt.figure(figsize=(14, 7))\n",
    "\n",
    "# График для группы A\n",
    "plt.plot(cumulative_data_a['date'],\n",
    "         cumulative_data_a['average_check'],\n",
    "         label='Группа A')\n",
    "\n",
    "# График для группы B\n",
    "plt.plot(cumulative_data_b['date'],\n",
    "         cumulative_data_b['average_check'],\n",
    "         label='Группа B')\n",
    "\n",
    "plt.title('Кумулятивный средний чек по группам')\n",
    "plt.xlabel('Дата')\n",
    "plt.ylabel('Кумулятивный средний чек')\n",
    "plt.legend()\n",
    "plt.grid(True)\n",
    "plt.show()"
   ]
  },
  {
   "cell_type": "markdown",
   "metadata": {},
   "source": [
    "***Выводы***"
   ]
  },
  {
   "cell_type": "markdown",
   "metadata": {},
   "source": [
    "График кумулятивного среднего чека показывает, что после резкого увеличения среднего чека у группы B, чек стабилизируется и даже начинает снижаться к концу периода теста. Это также может подтверждать наличие аномальных заказов, после которых средний чек начал нормализоваться. Средний чек в группе A более стабилен."
   ]
  },
  {
   "cell_type": "markdown",
   "metadata": {},
   "source": [
    "#### Построю график относительного изменения кумулятивного среднего чека группы B к группе A. Сделаю выводы и предположения."
   ]
  },
  {
   "cell_type": "markdown",
   "metadata": {},
   "source": [
    "Для построения графика относительных изменений среднего чека группы В к группе А используем ранее созданные таблицы `cumulative_data_a` и `cumulative_data_b`."
   ]
  },
  {
   "cell_type": "code",
   "execution_count": 52,
   "metadata": {},
   "outputs": [
    {
     "data": {
      "text/html": [
       "<div>\n",
       "<style scoped>\n",
       "    .dataframe tbody tr th:only-of-type {\n",
       "        vertical-align: middle;\n",
       "    }\n",
       "\n",
       "    .dataframe tbody tr th {\n",
       "        vertical-align: top;\n",
       "    }\n",
       "\n",
       "    .dataframe thead th {\n",
       "        text-align: right;\n",
       "    }\n",
       "</style>\n",
       "<table border=\"1\" class=\"dataframe\">\n",
       "  <thead>\n",
       "    <tr style=\"text-align: right;\">\n",
       "      <th></th>\n",
       "      <th>date</th>\n",
       "      <th>group_A</th>\n",
       "      <th>transaction_A</th>\n",
       "      <th>revenue_A</th>\n",
       "      <th>average_check_A</th>\n",
       "      <th>group_B</th>\n",
       "      <th>transaction_B</th>\n",
       "      <th>revenue_B</th>\n",
       "      <th>average_check_B</th>\n",
       "    </tr>\n",
       "  </thead>\n",
       "  <tbody>\n",
       "    <tr>\n",
       "      <th>0</th>\n",
       "      <td>2019-08-01</td>\n",
       "      <td>A</td>\n",
       "      <td>24</td>\n",
       "      <td>148579</td>\n",
       "      <td>6190.791667</td>\n",
       "      <td>B</td>\n",
       "      <td>21</td>\n",
       "      <td>101217</td>\n",
       "      <td>4819.857143</td>\n",
       "    </tr>\n",
       "    <tr>\n",
       "      <th>1</th>\n",
       "      <td>2019-08-02</td>\n",
       "      <td>A</td>\n",
       "      <td>44</td>\n",
       "      <td>242401</td>\n",
       "      <td>5509.113636</td>\n",
       "      <td>B</td>\n",
       "      <td>45</td>\n",
       "      <td>266748</td>\n",
       "      <td>5927.733333</td>\n",
       "    </tr>\n",
       "    <tr>\n",
       "      <th>2</th>\n",
       "      <td>2019-08-03</td>\n",
       "      <td>A</td>\n",
       "      <td>68</td>\n",
       "      <td>354874</td>\n",
       "      <td>5218.735294</td>\n",
       "      <td>B</td>\n",
       "      <td>61</td>\n",
       "      <td>380996</td>\n",
       "      <td>6245.836066</td>\n",
       "    </tr>\n",
       "    <tr>\n",
       "      <th>3</th>\n",
       "      <td>2019-08-04</td>\n",
       "      <td>A</td>\n",
       "      <td>84</td>\n",
       "      <td>425699</td>\n",
       "      <td>5067.845238</td>\n",
       "      <td>B</td>\n",
       "      <td>78</td>\n",
       "      <td>489567</td>\n",
       "      <td>6276.500000</td>\n",
       "    </tr>\n",
       "    <tr>\n",
       "      <th>4</th>\n",
       "      <td>2019-08-05</td>\n",
       "      <td>A</td>\n",
       "      <td>109</td>\n",
       "      <td>549917</td>\n",
       "      <td>5045.110092</td>\n",
       "      <td>B</td>\n",
       "      <td>101</td>\n",
       "      <td>581995</td>\n",
       "      <td>5762.326733</td>\n",
       "    </tr>\n",
       "    <tr>\n",
       "      <th>5</th>\n",
       "      <td>2019-08-06</td>\n",
       "      <td>A</td>\n",
       "      <td>127</td>\n",
       "      <td>598401</td>\n",
       "      <td>4711.818898</td>\n",
       "      <td>B</td>\n",
       "      <td>129</td>\n",
       "      <td>824337</td>\n",
       "      <td>6390.209302</td>\n",
       "    </tr>\n",
       "    <tr>\n",
       "      <th>6</th>\n",
       "      <td>2019-08-07</td>\n",
       "      <td>A</td>\n",
       "      <td>145</td>\n",
       "      <td>740818</td>\n",
       "      <td>5109.089655</td>\n",
       "      <td>B</td>\n",
       "      <td>153</td>\n",
       "      <td>1049671</td>\n",
       "      <td>6860.594771</td>\n",
       "    </tr>\n",
       "    <tr>\n",
       "      <th>7</th>\n",
       "      <td>2019-08-08</td>\n",
       "      <td>A</td>\n",
       "      <td>161</td>\n",
       "      <td>837097</td>\n",
       "      <td>5199.360248</td>\n",
       "      <td>B</td>\n",
       "      <td>180</td>\n",
       "      <td>1270589</td>\n",
       "      <td>7058.827778</td>\n",
       "    </tr>\n",
       "    <tr>\n",
       "      <th>8</th>\n",
       "      <td>2019-08-09</td>\n",
       "      <td>A</td>\n",
       "      <td>177</td>\n",
       "      <td>1025603</td>\n",
       "      <td>5794.367232</td>\n",
       "      <td>B</td>\n",
       "      <td>205</td>\n",
       "      <td>1431401</td>\n",
       "      <td>6982.443902</td>\n",
       "    </tr>\n",
       "    <tr>\n",
       "      <th>9</th>\n",
       "      <td>2019-08-10</td>\n",
       "      <td>A</td>\n",
       "      <td>193</td>\n",
       "      <td>1236098</td>\n",
       "      <td>6404.652850</td>\n",
       "      <td>B</td>\n",
       "      <td>228</td>\n",
       "      <td>1539203</td>\n",
       "      <td>6750.890351</td>\n",
       "    </tr>\n",
       "    <tr>\n",
       "      <th>10</th>\n",
       "      <td>2019-08-11</td>\n",
       "      <td>A</td>\n",
       "      <td>206</td>\n",
       "      <td>1313683</td>\n",
       "      <td>6377.101942</td>\n",
       "      <td>B</td>\n",
       "      <td>241</td>\n",
       "      <td>1592513</td>\n",
       "      <td>6607.937759</td>\n",
       "    </tr>\n",
       "    <tr>\n",
       "      <th>11</th>\n",
       "      <td>2019-08-12</td>\n",
       "      <td>A</td>\n",
       "      <td>230</td>\n",
       "      <td>1562873</td>\n",
       "      <td>6795.100000</td>\n",
       "      <td>B</td>\n",
       "      <td>264</td>\n",
       "      <td>1734067</td>\n",
       "      <td>6568.435606</td>\n",
       "    </tr>\n",
       "    <tr>\n",
       "      <th>12</th>\n",
       "      <td>2019-08-13</td>\n",
       "      <td>A</td>\n",
       "      <td>244</td>\n",
       "      <td>1826511</td>\n",
       "      <td>7485.700820</td>\n",
       "      <td>B</td>\n",
       "      <td>285</td>\n",
       "      <td>1853738</td>\n",
       "      <td>6504.343860</td>\n",
       "    </tr>\n",
       "    <tr>\n",
       "      <th>13</th>\n",
       "      <td>2019-08-14</td>\n",
       "      <td>A</td>\n",
       "      <td>268</td>\n",
       "      <td>1890852</td>\n",
       "      <td>7055.417910</td>\n",
       "      <td>B</td>\n",
       "      <td>308</td>\n",
       "      <td>2025446</td>\n",
       "      <td>6576.123377</td>\n",
       "    </tr>\n",
       "    <tr>\n",
       "      <th>14</th>\n",
       "      <td>2019-08-15</td>\n",
       "      <td>A</td>\n",
       "      <td>283</td>\n",
       "      <td>1979057</td>\n",
       "      <td>6993.134276</td>\n",
       "      <td>B</td>\n",
       "      <td>339</td>\n",
       "      <td>2367945</td>\n",
       "      <td>6985.088496</td>\n",
       "    </tr>\n",
       "    <tr>\n",
       "      <th>15</th>\n",
       "      <td>2019-08-16</td>\n",
       "      <td>A</td>\n",
       "      <td>301</td>\n",
       "      <td>2078908</td>\n",
       "      <td>6906.671096</td>\n",
       "      <td>B</td>\n",
       "      <td>359</td>\n",
       "      <td>2539635</td>\n",
       "      <td>7074.192201</td>\n",
       "    </tr>\n",
       "    <tr>\n",
       "      <th>16</th>\n",
       "      <td>2019-08-17</td>\n",
       "      <td>A</td>\n",
       "      <td>311</td>\n",
       "      <td>2129769</td>\n",
       "      <td>6848.131833</td>\n",
       "      <td>B</td>\n",
       "      <td>373</td>\n",
       "      <td>2620790</td>\n",
       "      <td>7026.246649</td>\n",
       "    </tr>\n",
       "    <tr>\n",
       "      <th>17</th>\n",
       "      <td>2019-08-18</td>\n",
       "      <td>A</td>\n",
       "      <td>328</td>\n",
       "      <td>2202167</td>\n",
       "      <td>6713.923780</td>\n",
       "      <td>B</td>\n",
       "      <td>382</td>\n",
       "      <td>2686621</td>\n",
       "      <td>7033.039267</td>\n",
       "    </tr>\n",
       "    <tr>\n",
       "      <th>18</th>\n",
       "      <td>2019-08-19</td>\n",
       "      <td>A</td>\n",
       "      <td>350</td>\n",
       "      <td>2391910</td>\n",
       "      <td>6834.028571</td>\n",
       "      <td>B</td>\n",
       "      <td>403</td>\n",
       "      <td>4116541</td>\n",
       "      <td>10214.741935</td>\n",
       "    </tr>\n",
       "    <tr>\n",
       "      <th>19</th>\n",
       "      <td>2019-08-20</td>\n",
       "      <td>A</td>\n",
       "      <td>362</td>\n",
       "      <td>2469529</td>\n",
       "      <td>6821.903315</td>\n",
       "      <td>B</td>\n",
       "      <td>423</td>\n",
       "      <td>4263815</td>\n",
       "      <td>10079.940898</td>\n",
       "    </tr>\n",
       "    <tr>\n",
       "      <th>20</th>\n",
       "      <td>2019-08-21</td>\n",
       "      <td>A</td>\n",
       "      <td>385</td>\n",
       "      <td>2643838</td>\n",
       "      <td>6867.111688</td>\n",
       "      <td>B</td>\n",
       "      <td>437</td>\n",
       "      <td>4426892</td>\n",
       "      <td>10130.187643</td>\n",
       "    </tr>\n",
       "    <tr>\n",
       "      <th>21</th>\n",
       "      <td>2019-08-22</td>\n",
       "      <td>A</td>\n",
       "      <td>401</td>\n",
       "      <td>2756579</td>\n",
       "      <td>6874.261845</td>\n",
       "      <td>B</td>\n",
       "      <td>462</td>\n",
       "      <td>4589247</td>\n",
       "      <td>9933.435065</td>\n",
       "    </tr>\n",
       "    <tr>\n",
       "      <th>22</th>\n",
       "      <td>2019-08-23</td>\n",
       "      <td>A</td>\n",
       "      <td>426</td>\n",
       "      <td>2874367</td>\n",
       "      <td>6747.340376</td>\n",
       "      <td>B</td>\n",
       "      <td>477</td>\n",
       "      <td>4703216</td>\n",
       "      <td>9859.991614</td>\n",
       "    </tr>\n",
       "    <tr>\n",
       "      <th>23</th>\n",
       "      <td>2019-08-24</td>\n",
       "      <td>A</td>\n",
       "      <td>441</td>\n",
       "      <td>3002070</td>\n",
       "      <td>6807.414966</td>\n",
       "      <td>B</td>\n",
       "      <td>493</td>\n",
       "      <td>4798722</td>\n",
       "      <td>9733.716024</td>\n",
       "    </tr>\n",
       "    <tr>\n",
       "      <th>24</th>\n",
       "      <td>2019-08-25</td>\n",
       "      <td>A</td>\n",
       "      <td>451</td>\n",
       "      <td>3070704</td>\n",
       "      <td>6808.656319</td>\n",
       "      <td>B</td>\n",
       "      <td>507</td>\n",
       "      <td>4901584</td>\n",
       "      <td>9667.818540</td>\n",
       "    </tr>\n",
       "    <tr>\n",
       "      <th>25</th>\n",
       "      <td>2019-08-26</td>\n",
       "      <td>A</td>\n",
       "      <td>467</td>\n",
       "      <td>3227918</td>\n",
       "      <td>6912.029979</td>\n",
       "      <td>B</td>\n",
       "      <td>532</td>\n",
       "      <td>5084583</td>\n",
       "      <td>9557.486842</td>\n",
       "    </tr>\n",
       "    <tr>\n",
       "      <th>26</th>\n",
       "      <td>2019-08-27</td>\n",
       "      <td>A</td>\n",
       "      <td>495</td>\n",
       "      <td>3514698</td>\n",
       "      <td>7100.400000</td>\n",
       "      <td>B</td>\n",
       "      <td>548</td>\n",
       "      <td>5232260</td>\n",
       "      <td>9547.919708</td>\n",
       "    </tr>\n",
       "    <tr>\n",
       "      <th>27</th>\n",
       "      <td>2019-08-28</td>\n",
       "      <td>A</td>\n",
       "      <td>512</td>\n",
       "      <td>3615820</td>\n",
       "      <td>7062.148438</td>\n",
       "      <td>B</td>\n",
       "      <td>576</td>\n",
       "      <td>5328268</td>\n",
       "      <td>9250.465278</td>\n",
       "    </tr>\n",
       "    <tr>\n",
       "      <th>28</th>\n",
       "      <td>2019-08-29</td>\n",
       "      <td>A</td>\n",
       "      <td>534</td>\n",
       "      <td>3936510</td>\n",
       "      <td>7371.741573</td>\n",
       "      <td>B</td>\n",
       "      <td>596</td>\n",
       "      <td>5559398</td>\n",
       "      <td>9327.848993</td>\n",
       "    </tr>\n",
       "    <tr>\n",
       "      <th>29</th>\n",
       "      <td>2019-08-30</td>\n",
       "      <td>A</td>\n",
       "      <td>545</td>\n",
       "      <td>4022970</td>\n",
       "      <td>7381.596330</td>\n",
       "      <td>B</td>\n",
       "      <td>620</td>\n",
       "      <td>5774631</td>\n",
       "      <td>9313.920968</td>\n",
       "    </tr>\n",
       "    <tr>\n",
       "      <th>30</th>\n",
       "      <td>2019-08-31</td>\n",
       "      <td>A</td>\n",
       "      <td>557</td>\n",
       "      <td>4084803</td>\n",
       "      <td>7333.578097</td>\n",
       "      <td>B</td>\n",
       "      <td>640</td>\n",
       "      <td>5907760</td>\n",
       "      <td>9230.875000</td>\n",
       "    </tr>\n",
       "  </tbody>\n",
       "</table>\n",
       "</div>"
      ],
      "text/plain": [
       "         date group_A  transaction_A  revenue_A  average_check_A group_B  \\\n",
       "0  2019-08-01       A             24     148579      6190.791667       B   \n",
       "1  2019-08-02       A             44     242401      5509.113636       B   \n",
       "2  2019-08-03       A             68     354874      5218.735294       B   \n",
       "3  2019-08-04       A             84     425699      5067.845238       B   \n",
       "4  2019-08-05       A            109     549917      5045.110092       B   \n",
       "5  2019-08-06       A            127     598401      4711.818898       B   \n",
       "6  2019-08-07       A            145     740818      5109.089655       B   \n",
       "7  2019-08-08       A            161     837097      5199.360248       B   \n",
       "8  2019-08-09       A            177    1025603      5794.367232       B   \n",
       "9  2019-08-10       A            193    1236098      6404.652850       B   \n",
       "10 2019-08-11       A            206    1313683      6377.101942       B   \n",
       "11 2019-08-12       A            230    1562873      6795.100000       B   \n",
       "12 2019-08-13       A            244    1826511      7485.700820       B   \n",
       "13 2019-08-14       A            268    1890852      7055.417910       B   \n",
       "14 2019-08-15       A            283    1979057      6993.134276       B   \n",
       "15 2019-08-16       A            301    2078908      6906.671096       B   \n",
       "16 2019-08-17       A            311    2129769      6848.131833       B   \n",
       "17 2019-08-18       A            328    2202167      6713.923780       B   \n",
       "18 2019-08-19       A            350    2391910      6834.028571       B   \n",
       "19 2019-08-20       A            362    2469529      6821.903315       B   \n",
       "20 2019-08-21       A            385    2643838      6867.111688       B   \n",
       "21 2019-08-22       A            401    2756579      6874.261845       B   \n",
       "22 2019-08-23       A            426    2874367      6747.340376       B   \n",
       "23 2019-08-24       A            441    3002070      6807.414966       B   \n",
       "24 2019-08-25       A            451    3070704      6808.656319       B   \n",
       "25 2019-08-26       A            467    3227918      6912.029979       B   \n",
       "26 2019-08-27       A            495    3514698      7100.400000       B   \n",
       "27 2019-08-28       A            512    3615820      7062.148438       B   \n",
       "28 2019-08-29       A            534    3936510      7371.741573       B   \n",
       "29 2019-08-30       A            545    4022970      7381.596330       B   \n",
       "30 2019-08-31       A            557    4084803      7333.578097       B   \n",
       "\n",
       "    transaction_B  revenue_B  average_check_B  \n",
       "0              21     101217      4819.857143  \n",
       "1              45     266748      5927.733333  \n",
       "2              61     380996      6245.836066  \n",
       "3              78     489567      6276.500000  \n",
       "4             101     581995      5762.326733  \n",
       "5             129     824337      6390.209302  \n",
       "6             153    1049671      6860.594771  \n",
       "7             180    1270589      7058.827778  \n",
       "8             205    1431401      6982.443902  \n",
       "9             228    1539203      6750.890351  \n",
       "10            241    1592513      6607.937759  \n",
       "11            264    1734067      6568.435606  \n",
       "12            285    1853738      6504.343860  \n",
       "13            308    2025446      6576.123377  \n",
       "14            339    2367945      6985.088496  \n",
       "15            359    2539635      7074.192201  \n",
       "16            373    2620790      7026.246649  \n",
       "17            382    2686621      7033.039267  \n",
       "18            403    4116541     10214.741935  \n",
       "19            423    4263815     10079.940898  \n",
       "20            437    4426892     10130.187643  \n",
       "21            462    4589247      9933.435065  \n",
       "22            477    4703216      9859.991614  \n",
       "23            493    4798722      9733.716024  \n",
       "24            507    4901584      9667.818540  \n",
       "25            532    5084583      9557.486842  \n",
       "26            548    5232260      9547.919708  \n",
       "27            576    5328268      9250.465278  \n",
       "28            596    5559398      9327.848993  \n",
       "29            620    5774631      9313.920968  \n",
       "30            640    5907760      9230.875000  "
      ]
     },
     "execution_count": 52,
     "metadata": {},
     "output_type": "execute_result"
    }
   ],
   "source": [
    "# Объединяю данные по дате\n",
    "merged_data = pd.merge(cumulative_data_a, cumulative_data_b, on='date', suffixes=['_A', '_B'])\n",
    "merged_data"
   ]
  },
  {
   "cell_type": "code",
   "execution_count": 53,
   "metadata": {},
   "outputs": [
    {
     "data": {
      "text/html": [
       "<div>\n",
       "<style scoped>\n",
       "    .dataframe tbody tr th:only-of-type {\n",
       "        vertical-align: middle;\n",
       "    }\n",
       "\n",
       "    .dataframe tbody tr th {\n",
       "        vertical-align: top;\n",
       "    }\n",
       "\n",
       "    .dataframe thead th {\n",
       "        text-align: right;\n",
       "    }\n",
       "</style>\n",
       "<table border=\"1\" class=\"dataframe\">\n",
       "  <thead>\n",
       "    <tr style=\"text-align: right;\">\n",
       "      <th></th>\n",
       "      <th>date</th>\n",
       "      <th>group_A</th>\n",
       "      <th>transaction_A</th>\n",
       "      <th>revenue_A</th>\n",
       "      <th>average_check_A</th>\n",
       "      <th>group_B</th>\n",
       "      <th>transaction_B</th>\n",
       "      <th>revenue_B</th>\n",
       "      <th>average_check_B</th>\n",
       "      <th>relative_change</th>\n",
       "    </tr>\n",
       "  </thead>\n",
       "  <tbody>\n",
       "    <tr>\n",
       "      <th>0</th>\n",
       "      <td>2019-08-01</td>\n",
       "      <td>A</td>\n",
       "      <td>24</td>\n",
       "      <td>148579</td>\n",
       "      <td>6190.791667</td>\n",
       "      <td>B</td>\n",
       "      <td>21</td>\n",
       "      <td>101217</td>\n",
       "      <td>4819.857143</td>\n",
       "      <td>-0.221447</td>\n",
       "    </tr>\n",
       "    <tr>\n",
       "      <th>1</th>\n",
       "      <td>2019-08-02</td>\n",
       "      <td>A</td>\n",
       "      <td>44</td>\n",
       "      <td>242401</td>\n",
       "      <td>5509.113636</td>\n",
       "      <td>B</td>\n",
       "      <td>45</td>\n",
       "      <td>266748</td>\n",
       "      <td>5927.733333</td>\n",
       "      <td>0.075987</td>\n",
       "    </tr>\n",
       "    <tr>\n",
       "      <th>2</th>\n",
       "      <td>2019-08-03</td>\n",
       "      <td>A</td>\n",
       "      <td>68</td>\n",
       "      <td>354874</td>\n",
       "      <td>5218.735294</td>\n",
       "      <td>B</td>\n",
       "      <td>61</td>\n",
       "      <td>380996</td>\n",
       "      <td>6245.836066</td>\n",
       "      <td>0.196810</td>\n",
       "    </tr>\n",
       "    <tr>\n",
       "      <th>3</th>\n",
       "      <td>2019-08-04</td>\n",
       "      <td>A</td>\n",
       "      <td>84</td>\n",
       "      <td>425699</td>\n",
       "      <td>5067.845238</td>\n",
       "      <td>B</td>\n",
       "      <td>78</td>\n",
       "      <td>489567</td>\n",
       "      <td>6276.500000</td>\n",
       "      <td>0.238495</td>\n",
       "    </tr>\n",
       "    <tr>\n",
       "      <th>4</th>\n",
       "      <td>2019-08-05</td>\n",
       "      <td>A</td>\n",
       "      <td>109</td>\n",
       "      <td>549917</td>\n",
       "      <td>5045.110092</td>\n",
       "      <td>B</td>\n",
       "      <td>101</td>\n",
       "      <td>581995</td>\n",
       "      <td>5762.326733</td>\n",
       "      <td>0.142161</td>\n",
       "    </tr>\n",
       "    <tr>\n",
       "      <th>5</th>\n",
       "      <td>2019-08-06</td>\n",
       "      <td>A</td>\n",
       "      <td>127</td>\n",
       "      <td>598401</td>\n",
       "      <td>4711.818898</td>\n",
       "      <td>B</td>\n",
       "      <td>129</td>\n",
       "      <td>824337</td>\n",
       "      <td>6390.209302</td>\n",
       "      <td>0.356209</td>\n",
       "    </tr>\n",
       "    <tr>\n",
       "      <th>6</th>\n",
       "      <td>2019-08-07</td>\n",
       "      <td>A</td>\n",
       "      <td>145</td>\n",
       "      <td>740818</td>\n",
       "      <td>5109.089655</td>\n",
       "      <td>B</td>\n",
       "      <td>153</td>\n",
       "      <td>1049671</td>\n",
       "      <td>6860.594771</td>\n",
       "      <td>0.342821</td>\n",
       "    </tr>\n",
       "    <tr>\n",
       "      <th>7</th>\n",
       "      <td>2019-08-08</td>\n",
       "      <td>A</td>\n",
       "      <td>161</td>\n",
       "      <td>837097</td>\n",
       "      <td>5199.360248</td>\n",
       "      <td>B</td>\n",
       "      <td>180</td>\n",
       "      <td>1270589</td>\n",
       "      <td>7058.827778</td>\n",
       "      <td>0.357634</td>\n",
       "    </tr>\n",
       "    <tr>\n",
       "      <th>8</th>\n",
       "      <td>2019-08-09</td>\n",
       "      <td>A</td>\n",
       "      <td>177</td>\n",
       "      <td>1025603</td>\n",
       "      <td>5794.367232</td>\n",
       "      <td>B</td>\n",
       "      <td>205</td>\n",
       "      <td>1431401</td>\n",
       "      <td>6982.443902</td>\n",
       "      <td>0.205040</td>\n",
       "    </tr>\n",
       "    <tr>\n",
       "      <th>9</th>\n",
       "      <td>2019-08-10</td>\n",
       "      <td>A</td>\n",
       "      <td>193</td>\n",
       "      <td>1236098</td>\n",
       "      <td>6404.652850</td>\n",
       "      <td>B</td>\n",
       "      <td>228</td>\n",
       "      <td>1539203</td>\n",
       "      <td>6750.890351</td>\n",
       "      <td>0.054060</td>\n",
       "    </tr>\n",
       "    <tr>\n",
       "      <th>10</th>\n",
       "      <td>2019-08-11</td>\n",
       "      <td>A</td>\n",
       "      <td>206</td>\n",
       "      <td>1313683</td>\n",
       "      <td>6377.101942</td>\n",
       "      <td>B</td>\n",
       "      <td>241</td>\n",
       "      <td>1592513</td>\n",
       "      <td>6607.937759</td>\n",
       "      <td>0.036198</td>\n",
       "    </tr>\n",
       "    <tr>\n",
       "      <th>11</th>\n",
       "      <td>2019-08-12</td>\n",
       "      <td>A</td>\n",
       "      <td>230</td>\n",
       "      <td>1562873</td>\n",
       "      <td>6795.100000</td>\n",
       "      <td>B</td>\n",
       "      <td>264</td>\n",
       "      <td>1734067</td>\n",
       "      <td>6568.435606</td>\n",
       "      <td>-0.033357</td>\n",
       "    </tr>\n",
       "    <tr>\n",
       "      <th>12</th>\n",
       "      <td>2019-08-13</td>\n",
       "      <td>A</td>\n",
       "      <td>244</td>\n",
       "      <td>1826511</td>\n",
       "      <td>7485.700820</td>\n",
       "      <td>B</td>\n",
       "      <td>285</td>\n",
       "      <td>1853738</td>\n",
       "      <td>6504.343860</td>\n",
       "      <td>-0.131098</td>\n",
       "    </tr>\n",
       "    <tr>\n",
       "      <th>13</th>\n",
       "      <td>2019-08-14</td>\n",
       "      <td>A</td>\n",
       "      <td>268</td>\n",
       "      <td>1890852</td>\n",
       "      <td>7055.417910</td>\n",
       "      <td>B</td>\n",
       "      <td>308</td>\n",
       "      <td>2025446</td>\n",
       "      <td>6576.123377</td>\n",
       "      <td>-0.067933</td>\n",
       "    </tr>\n",
       "    <tr>\n",
       "      <th>14</th>\n",
       "      <td>2019-08-15</td>\n",
       "      <td>A</td>\n",
       "      <td>283</td>\n",
       "      <td>1979057</td>\n",
       "      <td>6993.134276</td>\n",
       "      <td>B</td>\n",
       "      <td>339</td>\n",
       "      <td>2367945</td>\n",
       "      <td>6985.088496</td>\n",
       "      <td>-0.001151</td>\n",
       "    </tr>\n",
       "    <tr>\n",
       "      <th>15</th>\n",
       "      <td>2019-08-16</td>\n",
       "      <td>A</td>\n",
       "      <td>301</td>\n",
       "      <td>2078908</td>\n",
       "      <td>6906.671096</td>\n",
       "      <td>B</td>\n",
       "      <td>359</td>\n",
       "      <td>2539635</td>\n",
       "      <td>7074.192201</td>\n",
       "      <td>0.024255</td>\n",
       "    </tr>\n",
       "    <tr>\n",
       "      <th>16</th>\n",
       "      <td>2019-08-17</td>\n",
       "      <td>A</td>\n",
       "      <td>311</td>\n",
       "      <td>2129769</td>\n",
       "      <td>6848.131833</td>\n",
       "      <td>B</td>\n",
       "      <td>373</td>\n",
       "      <td>2620790</td>\n",
       "      <td>7026.246649</td>\n",
       "      <td>0.026009</td>\n",
       "    </tr>\n",
       "    <tr>\n",
       "      <th>17</th>\n",
       "      <td>2019-08-18</td>\n",
       "      <td>A</td>\n",
       "      <td>328</td>\n",
       "      <td>2202167</td>\n",
       "      <td>6713.923780</td>\n",
       "      <td>B</td>\n",
       "      <td>382</td>\n",
       "      <td>2686621</td>\n",
       "      <td>7033.039267</td>\n",
       "      <td>0.047530</td>\n",
       "    </tr>\n",
       "    <tr>\n",
       "      <th>18</th>\n",
       "      <td>2019-08-19</td>\n",
       "      <td>A</td>\n",
       "      <td>350</td>\n",
       "      <td>2391910</td>\n",
       "      <td>6834.028571</td>\n",
       "      <td>B</td>\n",
       "      <td>403</td>\n",
       "      <td>4116541</td>\n",
       "      <td>10214.741935</td>\n",
       "      <td>0.494688</td>\n",
       "    </tr>\n",
       "    <tr>\n",
       "      <th>19</th>\n",
       "      <td>2019-08-20</td>\n",
       "      <td>A</td>\n",
       "      <td>362</td>\n",
       "      <td>2469529</td>\n",
       "      <td>6821.903315</td>\n",
       "      <td>B</td>\n",
       "      <td>423</td>\n",
       "      <td>4263815</td>\n",
       "      <td>10079.940898</td>\n",
       "      <td>0.477585</td>\n",
       "    </tr>\n",
       "    <tr>\n",
       "      <th>20</th>\n",
       "      <td>2019-08-21</td>\n",
       "      <td>A</td>\n",
       "      <td>385</td>\n",
       "      <td>2643838</td>\n",
       "      <td>6867.111688</td>\n",
       "      <td>B</td>\n",
       "      <td>437</td>\n",
       "      <td>4426892</td>\n",
       "      <td>10130.187643</td>\n",
       "      <td>0.475174</td>\n",
       "    </tr>\n",
       "    <tr>\n",
       "      <th>21</th>\n",
       "      <td>2019-08-22</td>\n",
       "      <td>A</td>\n",
       "      <td>401</td>\n",
       "      <td>2756579</td>\n",
       "      <td>6874.261845</td>\n",
       "      <td>B</td>\n",
       "      <td>462</td>\n",
       "      <td>4589247</td>\n",
       "      <td>9933.435065</td>\n",
       "      <td>0.445018</td>\n",
       "    </tr>\n",
       "    <tr>\n",
       "      <th>22</th>\n",
       "      <td>2019-08-23</td>\n",
       "      <td>A</td>\n",
       "      <td>426</td>\n",
       "      <td>2874367</td>\n",
       "      <td>6747.340376</td>\n",
       "      <td>B</td>\n",
       "      <td>477</td>\n",
       "      <td>4703216</td>\n",
       "      <td>9859.991614</td>\n",
       "      <td>0.461315</td>\n",
       "    </tr>\n",
       "    <tr>\n",
       "      <th>23</th>\n",
       "      <td>2019-08-24</td>\n",
       "      <td>A</td>\n",
       "      <td>441</td>\n",
       "      <td>3002070</td>\n",
       "      <td>6807.414966</td>\n",
       "      <td>B</td>\n",
       "      <td>493</td>\n",
       "      <td>4798722</td>\n",
       "      <td>9733.716024</td>\n",
       "      <td>0.429870</td>\n",
       "    </tr>\n",
       "    <tr>\n",
       "      <th>24</th>\n",
       "      <td>2019-08-25</td>\n",
       "      <td>A</td>\n",
       "      <td>451</td>\n",
       "      <td>3070704</td>\n",
       "      <td>6808.656319</td>\n",
       "      <td>B</td>\n",
       "      <td>507</td>\n",
       "      <td>4901584</td>\n",
       "      <td>9667.818540</td>\n",
       "      <td>0.419930</td>\n",
       "    </tr>\n",
       "    <tr>\n",
       "      <th>25</th>\n",
       "      <td>2019-08-26</td>\n",
       "      <td>A</td>\n",
       "      <td>467</td>\n",
       "      <td>3227918</td>\n",
       "      <td>6912.029979</td>\n",
       "      <td>B</td>\n",
       "      <td>532</td>\n",
       "      <td>5084583</td>\n",
       "      <td>9557.486842</td>\n",
       "      <td>0.382732</td>\n",
       "    </tr>\n",
       "    <tr>\n",
       "      <th>26</th>\n",
       "      <td>2019-08-27</td>\n",
       "      <td>A</td>\n",
       "      <td>495</td>\n",
       "      <td>3514698</td>\n",
       "      <td>7100.400000</td>\n",
       "      <td>B</td>\n",
       "      <td>548</td>\n",
       "      <td>5232260</td>\n",
       "      <td>9547.919708</td>\n",
       "      <td>0.344702</td>\n",
       "    </tr>\n",
       "    <tr>\n",
       "      <th>27</th>\n",
       "      <td>2019-08-28</td>\n",
       "      <td>A</td>\n",
       "      <td>512</td>\n",
       "      <td>3615820</td>\n",
       "      <td>7062.148438</td>\n",
       "      <td>B</td>\n",
       "      <td>576</td>\n",
       "      <td>5328268</td>\n",
       "      <td>9250.465278</td>\n",
       "      <td>0.309866</td>\n",
       "    </tr>\n",
       "    <tr>\n",
       "      <th>28</th>\n",
       "      <td>2019-08-29</td>\n",
       "      <td>A</td>\n",
       "      <td>534</td>\n",
       "      <td>3936510</td>\n",
       "      <td>7371.741573</td>\n",
       "      <td>B</td>\n",
       "      <td>596</td>\n",
       "      <td>5559398</td>\n",
       "      <td>9327.848993</td>\n",
       "      <td>0.265352</td>\n",
       "    </tr>\n",
       "    <tr>\n",
       "      <th>29</th>\n",
       "      <td>2019-08-30</td>\n",
       "      <td>A</td>\n",
       "      <td>545</td>\n",
       "      <td>4022970</td>\n",
       "      <td>7381.596330</td>\n",
       "      <td>B</td>\n",
       "      <td>620</td>\n",
       "      <td>5774631</td>\n",
       "      <td>9313.920968</td>\n",
       "      <td>0.261776</td>\n",
       "    </tr>\n",
       "    <tr>\n",
       "      <th>30</th>\n",
       "      <td>2019-08-31</td>\n",
       "      <td>A</td>\n",
       "      <td>557</td>\n",
       "      <td>4084803</td>\n",
       "      <td>7333.578097</td>\n",
       "      <td>B</td>\n",
       "      <td>640</td>\n",
       "      <td>5907760</td>\n",
       "      <td>9230.875000</td>\n",
       "      <td>0.258714</td>\n",
       "    </tr>\n",
       "  </tbody>\n",
       "</table>\n",
       "</div>"
      ],
      "text/plain": [
       "         date group_A  transaction_A  revenue_A  average_check_A group_B  \\\n",
       "0  2019-08-01       A             24     148579      6190.791667       B   \n",
       "1  2019-08-02       A             44     242401      5509.113636       B   \n",
       "2  2019-08-03       A             68     354874      5218.735294       B   \n",
       "3  2019-08-04       A             84     425699      5067.845238       B   \n",
       "4  2019-08-05       A            109     549917      5045.110092       B   \n",
       "5  2019-08-06       A            127     598401      4711.818898       B   \n",
       "6  2019-08-07       A            145     740818      5109.089655       B   \n",
       "7  2019-08-08       A            161     837097      5199.360248       B   \n",
       "8  2019-08-09       A            177    1025603      5794.367232       B   \n",
       "9  2019-08-10       A            193    1236098      6404.652850       B   \n",
       "10 2019-08-11       A            206    1313683      6377.101942       B   \n",
       "11 2019-08-12       A            230    1562873      6795.100000       B   \n",
       "12 2019-08-13       A            244    1826511      7485.700820       B   \n",
       "13 2019-08-14       A            268    1890852      7055.417910       B   \n",
       "14 2019-08-15       A            283    1979057      6993.134276       B   \n",
       "15 2019-08-16       A            301    2078908      6906.671096       B   \n",
       "16 2019-08-17       A            311    2129769      6848.131833       B   \n",
       "17 2019-08-18       A            328    2202167      6713.923780       B   \n",
       "18 2019-08-19       A            350    2391910      6834.028571       B   \n",
       "19 2019-08-20       A            362    2469529      6821.903315       B   \n",
       "20 2019-08-21       A            385    2643838      6867.111688       B   \n",
       "21 2019-08-22       A            401    2756579      6874.261845       B   \n",
       "22 2019-08-23       A            426    2874367      6747.340376       B   \n",
       "23 2019-08-24       A            441    3002070      6807.414966       B   \n",
       "24 2019-08-25       A            451    3070704      6808.656319       B   \n",
       "25 2019-08-26       A            467    3227918      6912.029979       B   \n",
       "26 2019-08-27       A            495    3514698      7100.400000       B   \n",
       "27 2019-08-28       A            512    3615820      7062.148438       B   \n",
       "28 2019-08-29       A            534    3936510      7371.741573       B   \n",
       "29 2019-08-30       A            545    4022970      7381.596330       B   \n",
       "30 2019-08-31       A            557    4084803      7333.578097       B   \n",
       "\n",
       "    transaction_B  revenue_B  average_check_B  relative_change  \n",
       "0              21     101217      4819.857143        -0.221447  \n",
       "1              45     266748      5927.733333         0.075987  \n",
       "2              61     380996      6245.836066         0.196810  \n",
       "3              78     489567      6276.500000         0.238495  \n",
       "4             101     581995      5762.326733         0.142161  \n",
       "5             129     824337      6390.209302         0.356209  \n",
       "6             153    1049671      6860.594771         0.342821  \n",
       "7             180    1270589      7058.827778         0.357634  \n",
       "8             205    1431401      6982.443902         0.205040  \n",
       "9             228    1539203      6750.890351         0.054060  \n",
       "10            241    1592513      6607.937759         0.036198  \n",
       "11            264    1734067      6568.435606        -0.033357  \n",
       "12            285    1853738      6504.343860        -0.131098  \n",
       "13            308    2025446      6576.123377        -0.067933  \n",
       "14            339    2367945      6985.088496        -0.001151  \n",
       "15            359    2539635      7074.192201         0.024255  \n",
       "16            373    2620790      7026.246649         0.026009  \n",
       "17            382    2686621      7033.039267         0.047530  \n",
       "18            403    4116541     10214.741935         0.494688  \n",
       "19            423    4263815     10079.940898         0.477585  \n",
       "20            437    4426892     10130.187643         0.475174  \n",
       "21            462    4589247      9933.435065         0.445018  \n",
       "22            477    4703216      9859.991614         0.461315  \n",
       "23            493    4798722      9733.716024         0.429870  \n",
       "24            507    4901584      9667.818540         0.419930  \n",
       "25            532    5084583      9557.486842         0.382732  \n",
       "26            548    5232260      9547.919708         0.344702  \n",
       "27            576    5328268      9250.465278         0.309866  \n",
       "28            596    5559398      9327.848993         0.265352  \n",
       "29            620    5774631      9313.920968         0.261776  \n",
       "30            640    5907760      9230.875000         0.258714  "
      ]
     },
     "execution_count": 53,
     "metadata": {},
     "output_type": "execute_result"
    }
   ],
   "source": [
    "# Расчитываю относительное изменения кумулятивного среднего чека группы B к группе A\n",
    "# Вычитаю 1, чтобы получить процентное изменение.\n",
    "merged_data['relative_change'] = (merged_data['average_check_B'] / merged_data['average_check_A']) - 1\n",
    "merged_data"
   ]
  },
  {
   "cell_type": "code",
   "execution_count": 54,
   "metadata": {},
   "outputs": [
    {
     "data": {
      "image/png": "[encoded data removed]",
      "text/plain": [
       "<Figure size 1400x700 with 1 Axes>"
      ]
     },
     "metadata": {},
     "output_type": "display_data"
    }
   ],
   "source": [
    "# Строю график относительного изменения кумулятивного среднего чека\n",
    "plt.figure(figsize=(14, 7))\n",
    "plt.plot(merged_data['date'], merged_data['relative_change'], label='Относительное изменение')\n",
    "plt.axhline(y=0, color='black', linestyle='--')\n",
    "plt.title('Относительное изменение кумулятивного среднего чека группы B к группе A')\n",
    "plt.xlabel('Дата')\n",
    "plt.ylabel('Относительное изменение')\n",
    "plt.legend()\n",
    "plt.grid(True)\n",
    "plt.show()"
   ]
  },
  {
   "cell_type": "markdown",
   "metadata": {},
   "source": [
    "***Выводы***"
   ]
  },
  {
   "cell_type": "markdown",
   "metadata": {},
   "source": [
    "График относительных изменений показывает, что после начальных колебаний, группа B значительно вырывается вперед, достигая пика, после чего следует спад. Снова, это подчеркивает потенциальное влияние аномально дорогих заказов в группе B."
   ]
  },
  {
   "cell_type": "markdown",
   "metadata": {},
   "source": [
    "#### Построю график кумулятивного среднего количества заказов на посетителя по группам. Сделаю выводы и предположения."
   ]
  },
  {
   "cell_type": "code",
   "execution_count": 55,
   "metadata": {},
   "outputs": [
    {
     "data": {
      "text/html": [
       "<div>\n",
       "<style scoped>\n",
       "    .dataframe tbody tr th:only-of-type {\n",
       "        vertical-align: middle;\n",
       "    }\n",
       "\n",
       "    .dataframe tbody tr th {\n",
       "        vertical-align: top;\n",
       "    }\n",
       "\n",
       "    .dataframe thead th {\n",
       "        text-align: right;\n",
       "    }\n",
       "</style>\n",
       "<table border=\"1\" class=\"dataframe\">\n",
       "  <thead>\n",
       "    <tr style=\"text-align: right;\">\n",
       "      <th></th>\n",
       "      <th>date</th>\n",
       "      <th>group</th>\n",
       "      <th>orders</th>\n",
       "    </tr>\n",
       "  </thead>\n",
       "  <tbody>\n",
       "    <tr>\n",
       "      <th>0</th>\n",
       "      <td>2019-08-01</td>\n",
       "      <td>A</td>\n",
       "      <td>24</td>\n",
       "    </tr>\n",
       "    <tr>\n",
       "      <th>1</th>\n",
       "      <td>2019-08-01</td>\n",
       "      <td>B</td>\n",
       "      <td>21</td>\n",
       "    </tr>\n",
       "    <tr>\n",
       "      <th>2</th>\n",
       "      <td>2019-08-02</td>\n",
       "      <td>A</td>\n",
       "      <td>20</td>\n",
       "    </tr>\n",
       "    <tr>\n",
       "      <th>3</th>\n",
       "      <td>2019-08-02</td>\n",
       "      <td>B</td>\n",
       "      <td>24</td>\n",
       "    </tr>\n",
       "    <tr>\n",
       "      <th>4</th>\n",
       "      <td>2019-08-03</td>\n",
       "      <td>A</td>\n",
       "      <td>24</td>\n",
       "    </tr>\n",
       "    <tr>\n",
       "      <th>...</th>\n",
       "      <td>...</td>\n",
       "      <td>...</td>\n",
       "      <td>...</td>\n",
       "    </tr>\n",
       "    <tr>\n",
       "      <th>57</th>\n",
       "      <td>2019-08-29</td>\n",
       "      <td>B</td>\n",
       "      <td>20</td>\n",
       "    </tr>\n",
       "    <tr>\n",
       "      <th>58</th>\n",
       "      <td>2019-08-30</td>\n",
       "      <td>A</td>\n",
       "      <td>11</td>\n",
       "    </tr>\n",
       "    <tr>\n",
       "      <th>59</th>\n",
       "      <td>2019-08-30</td>\n",
       "      <td>B</td>\n",
       "      <td>24</td>\n",
       "    </tr>\n",
       "    <tr>\n",
       "      <th>60</th>\n",
       "      <td>2019-08-31</td>\n",
       "      <td>A</td>\n",
       "      <td>12</td>\n",
       "    </tr>\n",
       "    <tr>\n",
       "      <th>61</th>\n",
       "      <td>2019-08-31</td>\n",
       "      <td>B</td>\n",
       "      <td>20</td>\n",
       "    </tr>\n",
       "  </tbody>\n",
       "</table>\n",
       "<p>62 rows × 3 columns</p>\n",
       "</div>"
      ],
      "text/plain": [
       "         date group  orders\n",
       "0  2019-08-01     A      24\n",
       "1  2019-08-01     B      21\n",
       "2  2019-08-02     A      20\n",
       "3  2019-08-02     B      24\n",
       "4  2019-08-03     A      24\n",
       "..        ...   ...     ...\n",
       "57 2019-08-29     B      20\n",
       "58 2019-08-30     A      11\n",
       "59 2019-08-30     B      24\n",
       "60 2019-08-31     A      12\n",
       "61 2019-08-31     B      20\n",
       "\n",
       "[62 rows x 3 columns]"
      ]
     },
     "execution_count": 55,
     "metadata": {},
     "output_type": "execute_result"
    }
   ],
   "source": [
    "# Группирую заказы по дате и группе с подсчетом количества заказов и суммарной выручки\n",
    "orders_aggregated = (\n",
    "    orders.groupby(['date', 'group'])\n",
    "    .agg({'transaction_id': 'count'})\n",
    "    .rename(columns={'transaction_id': 'orders'}).reset_index()\n",
    ")\n",
    "\n",
    "orders_aggregated"
   ]
  },
  {
   "cell_type": "code",
   "execution_count": 56,
   "metadata": {},
   "outputs": [
    {
     "data": {
      "text/html": [
       "<div>\n",
       "<style scoped>\n",
       "    .dataframe tbody tr th:only-of-type {\n",
       "        vertical-align: middle;\n",
       "    }\n",
       "\n",
       "    .dataframe tbody tr th {\n",
       "        vertical-align: top;\n",
       "    }\n",
       "\n",
       "    .dataframe thead th {\n",
       "        text-align: right;\n",
       "    }\n",
       "</style>\n",
       "<table border=\"1\" class=\"dataframe\">\n",
       "  <thead>\n",
       "    <tr style=\"text-align: right;\">\n",
       "      <th></th>\n",
       "      <th>date</th>\n",
       "      <th>group</th>\n",
       "      <th>visitors</th>\n",
       "    </tr>\n",
       "  </thead>\n",
       "  <tbody>\n",
       "    <tr>\n",
       "      <th>0</th>\n",
       "      <td>2019-08-01</td>\n",
       "      <td>A</td>\n",
       "      <td>719</td>\n",
       "    </tr>\n",
       "    <tr>\n",
       "      <th>1</th>\n",
       "      <td>2019-08-01</td>\n",
       "      <td>B</td>\n",
       "      <td>713</td>\n",
       "    </tr>\n",
       "    <tr>\n",
       "      <th>2</th>\n",
       "      <td>2019-08-02</td>\n",
       "      <td>A</td>\n",
       "      <td>619</td>\n",
       "    </tr>\n",
       "    <tr>\n",
       "      <th>3</th>\n",
       "      <td>2019-08-02</td>\n",
       "      <td>B</td>\n",
       "      <td>581</td>\n",
       "    </tr>\n",
       "    <tr>\n",
       "      <th>4</th>\n",
       "      <td>2019-08-03</td>\n",
       "      <td>A</td>\n",
       "      <td>507</td>\n",
       "    </tr>\n",
       "    <tr>\n",
       "      <th>...</th>\n",
       "      <td>...</td>\n",
       "      <td>...</td>\n",
       "      <td>...</td>\n",
       "    </tr>\n",
       "    <tr>\n",
       "      <th>57</th>\n",
       "      <td>2019-08-29</td>\n",
       "      <td>B</td>\n",
       "      <td>531</td>\n",
       "    </tr>\n",
       "    <tr>\n",
       "      <th>58</th>\n",
       "      <td>2019-08-30</td>\n",
       "      <td>A</td>\n",
       "      <td>490</td>\n",
       "    </tr>\n",
       "    <tr>\n",
       "      <th>59</th>\n",
       "      <td>2019-08-30</td>\n",
       "      <td>B</td>\n",
       "      <td>490</td>\n",
       "    </tr>\n",
       "    <tr>\n",
       "      <th>60</th>\n",
       "      <td>2019-08-31</td>\n",
       "      <td>A</td>\n",
       "      <td>699</td>\n",
       "    </tr>\n",
       "    <tr>\n",
       "      <th>61</th>\n",
       "      <td>2019-08-31</td>\n",
       "      <td>B</td>\n",
       "      <td>718</td>\n",
       "    </tr>\n",
       "  </tbody>\n",
       "</table>\n",
       "<p>62 rows × 3 columns</p>\n",
       "</div>"
      ],
      "text/plain": [
       "         date group  visitors\n",
       "0  2019-08-01     A       719\n",
       "1  2019-08-01     B       713\n",
       "2  2019-08-02     A       619\n",
       "3  2019-08-02     B       581\n",
       "4  2019-08-03     A       507\n",
       "..        ...   ...       ...\n",
       "57 2019-08-29     B       531\n",
       "58 2019-08-30     A       490\n",
       "59 2019-08-30     B       490\n",
       "60 2019-08-31     A       699\n",
       "61 2019-08-31     B       718\n",
       "\n",
       "[62 rows x 3 columns]"
      ]
     },
     "execution_count": 56,
     "metadata": {},
     "output_type": "execute_result"
    }
   ],
   "source": [
    "# Группирую. посетителей по дате и группе с подсчетом количества посетителей\n",
    "visitors_aggregated = (\n",
    "    visitors.groupby(['date', 'group'])\n",
    "    .agg({'visitors': 'sum'}).reset_index()\n",
    ")\n",
    "visitors_aggregated"
   ]
  },
  {
   "cell_type": "code",
   "execution_count": 57,
   "metadata": {},
   "outputs": [
    {
     "data": {
      "text/html": [
       "<div>\n",
       "<style scoped>\n",
       "    .dataframe tbody tr th:only-of-type {\n",
       "        vertical-align: middle;\n",
       "    }\n",
       "\n",
       "    .dataframe tbody tr th {\n",
       "        vertical-align: top;\n",
       "    }\n",
       "\n",
       "    .dataframe thead th {\n",
       "        text-align: right;\n",
       "    }\n",
       "</style>\n",
       "<table border=\"1\" class=\"dataframe\">\n",
       "  <thead>\n",
       "    <tr style=\"text-align: right;\">\n",
       "      <th></th>\n",
       "      <th>date</th>\n",
       "      <th>group</th>\n",
       "      <th>orders</th>\n",
       "      <th>visitors</th>\n",
       "    </tr>\n",
       "  </thead>\n",
       "  <tbody>\n",
       "    <tr>\n",
       "      <th>0</th>\n",
       "      <td>2019-08-01</td>\n",
       "      <td>A</td>\n",
       "      <td>24</td>\n",
       "      <td>719</td>\n",
       "    </tr>\n",
       "    <tr>\n",
       "      <th>1</th>\n",
       "      <td>2019-08-01</td>\n",
       "      <td>B</td>\n",
       "      <td>21</td>\n",
       "      <td>713</td>\n",
       "    </tr>\n",
       "    <tr>\n",
       "      <th>2</th>\n",
       "      <td>2019-08-02</td>\n",
       "      <td>A</td>\n",
       "      <td>20</td>\n",
       "      <td>619</td>\n",
       "    </tr>\n",
       "    <tr>\n",
       "      <th>3</th>\n",
       "      <td>2019-08-02</td>\n",
       "      <td>B</td>\n",
       "      <td>24</td>\n",
       "      <td>581</td>\n",
       "    </tr>\n",
       "    <tr>\n",
       "      <th>4</th>\n",
       "      <td>2019-08-03</td>\n",
       "      <td>A</td>\n",
       "      <td>24</td>\n",
       "      <td>507</td>\n",
       "    </tr>\n",
       "    <tr>\n",
       "      <th>...</th>\n",
       "      <td>...</td>\n",
       "      <td>...</td>\n",
       "      <td>...</td>\n",
       "      <td>...</td>\n",
       "    </tr>\n",
       "    <tr>\n",
       "      <th>57</th>\n",
       "      <td>2019-08-29</td>\n",
       "      <td>B</td>\n",
       "      <td>20</td>\n",
       "      <td>531</td>\n",
       "    </tr>\n",
       "    <tr>\n",
       "      <th>58</th>\n",
       "      <td>2019-08-30</td>\n",
       "      <td>A</td>\n",
       "      <td>11</td>\n",
       "      <td>490</td>\n",
       "    </tr>\n",
       "    <tr>\n",
       "      <th>59</th>\n",
       "      <td>2019-08-30</td>\n",
       "      <td>B</td>\n",
       "      <td>24</td>\n",
       "      <td>490</td>\n",
       "    </tr>\n",
       "    <tr>\n",
       "      <th>60</th>\n",
       "      <td>2019-08-31</td>\n",
       "      <td>A</td>\n",
       "      <td>12</td>\n",
       "      <td>699</td>\n",
       "    </tr>\n",
       "    <tr>\n",
       "      <th>61</th>\n",
       "      <td>2019-08-31</td>\n",
       "      <td>B</td>\n",
       "      <td>20</td>\n",
       "      <td>718</td>\n",
       "    </tr>\n",
       "  </tbody>\n",
       "</table>\n",
       "<p>62 rows × 4 columns</p>\n",
       "</div>"
      ],
      "text/plain": [
       "         date group  orders  visitors\n",
       "0  2019-08-01     A      24       719\n",
       "1  2019-08-01     B      21       713\n",
       "2  2019-08-02     A      20       619\n",
       "3  2019-08-02     B      24       581\n",
       "4  2019-08-03     A      24       507\n",
       "..        ...   ...     ...       ...\n",
       "57 2019-08-29     B      20       531\n",
       "58 2019-08-30     A      11       490\n",
       "59 2019-08-30     B      24       490\n",
       "60 2019-08-31     A      12       699\n",
       "61 2019-08-31     B      20       718\n",
       "\n",
       "[62 rows x 4 columns]"
      ]
     },
     "execution_count": 57,
     "metadata": {},
     "output_type": "execute_result"
    }
   ],
   "source": [
    "# Объединяю данные о заказах и посетителях\n",
    "cumulative_data = orders_aggregated.merge(visitors_aggregated, on=['date', 'group'])\n",
    "\n",
    "cumulative_data"
   ]
  },
  {
   "cell_type": "code",
   "execution_count": 58,
   "metadata": {},
   "outputs": [
    {
     "data": {
      "text/html": [
       "<div>\n",
       "<style scoped>\n",
       "    .dataframe tbody tr th:only-of-type {\n",
       "        vertical-align: middle;\n",
       "    }\n",
       "\n",
       "    .dataframe tbody tr th {\n",
       "        vertical-align: top;\n",
       "    }\n",
       "\n",
       "    .dataframe thead th {\n",
       "        text-align: right;\n",
       "    }\n",
       "</style>\n",
       "<table border=\"1\" class=\"dataframe\">\n",
       "  <thead>\n",
       "    <tr style=\"text-align: right;\">\n",
       "      <th></th>\n",
       "      <th>date</th>\n",
       "      <th>group</th>\n",
       "      <th>orders</th>\n",
       "      <th>visitors</th>\n",
       "      <th>cumulative_orders</th>\n",
       "      <th>cumulative_visitors</th>\n",
       "      <th>average_orders_per_visitor</th>\n",
       "    </tr>\n",
       "  </thead>\n",
       "  <tbody>\n",
       "    <tr>\n",
       "      <th>0</th>\n",
       "      <td>2019-08-01</td>\n",
       "      <td>A</td>\n",
       "      <td>24</td>\n",
       "      <td>719</td>\n",
       "      <td>24</td>\n",
       "      <td>719</td>\n",
       "      <td>0.033380</td>\n",
       "    </tr>\n",
       "    <tr>\n",
       "      <th>1</th>\n",
       "      <td>2019-08-01</td>\n",
       "      <td>B</td>\n",
       "      <td>21</td>\n",
       "      <td>713</td>\n",
       "      <td>21</td>\n",
       "      <td>713</td>\n",
       "      <td>0.029453</td>\n",
       "    </tr>\n",
       "    <tr>\n",
       "      <th>2</th>\n",
       "      <td>2019-08-02</td>\n",
       "      <td>A</td>\n",
       "      <td>20</td>\n",
       "      <td>619</td>\n",
       "      <td>44</td>\n",
       "      <td>1338</td>\n",
       "      <td>0.032885</td>\n",
       "    </tr>\n",
       "    <tr>\n",
       "      <th>3</th>\n",
       "      <td>2019-08-02</td>\n",
       "      <td>B</td>\n",
       "      <td>24</td>\n",
       "      <td>581</td>\n",
       "      <td>45</td>\n",
       "      <td>1294</td>\n",
       "      <td>0.034776</td>\n",
       "    </tr>\n",
       "    <tr>\n",
       "      <th>4</th>\n",
       "      <td>2019-08-03</td>\n",
       "      <td>A</td>\n",
       "      <td>24</td>\n",
       "      <td>507</td>\n",
       "      <td>68</td>\n",
       "      <td>1845</td>\n",
       "      <td>0.036856</td>\n",
       "    </tr>\n",
       "    <tr>\n",
       "      <th>...</th>\n",
       "      <td>...</td>\n",
       "      <td>...</td>\n",
       "      <td>...</td>\n",
       "      <td>...</td>\n",
       "      <td>...</td>\n",
       "      <td>...</td>\n",
       "      <td>...</td>\n",
       "    </tr>\n",
       "    <tr>\n",
       "      <th>57</th>\n",
       "      <td>2019-08-29</td>\n",
       "      <td>B</td>\n",
       "      <td>20</td>\n",
       "      <td>531</td>\n",
       "      <td>596</td>\n",
       "      <td>17708</td>\n",
       "      <td>0.033657</td>\n",
       "    </tr>\n",
       "    <tr>\n",
       "      <th>58</th>\n",
       "      <td>2019-08-30</td>\n",
       "      <td>A</td>\n",
       "      <td>11</td>\n",
       "      <td>490</td>\n",
       "      <td>545</td>\n",
       "      <td>18037</td>\n",
       "      <td>0.030216</td>\n",
       "    </tr>\n",
       "    <tr>\n",
       "      <th>59</th>\n",
       "      <td>2019-08-30</td>\n",
       "      <td>B</td>\n",
       "      <td>24</td>\n",
       "      <td>490</td>\n",
       "      <td>620</td>\n",
       "      <td>18198</td>\n",
       "      <td>0.034070</td>\n",
       "    </tr>\n",
       "    <tr>\n",
       "      <th>60</th>\n",
       "      <td>2019-08-31</td>\n",
       "      <td>A</td>\n",
       "      <td>12</td>\n",
       "      <td>699</td>\n",
       "      <td>557</td>\n",
       "      <td>18736</td>\n",
       "      <td>0.029729</td>\n",
       "    </tr>\n",
       "    <tr>\n",
       "      <th>61</th>\n",
       "      <td>2019-08-31</td>\n",
       "      <td>B</td>\n",
       "      <td>20</td>\n",
       "      <td>718</td>\n",
       "      <td>640</td>\n",
       "      <td>18916</td>\n",
       "      <td>0.033834</td>\n",
       "    </tr>\n",
       "  </tbody>\n",
       "</table>\n",
       "<p>62 rows × 7 columns</p>\n",
       "</div>"
      ],
      "text/plain": [
       "         date group  orders  visitors  cumulative_orders  cumulative_visitors  \\\n",
       "0  2019-08-01     A      24       719                 24                  719   \n",
       "1  2019-08-01     B      21       713                 21                  713   \n",
       "2  2019-08-02     A      20       619                 44                 1338   \n",
       "3  2019-08-02     B      24       581                 45                 1294   \n",
       "4  2019-08-03     A      24       507                 68                 1845   \n",
       "..        ...   ...     ...       ...                ...                  ...   \n",
       "57 2019-08-29     B      20       531                596                17708   \n",
       "58 2019-08-30     A      11       490                545                18037   \n",
       "59 2019-08-30     B      24       490                620                18198   \n",
       "60 2019-08-31     A      12       699                557                18736   \n",
       "61 2019-08-31     B      20       718                640                18916   \n",
       "\n",
       "    average_orders_per_visitor  \n",
       "0                     0.033380  \n",
       "1                     0.029453  \n",
       "2                     0.032885  \n",
       "3                     0.034776  \n",
       "4                     0.036856  \n",
       "..                         ...  \n",
       "57                    0.033657  \n",
       "58                    0.030216  \n",
       "59                    0.034070  \n",
       "60                    0.029729  \n",
       "61                    0.033834  \n",
       "\n",
       "[62 rows x 7 columns]"
      ]
     },
     "execution_count": 58,
     "metadata": {},
     "output_type": "execute_result"
    }
   ],
   "source": [
    "# Расчитываю кумулятивное количество заказов и посетителей\n",
    "cumulative_data['cumulative_orders'] = cumulative_data.groupby('group')['orders'].cumsum()\n",
    "cumulative_data['cumulative_visitors'] = cumulative_data.groupby('group')['visitors'].cumsum()\n",
    "\n",
    "# Расчитываю кумулятивное среднее количества заказов на посетителя\n",
    "cumulative_data['average_orders_per_visitor'] = cumulative_data['cumulative_orders'] / cumulative_data['cumulative_visitors']\n",
    "\n",
    "cumulative_data"
   ]
  },
  {
   "cell_type": "code",
   "execution_count": 59,
   "metadata": {},
   "outputs": [
    {
     "data": {
      "image/png": "[encoded data removed]",
      "text/plain": [
       "<Figure size 1400x700 with 1 Axes>"
      ]
     },
     "metadata": {},
     "output_type": "display_data"
    }
   ],
   "source": [
    "# Фильтруем данные для групп A и B\n",
    "cumulative_data_a = cumulative_data[cumulative_data['group'] == 'A']\n",
    "cumulative_data_b = cumulative_data[cumulative_data['group'] == 'B']\n",
    "\n",
    "# Строим график кумулятивного среднего количества заказов на посетителя по группам\n",
    "plt.figure(figsize=(14, 7))\n",
    "plt.plot(cumulative_data_a['date'], cumulative_data_a['average_orders_per_visitor'], label='Группа A')\n",
    "plt.plot(cumulative_data_b['date'], cumulative_data_b['average_orders_per_visitor'], label='Группа B')\n",
    "plt.title('Кумулятивное среднее количество заказов на посетителя по группам')\n",
    "plt.xlabel('Дата')\n",
    "plt.ylabel('Среднее количество заказов на посетителя')\n",
    "plt.legend()\n",
    "plt.grid(True)\n",
    "plt.show()"
   ]
  },
  {
   "cell_type": "markdown",
   "metadata": {},
   "source": [
    "***Вывод***"
   ]
  },
  {
   "cell_type": "markdown",
   "metadata": {},
   "source": [
    "Группа А показывает более стабильные изменения. У Группы В наблюдается скачкообразность, что может говорить о наличии аномальных значений"
   ]
  },
  {
   "cell_type": "markdown",
   "metadata": {},
   "source": [
    "#### Построю график относительного изменения кумулятивного среднего количества заказов на посетителя группы B к группе A. Сделаю выводы и предположения."
   ]
  },
  {
   "cell_type": "markdown",
   "metadata": {},
   "source": [
    "Для выполнения этого шага использую ранее созданные таблицы `cumulative_data_a` и `cumulative_data_b`."
   ]
  },
  {
   "cell_type": "code",
   "execution_count": 60,
   "metadata": {},
   "outputs": [
    {
     "data": {
      "text/html": [
       "<div>\n",
       "<style scoped>\n",
       "    .dataframe tbody tr th:only-of-type {\n",
       "        vertical-align: middle;\n",
       "    }\n",
       "\n",
       "    .dataframe tbody tr th {\n",
       "        vertical-align: top;\n",
       "    }\n",
       "\n",
       "    .dataframe thead th {\n",
       "        text-align: right;\n",
       "    }\n",
       "</style>\n",
       "<table border=\"1\" class=\"dataframe\">\n",
       "  <thead>\n",
       "    <tr style=\"text-align: right;\">\n",
       "      <th></th>\n",
       "      <th>date</th>\n",
       "      <th>average_orders_per_visitor_A</th>\n",
       "      <th>average_orders_per_visitor_B</th>\n",
       "    </tr>\n",
       "  </thead>\n",
       "  <tbody>\n",
       "    <tr>\n",
       "      <th>0</th>\n",
       "      <td>2019-08-01</td>\n",
       "      <td>0.033380</td>\n",
       "      <td>0.029453</td>\n",
       "    </tr>\n",
       "    <tr>\n",
       "      <th>1</th>\n",
       "      <td>2019-08-02</td>\n",
       "      <td>0.032885</td>\n",
       "      <td>0.034776</td>\n",
       "    </tr>\n",
       "    <tr>\n",
       "      <th>2</th>\n",
       "      <td>2019-08-03</td>\n",
       "      <td>0.036856</td>\n",
       "      <td>0.033833</td>\n",
       "    </tr>\n",
       "    <tr>\n",
       "      <th>3</th>\n",
       "      <td>2019-08-04</td>\n",
       "      <td>0.032787</td>\n",
       "      <td>0.030315</td>\n",
       "    </tr>\n",
       "    <tr>\n",
       "      <th>4</th>\n",
       "      <td>2019-08-05</td>\n",
       "      <td>0.032851</td>\n",
       "      <td>0.030793</td>\n",
       "    </tr>\n",
       "    <tr>\n",
       "      <th>5</th>\n",
       "      <td>2019-08-06</td>\n",
       "      <td>0.031870</td>\n",
       "      <td>0.032783</td>\n",
       "    </tr>\n",
       "    <tr>\n",
       "      <th>6</th>\n",
       "      <td>2019-08-07</td>\n",
       "      <td>0.031324</td>\n",
       "      <td>0.032946</td>\n",
       "    </tr>\n",
       "    <tr>\n",
       "      <th>7</th>\n",
       "      <td>2019-08-08</td>\n",
       "      <td>0.030731</td>\n",
       "      <td>0.033975</td>\n",
       "    </tr>\n",
       "    <tr>\n",
       "      <th>8</th>\n",
       "      <td>2019-08-09</td>\n",
       "      <td>0.030225</td>\n",
       "      <td>0.034699</td>\n",
       "    </tr>\n",
       "    <tr>\n",
       "      <th>9</th>\n",
       "      <td>2019-08-10</td>\n",
       "      <td>0.030821</td>\n",
       "      <td>0.036323</td>\n",
       "    </tr>\n",
       "    <tr>\n",
       "      <th>10</th>\n",
       "      <td>2019-08-11</td>\n",
       "      <td>0.029513</td>\n",
       "      <td>0.034438</td>\n",
       "    </tr>\n",
       "    <tr>\n",
       "      <th>11</th>\n",
       "      <td>2019-08-12</td>\n",
       "      <td>0.030363</td>\n",
       "      <td>0.035009</td>\n",
       "    </tr>\n",
       "    <tr>\n",
       "      <th>12</th>\n",
       "      <td>2019-08-13</td>\n",
       "      <td>0.029316</td>\n",
       "      <td>0.034296</td>\n",
       "    </tr>\n",
       "    <tr>\n",
       "      <th>13</th>\n",
       "      <td>2019-08-14</td>\n",
       "      <td>0.029587</td>\n",
       "      <td>0.034011</td>\n",
       "    </tr>\n",
       "    <tr>\n",
       "      <th>14</th>\n",
       "      <td>2019-08-15</td>\n",
       "      <td>0.029217</td>\n",
       "      <td>0.035312</td>\n",
       "    </tr>\n",
       "    <tr>\n",
       "      <th>15</th>\n",
       "      <td>2019-08-16</td>\n",
       "      <td>0.029959</td>\n",
       "      <td>0.035853</td>\n",
       "    </tr>\n",
       "    <tr>\n",
       "      <th>16</th>\n",
       "      <td>2019-08-17</td>\n",
       "      <td>0.029735</td>\n",
       "      <td>0.035749</td>\n",
       "    </tr>\n",
       "    <tr>\n",
       "      <th>17</th>\n",
       "      <td>2019-08-18</td>\n",
       "      <td>0.029478</td>\n",
       "      <td>0.034196</td>\n",
       "    </tr>\n",
       "    <tr>\n",
       "      <th>18</th>\n",
       "      <td>2019-08-19</td>\n",
       "      <td>0.030097</td>\n",
       "      <td>0.034569</td>\n",
       "    </tr>\n",
       "    <tr>\n",
       "      <th>19</th>\n",
       "      <td>2019-08-20</td>\n",
       "      <td>0.029662</td>\n",
       "      <td>0.034621</td>\n",
       "    </tr>\n",
       "    <tr>\n",
       "      <th>20</th>\n",
       "      <td>2019-08-21</td>\n",
       "      <td>0.029961</td>\n",
       "      <td>0.033944</td>\n",
       "    </tr>\n",
       "    <tr>\n",
       "      <th>21</th>\n",
       "      <td>2019-08-22</td>\n",
       "      <td>0.029794</td>\n",
       "      <td>0.034161</td>\n",
       "    </tr>\n",
       "    <tr>\n",
       "      <th>22</th>\n",
       "      <td>2019-08-23</td>\n",
       "      <td>0.030588</td>\n",
       "      <td>0.033902</td>\n",
       "    </tr>\n",
       "    <tr>\n",
       "      <th>23</th>\n",
       "      <td>2019-08-24</td>\n",
       "      <td>0.030792</td>\n",
       "      <td>0.034122</td>\n",
       "    </tr>\n",
       "    <tr>\n",
       "      <th>24</th>\n",
       "      <td>2019-08-25</td>\n",
       "      <td>0.030181</td>\n",
       "      <td>0.033516</td>\n",
       "    </tr>\n",
       "    <tr>\n",
       "      <th>25</th>\n",
       "      <td>2019-08-26</td>\n",
       "      <td>0.029812</td>\n",
       "      <td>0.033664</td>\n",
       "    </tr>\n",
       "    <tr>\n",
       "      <th>26</th>\n",
       "      <td>2019-08-27</td>\n",
       "      <td>0.030227</td>\n",
       "      <td>0.033166</td>\n",
       "    </tr>\n",
       "    <tr>\n",
       "      <th>27</th>\n",
       "      <td>2019-08-28</td>\n",
       "      <td>0.030171</td>\n",
       "      <td>0.033533</td>\n",
       "    </tr>\n",
       "    <tr>\n",
       "      <th>28</th>\n",
       "      <td>2019-08-29</td>\n",
       "      <td>0.030433</td>\n",
       "      <td>0.033657</td>\n",
       "    </tr>\n",
       "    <tr>\n",
       "      <th>29</th>\n",
       "      <td>2019-08-30</td>\n",
       "      <td>0.030216</td>\n",
       "      <td>0.034070</td>\n",
       "    </tr>\n",
       "    <tr>\n",
       "      <th>30</th>\n",
       "      <td>2019-08-31</td>\n",
       "      <td>0.029729</td>\n",
       "      <td>0.033834</td>\n",
       "    </tr>\n",
       "  </tbody>\n",
       "</table>\n",
       "</div>"
      ],
      "text/plain": [
       "         date  average_orders_per_visitor_A  average_orders_per_visitor_B\n",
       "0  2019-08-01                      0.033380                      0.029453\n",
       "1  2019-08-02                      0.032885                      0.034776\n",
       "2  2019-08-03                      0.036856                      0.033833\n",
       "3  2019-08-04                      0.032787                      0.030315\n",
       "4  2019-08-05                      0.032851                      0.030793\n",
       "5  2019-08-06                      0.031870                      0.032783\n",
       "6  2019-08-07                      0.031324                      0.032946\n",
       "7  2019-08-08                      0.030731                      0.033975\n",
       "8  2019-08-09                      0.030225                      0.034699\n",
       "9  2019-08-10                      0.030821                      0.036323\n",
       "10 2019-08-11                      0.029513                      0.034438\n",
       "11 2019-08-12                      0.030363                      0.035009\n",
       "12 2019-08-13                      0.029316                      0.034296\n",
       "13 2019-08-14                      0.029587                      0.034011\n",
       "14 2019-08-15                      0.029217                      0.035312\n",
       "15 2019-08-16                      0.029959                      0.035853\n",
       "16 2019-08-17                      0.029735                      0.035749\n",
       "17 2019-08-18                      0.029478                      0.034196\n",
       "18 2019-08-19                      0.030097                      0.034569\n",
       "19 2019-08-20                      0.029662                      0.034621\n",
       "20 2019-08-21                      0.029961                      0.033944\n",
       "21 2019-08-22                      0.029794                      0.034161\n",
       "22 2019-08-23                      0.030588                      0.033902\n",
       "23 2019-08-24                      0.030792                      0.034122\n",
       "24 2019-08-25                      0.030181                      0.033516\n",
       "25 2019-08-26                      0.029812                      0.033664\n",
       "26 2019-08-27                      0.030227                      0.033166\n",
       "27 2019-08-28                      0.030171                      0.033533\n",
       "28 2019-08-29                      0.030433                      0.033657\n",
       "29 2019-08-30                      0.030216                      0.034070\n",
       "30 2019-08-31                      0.029729                      0.033834"
      ]
     },
     "execution_count": 60,
     "metadata": {},
     "output_type": "execute_result"
    }
   ],
   "source": [
    "# Объединяю данные по датам для групп A и B\n",
    "merged_cumulative_orders = cumulative_data_a[['date', 'average_orders_per_visitor']].merge(\n",
    "    cumulative_data_b[['date', 'average_orders_per_visitor']],\n",
    "    on='date',\n",
    "    suffixes=['_A', '_B']\n",
    ")\n",
    "merged_cumulative_orders"
   ]
  },
  {
   "cell_type": "code",
   "execution_count": 61,
   "metadata": {},
   "outputs": [
    {
     "data": {
      "text/html": [
       "<div>\n",
       "<style scoped>\n",
       "    .dataframe tbody tr th:only-of-type {\n",
       "        vertical-align: middle;\n",
       "    }\n",
       "\n",
       "    .dataframe tbody tr th {\n",
       "        vertical-align: top;\n",
       "    }\n",
       "\n",
       "    .dataframe thead th {\n",
       "        text-align: right;\n",
       "    }\n",
       "</style>\n",
       "<table border=\"1\" class=\"dataframe\">\n",
       "  <thead>\n",
       "    <tr style=\"text-align: right;\">\n",
       "      <th></th>\n",
       "      <th>date</th>\n",
       "      <th>average_orders_per_visitor_A</th>\n",
       "      <th>average_orders_per_visitor_B</th>\n",
       "      <th>relative_change</th>\n",
       "    </tr>\n",
       "  </thead>\n",
       "  <tbody>\n",
       "    <tr>\n",
       "      <th>0</th>\n",
       "      <td>2019-08-01</td>\n",
       "      <td>0.033380</td>\n",
       "      <td>0.029453</td>\n",
       "      <td>-0.117637</td>\n",
       "    </tr>\n",
       "    <tr>\n",
       "      <th>1</th>\n",
       "      <td>2019-08-02</td>\n",
       "      <td>0.032885</td>\n",
       "      <td>0.034776</td>\n",
       "      <td>0.057503</td>\n",
       "    </tr>\n",
       "    <tr>\n",
       "      <th>2</th>\n",
       "      <td>2019-08-03</td>\n",
       "      <td>0.036856</td>\n",
       "      <td>0.033833</td>\n",
       "      <td>-0.082045</td>\n",
       "    </tr>\n",
       "    <tr>\n",
       "      <th>3</th>\n",
       "      <td>2019-08-04</td>\n",
       "      <td>0.032787</td>\n",
       "      <td>0.030315</td>\n",
       "      <td>-0.075398</td>\n",
       "    </tr>\n",
       "    <tr>\n",
       "      <th>4</th>\n",
       "      <td>2019-08-05</td>\n",
       "      <td>0.032851</td>\n",
       "      <td>0.030793</td>\n",
       "      <td>-0.062659</td>\n",
       "    </tr>\n",
       "    <tr>\n",
       "      <th>5</th>\n",
       "      <td>2019-08-06</td>\n",
       "      <td>0.031870</td>\n",
       "      <td>0.032783</td>\n",
       "      <td>0.028655</td>\n",
       "    </tr>\n",
       "    <tr>\n",
       "      <th>6</th>\n",
       "      <td>2019-08-07</td>\n",
       "      <td>0.031324</td>\n",
       "      <td>0.032946</td>\n",
       "      <td>0.051764</td>\n",
       "    </tr>\n",
       "    <tr>\n",
       "      <th>7</th>\n",
       "      <td>2019-08-08</td>\n",
       "      <td>0.030731</td>\n",
       "      <td>0.033975</td>\n",
       "      <td>0.105562</td>\n",
       "    </tr>\n",
       "    <tr>\n",
       "      <th>8</th>\n",
       "      <td>2019-08-09</td>\n",
       "      <td>0.030225</td>\n",
       "      <td>0.034699</td>\n",
       "      <td>0.147998</td>\n",
       "    </tr>\n",
       "    <tr>\n",
       "      <th>9</th>\n",
       "      <td>2019-08-10</td>\n",
       "      <td>0.030821</td>\n",
       "      <td>0.036323</td>\n",
       "      <td>0.178524</td>\n",
       "    </tr>\n",
       "    <tr>\n",
       "      <th>10</th>\n",
       "      <td>2019-08-11</td>\n",
       "      <td>0.029513</td>\n",
       "      <td>0.034438</td>\n",
       "      <td>0.166894</td>\n",
       "    </tr>\n",
       "    <tr>\n",
       "      <th>11</th>\n",
       "      <td>2019-08-12</td>\n",
       "      <td>0.030363</td>\n",
       "      <td>0.035009</td>\n",
       "      <td>0.153001</td>\n",
       "    </tr>\n",
       "    <tr>\n",
       "      <th>12</th>\n",
       "      <td>2019-08-13</td>\n",
       "      <td>0.029316</td>\n",
       "      <td>0.034296</td>\n",
       "      <td>0.169860</td>\n",
       "    </tr>\n",
       "    <tr>\n",
       "      <th>13</th>\n",
       "      <td>2019-08-14</td>\n",
       "      <td>0.029587</td>\n",
       "      <td>0.034011</td>\n",
       "      <td>0.149508</td>\n",
       "    </tr>\n",
       "    <tr>\n",
       "      <th>14</th>\n",
       "      <td>2019-08-15</td>\n",
       "      <td>0.029217</td>\n",
       "      <td>0.035312</td>\n",
       "      <td>0.208611</td>\n",
       "    </tr>\n",
       "    <tr>\n",
       "      <th>15</th>\n",
       "      <td>2019-08-16</td>\n",
       "      <td>0.029959</td>\n",
       "      <td>0.035853</td>\n",
       "      <td>0.196741</td>\n",
       "    </tr>\n",
       "    <tr>\n",
       "      <th>16</th>\n",
       "      <td>2019-08-17</td>\n",
       "      <td>0.029735</td>\n",
       "      <td>0.035749</td>\n",
       "      <td>0.202231</td>\n",
       "    </tr>\n",
       "    <tr>\n",
       "      <th>17</th>\n",
       "      <td>2019-08-18</td>\n",
       "      <td>0.029478</td>\n",
       "      <td>0.034196</td>\n",
       "      <td>0.160047</td>\n",
       "    </tr>\n",
       "    <tr>\n",
       "      <th>18</th>\n",
       "      <td>2019-08-19</td>\n",
       "      <td>0.030097</td>\n",
       "      <td>0.034569</td>\n",
       "      <td>0.148564</td>\n",
       "    </tr>\n",
       "    <tr>\n",
       "      <th>19</th>\n",
       "      <td>2019-08-20</td>\n",
       "      <td>0.029662</td>\n",
       "      <td>0.034621</td>\n",
       "      <td>0.167169</td>\n",
       "    </tr>\n",
       "    <tr>\n",
       "      <th>20</th>\n",
       "      <td>2019-08-21</td>\n",
       "      <td>0.029961</td>\n",
       "      <td>0.033944</td>\n",
       "      <td>0.132949</td>\n",
       "    </tr>\n",
       "    <tr>\n",
       "      <th>21</th>\n",
       "      <td>2019-08-22</td>\n",
       "      <td>0.029794</td>\n",
       "      <td>0.034161</td>\n",
       "      <td>0.146582</td>\n",
       "    </tr>\n",
       "    <tr>\n",
       "      <th>22</th>\n",
       "      <td>2019-08-23</td>\n",
       "      <td>0.030588</td>\n",
       "      <td>0.033902</td>\n",
       "      <td>0.108338</td>\n",
       "    </tr>\n",
       "    <tr>\n",
       "      <th>23</th>\n",
       "      <td>2019-08-24</td>\n",
       "      <td>0.030792</td>\n",
       "      <td>0.034122</td>\n",
       "      <td>0.108165</td>\n",
       "    </tr>\n",
       "    <tr>\n",
       "      <th>24</th>\n",
       "      <td>2019-08-25</td>\n",
       "      <td>0.030181</td>\n",
       "      <td>0.033516</td>\n",
       "      <td>0.110494</td>\n",
       "    </tr>\n",
       "    <tr>\n",
       "      <th>25</th>\n",
       "      <td>2019-08-26</td>\n",
       "      <td>0.029812</td>\n",
       "      <td>0.033664</td>\n",
       "      <td>0.129238</td>\n",
       "    </tr>\n",
       "    <tr>\n",
       "      <th>26</th>\n",
       "      <td>2019-08-27</td>\n",
       "      <td>0.030227</td>\n",
       "      <td>0.033166</td>\n",
       "      <td>0.097221</td>\n",
       "    </tr>\n",
       "    <tr>\n",
       "      <th>27</th>\n",
       "      <td>2019-08-28</td>\n",
       "      <td>0.030171</td>\n",
       "      <td>0.033533</td>\n",
       "      <td>0.111443</td>\n",
       "    </tr>\n",
       "    <tr>\n",
       "      <th>28</th>\n",
       "      <td>2019-08-29</td>\n",
       "      <td>0.030433</td>\n",
       "      <td>0.033657</td>\n",
       "      <td>0.105957</td>\n",
       "    </tr>\n",
       "    <tr>\n",
       "      <th>29</th>\n",
       "      <td>2019-08-30</td>\n",
       "      <td>0.030216</td>\n",
       "      <td>0.034070</td>\n",
       "      <td>0.127550</td>\n",
       "    </tr>\n",
       "    <tr>\n",
       "      <th>30</th>\n",
       "      <td>2019-08-31</td>\n",
       "      <td>0.029729</td>\n",
       "      <td>0.033834</td>\n",
       "      <td>0.138079</td>\n",
       "    </tr>\n",
       "  </tbody>\n",
       "</table>\n",
       "</div>"
      ],
      "text/plain": [
       "         date  average_orders_per_visitor_A  average_orders_per_visitor_B  \\\n",
       "0  2019-08-01                      0.033380                      0.029453   \n",
       "1  2019-08-02                      0.032885                      0.034776   \n",
       "2  2019-08-03                      0.036856                      0.033833   \n",
       "3  2019-08-04                      0.032787                      0.030315   \n",
       "4  2019-08-05                      0.032851                      0.030793   \n",
       "5  2019-08-06                      0.031870                      0.032783   \n",
       "6  2019-08-07                      0.031324                      0.032946   \n",
       "7  2019-08-08                      0.030731                      0.033975   \n",
       "8  2019-08-09                      0.030225                      0.034699   \n",
       "9  2019-08-10                      0.030821                      0.036323   \n",
       "10 2019-08-11                      0.029513                      0.034438   \n",
       "11 2019-08-12                      0.030363                      0.035009   \n",
       "12 2019-08-13                      0.029316                      0.034296   \n",
       "13 2019-08-14                      0.029587                      0.034011   \n",
       "14 2019-08-15                      0.029217                      0.035312   \n",
       "15 2019-08-16                      0.029959                      0.035853   \n",
       "16 2019-08-17                      0.029735                      0.035749   \n",
       "17 2019-08-18                      0.029478                      0.034196   \n",
       "18 2019-08-19                      0.030097                      0.034569   \n",
       "19 2019-08-20                      0.029662                      0.034621   \n",
       "20 2019-08-21                      0.029961                      0.033944   \n",
       "21 2019-08-22                      0.029794                      0.034161   \n",
       "22 2019-08-23                      0.030588                      0.033902   \n",
       "23 2019-08-24                      0.030792                      0.034122   \n",
       "24 2019-08-25                      0.030181                      0.033516   \n",
       "25 2019-08-26                      0.029812                      0.033664   \n",
       "26 2019-08-27                      0.030227                      0.033166   \n",
       "27 2019-08-28                      0.030171                      0.033533   \n",
       "28 2019-08-29                      0.030433                      0.033657   \n",
       "29 2019-08-30                      0.030216                      0.034070   \n",
       "30 2019-08-31                      0.029729                      0.033834   \n",
       "\n",
       "    relative_change  \n",
       "0         -0.117637  \n",
       "1          0.057503  \n",
       "2         -0.082045  \n",
       "3         -0.075398  \n",
       "4         -0.062659  \n",
       "5          0.028655  \n",
       "6          0.051764  \n",
       "7          0.105562  \n",
       "8          0.147998  \n",
       "9          0.178524  \n",
       "10         0.166894  \n",
       "11         0.153001  \n",
       "12         0.169860  \n",
       "13         0.149508  \n",
       "14         0.208611  \n",
       "15         0.196741  \n",
       "16         0.202231  \n",
       "17         0.160047  \n",
       "18         0.148564  \n",
       "19         0.167169  \n",
       "20         0.132949  \n",
       "21         0.146582  \n",
       "22         0.108338  \n",
       "23         0.108165  \n",
       "24         0.110494  \n",
       "25         0.129238  \n",
       "26         0.097221  \n",
       "27         0.111443  \n",
       "28         0.105957  \n",
       "29         0.127550  \n",
       "30         0.138079  "
      ]
     },
     "execution_count": 61,
     "metadata": {},
     "output_type": "execute_result"
    }
   ],
   "source": [
    "# Расчтиваю относительное изменение кумулятивного среднего количества заказов на посетителя\n",
    "merged_cumulative_orders['relative_change'] = (\n",
    "    merged_cumulative_orders['average_orders_per_visitor_B'] / merged_cumulative_orders['average_orders_per_visitor_A'] - 1\n",
    ")\n",
    "merged_cumulative_orders"
   ]
  },
  {
   "cell_type": "code",
   "execution_count": 62,
   "metadata": {},
   "outputs": [
    {
     "data": {
      "image/png": "[encoded data removed]",
      "text/plain": [
       "<Figure size 1400x700 with 1 Axes>"
      ]
     },
     "metadata": {},
     "output_type": "display_data"
    }
   ],
   "source": [
    "# Строю график относительного изменения\n",
    "plt.figure(figsize=(14, 7))\n",
    "plt.plot(merged_cumulative_orders['date'], merged_cumulative_orders['relative_change'], label='Относительное изменение')\n",
    "plt.axhline(y=0, color='black', linestyle='--')  # Линия нулевого изменения для наглядности\n",
    "plt.axhline(y=0.1, color='gray', linestyle='--')  # Дополнительная линия для оценки значимого отклонения\n",
    "plt.title('Относительное изменение кумулятивного среднего количества заказов на посетителя группы B к группе A')\n",
    "plt.xlabel('Дата')\n",
    "plt.ylabel('Относительное изменение')\n",
    "plt.legend()\n",
    "plt.grid(True)\n",
    "plt.show()"
   ]
  },
  {
   "cell_type": "markdown",
   "metadata": {},
   "source": [
    "***Выводы***"
   ]
  },
  {
   "cell_type": "markdown",
   "metadata": {},
   "source": [
    "Резкие колебания, особенно в начале теста, могут быть связаны с наличием аномальных заказов. Устойчивый рост относительного изменения к концу теста может свидетельствовать о потенциальной эффективности изменений, внедренных в группе B."
   ]
  },
  {
   "cell_type": "markdown",
   "metadata": {},
   "source": [
    "#### Построю точечный график количества заказов по пользователям. Сделаю выводы и предположения."
   ]
  },
  {
   "cell_type": "code",
   "execution_count": 63,
   "metadata": {},
   "outputs": [
    {
     "data": {
      "text/html": [
       "<div>\n",
       "<style scoped>\n",
       "    .dataframe tbody tr th:only-of-type {\n",
       "        vertical-align: middle;\n",
       "    }\n",
       "\n",
       "    .dataframe tbody tr th {\n",
       "        vertical-align: top;\n",
       "    }\n",
       "\n",
       "    .dataframe thead th {\n",
       "        text-align: right;\n",
       "    }\n",
       "</style>\n",
       "<table border=\"1\" class=\"dataframe\">\n",
       "  <thead>\n",
       "    <tr style=\"text-align: right;\">\n",
       "      <th></th>\n",
       "      <th>visitor_id</th>\n",
       "      <th>orders</th>\n",
       "    </tr>\n",
       "  </thead>\n",
       "  <tbody>\n",
       "    <tr>\n",
       "      <th>0</th>\n",
       "      <td>5114589</td>\n",
       "      <td>1</td>\n",
       "    </tr>\n",
       "    <tr>\n",
       "      <th>1</th>\n",
       "      <td>6958315</td>\n",
       "      <td>1</td>\n",
       "    </tr>\n",
       "    <tr>\n",
       "      <th>2</th>\n",
       "      <td>8300375</td>\n",
       "      <td>2</td>\n",
       "    </tr>\n",
       "    <tr>\n",
       "      <th>3</th>\n",
       "      <td>11685486</td>\n",
       "      <td>1</td>\n",
       "    </tr>\n",
       "    <tr>\n",
       "      <th>4</th>\n",
       "      <td>39475350</td>\n",
       "      <td>1</td>\n",
       "    </tr>\n",
       "    <tr>\n",
       "      <th>...</th>\n",
       "      <td>...</td>\n",
       "      <td>...</td>\n",
       "    </tr>\n",
       "    <tr>\n",
       "      <th>1026</th>\n",
       "      <td>4266935830</td>\n",
       "      <td>2</td>\n",
       "    </tr>\n",
       "    <tr>\n",
       "      <th>1027</th>\n",
       "      <td>4278982564</td>\n",
       "      <td>1</td>\n",
       "    </tr>\n",
       "    <tr>\n",
       "      <th>1028</th>\n",
       "      <td>4279090005</td>\n",
       "      <td>1</td>\n",
       "    </tr>\n",
       "    <tr>\n",
       "      <th>1029</th>\n",
       "      <td>4281247801</td>\n",
       "      <td>1</td>\n",
       "    </tr>\n",
       "    <tr>\n",
       "      <th>1030</th>\n",
       "      <td>4283872382</td>\n",
       "      <td>1</td>\n",
       "    </tr>\n",
       "  </tbody>\n",
       "</table>\n",
       "<p>1031 rows × 2 columns</p>\n",
       "</div>"
      ],
      "text/plain": [
       "      visitor_id  orders\n",
       "0        5114589       1\n",
       "1        6958315       1\n",
       "2        8300375       2\n",
       "3       11685486       1\n",
       "4       39475350       1\n",
       "...          ...     ...\n",
       "1026  4266935830       2\n",
       "1027  4278982564       1\n",
       "1028  4279090005       1\n",
       "1029  4281247801       1\n",
       "1030  4283872382       1\n",
       "\n",
       "[1031 rows x 2 columns]"
      ]
     },
     "execution_count": 63,
     "metadata": {},
     "output_type": "execute_result"
    }
   ],
   "source": [
    "# Подсчет количества заказов по каждому пользователю\n",
    "orders_per_user = orders.groupby('visitor_id').agg({'transaction_id': 'count'}).reset_index()\n",
    "orders_per_user.columns = ['visitor_id', 'orders']\n",
    "\n",
    "orders_per_user"
   ]
  },
  {
   "cell_type": "code",
   "execution_count": 64,
   "metadata": {},
   "outputs": [
    {
     "data": {
      "image/png": "[encoded data removed]",
      "text/plain": [
       "<Figure size 1000x600 with 1 Axes>"
      ]
     },
     "metadata": {},
     "output_type": "display_data"
    }
   ],
   "source": [
    "# Построение точечного графика\n",
    "plt.figure(figsize=(10, 6))\n",
    "plt.scatter(orders_per_user['visitor_id'], orders_per_user['orders'], alpha=0.5)\n",
    "plt.title('Распределение количества заказов на пользователя')\n",
    "plt.xlabel('Идентификатор пользователя')\n",
    "plt.ylabel('Количество заказов')\n",
    "plt.grid(True)\n",
    "plt.show()"
   ]
  },
  {
   "cell_type": "markdown",
   "metadata": {},
   "source": [
    "***Выводы***"
   ]
  },
  {
   "cell_type": "markdown",
   "metadata": {},
   "source": [
    "Большинство пользователей совершили всего один заказ. Это видно по большому количеству точек на уровне 1 на оси y. Несколько пользователей совершили более одного заказа, и их точки располагаются выше на графике. Это указывает на повторные покупки.\n",
    "Аномальные значения можно заметить в верхней части графика, где некоторые пользователи сделали значительно больше заказов (более 10), чем большинство. Точки, которые значительно отклоняются от основной массы данных, могут указывать на потенциальных аномальных пользователей."
   ]
  },
  {
   "cell_type": "markdown",
   "metadata": {},
   "source": [
    "#### Посчитаю 95-й и 99-й перцентили количества заказов на пользователя. Выберу границу для определения аномальных пользователей."
   ]
  },
  {
   "cell_type": "markdown",
   "metadata": {},
   "source": [
    "Для расчета перцентилей используюю ранее созданую таблицу с заказами на пользователя `orders_per_user`"
   ]
  },
  {
   "cell_type": "code",
   "execution_count": 65,
   "metadata": {},
   "outputs": [],
   "source": [
    "# Расчет перцентилей\n",
    "percentiles = orders_per_user['orders'].quantile([0.95, 0.99])"
   ]
  },
  {
   "cell_type": "code",
   "execution_count": 66,
   "metadata": {},
   "outputs": [
    {
     "data": {
      "text/plain": [
       "2.0"
      ]
     },
     "execution_count": 66,
     "metadata": {},
     "output_type": "execute_result"
    }
   ],
   "source": [
    "percentiles[0.95]"
   ]
  },
  {
   "cell_type": "code",
   "execution_count": 67,
   "metadata": {},
   "outputs": [
    {
     "data": {
      "text/plain": [
       "4.0"
      ]
     },
     "execution_count": 67,
     "metadata": {},
     "output_type": "execute_result"
    }
   ],
   "source": [
    "percentiles[0.99]"
   ]
  },
  {
   "cell_type": "code",
   "execution_count": 68,
   "metadata": {},
   "outputs": [
    {
     "name": "stdout",
     "output_type": "stream",
     "text": [
      "Исходное количество заказов: 1197\n",
      "Количество заказов после фильтрации: 1065\n",
      "Потеря данных: 132\n",
      "Потеря данных в процентах: 11.03%\n"
     ]
    }
   ],
   "source": [
    "# Фильтрация покупателей, совершивших не более 2 заказов\n",
    "filtered_orders = orders[~orders['visitor_id'].isin(orders_per_user[orders_per_user['orders'] > 2]['visitor_id'])]\n",
    "\n",
    "# Расчет потери данных\n",
    "# Всего заказов\n",
    "total_count = len(orders)\n",
    "\n",
    "# Количество заказов после фильтрации\n",
    "filtered_count = len(filtered_orders)\n",
    "\n",
    "# Подсчет потери данных\n",
    "data_loss_1 = total_count - filtered_count\n",
    "\n",
    "# Подсчет потери данных в процентах\n",
    "data_loss_2 = ((total_count - filtered_count) / total_count) * 100\n",
    "\n",
    "# Вывод\n",
    "print(f\"Исходное количество заказов: {total_count}\")\n",
    "print(f\"Количество заказов после фильтрации: {filtered_count}\")\n",
    "print(f\"Потеря данных: {data_loss_1}\")\n",
    "print(f\"Потеря данных в процентах: {data_loss_2:.2f}%\")"
   ]
  },
  {
   "cell_type": "code",
   "execution_count": 69,
   "metadata": {},
   "outputs": [
    {
     "name": "stdout",
     "output_type": "stream",
     "text": [
      "Исходное количество заказов: 1197\n",
      "Количество заказов после фильтрации: 1128\n",
      "Потеря данных: 69\n",
      "Потеря данных в процентах: 5.76%\n"
     ]
    }
   ],
   "source": [
    "# Фильтрация покупателей, совершивших не более 4 заказов\n",
    "filtered_orders = orders[~orders['visitor_id'].isin(orders_per_user[orders_per_user['orders'] > 4]['visitor_id'])]\n",
    "\n",
    "# Расчет потери данных\n",
    "# Всего заказов\n",
    "total_count = len(orders)\n",
    "\n",
    "# Количество заказов после фильтрации\n",
    "filtered_count = len(filtered_orders)\n",
    "\n",
    "# Подсчет потери данных\n",
    "data_loss_1 = total_count - filtered_count\n",
    "\n",
    "# Подсчет потери данных в процентах\n",
    "data_loss_2 = ((total_count - filtered_count) / total_count) * 100\n",
    "\n",
    "# Вывод\n",
    "print(f\"Исходное количество заказов: {total_count}\")\n",
    "print(f\"Количество заказов после фильтрации: {filtered_count}\")\n",
    "print(f\"Потеря данных: {data_loss_1}\")\n",
    "print(f\"Потеря данных в процентах: {data_loss_2:.2f}%\")"
   ]
  },
  {
   "cell_type": "markdown",
   "metadata": {},
   "source": [
    "***Вывод***"
   ]
  },
  {
   "cell_type": "markdown",
   "metadata": {},
   "source": [
    "Можно было бы отсечь пользователей совершивших более 2 заказов (95-й перцентиль) так как это более классический выбор и потеря данных была бы всего 11%, но я выберу отсечь пользователей совершивших более 4 заказов (99-й перцентиль) так как согласно графику, пользователей совершивших несколько повторных покупок достаточно много. Я думаю, что эти данные пригодятся в дальнейшем анализе."
   ]
  },
  {
   "cell_type": "markdown",
   "metadata": {},
   "source": [
    "#### Построю точечный график стоимостей заказов. Сделаю выводы и предположения."
   ]
  },
  {
   "cell_type": "markdown",
   "metadata": {},
   "source": [
    "Для построения графика стоимости заказов использую исходный датафрем `orders`, который хранить информацию о каждом заказе."
   ]
  },
  {
   "cell_type": "code",
   "execution_count": 70,
   "metadata": {},
   "outputs": [
    {
     "data": {
      "image/png": "[encoded data removed]",
      "text/plain": [
       "<Figure size 1000x600 with 1 Axes>"
      ]
     },
     "metadata": {},
     "output_type": "display_data"
    }
   ],
   "source": [
    "plt.figure(figsize=(10, 6))\n",
    "# C помощью range(len(orders)) нагляднее распределяю заказы на оси X\n",
    "plt.scatter(range(len(orders)), orders['revenue'], alpha=0.5)\n",
    "plt.title('Точечный график стоимостей заказов')\n",
    "plt.xlabel('Заказ')\n",
    "plt.ylabel('Стоимость заказа')\n",
    "plt.grid(True)\n",
    "plt.show()"
   ]
  },
  {
   "cell_type": "markdown",
   "metadata": {},
   "source": [
    "***Вывод***"
   ]
  },
  {
   "cell_type": "markdown",
   "metadata": {},
   "source": [
    "Основная масса точек сконцентрирована у нижней границы графика, значит большинство заказов имеют невысокую стоимость. Это типично для большинства розничных интернет-магазинов, где большая часть заказов состоит из стандартных покупок. Несколько точек, значительно отделяющихся от основной массы (особенно та, что находится в верхней части графика), могут указывать на аномально дорогие заказы. "
   ]
  },
  {
   "cell_type": "markdown",
   "metadata": {},
   "source": [
    "#### Посчитаю 95-й и 99-й перцентили стоимости заказов. Выберу границу для определения аномальных заказов."
   ]
  },
  {
   "cell_type": "code",
   "execution_count": 71,
   "metadata": {},
   "outputs": [],
   "source": [
    "# Расчет перцентилей для стоимости заказов\n",
    "percentiles = orders['revenue'].quantile([0.95, 0.99])"
   ]
  },
  {
   "cell_type": "code",
   "execution_count": 72,
   "metadata": {},
   "outputs": [
    {
     "data": {
      "text/plain": [
       "28000"
      ]
     },
     "execution_count": 72,
     "metadata": {},
     "output_type": "execute_result"
    }
   ],
   "source": [
    "round(percentiles[0.95])"
   ]
  },
  {
   "cell_type": "code",
   "execution_count": 73,
   "metadata": {},
   "outputs": [
    {
     "data": {
      "text/plain": [
       "58233.2"
      ]
     },
     "execution_count": 73,
     "metadata": {},
     "output_type": "execute_result"
    }
   ],
   "source": [
    "round(percentiles[0.99],2)"
   ]
  },
  {
   "cell_type": "code",
   "execution_count": 74,
   "metadata": {},
   "outputs": [
    {
     "name": "stdout",
     "output_type": "stream",
     "text": [
      "Исходное количество заказов: 1197\n",
      "Количество заказов после фильтрации: 1137\n",
      "Потеря данных: 60\n",
      "Потеря данных в процентах: 5.01%\n"
     ]
    }
   ],
   "source": [
    "# Расчет потери данных\n",
    "# Всего заказов\n",
    "total_count = len(orders)\n",
    "\n",
    "# Фильтрация заказов, стоимость которых не превышает 28 000 \n",
    "filtered_orders = orders[orders['revenue'] <= 28000]\n",
    "\n",
    "# Количество заказов после фильтрации\n",
    "filtered_count = len(filtered_orders)\n",
    "\n",
    "# Подсчет потери данных\n",
    "data_loss_1 = total_count - filtered_count\n",
    "\n",
    "# Подсчет потери данных в процентах\n",
    "data_loss_2 = ((total_count - filtered_count) / total_count) * 100\n",
    "\n",
    "print(f\"Исходное количество заказов: {total_count}\")\n",
    "print(f\"Количество заказов после фильтрации: {filtered_count}\")\n",
    "print(f\"Потеря данных: {data_loss_1}\")\n",
    "print(f\"Потеря данных в процентах: {data_loss_2:.2f}%\")"
   ]
  },
  {
   "cell_type": "code",
   "execution_count": 75,
   "metadata": {},
   "outputs": [
    {
     "name": "stdout",
     "output_type": "stream",
     "text": [
      "Исходное количество заказов: 1197\n",
      "Количество заказов после фильтрации: 1185\n",
      "Потеря данных: 12\n",
      "Потеря данных в процентах: 1.00%\n"
     ]
    }
   ],
   "source": [
    "# Расчет потери данных\n",
    "# Всего заказов\n",
    "total_count = len(orders)\n",
    "\n",
    "# Фильтрация заказов, стоимость которых не превышает 58 233 \n",
    "filtered_orders = orders[orders['revenue'] <= 58233]\n",
    "\n",
    "# Количество заказов после фильтрации\n",
    "filtered_count = len(filtered_orders)\n",
    "\n",
    "# Подсчет потери данных\n",
    "data_loss_1 = total_count - filtered_count\n",
    "\n",
    "# Подсчет потери данных в процентах\n",
    "data_loss_2 = ((total_count - filtered_count) / total_count) * 100\n",
    "\n",
    "print(f\"Исходное количество заказов: {total_count}\")\n",
    "print(f\"Количество заказов после фильтрации: {filtered_count}\")\n",
    "print(f\"Потеря данных: {data_loss_1}\")\n",
    "print(f\"Потеря данных в процентах: {data_loss_2:.2f}%\")"
   ]
  },
  {
   "cell_type": "markdown",
   "metadata": {},
   "source": [
    "***Вывод***"
   ]
  },
  {
   "cell_type": "markdown",
   "metadata": {},
   "source": [
    "В данном случае, я считаю, лучше отсечь заказы, стоимость которых не превышает 28 000 так как потеря данных будет приемлимая - 5% и аномальные заказы будут убраны из выборки. Если отсечь заказы превышающие 58 233, то потеря будет незначительная для анализа - 1% и аномалии будут сохранены в выборке."
   ]
  },
  {
   "cell_type": "markdown",
   "metadata": {},
   "source": [
    "#### Посчитаю статистическую значимость различий в среднем количестве заказов на посетителя между группами по «сырым» данным. Сделаю выводы и предположения."
   ]
  },
  {
   "cell_type": "markdown",
   "metadata": {},
   "source": [
    "Для подсчета статистической значимости \"сырых\" данных воспользуюсь непарметрическим тестом Уилкоксона-Манна-Уитни так как он подходит для данных, содержащих аномальные значения"
   ]
  },
  {
   "cell_type": "markdown",
   "metadata": {},
   "source": [
    "Нулевая гипотеза (H0): Нет статистически значимой разницы в среднем количестве заказов на посетителя между группой A и группой B.\n",
    "\n",
    "Альтернативная гипотеза (H1): Есть статистически значимая разница в среднем количестве заказов на посетителя между группой A и группой B. Это указывает на то, что изменения, внедрённые в группе B, оказали влияние на поведение посетителей."
   ]
  },
  {
   "cell_type": "code",
   "execution_count": 76,
   "metadata": {},
   "outputs": [
    {
     "name": "stdout",
     "output_type": "stream",
     "text": [
      "Заказы группы А       transaction_id  visitor_id       date  revenue group\n",
      "2         2961555356  4069496402 2019-08-15      400     A\n",
      "7         2626614568    78758296 2019-08-15     1044     A\n",
      "8         1576988021   295230930 2019-08-15    13710     A\n",
      "10        3649131742   879864040 2019-08-15     4008     A\n",
      "12        2809384911  3213223594 2019-08-15     7370     A\n",
      "...              ...         ...        ...      ...   ...\n",
      "1187      2274188238   132143192 2019-08-14      750     A\n",
      "1188      1692103379  1022829655 2019-08-14      112     A\n",
      "1193      2203539145   370388673 2019-08-14     3190     A\n",
      "1194      1807773912   573423106 2019-08-14    10550     A\n",
      "1195      1947021204  1614305549 2019-08-14      100     A\n",
      "\n",
      "[557 rows x 5 columns]\n",
      "Заказы группы B       transaction_id  visitor_id       date  revenue group\n",
      "0         3667963787  3312258926 2019-08-15     1650     B\n",
      "1         2804400009  3642806036 2019-08-15      730     B\n",
      "3         3797467345  1196621759 2019-08-15     9759     B\n",
      "4         2282983706  2322279887 2019-08-15     2308     B\n",
      "5          182168103   935554773 2019-08-15     2210     B\n",
      "...              ...         ...        ...      ...   ...\n",
      "1189      4082620617   393266494 2019-08-14    31550     B\n",
      "1190        38478481  1197745035 2019-08-14     8600     B\n",
      "1191      3592955527   608641596 2019-08-14    16490     B\n",
      "1192      2662137336  3733762160 2019-08-14     6490     B\n",
      "1196      3936777065  2108080724 2019-08-15   202740     B\n",
      "\n",
      "[640 rows x 5 columns]\n"
     ]
    }
   ],
   "source": [
    "# Создам таблицы отдельно для каждой группы\n",
    "orders_A = orders[orders['group'] == 'A']\n",
    "orders_B = orders[orders['group'] == 'B']\n",
    "print(f\"Заказы группы А {orders_A}\")\n",
    "print(f\"Заказы группы B {orders_B}\")"
   ]
  },
  {
   "cell_type": "code",
   "execution_count": 77,
   "metadata": {},
   "outputs": [
    {
     "name": "stdout",
     "output_type": "stream",
     "text": [
      "Количество заказов на пользователя группы А      visitor_id  transaction_id\n",
      "0       8300375               1\n",
      "1      11685486               1\n",
      "2      54447517               1\n",
      "3      66685450               1\n",
      "4      78758296               1\n",
      "..          ...             ...\n",
      "498  4243832526               1\n",
      "499  4256040402               7\n",
      "500  4259830713               1\n",
      "501  4266935830               1\n",
      "502  4278982564               1\n",
      "\n",
      "[503 rows x 2 columns]\n",
      "Количество заказов на пользователя группы B      visitor_id  transaction_id\n",
      "0       5114589               1\n",
      "1       6958315               1\n",
      "2       8300375               1\n",
      "3      39475350               1\n",
      "4      47206413               1\n",
      "..          ...             ...\n",
      "581  4258103007               1\n",
      "582  4266935830               1\n",
      "583  4279090005               1\n",
      "584  4281247801               1\n",
      "585  4283872382               1\n",
      "\n",
      "[586 rows x 2 columns]\n"
     ]
    }
   ],
   "source": [
    "# Считаю колличество заказов на каждого пользователя для каждой группы отдельно\n",
    "orders_per_user_A = orders_A.groupby('visitor_id').agg({'transaction_id': 'count'}).reset_index()\n",
    "orders_per_user_B = orders_B.groupby('visitor_id').agg({'transaction_id': 'count'}).reset_index()\n",
    "print(f\"Количество заказов на пользователя группы А {orders_per_user_A}\")\n",
    "print(f\"Количество заказов на пользователя группы B {orders_per_user_B}\")"
   ]
  },
  {
   "cell_type": "code",
   "execution_count": 78,
   "metadata": {},
   "outputs": [
    {
     "name": "stdout",
     "output_type": "stream",
     "text": [
      "Количество заказов группы А 0      1\n",
      "1      1\n",
      "2      1\n",
      "3      1\n",
      "4      1\n",
      "      ..\n",
      "498    1\n",
      "499    7\n",
      "500    1\n",
      "501    1\n",
      "502    1\n",
      "Name: transaction_id, Length: 503, dtype: int64\n",
      "Количество заказов группы B 0      1\n",
      "1      1\n",
      "2      1\n",
      "3      1\n",
      "4      1\n",
      "      ..\n",
      "581    1\n",
      "582    1\n",
      "583    1\n",
      "584    1\n",
      "585    1\n",
      "Name: transaction_id, Length: 586, dtype: int64\n"
     ]
    }
   ],
   "source": [
    "# Сохраняю только количество заказов для каждой группы\n",
    "group_A = orders_per_user_A['transaction_id']\n",
    "group_B = orders_per_user_B['transaction_id']\n",
    "print(f\"Количество заказов группы А {group_A}\")\n",
    "print(f\"Количество заказов группы B {group_B}\")"
   ]
  },
  {
   "cell_type": "code",
   "execution_count": 79,
   "metadata": {},
   "outputs": [
    {
     "name": "stdout",
     "output_type": "stream",
     "text": [
      "p-значение: 0.8900592924670534\n",
      "Нет статистически значимых различий в среднем количестве заказов на посетителя между группами A и B\n"
     ]
    }
   ],
   "source": [
    "# провожу тест\n",
    "alpha = 0.05\n",
    "\n",
    "# Выбираю параметр two-sided так как мне необходимо выяснить есть ли стат. значемые различия\n",
    "results = st.mannwhitneyu(group_A, group_B, True, 'two-sided')\n",
    "\n",
    "print(f\"p-значение: {results.pvalue}\") \n",
    "\n",
    "if results.pvalue < alpha:\n",
    "    print('Есть статистически значимые различия в среднем количестве заказов на посетителя между группами A и B')\n",
    "else:\n",
    "    print(\n",
    "        'Нет статистически значимых различий в среднем количестве заказов на посетителя между группами A и B'\n",
    "    ) "
   ]
  },
  {
   "cell_type": "markdown",
   "metadata": {},
   "source": [
    "***Вывод***"
   ]
  },
  {
   "cell_type": "markdown",
   "metadata": {},
   "source": [
    "Результат теста Уилкоксона-Манна-Уитни указывает на то, что нет статистически значимых различий в среднем количестве заказов на посетителя между группами A и B. Это означает, что различия, которые есть  между группами, скорее всего, не могут быть результатом эффекта, внесенного изменениями в группе B."
   ]
  },
  {
   "cell_type": "code",
   "execution_count": 80,
   "metadata": {
    "scrolled": true
   },
   "outputs": [
    {
     "data": {
      "image/png": "[encoded data removed]",
      "text/plain": [
       "<Figure size 640x480 with 1 Axes>"
      ]
     },
     "metadata": {},
     "output_type": "display_data"
    }
   ],
   "source": [
    "# Считаю среднеее количество заказов на посетителя для каждой группы\n",
    "mean_orders_A = orders_per_user_A['transaction_id'].mean()\n",
    "mean_orders_B = orders_per_user_B['transaction_id'].mean()\n",
    "\n",
    "# Визуализация средних значений\n",
    "plt.bar(['Group A', 'Group B'], [mean_orders_A, mean_orders_B], color=['blue', 'green'])\n",
    "plt.xlabel('Группы')\n",
    "plt.ylabel('Среднее количество заказов на посетителя')\n",
    "plt.title('Среднее количество заказов на посетителя по группам A и B')\n",
    "plt.show()\n"
   ]
  },
  {
   "cell_type": "code",
   "execution_count": 81,
   "metadata": {},
   "outputs": [
    {
     "name": "stdout",
     "output_type": "stream",
     "text": [
      "p-значение: 0.8900592924670534\n",
      "Нет статистически значимых различий в среднем количестве заказов на посетителя между группами A и B\n"
     ]
    }
   ],
   "source": [
    "alpha = 0.05\n",
    "\n",
    "# Проведение теста Манна-Уитни\n",
    "results = st.mannwhitneyu(orders_per_user_A['transaction_id'], orders_per_user_B['transaction_id'], True, 'two-sided')\n",
    "\n",
    "print(f\"p-значение: {results.pvalue}\")\n",
    "\n",
    "\n",
    "if results.pvalue < alpha:\n",
    "    print('Есть статистически значимые различия в среднем количестве заказов на посетителя между группами A и B')\n",
    "else:\n",
    "    print('Нет статистически значимых различий в среднем количестве заказов на посетителя между группами A и B')\n",
    "    "
   ]
  },
  {
   "cell_type": "markdown",
   "metadata": {},
   "source": [
    "#### Посчитаю статистическую значимость различий в среднем чеке заказа между группами по «сырым» данным. Сделаю выводы и предположения."
   ]
  },
  {
   "cell_type": "markdown",
   "metadata": {},
   "source": [
    "Для выполнения этой задачи проведу действия аналогичные пункту 10"
   ]
  },
  {
   "cell_type": "code",
   "execution_count": 82,
   "metadata": {},
   "outputs": [],
   "source": [
    "# Разделю данные на группы A и B\n",
    "orders_A = orders[orders['group'] == 'A']['revenue']\n",
    "orders_B = orders[orders['group'] == 'B']['revenue']"
   ]
  },
  {
   "cell_type": "code",
   "execution_count": 83,
   "metadata": {},
   "outputs": [
    {
     "name": "stdout",
     "output_type": "stream",
     "text": [
      "p-значение: 0.8900592924670534\n",
      "Нет статистически значимых различий в среднем чеке заказа между группами A и B\n"
     ]
    }
   ],
   "source": [
    "# Проведение теста Уилкоксона-Манна-Уитни\n",
    "\n",
    "alpha = 0.05\n",
    "\n",
    "\n",
    "results = st.mannwhitneyu(group_A, group_B, True, 'two-sided')\n",
    "\n",
    "print(f\"p-значение: {results.pvalue}\") \n",
    "\n",
    "if results.pvalue < alpha:\n",
    "    print('Есть статистически значимые различия в среднем чеке заказа между группами A и B')\n",
    "else:\n",
    "    print(\n",
    "        'Нет статистически значимых различий в среднем чеке заказа между группами A и B'\n",
    "    ) "
   ]
  },
  {
   "cell_type": "markdown",
   "metadata": {},
   "source": [
    "***Вывод***"
   ]
  },
  {
   "cell_type": "markdown",
   "metadata": {},
   "source": [
    "Результат показал, что нет статистически значимых различий в среднем чеке заказа между группами A и B. "
   ]
  },
  {
   "cell_type": "markdown",
   "metadata": {},
   "source": [
    "#### Посчитаю статистическую значимость различий в среднем количестве заказов на посетителя между группами по «очищенным» данным. Сделаю выводы и предположения."
   ]
  },
  {
   "cell_type": "markdown",
   "metadata": {},
   "source": [
    "Для работы с очищенными данными использую датафремы из пункта 10 `orders_per_user_A` и `orders_per_user_B`. Уберу из них пользователей, совершивших более 4-х заказов и проделаю шаги из пункта 10."
   ]
  },
  {
   "cell_type": "code",
   "execution_count": 84,
   "metadata": {},
   "outputs": [],
   "source": [
    "orders_per_user_A = orders_per_user_A[orders_per_user_A['transaction_id'] <= 4]\n",
    "orders_per_user_B = orders_per_user_B[orders_per_user_B['transaction_id'] <= 4]"
   ]
  },
  {
   "cell_type": "code",
   "execution_count": 85,
   "metadata": {},
   "outputs": [],
   "source": [
    "group_A = orders_per_user_A['transaction_id']\n",
    "group_B = orders_per_user_B['transaction_id']"
   ]
  },
  {
   "cell_type": "code",
   "execution_count": 86,
   "metadata": {},
   "outputs": [
    {
     "name": "stdout",
     "output_type": "stream",
     "text": [
      "p-значение: 0.9670227883402754\n",
      "Нет статистически значимых различий в среднем количестве заказов на посетителя по \"очищенным\" данным между группами A и B\n"
     ]
    }
   ],
   "source": [
    "\n",
    "alpha = 0.05\n",
    "\n",
    "\n",
    "results = st.mannwhitneyu(group_A, group_B, True, 'two-sided')\n",
    "\n",
    "print(f\"p-значение: {results.pvalue}\") \n",
    "\n",
    "if results.pvalue < alpha:\n",
    "    print('Есть статистически значимые различия в среднем количестве заказов на посетителя по \"очищенным\" данным между группами A и B')\n",
    "else:\n",
    "    print(\n",
    "        'Нет статистически значимых различий в среднем количестве заказов на посетителя по \"очищенным\" данным между группами A и B'\n",
    "    ) "
   ]
  },
  {
   "cell_type": "markdown",
   "metadata": {},
   "source": [
    "***Вывод***"
   ]
  },
  {
   "cell_type": "markdown",
   "metadata": {},
   "source": [
    "Статистических различий нет в среднем количестве заказов нет. Это значит, что внедренные изменения не повлияли на количество заказов."
   ]
  },
  {
   "cell_type": "markdown",
   "metadata": {},
   "source": [
    "#### Посчитаю статистическую значимость различий в среднем чеке заказа между группами по «очищенным» данным. Сделаю выводы и предположения."
   ]
  },
  {
   "cell_type": "markdown",
   "metadata": {},
   "source": [
    "Проведу действия аналогичные предыдущим пунктам, но уберу заказы стомость, которых превышет 28 000"
   ]
  },
  {
   "cell_type": "code",
   "execution_count": 87,
   "metadata": {},
   "outputs": [],
   "source": [
    "orders = orders[orders['revenue'] <= 28000]\n",
    "orders_A = orders[orders['group'] == 'A']['revenue']\n",
    "orders_B = orders[orders['group'] == 'B']['revenue']"
   ]
  },
  {
   "cell_type": "code",
   "execution_count": 88,
   "metadata": {},
   "outputs": [
    {
     "name": "stdout",
     "output_type": "stream",
     "text": [
      "p-значение: 0.9670227883402754\n",
      "Нет статистически значимых различий в среднем чеке заказа по \"очищенным\" данным между группами A и B\n"
     ]
    }
   ],
   "source": [
    "alpha = 0.05\n",
    "\n",
    "\n",
    "results = st.mannwhitneyu(group_A, group_B, True, 'two-sided')\n",
    "\n",
    "print(f\"p-значение: {results.pvalue}\") \n",
    "\n",
    "if results.pvalue < alpha:\n",
    "    print('Есть статистически значимые различия в среднем чеке заказа по \"очищенным\" данным между группами A и B')\n",
    "else:\n",
    "    print(\n",
    "        'Нет статистически значимых различий в среднем чеке заказа по \"очищенным\" данным между группами A и B'\n",
    "    ) "
   ]
  },
  {
   "cell_type": "markdown",
   "metadata": {},
   "source": [
    "***Выводы***"
   ]
  },
  {
   "cell_type": "markdown",
   "metadata": {},
   "source": [
    "Статистически значемых различий нет. Это значит, что внесенные изменения в группу B не повлияли на уровень среднего чека."
   ]
  },
  {
   "cell_type": "markdown",
   "metadata": {},
   "source": [
    "#### Теперь необходимо принять решение по результатам теста и объяснить его. Варианты решений:\n",
    "    1. Остановить тест, зафиксировать победу одной из групп.\n",
    "    2. Остановить тест, зафиксировать отсутствие различий между группами.\n",
    "    3. Продолжить тест."
   ]
  },
  {
   "cell_type": "markdown",
   "metadata": {},
   "source": [
    "На основе полученного результата не было обнаружено значимых изменений в поведении клиентов (не наблюдалось статистически значимых различий ни в среднем количестве заказов на посетителя, ни в среднем чеке заказа после удаления аномалий), продолжение теста вероятно не приведет к другим результатам. Это может указывать на то, что внесенные изменения не оказывают значимого влияния на изучаемые показатели. Необходимо остановить тест и зафиксировать отсутсвие различий между группами."
   ]
  }
 ],
 "metadata": {
  "ExecuteTimeLog": [
   {
    "duration": 1401,
    "start_time": "2024-07-11T09:43:42.661Z"
   },
   {
    "duration": 102,
    "start_time": "2024-07-11T09:43:44.064Z"
   },
   {
    "duration": 0,
    "start_time": "2024-07-11T09:43:44.168Z"
   },
   {
    "duration": 234,
    "start_time": "2024-07-11T09:44:38.907Z"
   },
   {
    "duration": 1045,
    "start_time": "2024-07-11T09:44:40.751Z"
   },
   {
    "duration": 34,
    "start_time": "2024-07-11T09:48:02.715Z"
   },
   {
    "duration": 37,
    "start_time": "2024-07-11T09:48:57.300Z"
   },
   {
    "duration": 7,
    "start_time": "2024-07-11T10:09:08.670Z"
   },
   {
    "duration": 7,
    "start_time": "2024-07-11T10:09:08.963Z"
   },
   {
    "duration": 7,
    "start_time": "2024-07-11T10:09:09.233Z"
   },
   {
    "duration": 61,
    "start_time": "2024-07-11T10:16:36.526Z"
   },
   {
    "duration": 12,
    "start_time": "2024-07-11T10:18:49.740Z"
   },
   {
    "duration": 4,
    "start_time": "2024-07-11T10:18:50.029Z"
   },
   {
    "duration": 4,
    "start_time": "2024-07-11T10:18:59.064Z"
   },
   {
    "duration": 3,
    "start_time": "2024-07-11T10:19:00.053Z"
   },
   {
    "duration": 5,
    "start_time": "2024-07-11T10:19:18.252Z"
   },
   {
    "duration": 4,
    "start_time": "2024-07-11T10:19:18.557Z"
   },
   {
    "duration": 4,
    "start_time": "2024-07-11T10:19:38.548Z"
   },
   {
    "duration": 59,
    "start_time": "2024-07-11T10:23:18.397Z"
   },
   {
    "duration": 57,
    "start_time": "2024-07-11T10:25:07.590Z"
   },
   {
    "duration": 28,
    "start_time": "2024-07-11T10:25:07.979Z"
   },
   {
    "duration": 3,
    "start_time": "2024-07-11T10:25:10.083Z"
   },
   {
    "duration": 3,
    "start_time": "2024-07-11T10:25:10.387Z"
   },
   {
    "duration": 4,
    "start_time": "2024-07-11T10:25:10.627Z"
   },
   {
    "duration": 6,
    "start_time": "2024-07-11T10:25:10.901Z"
   },
   {
    "duration": 4,
    "start_time": "2024-07-11T10:25:11.251Z"
   },
   {
    "duration": 3,
    "start_time": "2024-07-11T10:25:29.716Z"
   },
   {
    "duration": 5,
    "start_time": "2024-07-11T10:25:29.971Z"
   },
   {
    "duration": 5,
    "start_time": "2024-07-11T10:25:30.180Z"
   },
   {
    "duration": 5,
    "start_time": "2024-07-11T10:25:30.740Z"
   },
   {
    "duration": 3,
    "start_time": "2024-07-11T10:26:27.877Z"
   },
   {
    "duration": 4,
    "start_time": "2024-07-11T10:26:28.148Z"
   },
   {
    "duration": 4,
    "start_time": "2024-07-11T10:26:28.404Z"
   },
   {
    "duration": 4,
    "start_time": "2024-07-11T10:26:28.709Z"
   },
   {
    "duration": 4,
    "start_time": "2024-07-11T10:26:29.125Z"
   },
   {
    "duration": 57,
    "start_time": "2024-07-11T10:27:01.205Z"
   },
   {
    "duration": 22,
    "start_time": "2024-07-11T10:27:01.540Z"
   },
   {
    "duration": 1238,
    "start_time": "2024-07-11T10:31:57.110Z"
   },
   {
    "duration": 78,
    "start_time": "2024-07-11T10:31:58.350Z"
   },
   {
    "duration": 39,
    "start_time": "2024-07-11T10:31:58.437Z"
   },
   {
    "duration": 6,
    "start_time": "2024-07-11T10:32:01.774Z"
   },
   {
    "duration": 5,
    "start_time": "2024-07-11T10:32:02.110Z"
   },
   {
    "duration": 4,
    "start_time": "2024-07-11T10:32:02.558Z"
   },
   {
    "duration": 58,
    "start_time": "2024-07-11T10:32:05.070Z"
   },
   {
    "duration": 26,
    "start_time": "2024-07-11T10:32:05.501Z"
   },
   {
    "duration": 38,
    "start_time": "2024-07-11T10:32:24.615Z"
   },
   {
    "duration": 3,
    "start_time": "2024-07-11T10:32:57.183Z"
   },
   {
    "duration": 4,
    "start_time": "2024-07-11T10:32:57.454Z"
   },
   {
    "duration": 4,
    "start_time": "2024-07-11T10:32:57.719Z"
   },
   {
    "duration": 5,
    "start_time": "2024-07-11T10:32:57.991Z"
   },
   {
    "duration": 4,
    "start_time": "2024-07-11T10:32:58.278Z"
   },
   {
    "duration": 83,
    "start_time": "2024-07-11T10:37:05.076Z"
   },
   {
    "duration": 4,
    "start_time": "2024-07-11T10:52:49.109Z"
   },
   {
    "duration": 80,
    "start_time": "2024-07-11T10:53:17.118Z"
   },
   {
    "duration": 4,
    "start_time": "2024-07-11T10:53:17.448Z"
   },
   {
    "duration": 6,
    "start_time": "2024-07-11T10:54:39.250Z"
   },
   {
    "duration": 11,
    "start_time": "2024-07-11T10:54:39.646Z"
   },
   {
    "duration": 4,
    "start_time": "2024-07-11T10:56:27.665Z"
   },
   {
    "duration": 4,
    "start_time": "2024-07-11T10:57:41.731Z"
   },
   {
    "duration": 10,
    "start_time": "2024-07-11T10:57:42.130Z"
   },
   {
    "duration": 12,
    "start_time": "2024-07-11T11:12:04.789Z"
   },
   {
    "duration": 11,
    "start_time": "2024-07-11T11:12:12.874Z"
   },
   {
    "duration": 14,
    "start_time": "2024-07-11T12:36:49.085Z"
   },
   {
    "duration": 11,
    "start_time": "2024-07-11T12:36:58.787Z"
   },
   {
    "duration": 350,
    "start_time": "2024-07-11T12:37:33.453Z"
   },
   {
    "duration": 51,
    "start_time": "2024-07-12T09:44:15.311Z"
   },
   {
    "duration": 6,
    "start_time": "2024-07-12T09:44:15.646Z"
   },
   {
    "duration": 1389,
    "start_time": "2024-07-12T09:44:24.662Z"
   },
   {
    "duration": 224,
    "start_time": "2024-07-12T09:44:26.054Z"
   },
   {
    "duration": 41,
    "start_time": "2024-07-12T09:44:26.280Z"
   },
   {
    "duration": 6,
    "start_time": "2024-07-12T09:44:26.323Z"
   },
   {
    "duration": 14,
    "start_time": "2024-07-12T09:44:26.331Z"
   },
   {
    "duration": 5,
    "start_time": "2024-07-12T09:44:26.549Z"
   },
   {
    "duration": 56,
    "start_time": "2024-07-12T09:44:28.373Z"
   },
   {
    "duration": 23,
    "start_time": "2024-07-12T09:44:28.645Z"
   },
   {
    "duration": 3,
    "start_time": "2024-07-12T09:44:29.413Z"
   },
   {
    "duration": 3,
    "start_time": "2024-07-12T09:44:29.653Z"
   },
   {
    "duration": 5,
    "start_time": "2024-07-12T09:44:29.893Z"
   },
   {
    "duration": 4,
    "start_time": "2024-07-12T09:44:30.141Z"
   },
   {
    "duration": 4,
    "start_time": "2024-07-12T09:44:30.365Z"
   },
   {
    "duration": 7,
    "start_time": "2024-07-12T09:44:32.461Z"
   },
   {
    "duration": 7,
    "start_time": "2024-07-12T09:44:32.798Z"
   },
   {
    "duration": 10,
    "start_time": "2024-07-12T09:44:33.134Z"
   },
   {
    "duration": 5,
    "start_time": "2024-07-12T09:44:34.685Z"
   },
   {
    "duration": 5,
    "start_time": "2024-07-12T09:44:35.070Z"
   },
   {
    "duration": 11,
    "start_time": "2024-07-12T09:44:35.518Z"
   },
   {
    "duration": 10,
    "start_time": "2024-07-12T09:44:48.598Z"
   },
   {
    "duration": 12,
    "start_time": "2024-07-12T09:44:49.110Z"
   },
   {
    "duration": 338,
    "start_time": "2024-07-12T09:44:50.325Z"
   },
   {
    "duration": 278,
    "start_time": "2024-07-12T09:48:03.954Z"
   },
   {
    "duration": 1153,
    "start_time": "2024-07-12T09:58:11.199Z"
   },
   {
    "duration": 14,
    "start_time": "2024-07-12T09:58:34.342Z"
   },
   {
    "duration": 1257,
    "start_time": "2024-07-12T10:00:05.877Z"
   },
   {
    "duration": 76,
    "start_time": "2024-07-12T10:00:07.136Z"
   },
   {
    "duration": 38,
    "start_time": "2024-07-12T10:00:07.213Z"
   },
   {
    "duration": 6,
    "start_time": "2024-07-12T10:00:07.254Z"
   },
   {
    "duration": 7,
    "start_time": "2024-07-12T10:00:07.325Z"
   },
   {
    "duration": 5,
    "start_time": "2024-07-12T10:00:07.549Z"
   },
   {
    "duration": 57,
    "start_time": "2024-07-12T10:00:08.909Z"
   },
   {
    "duration": 23,
    "start_time": "2024-07-12T10:00:09.117Z"
   },
   {
    "duration": 4,
    "start_time": "2024-07-12T10:00:09.758Z"
   },
   {
    "duration": 3,
    "start_time": "2024-07-12T10:00:09.981Z"
   },
   {
    "duration": 4,
    "start_time": "2024-07-12T10:00:10.189Z"
   },
   {
    "duration": 4,
    "start_time": "2024-07-12T10:00:10.397Z"
   },
   {
    "duration": 4,
    "start_time": "2024-07-12T10:00:10.621Z"
   },
   {
    "duration": 4,
    "start_time": "2024-07-12T10:00:18.230Z"
   },
   {
    "duration": 7,
    "start_time": "2024-07-12T10:00:18.453Z"
   },
   {
    "duration": 12,
    "start_time": "2024-07-12T10:00:18.645Z"
   },
   {
    "duration": 4,
    "start_time": "2024-07-12T10:00:19.092Z"
   },
   {
    "duration": 5,
    "start_time": "2024-07-12T10:00:19.317Z"
   },
   {
    "duration": 12,
    "start_time": "2024-07-12T10:00:19.534Z"
   },
   {
    "duration": 11,
    "start_time": "2024-07-12T10:00:21.406Z"
   },
   {
    "duration": 11,
    "start_time": "2024-07-12T10:00:21.614Z"
   },
   {
    "duration": 316,
    "start_time": "2024-07-12T10:00:21.854Z"
   },
   {
    "duration": 12,
    "start_time": "2024-07-12T10:00:23.357Z"
   },
   {
    "duration": 1215,
    "start_time": "2024-07-12T10:00:23.645Z"
   },
   {
    "duration": 0,
    "start_time": "2024-07-12T10:00:24.862Z"
   },
   {
    "duration": 1076,
    "start_time": "2024-07-12T10:01:20.674Z"
   },
   {
    "duration": 15,
    "start_time": "2024-07-12T10:02:15.520Z"
   },
   {
    "duration": 13,
    "start_time": "2024-07-12T10:02:38.945Z"
   },
   {
    "duration": 31,
    "start_time": "2024-07-12T10:02:44.896Z"
   },
   {
    "duration": 240,
    "start_time": "2024-07-12T10:03:01.994Z"
   },
   {
    "duration": 10,
    "start_time": "2024-07-12T10:12:29.957Z"
   },
   {
    "duration": 19,
    "start_time": "2024-07-12T10:12:38.068Z"
   },
   {
    "duration": 17,
    "start_time": "2024-07-12T10:14:03.350Z"
   },
   {
    "duration": 342,
    "start_time": "2024-07-12T10:14:34.414Z"
   },
   {
    "duration": 17,
    "start_time": "2024-07-12T10:15:14.039Z"
   },
   {
    "duration": 315,
    "start_time": "2024-07-12T10:15:17.962Z"
   },
   {
    "duration": 21,
    "start_time": "2024-07-12T10:15:24.784Z"
   },
   {
    "duration": 340,
    "start_time": "2024-07-12T10:15:25.214Z"
   },
   {
    "duration": 18,
    "start_time": "2024-07-12T10:58:30.241Z"
   },
   {
    "duration": 20,
    "start_time": "2024-07-12T10:58:34.839Z"
   },
   {
    "duration": 15,
    "start_time": "2024-07-12T10:58:41.551Z"
   },
   {
    "duration": 20,
    "start_time": "2024-07-12T10:58:46.871Z"
   },
   {
    "duration": 318,
    "start_time": "2024-07-12T10:59:12.719Z"
   },
   {
    "duration": 66,
    "start_time": "2024-07-12T11:20:18.246Z"
   },
   {
    "duration": 17,
    "start_time": "2024-07-12T11:20:28.278Z"
   },
   {
    "duration": 14,
    "start_time": "2024-07-12T11:21:34.720Z"
   },
   {
    "duration": 353,
    "start_time": "2024-07-12T11:21:59.000Z"
   },
   {
    "duration": 15,
    "start_time": "2024-07-12T12:13:05.208Z"
   },
   {
    "duration": 1036,
    "start_time": "2024-07-12T12:13:13.854Z"
   },
   {
    "duration": 228,
    "start_time": "2024-07-12T12:13:19.527Z"
   },
   {
    "duration": 6,
    "start_time": "2024-07-12T12:18:35.788Z"
   },
   {
    "duration": 3,
    "start_time": "2024-07-12T12:19:04.654Z"
   },
   {
    "duration": 4,
    "start_time": "2024-07-12T12:21:55.680Z"
   },
   {
    "duration": 4,
    "start_time": "2024-07-12T12:21:56.808Z"
   },
   {
    "duration": 4,
    "start_time": "2024-07-12T12:21:57.239Z"
   },
   {
    "duration": 1026,
    "start_time": "2024-07-12T12:22:45.809Z"
   },
   {
    "duration": 7,
    "start_time": "2024-07-12T12:23:03.738Z"
   },
   {
    "duration": 8,
    "start_time": "2024-07-12T12:23:23.729Z"
   },
   {
    "duration": 1119,
    "start_time": "2024-07-12T12:29:32.337Z"
   },
   {
    "duration": 7,
    "start_time": "2024-07-12T12:29:45.281Z"
   },
   {
    "duration": 7,
    "start_time": "2024-07-12T12:29:57.067Z"
   },
   {
    "duration": 7,
    "start_time": "2024-07-12T12:30:53.810Z"
   },
   {
    "duration": 7,
    "start_time": "2024-07-12T12:32:29.099Z"
   },
   {
    "duration": 7,
    "start_time": "2024-07-12T12:32:29.371Z"
   },
   {
    "duration": 77,
    "start_time": "2024-07-12T12:32:53.164Z"
   },
   {
    "duration": 7,
    "start_time": "2024-07-12T12:32:58.403Z"
   },
   {
    "duration": 7,
    "start_time": "2024-07-12T12:33:07.524Z"
   },
   {
    "duration": 6,
    "start_time": "2024-07-12T12:33:14.724Z"
   },
   {
    "duration": 71,
    "start_time": "2024-07-12T12:34:37.454Z"
   },
   {
    "duration": 64,
    "start_time": "2024-07-12T12:34:39.102Z"
   },
   {
    "duration": 12,
    "start_time": "2024-07-12T12:34:49.654Z"
   },
   {
    "duration": 12,
    "start_time": "2024-07-12T12:34:50.197Z"
   },
   {
    "duration": 8,
    "start_time": "2024-07-12T12:35:01.118Z"
   },
   {
    "duration": 7,
    "start_time": "2024-07-12T12:35:05.303Z"
   },
   {
    "duration": 162,
    "start_time": "2024-07-12T12:57:29.304Z"
   },
   {
    "duration": 158,
    "start_time": "2024-07-12T12:58:28.609Z"
   },
   {
    "duration": 6,
    "start_time": "2024-07-12T13:06:24.099Z"
   },
   {
    "duration": 4,
    "start_time": "2024-07-12T13:06:24.449Z"
   },
   {
    "duration": 5,
    "start_time": "2024-07-12T13:06:24.705Z"
   },
   {
    "duration": 5,
    "start_time": "2024-07-12T13:06:53.089Z"
   },
   {
    "duration": 5,
    "start_time": "2024-07-12T13:06:53.314Z"
   },
   {
    "duration": 7,
    "start_time": "2024-07-12T13:08:11.492Z"
   },
   {
    "duration": 7,
    "start_time": "2024-07-12T13:11:50.640Z"
   },
   {
    "duration": 7,
    "start_time": "2024-07-12T13:14:50.339Z"
   },
   {
    "duration": 7,
    "start_time": "2024-07-12T13:14:59.495Z"
   },
   {
    "duration": 8,
    "start_time": "2024-07-12T13:18:31.599Z"
   },
   {
    "duration": 10,
    "start_time": "2024-07-12T13:18:31.876Z"
   },
   {
    "duration": 7,
    "start_time": "2024-07-12T13:20:49.130Z"
   },
   {
    "duration": 6,
    "start_time": "2024-07-12T13:21:19.102Z"
   },
   {
    "duration": 7,
    "start_time": "2024-07-12T13:21:49.075Z"
   },
   {
    "duration": 1148,
    "start_time": "2024-07-12T13:50:35.144Z"
   },
   {
    "duration": 17,
    "start_time": "2024-07-12T13:50:40.390Z"
   },
   {
    "duration": 14,
    "start_time": "2024-07-12T13:50:58.589Z"
   },
   {
    "duration": 5,
    "start_time": "2024-07-12T13:52:04.878Z"
   },
   {
    "duration": 15,
    "start_time": "2024-07-12T13:54:16.632Z"
   },
   {
    "duration": 15,
    "start_time": "2024-07-12T13:55:24.393Z"
   },
   {
    "duration": 6,
    "start_time": "2024-07-12T13:56:15.426Z"
   },
   {
    "duration": 6,
    "start_time": "2024-07-12T13:57:11.290Z"
   },
   {
    "duration": 8,
    "start_time": "2024-07-12T13:58:05.954Z"
   },
   {
    "duration": 7,
    "start_time": "2024-07-12T13:58:56.173Z"
   },
   {
    "duration": 15,
    "start_time": "2024-07-12T14:01:13.223Z"
   },
   {
    "duration": 8,
    "start_time": "2024-07-12T14:03:12.505Z"
   },
   {
    "duration": 8,
    "start_time": "2024-07-12T14:04:57.090Z"
   },
   {
    "duration": 7,
    "start_time": "2024-07-12T14:05:44.875Z"
   },
   {
    "duration": 9,
    "start_time": "2024-07-12T14:15:14.462Z"
   },
   {
    "duration": 7,
    "start_time": "2024-07-12T14:15:51.669Z"
   },
   {
    "duration": 923,
    "start_time": "2024-07-12T14:21:42.445Z"
   },
   {
    "duration": 14,
    "start_time": "2024-07-12T14:23:01.430Z"
   },
   {
    "duration": 14,
    "start_time": "2024-07-12T14:23:02.294Z"
   },
   {
    "duration": 6,
    "start_time": "2024-07-12T14:23:02.942Z"
   },
   {
    "duration": 8,
    "start_time": "2024-07-12T14:23:03.501Z"
   },
   {
    "duration": 3,
    "start_time": "2024-07-12T14:23:05.887Z"
   },
   {
    "duration": 3,
    "start_time": "2024-07-12T14:23:30.238Z"
   },
   {
    "duration": 5,
    "start_time": "2024-07-12T14:26:58.882Z"
   },
   {
    "duration": 6,
    "start_time": "2024-07-12T14:38:28.415Z"
   },
   {
    "duration": 7,
    "start_time": "2024-07-12T14:38:28.750Z"
   },
   {
    "duration": 7,
    "start_time": "2024-07-12T14:40:31.856Z"
   },
   {
    "duration": 61,
    "start_time": "2024-07-12T14:41:54.345Z"
   },
   {
    "duration": 69,
    "start_time": "2024-07-12T14:46:26.527Z"
   },
   {
    "duration": 11,
    "start_time": "2024-07-12T14:54:57.457Z"
   },
   {
    "duration": 13,
    "start_time": "2024-07-12T14:55:58.338Z"
   },
   {
    "duration": 3,
    "start_time": "2024-07-12T14:55:58.688Z"
   },
   {
    "duration": 5,
    "start_time": "2024-07-12T14:55:59.025Z"
   },
   {
    "duration": 14,
    "start_time": "2024-07-12T14:56:14.922Z"
   },
   {
    "duration": 15,
    "start_time": "2024-07-12T14:56:15.272Z"
   },
   {
    "duration": 7,
    "start_time": "2024-07-12T14:56:26.705Z"
   },
   {
    "duration": 16,
    "start_time": "2024-07-12T14:56:26.972Z"
   },
   {
    "duration": 14,
    "start_time": "2024-07-12T14:56:28.275Z"
   },
   {
    "duration": 14,
    "start_time": "2024-07-12T14:57:31.147Z"
   },
   {
    "duration": 10,
    "start_time": "2024-07-12T14:57:31.627Z"
   },
   {
    "duration": 11,
    "start_time": "2024-07-12T14:57:32.346Z"
   },
   {
    "duration": 11,
    "start_time": "2024-07-12T14:58:05.811Z"
   },
   {
    "duration": 9,
    "start_time": "2024-07-12T14:58:06.146Z"
   },
   {
    "duration": 13,
    "start_time": "2024-07-12T14:58:42.114Z"
   },
   {
    "duration": 7,
    "start_time": "2024-07-12T14:58:42.468Z"
   },
   {
    "duration": 11,
    "start_time": "2024-07-12T14:58:59.576Z"
   },
   {
    "duration": 8,
    "start_time": "2024-07-12T14:59:01.468Z"
   },
   {
    "duration": 5,
    "start_time": "2024-07-12T14:59:13.572Z"
   },
   {
    "duration": 7,
    "start_time": "2024-07-12T14:59:13.843Z"
   },
   {
    "duration": 5,
    "start_time": "2024-07-12T14:59:28.164Z"
   },
   {
    "duration": 3,
    "start_time": "2024-07-12T14:59:28.451Z"
   },
   {
    "duration": 7,
    "start_time": "2024-07-12T14:59:28.820Z"
   },
   {
    "duration": 7,
    "start_time": "2024-07-12T15:00:01.550Z"
   },
   {
    "duration": 5,
    "start_time": "2024-07-12T15:01:45.927Z"
   },
   {
    "duration": 2,
    "start_time": "2024-07-12T15:01:46.328Z"
   },
   {
    "duration": 8,
    "start_time": "2024-07-12T15:01:46.597Z"
   },
   {
    "duration": 13,
    "start_time": "2024-07-12T15:08:24.999Z"
   },
   {
    "duration": 934,
    "start_time": "2024-07-12T15:10:24.203Z"
   },
   {
    "duration": 1214,
    "start_time": "2024-07-12T15:10:56.989Z"
   },
   {
    "duration": 86,
    "start_time": "2024-07-12T15:10:58.204Z"
   },
   {
    "duration": 40,
    "start_time": "2024-07-12T15:10:58.291Z"
   },
   {
    "duration": 6,
    "start_time": "2024-07-12T15:10:58.334Z"
   },
   {
    "duration": 12,
    "start_time": "2024-07-12T15:10:58.342Z"
   },
   {
    "duration": 5,
    "start_time": "2024-07-12T15:10:58.356Z"
   },
   {
    "duration": 56,
    "start_time": "2024-07-12T15:11:03.653Z"
   },
   {
    "duration": 22,
    "start_time": "2024-07-12T15:11:03.981Z"
   },
   {
    "duration": 4,
    "start_time": "2024-07-12T15:11:04.828Z"
   },
   {
    "duration": 4,
    "start_time": "2024-07-12T15:11:05.052Z"
   },
   {
    "duration": 4,
    "start_time": "2024-07-12T15:11:05.292Z"
   },
   {
    "duration": 4,
    "start_time": "2024-07-12T15:11:05.517Z"
   },
   {
    "duration": 3,
    "start_time": "2024-07-12T15:11:05.749Z"
   },
   {
    "duration": 4,
    "start_time": "2024-07-12T15:11:07.892Z"
   },
   {
    "duration": 6,
    "start_time": "2024-07-12T15:11:08.117Z"
   },
   {
    "duration": 10,
    "start_time": "2024-07-12T15:11:08.340Z"
   },
   {
    "duration": 3,
    "start_time": "2024-07-12T15:11:08.743Z"
   },
   {
    "duration": 5,
    "start_time": "2024-07-12T15:11:08.964Z"
   },
   {
    "duration": 11,
    "start_time": "2024-07-12T15:11:09.170Z"
   },
   {
    "duration": 13,
    "start_time": "2024-07-12T15:11:11.156Z"
   },
   {
    "duration": 9,
    "start_time": "2024-07-12T15:11:11.364Z"
   },
   {
    "duration": 304,
    "start_time": "2024-07-12T15:11:11.575Z"
   },
   {
    "duration": 22,
    "start_time": "2024-07-12T15:11:12.482Z"
   },
   {
    "duration": 231,
    "start_time": "2024-07-12T15:11:12.669Z"
   },
   {
    "duration": 20,
    "start_time": "2024-07-12T15:11:13.821Z"
   },
   {
    "duration": 18,
    "start_time": "2024-07-12T15:11:14.044Z"
   },
   {
    "duration": 367,
    "start_time": "2024-07-12T15:11:14.286Z"
   },
   {
    "duration": 16,
    "start_time": "2024-07-12T15:11:15.181Z"
   },
   {
    "duration": 15,
    "start_time": "2024-07-12T15:11:15.389Z"
   },
   {
    "duration": 14,
    "start_time": "2024-07-12T15:11:15.645Z"
   },
   {
    "duration": 18,
    "start_time": "2024-07-12T15:11:15.885Z"
   },
   {
    "duration": 276,
    "start_time": "2024-07-12T15:11:16.093Z"
   },
   {
    "duration": 16,
    "start_time": "2024-07-12T15:11:17.166Z"
   },
   {
    "duration": 18,
    "start_time": "2024-07-12T15:11:17.373Z"
   },
   {
    "duration": 369,
    "start_time": "2024-07-12T15:11:17.597Z"
   },
   {
    "duration": 12,
    "start_time": "2024-07-12T15:11:18.485Z"
   },
   {
    "duration": 150,
    "start_time": "2024-07-12T15:11:18.710Z"
   },
   {
    "duration": 5,
    "start_time": "2024-07-12T15:11:19.796Z"
   },
   {
    "duration": 4,
    "start_time": "2024-07-12T15:11:19.989Z"
   },
   {
    "duration": 5,
    "start_time": "2024-07-12T15:11:20.213Z"
   },
   {
    "duration": 7,
    "start_time": "2024-07-12T15:11:20.437Z"
   },
   {
    "duration": 7,
    "start_time": "2024-07-12T15:11:20.645Z"
   },
   {
    "duration": 159,
    "start_time": "2024-07-12T15:11:21.732Z"
   },
   {
    "duration": 5,
    "start_time": "2024-07-12T15:11:22.884Z"
   },
   {
    "duration": 4,
    "start_time": "2024-07-12T15:11:23.061Z"
   },
   {
    "duration": 4,
    "start_time": "2024-07-12T15:11:23.349Z"
   },
   {
    "duration": 6,
    "start_time": "2024-07-12T15:11:23.589Z"
   },
   {
    "duration": 6,
    "start_time": "2024-07-12T15:11:23.829Z"
   },
   {
    "duration": 13,
    "start_time": "2024-07-12T15:11:24.957Z"
   },
   {
    "duration": 14,
    "start_time": "2024-07-12T15:11:25.180Z"
   },
   {
    "duration": 5,
    "start_time": "2024-07-12T15:11:25.469Z"
   },
   {
    "duration": 6,
    "start_time": "2024-07-12T15:11:25.662Z"
   },
   {
    "duration": 6,
    "start_time": "2024-07-12T15:11:26.828Z"
   },
   {
    "duration": 7,
    "start_time": "2024-07-12T15:11:27.036Z"
   },
   {
    "duration": 6,
    "start_time": "2024-07-12T15:11:28.188Z"
   },
   {
    "duration": 3,
    "start_time": "2024-07-12T15:11:28.381Z"
   },
   {
    "duration": 8,
    "start_time": "2024-07-12T15:11:28.605Z"
   },
   {
    "duration": 985,
    "start_time": "2024-07-12T15:11:30.094Z"
   },
   {
    "duration": 7,
    "start_time": "2024-07-12T15:12:02.375Z"
   },
   {
    "duration": 5,
    "start_time": "2024-07-12T15:12:08.270Z"
   },
   {
    "duration": 80,
    "start_time": "2024-07-12T15:13:14.169Z"
   },
   {
    "duration": 5,
    "start_time": "2024-07-12T15:13:14.455Z"
   },
   {
    "duration": 4,
    "start_time": "2024-07-12T15:13:26.385Z"
   },
   {
    "duration": 6,
    "start_time": "2024-07-12T15:14:31.266Z"
   },
   {
    "duration": 1187,
    "start_time": "2024-07-12T15:23:11.938Z"
   },
   {
    "duration": 3,
    "start_time": "2024-07-12T15:23:42.172Z"
   },
   {
    "duration": 75,
    "start_time": "2024-07-12T15:23:42.891Z"
   },
   {
    "duration": 35,
    "start_time": "2024-07-12T15:23:46.764Z"
   },
   {
    "duration": 7,
    "start_time": "2024-07-12T15:24:13.076Z"
   },
   {
    "duration": 5,
    "start_time": "2024-07-12T15:24:13.605Z"
   },
   {
    "duration": 5,
    "start_time": "2024-07-12T15:24:14.037Z"
   },
   {
    "duration": 56,
    "start_time": "2024-07-12T15:24:29.308Z"
   },
   {
    "duration": 22,
    "start_time": "2024-07-12T15:24:30.029Z"
   },
   {
    "duration": 3,
    "start_time": "2024-07-12T15:24:33.244Z"
   },
   {
    "duration": 4,
    "start_time": "2024-07-12T15:24:34.404Z"
   },
   {
    "duration": 4,
    "start_time": "2024-07-12T15:24:34.821Z"
   },
   {
    "duration": 4,
    "start_time": "2024-07-12T15:24:35.525Z"
   },
   {
    "duration": 4,
    "start_time": "2024-07-12T15:24:36.341Z"
   },
   {
    "duration": 4,
    "start_time": "2024-07-12T15:24:43.467Z"
   },
   {
    "duration": 7,
    "start_time": "2024-07-12T15:24:44.813Z"
   },
   {
    "duration": 12,
    "start_time": "2024-07-12T15:24:45.581Z"
   },
   {
    "duration": 4,
    "start_time": "2024-07-12T15:24:47.668Z"
   },
   {
    "duration": 5,
    "start_time": "2024-07-12T15:24:48.181Z"
   },
   {
    "duration": 11,
    "start_time": "2024-07-12T15:24:48.708Z"
   },
   {
    "duration": 10,
    "start_time": "2024-07-12T15:24:56.668Z"
   },
   {
    "duration": 11,
    "start_time": "2024-07-12T15:24:57.997Z"
   },
   {
    "duration": 10,
    "start_time": "2024-07-12T15:25:01.142Z"
   },
   {
    "duration": 10,
    "start_time": "2024-07-12T15:25:01.446Z"
   },
   {
    "duration": 324,
    "start_time": "2024-07-12T15:25:02.053Z"
   },
   {
    "duration": 22,
    "start_time": "2024-07-12T15:25:04.685Z"
   },
   {
    "duration": 215,
    "start_time": "2024-07-12T15:25:06.558Z"
   },
   {
    "duration": 20,
    "start_time": "2024-07-12T15:25:10.660Z"
   },
   {
    "duration": 17,
    "start_time": "2024-07-12T15:25:11.365Z"
   },
   {
    "duration": 348,
    "start_time": "2024-07-12T15:25:12.086Z"
   },
   {
    "duration": 307,
    "start_time": "2024-07-12T15:25:21.143Z"
   },
   {
    "duration": 15,
    "start_time": "2024-07-12T15:25:23.341Z"
   },
   {
    "duration": 16,
    "start_time": "2024-07-12T15:25:23.902Z"
   },
   {
    "duration": 15,
    "start_time": "2024-07-12T15:25:24.558Z"
   },
   {
    "duration": 18,
    "start_time": "2024-07-12T15:25:25.358Z"
   },
   {
    "duration": 259,
    "start_time": "2024-07-12T15:25:26.478Z"
   },
   {
    "duration": 15,
    "start_time": "2024-07-12T15:25:29.334Z"
   },
   {
    "duration": 13,
    "start_time": "2024-07-12T15:25:29.910Z"
   },
   {
    "duration": 343,
    "start_time": "2024-07-12T15:25:30.774Z"
   },
   {
    "duration": 12,
    "start_time": "2024-07-12T15:25:32.885Z"
   },
   {
    "duration": 143,
    "start_time": "2024-07-12T15:25:33.462Z"
   },
   {
    "duration": 5,
    "start_time": "2024-07-12T15:25:36.533Z"
   },
   {
    "duration": 4,
    "start_time": "2024-07-12T15:25:37.062Z"
   },
   {
    "duration": 4,
    "start_time": "2024-07-12T15:25:37.494Z"
   },
   {
    "duration": 10,
    "start_time": "2024-07-12T15:25:39.078Z"
   },
   {
    "duration": 8,
    "start_time": "2024-07-12T15:25:39.558Z"
   },
   {
    "duration": 240,
    "start_time": "2024-07-12T15:25:42.397Z"
   },
   {
    "duration": 4,
    "start_time": "2024-07-12T15:25:44.486Z"
   },
   {
    "duration": 4,
    "start_time": "2024-07-12T15:25:44.854Z"
   },
   {
    "duration": 4,
    "start_time": "2024-07-12T15:25:45.222Z"
   },
   {
    "duration": 6,
    "start_time": "2024-07-12T15:25:46.102Z"
   },
   {
    "duration": 6,
    "start_time": "2024-07-12T15:25:46.598Z"
   },
   {
    "duration": 12,
    "start_time": "2024-07-12T15:25:49.950Z"
   },
   {
    "duration": 13,
    "start_time": "2024-07-12T15:25:50.446Z"
   },
   {
    "duration": 6,
    "start_time": "2024-07-12T15:25:50.926Z"
   },
   {
    "duration": 6,
    "start_time": "2024-07-12T15:25:51.342Z"
   },
   {
    "duration": 5,
    "start_time": "2024-07-12T15:25:53.742Z"
   },
   {
    "duration": 7,
    "start_time": "2024-07-12T15:25:54.190Z"
   },
   {
    "duration": 5,
    "start_time": "2024-07-12T15:26:05.534Z"
   },
   {
    "duration": 7,
    "start_time": "2024-07-12T15:26:05.855Z"
   },
   {
    "duration": 6,
    "start_time": "2024-07-12T15:26:08.070Z"
   },
   {
    "duration": 6,
    "start_time": "2024-07-12T15:26:08.503Z"
   },
   {
    "duration": 5,
    "start_time": "2024-07-12T15:26:10.389Z"
   },
   {
    "duration": 3,
    "start_time": "2024-07-12T15:26:13.391Z"
   },
   {
    "duration": 6,
    "start_time": "2024-07-12T15:26:13.823Z"
   },
   {
    "duration": 7,
    "start_time": "2024-07-12T15:26:19.263Z"
   },
   {
    "duration": 6,
    "start_time": "2024-07-12T15:26:19.647Z"
   },
   {
    "duration": 5,
    "start_time": "2024-07-12T17:04:41.080Z"
   },
   {
    "duration": 42,
    "start_time": "2024-07-12T17:05:05.259Z"
   },
   {
    "duration": 56,
    "start_time": "2024-07-12T17:05:38.880Z"
   },
   {
    "duration": 69,
    "start_time": "2024-07-12T17:13:45.547Z"
   },
   {
    "duration": 16,
    "start_time": "2024-07-12T17:13:45.921Z"
   },
   {
    "duration": 11,
    "start_time": "2024-07-12T17:13:51.625Z"
   },
   {
    "duration": 4,
    "start_time": "2024-07-12T17:13:54.776Z"
   },
   {
    "duration": 5,
    "start_time": "2024-07-12T17:13:55.305Z"
   },
   {
    "duration": 11,
    "start_time": "2024-07-12T17:13:55.736Z"
   },
   {
    "duration": 110,
    "start_time": "2024-07-12T17:18:41.354Z"
   },
   {
    "duration": 133,
    "start_time": "2024-07-12T17:18:54.850Z"
   },
   {
    "duration": 6,
    "start_time": "2024-07-12T17:21:52.859Z"
   },
   {
    "duration": 5,
    "start_time": "2024-07-12T17:21:53.338Z"
   },
   {
    "duration": 8,
    "start_time": "2024-07-12T17:22:08.701Z"
   },
   {
    "duration": 8,
    "start_time": "2024-07-12T17:22:08.946Z"
   },
   {
    "duration": 16,
    "start_time": "2024-07-12T17:40:12.682Z"
   },
   {
    "duration": 16,
    "start_time": "2024-07-12T17:40:15.838Z"
   },
   {
    "duration": 6,
    "start_time": "2024-07-12T17:40:19.343Z"
   },
   {
    "duration": 10,
    "start_time": "2024-07-12T17:40:20.143Z"
   },
   {
    "duration": 84,
    "start_time": "2024-07-12T17:40:22.134Z"
   },
   {
    "duration": 124,
    "start_time": "2024-07-12T17:40:23.447Z"
   },
   {
    "duration": 61,
    "start_time": "2024-07-12T17:41:38.121Z"
   },
   {
    "duration": 116,
    "start_time": "2024-07-12T17:42:10.377Z"
   },
   {
    "duration": 7,
    "start_time": "2024-07-12T17:43:31.027Z"
   },
   {
    "duration": 70,
    "start_time": "2024-07-12T17:44:26.207Z"
   },
   {
    "duration": 108,
    "start_time": "2024-07-12T17:44:31.666Z"
   },
   {
    "duration": 7,
    "start_time": "2024-07-12T17:44:33.227Z"
   },
   {
    "duration": 39,
    "start_time": "2024-07-12T17:45:22.260Z"
   }
  ],
  "kernelspec": {
   "display_name": "Python 3 (ipykernel)",
   "language": "python",
   "name": "python3"
  },
  "language_info": {
   "codemirror_mode": {
    "name": "ipython",
    "version": 3
   },
   "file_extension": ".py",
   "mimetype": "text/x-python",
   "name": "python",
   "nbconvert_exporter": "python",
   "pygments_lexer": "ipython3",
   "version": "3.11.5"
  },
  "toc": {
   "base_numbering": 1,
   "nav_menu": {
    "height": "326px",
    "width": "702px"
   },
   "number_sections": true,
   "sideBar": true,
   "skip_h1_title": true,
   "title_cell": "Table of Contents",
   "title_sidebar": "Contents",
   "toc_cell": false,
   "toc_position": {},
   "toc_section_display": true,
   "toc_window_display": false
  }
 },
 "nbformat": 4,
 "nbformat_minor": 2
}
