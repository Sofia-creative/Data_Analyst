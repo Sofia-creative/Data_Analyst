{
 "cells": [
  {
   "cell_type": "markdown",
   "id": "8e6cdbfc",
   "metadata": {},
   "source": [
    "**Проект статистический анализ данных - Исследование поведения пользователей сервиса аренды самокатов**"
   ]
  },
  {
   "cell_type": "markdown",
   "id": "6f459e5c",
   "metadata": {},
   "source": [
    "### Описание проекта"
   ]
  },
  {
   "cell_type": "markdown",
   "id": "24f93a6a",
   "metadata": {},
   "source": [
    "В данной работе я выступаю аналитиком популярного сервиса аренды самокатов GoFast. У меня есть данные о некоторых пользователях из нескольких городов, а также об их поездках. Проанализирую данные и проверю некоторые гипотезы, которые могут помочь бизнесу вырасти."
   ]
  },
  {
   "cell_type": "markdown",
   "id": "afa5b0b1",
   "metadata": {},
   "source": [
    "Пользователи сервиса GoFast пользуются мобильным приложением:"
   ]
  },
  {
   "cell_type": "markdown",
   "id": "b70a845e",
   "metadata": {},
   "source": [
    "- без подписки:\n",
    "   - абонентская плата отсутствует;\n",
    "   - стоимость одной минуты поездки — 8 рублей;\n",
    "   - стоимость старта (начала поездки) — 50 рублей;\n",
    "- с подпиской Ultra:\n",
    "   - абонентская плата — 199 рублей в месяц;\n",
    "   - стоимость одной минуты поездки — 6 рублей;\n",
    "   - стоимость старта — бесплатно."
   ]
  },
  {
   "cell_type": "markdown",
   "id": "423bed15",
   "metadata": {},
   "source": [
    "***Цель проекта***"
   ]
  },
  {
   "cell_type": "markdown",
   "id": "a951d630",
   "metadata": {},
   "source": [
    "Проанализировать данные (пользователи из нескольких городов, а также об их поездках) и проверить некоторые гипотезы, которые помогут сервису аренды самокатов GoFast вырасти."
   ]
  },
  {
   "cell_type": "markdown",
   "id": "7bad03f7",
   "metadata": {},
   "source": [
    "### Описание данных"
   ]
  },
  {
   "cell_type": "markdown",
   "id": "73cd6b24",
   "metadata": {},
   "source": [
    "\n",
    "\n",
    "Пользователи — `users_go.csv`\n",
    "\n",
    "- `user_id` - уникальный идентификатор пользователя\n",
    "- `name` - имя пользователя\n",
    "- `age` - возраст\n",
    "- `city` - город\n",
    "- `subscription_type` - тип подписки (free, ultra)\n",
    "\n",
    "Поездки — `rides_go.csv`\n",
    "\n",
    "- `user_id` - уникальный идентификатор пользователя\n",
    "- `distance` - расстояние, которое пользователь проехал в текущей сессии (в метрах)\n",
    "- `duration` - продолжительность сессии (в минутах) — время с того момента, как пользователь нажал кнопку «Начать поездку» до момента, как он нажал кнопку «Завершить поездку»\n",
    "- `date` - дата совершения поездки\n",
    "\n",
    "Подписки — `subscriptions_go.csv`\n",
    "\n",
    "- `subscription_type` - тип подписки\n",
    "- `minute_price` - стоимость одной минуты поездки по данной подписке\n",
    "- `start_ride_price` - стоимость начала поездки\n",
    "- `subscription_fee` - стоимость ежемесячного платеж"
   ]
  },
  {
   "cell_type": "markdown",
   "id": "494e7451",
   "metadata": {},
   "source": [
    "### План работы"
   ]
  },
  {
   "cell_type": "markdown",
   "id": "873be3eb",
   "metadata": {},
   "source": [
    "\n",
    "1. Загрузка данных\n",
    "2. Предобработка данных\n",
    "3. Исследовательский анализ данных\n",
    "4. Объединение данных\n",
    "5. Подсчёт выручки\n",
    "6. Проверка гипотез"
   ]
  },
  {
   "cell_type": "markdown",
   "id": "3e68639f",
   "metadata": {},
   "source": [
    "### Загрузка и изучение данных"
   ]
  },
  {
   "cell_type": "code",
   "execution_count": 1,
   "id": "985b1831",
   "metadata": {},
   "outputs": [],
   "source": [
    "import pandas as pd\n",
    "import matplotlib.pyplot as plt\n",
    "import numpy as np\n",
    "from scipy import stats as st\n",
    "from scipy.stats import binom"
   ]
  },
  {
   "cell_type": "code",
   "execution_count": 2,
   "id": "eff9f206",
   "metadata": {},
   "outputs": [],
   "source": [
    "users_go = pd.read_csv('users_go.csv')\n",
    "rides_go = pd.read_csv('rides_go.csv')\n",
    "sub_go = pd.read_csv('subscriptions_go.csv')"
   ]
  },
  {
   "cell_type": "code",
   "execution_count": 3,
   "id": "1ac6cbe6",
   "metadata": {},
   "outputs": [
    {
     "data": {
      "text/html": [
       "<div>\n",
       "<style scoped>\n",
       "    .dataframe tbody tr th:only-of-type {\n",
       "        vertical-align: middle;\n",
       "    }\n",
       "\n",
       "    .dataframe tbody tr th {\n",
       "        vertical-align: top;\n",
       "    }\n",
       "\n",
       "    .dataframe thead th {\n",
       "        text-align: right;\n",
       "    }\n",
       "</style>\n",
       "<table border=\"1\" class=\"dataframe\">\n",
       "  <thead>\n",
       "    <tr style=\"text-align: right;\">\n",
       "      <th></th>\n",
       "      <th>user_id</th>\n",
       "      <th>name</th>\n",
       "      <th>age</th>\n",
       "      <th>city</th>\n",
       "      <th>subscription_type</th>\n",
       "    </tr>\n",
       "  </thead>\n",
       "  <tbody>\n",
       "    <tr>\n",
       "      <th>0</th>\n",
       "      <td>1</td>\n",
       "      <td>Кира</td>\n",
       "      <td>22</td>\n",
       "      <td>Тюмень</td>\n",
       "      <td>ultra</td>\n",
       "    </tr>\n",
       "    <tr>\n",
       "      <th>1</th>\n",
       "      <td>2</td>\n",
       "      <td>Станислав</td>\n",
       "      <td>31</td>\n",
       "      <td>Омск</td>\n",
       "      <td>ultra</td>\n",
       "    </tr>\n",
       "    <tr>\n",
       "      <th>2</th>\n",
       "      <td>3</td>\n",
       "      <td>Алексей</td>\n",
       "      <td>20</td>\n",
       "      <td>Москва</td>\n",
       "      <td>ultra</td>\n",
       "    </tr>\n",
       "    <tr>\n",
       "      <th>3</th>\n",
       "      <td>4</td>\n",
       "      <td>Константин</td>\n",
       "      <td>26</td>\n",
       "      <td>Ростов-на-Дону</td>\n",
       "      <td>ultra</td>\n",
       "    </tr>\n",
       "    <tr>\n",
       "      <th>4</th>\n",
       "      <td>5</td>\n",
       "      <td>Адель</td>\n",
       "      <td>28</td>\n",
       "      <td>Омск</td>\n",
       "      <td>ultra</td>\n",
       "    </tr>\n",
       "  </tbody>\n",
       "</table>\n",
       "</div>"
      ],
      "text/plain": [
       "   user_id        name  age            city subscription_type\n",
       "0        1        Кира   22          Тюмень             ultra\n",
       "1        2   Станислав   31            Омск             ultra\n",
       "2        3     Алексей   20          Москва             ultra\n",
       "3        4  Константин   26  Ростов-на-Дону             ultra\n",
       "4        5       Адель   28            Омск             ultra"
      ]
     },
     "execution_count": 3,
     "metadata": {},
     "output_type": "execute_result"
    }
   ],
   "source": [
    "users_go.head()"
   ]
  },
  {
   "cell_type": "code",
   "execution_count": 4,
   "id": "9b703a63",
   "metadata": {},
   "outputs": [
    {
     "data": {
      "text/html": [
       "<div>\n",
       "<style scoped>\n",
       "    .dataframe tbody tr th:only-of-type {\n",
       "        vertical-align: middle;\n",
       "    }\n",
       "\n",
       "    .dataframe tbody tr th {\n",
       "        vertical-align: top;\n",
       "    }\n",
       "\n",
       "    .dataframe thead th {\n",
       "        text-align: right;\n",
       "    }\n",
       "</style>\n",
       "<table border=\"1\" class=\"dataframe\">\n",
       "  <thead>\n",
       "    <tr style=\"text-align: right;\">\n",
       "      <th></th>\n",
       "      <th>user_id</th>\n",
       "      <th>distance</th>\n",
       "      <th>duration</th>\n",
       "      <th>date</th>\n",
       "    </tr>\n",
       "  </thead>\n",
       "  <tbody>\n",
       "    <tr>\n",
       "      <th>0</th>\n",
       "      <td>1</td>\n",
       "      <td>4409.919140</td>\n",
       "      <td>25.599769</td>\n",
       "      <td>2021-01-01</td>\n",
       "    </tr>\n",
       "    <tr>\n",
       "      <th>1</th>\n",
       "      <td>1</td>\n",
       "      <td>2617.592153</td>\n",
       "      <td>15.816871</td>\n",
       "      <td>2021-01-18</td>\n",
       "    </tr>\n",
       "    <tr>\n",
       "      <th>2</th>\n",
       "      <td>1</td>\n",
       "      <td>754.159807</td>\n",
       "      <td>6.232113</td>\n",
       "      <td>2021-04-20</td>\n",
       "    </tr>\n",
       "    <tr>\n",
       "      <th>3</th>\n",
       "      <td>1</td>\n",
       "      <td>2694.783254</td>\n",
       "      <td>18.511000</td>\n",
       "      <td>2021-08-11</td>\n",
       "    </tr>\n",
       "    <tr>\n",
       "      <th>4</th>\n",
       "      <td>1</td>\n",
       "      <td>4028.687306</td>\n",
       "      <td>26.265803</td>\n",
       "      <td>2021-08-28</td>\n",
       "    </tr>\n",
       "  </tbody>\n",
       "</table>\n",
       "</div>"
      ],
      "text/plain": [
       "   user_id     distance   duration        date\n",
       "0        1  4409.919140  25.599769  2021-01-01\n",
       "1        1  2617.592153  15.816871  2021-01-18\n",
       "2        1   754.159807   6.232113  2021-04-20\n",
       "3        1  2694.783254  18.511000  2021-08-11\n",
       "4        1  4028.687306  26.265803  2021-08-28"
      ]
     },
     "execution_count": 4,
     "metadata": {},
     "output_type": "execute_result"
    }
   ],
   "source": [
    "rides_go.head()"
   ]
  },
  {
   "cell_type": "code",
   "execution_count": 5,
   "id": "78fc00e3",
   "metadata": {},
   "outputs": [
    {
     "data": {
      "text/html": [
       "<div>\n",
       "<style scoped>\n",
       "    .dataframe tbody tr th:only-of-type {\n",
       "        vertical-align: middle;\n",
       "    }\n",
       "\n",
       "    .dataframe tbody tr th {\n",
       "        vertical-align: top;\n",
       "    }\n",
       "\n",
       "    .dataframe thead th {\n",
       "        text-align: right;\n",
       "    }\n",
       "</style>\n",
       "<table border=\"1\" class=\"dataframe\">\n",
       "  <thead>\n",
       "    <tr style=\"text-align: right;\">\n",
       "      <th></th>\n",
       "      <th>subscription_type</th>\n",
       "      <th>minute_price</th>\n",
       "      <th>start_ride_price</th>\n",
       "      <th>subscription_fee</th>\n",
       "    </tr>\n",
       "  </thead>\n",
       "  <tbody>\n",
       "    <tr>\n",
       "      <th>0</th>\n",
       "      <td>free</td>\n",
       "      <td>8</td>\n",
       "      <td>50</td>\n",
       "      <td>0</td>\n",
       "    </tr>\n",
       "    <tr>\n",
       "      <th>1</th>\n",
       "      <td>ultra</td>\n",
       "      <td>6</td>\n",
       "      <td>0</td>\n",
       "      <td>199</td>\n",
       "    </tr>\n",
       "  </tbody>\n",
       "</table>\n",
       "</div>"
      ],
      "text/plain": [
       "  subscription_type  minute_price  start_ride_price  subscription_fee\n",
       "0              free             8                50                 0\n",
       "1             ultra             6                 0               199"
      ]
     },
     "execution_count": 5,
     "metadata": {},
     "output_type": "execute_result"
    }
   ],
   "source": [
    "sub_go.head()"
   ]
  },
  {
   "cell_type": "markdown",
   "id": "e5da34ec",
   "metadata": {},
   "source": [
    "После предварительного просмотра данных узнаю общую информацию о датафреймах:"
   ]
  },
  {
   "cell_type": "code",
   "execution_count": 6,
   "id": "1f2cdb01",
   "metadata": {},
   "outputs": [
    {
     "name": "stdout",
     "output_type": "stream",
     "text": [
      "<class 'pandas.core.frame.DataFrame'>\n",
      "RangeIndex: 1565 entries, 0 to 1564\n",
      "Data columns (total 5 columns):\n",
      " #   Column             Non-Null Count  Dtype \n",
      "---  ------             --------------  ----- \n",
      " 0   user_id            1565 non-null   int64 \n",
      " 1   name               1565 non-null   object\n",
      " 2   age                1565 non-null   int64 \n",
      " 3   city               1565 non-null   object\n",
      " 4   subscription_type  1565 non-null   object\n",
      "dtypes: int64(2), object(3)\n",
      "memory usage: 61.3+ KB\n"
     ]
    }
   ],
   "source": [
    "users_go.info()"
   ]
  },
  {
   "cell_type": "code",
   "execution_count": 7,
   "id": "e0181310",
   "metadata": {},
   "outputs": [
    {
     "name": "stdout",
     "output_type": "stream",
     "text": [
      "<class 'pandas.core.frame.DataFrame'>\n",
      "RangeIndex: 18068 entries, 0 to 18067\n",
      "Data columns (total 4 columns):\n",
      " #   Column    Non-Null Count  Dtype  \n",
      "---  ------    --------------  -----  \n",
      " 0   user_id   18068 non-null  int64  \n",
      " 1   distance  18068 non-null  float64\n",
      " 2   duration  18068 non-null  float64\n",
      " 3   date      18068 non-null  object \n",
      "dtypes: float64(2), int64(1), object(1)\n",
      "memory usage: 564.8+ KB\n"
     ]
    }
   ],
   "source": [
    "rides_go.info()"
   ]
  },
  {
   "cell_type": "code",
   "execution_count": 8,
   "id": "5e7343e4",
   "metadata": {},
   "outputs": [
    {
     "name": "stdout",
     "output_type": "stream",
     "text": [
      "<class 'pandas.core.frame.DataFrame'>\n",
      "RangeIndex: 2 entries, 0 to 1\n",
      "Data columns (total 4 columns):\n",
      " #   Column             Non-Null Count  Dtype \n",
      "---  ------             --------------  ----- \n",
      " 0   subscription_type  2 non-null      object\n",
      " 1   minute_price       2 non-null      int64 \n",
      " 2   start_ride_price   2 non-null      int64 \n",
      " 3   subscription_fee   2 non-null      int64 \n",
      "dtypes: int64(3), object(1)\n",
      "memory usage: 196.0+ bytes\n"
     ]
    }
   ],
   "source": [
    "sub_go.info()"
   ]
  },
  {
   "cell_type": "markdown",
   "id": "74314c20",
   "metadata": {},
   "source": [
    "В таблицах `users_go` и `sub_go` пропусков нет, типы данных корректны. В таблице `rides_go` пропусков тоже нет, но тип данных стобца `date` тип object, а должен быть datetime. Наименование стобцов соотвествует синтаксису Python и стилистически корректно."
   ]
  },
  {
   "cell_type": "markdown",
   "id": "d90d24dd",
   "metadata": {},
   "source": [
    "Проверю наличие дубликатов:"
   ]
  },
  {
   "cell_type": "code",
   "execution_count": 9,
   "id": "ab5a6e72",
   "metadata": {},
   "outputs": [
    {
     "data": {
      "text/plain": [
       "31"
      ]
     },
     "execution_count": 9,
     "metadata": {},
     "output_type": "execute_result"
    }
   ],
   "source": [
    "users_go.duplicated().sum()"
   ]
  },
  {
   "cell_type": "code",
   "execution_count": 10,
   "id": "2db3f1b7",
   "metadata": {},
   "outputs": [
    {
     "data": {
      "text/plain": [
       "0"
      ]
     },
     "execution_count": 10,
     "metadata": {},
     "output_type": "execute_result"
    }
   ],
   "source": [
    "rides_go.duplicated().sum()"
   ]
  },
  {
   "cell_type": "code",
   "execution_count": 11,
   "id": "c7474a98",
   "metadata": {},
   "outputs": [
    {
     "data": {
      "text/plain": [
       "0"
      ]
     },
     "execution_count": 11,
     "metadata": {},
     "output_type": "execute_result"
    }
   ],
   "source": [
    "sub_go.duplicated().sum()"
   ]
  },
  {
   "cell_type": "markdown",
   "id": "bd62cf6b",
   "metadata": {},
   "source": [
    "Отлично в таблицах `rides_go` и `sub_go` нет явных дубликатов, а в таблице `users_go` всего 31. Избавимся от дубликатов на этапе предобработки данных. Там же опционально при необходимости проверю наличие неявных дубликатов."
   ]
  },
  {
   "cell_type": "markdown",
   "id": "4556a6f6",
   "metadata": {},
   "source": [
    "Теперь построю гистограммы для таблицы с целью проверки качества данных:"
   ]
  },
  {
   "cell_type": "code",
   "execution_count": 12,
   "id": "5be7106a",
   "metadata": {},
   "outputs": [
    {
     "data": {
      "image/png": "[encoded data removed]",
      "text/plain": [
       "<Figure size 640x480 with 1 Axes>"
      ]
     },
     "metadata": {},
     "output_type": "display_data"
    }
   ],
   "source": [
    "plt.hist(users_go['age'], bins=100)\n",
    "plt.title('age')\n",
    "plt.xlabel('Возраст (лет)')\n",
    "plt.ylabel('Количество')\n",
    "plt.show()"
   ]
  },
  {
   "cell_type": "markdown",
   "id": "67d92a22",
   "metadata": {},
   "source": [
    "Отлично, выбросов не видно. Гистограмма соотвествует нормальному распределению."
   ]
  },
  {
   "cell_type": "code",
   "execution_count": 13,
   "id": "315cd3fa",
   "metadata": {},
   "outputs": [
    {
     "data": {
      "image/png": "[encoded data removed]",
      "text/plain": [
       "<Figure size 1000x600 with 1 Axes>"
      ]
     },
     "metadata": {},
     "output_type": "display_data"
    }
   ],
   "source": [
    "plt.figure(figsize=(10, 6))\n",
    "users_go['city'].value_counts().plot(kind='bar')\n",
    "plt.title('Города пользователей')\n",
    "plt.xlabel('Город')\n",
    "plt.ylabel('Количество пользователей')\n",
    "plt.xticks(rotation=45)\n",
    "plt.grid(axis='y', linestyle='--', alpha=0.7)\n",
    "plt.show()"
   ]
  },
  {
   "cell_type": "markdown",
   "id": "c2c16229",
   "metadata": {},
   "source": [
    "Отлично, по городам аномальных значений не наблюдается. "
   ]
  },
  {
   "cell_type": "code",
   "execution_count": 14,
   "id": "bcc71f7e",
   "metadata": {},
   "outputs": [
    {
     "data": {
      "image/png": "[encoded data removed]",
      "text/plain": [
       "<Figure size 640x480 with 1 Axes>"
      ]
     },
     "metadata": {},
     "output_type": "display_data"
    }
   ],
   "source": [
    "plt.hist(rides_go['distance'], bins=100)\n",
    "plt.title('distance')\n",
    "plt.xlabel('Расстояние (метров)')\n",
    "plt.ylabel('Количество')\n",
    "plt.show()"
   ]
  },
  {
   "cell_type": "markdown",
   "id": "d5ce6bc1",
   "metadata": {},
   "source": [
    "Отлично, наблюдаю также нормальное распределение, кроме увелечения колличества пользователей проехавших до 1000 метров. Эти данные проанализирую на этапе исследовательского анализа."
   ]
  },
  {
   "cell_type": "code",
   "execution_count": 15,
   "id": "68c95987",
   "metadata": {},
   "outputs": [
    {
     "data": {
      "image/png": "[encoded data removed]",
      "text/plain": [
       "<Figure size 640x480 with 1 Axes>"
      ]
     },
     "metadata": {},
     "output_type": "display_data"
    }
   ],
   "source": [
    "plt.hist(rides_go['duration'], bins=100)\n",
    "plt.title('duration')\n",
    "plt.xlabel('Продолжительность (минут)')\n",
    "plt.ylabel('Количество')\n",
    "plt.show()"
   ]
  },
  {
   "cell_type": "markdown",
   "id": "383e688f",
   "metadata": {},
   "source": [
    "С данным по столбцу длительность тоже все в порядке. Вызывает вопрос большое колличество пользователей с длительностью сессии около минуты. Вернусь к этому позднее."
   ]
  },
  {
   "cell_type": "markdown",
   "id": "5c90890a",
   "metadata": {},
   "source": [
    "***Вывод***"
   ]
  },
  {
   "cell_type": "markdown",
   "id": "5cfb582b",
   "metadata": {},
   "source": [
    "Во всех таблицах нет пропусков, явных дубликатов всего 31 и они содержаться в `users_go`. Названия столбцов корректны, типы данных тоже в порядке, за исключением столбца `date` в `rides_go`. По гистограммам аномалий не видно. В целом данные пригодны для анализа, но необходимо исправить две проблемв, озвученные ранее. Могу предположить, что данные проблемы возникли во время выгрузки/загрузки данных. "
   ]
  },
  {
   "cell_type": "markdown",
   "id": "e95ebca7",
   "metadata": {},
   "source": [
    "### Предобработка данных"
   ]
  },
  {
   "cell_type": "markdown",
   "id": "b3417128",
   "metadata": {},
   "source": [
    "Начну с удаления дубликатов"
   ]
  },
  {
   "cell_type": "code",
   "execution_count": 16,
   "id": "59b3151f",
   "metadata": {},
   "outputs": [
    {
     "data": {
      "text/plain": [
       "31"
      ]
     },
     "execution_count": 16,
     "metadata": {},
     "output_type": "execute_result"
    }
   ],
   "source": [
    "users_go.duplicated().sum()"
   ]
  },
  {
   "cell_type": "code",
   "execution_count": 17,
   "id": "b4e32a44",
   "metadata": {},
   "outputs": [],
   "source": [
    "users_go = users_go.drop_duplicates()"
   ]
  },
  {
   "cell_type": "code",
   "execution_count": 18,
   "id": "650cf4c4",
   "metadata": {
    "scrolled": true
   },
   "outputs": [
    {
     "data": {
      "text/plain": [
       "0"
      ]
     },
     "execution_count": 18,
     "metadata": {},
     "output_type": "execute_result"
    }
   ],
   "source": [
    "users_go.duplicated().sum()"
   ]
  },
  {
   "cell_type": "markdown",
   "id": "49c441b5",
   "metadata": {},
   "source": [
    "Теперь приведу данные в столбце `date` таблицы `rides_go` к корректному типу datetime"
   ]
  },
  {
   "cell_type": "code",
   "execution_count": 19,
   "id": "37919ccd",
   "metadata": {},
   "outputs": [
    {
     "data": {
      "text/plain": [
       "0        2021-01-01\n",
       "1        2021-01-18\n",
       "2        2021-04-20\n",
       "3        2021-08-11\n",
       "4        2021-08-28\n",
       "            ...    \n",
       "18063    2021-11-04\n",
       "18064    2021-11-16\n",
       "18065    2021-11-18\n",
       "18066    2021-11-27\n",
       "18067    2021-12-29\n",
       "Name: date, Length: 18068, dtype: object"
      ]
     },
     "execution_count": 19,
     "metadata": {},
     "output_type": "execute_result"
    }
   ],
   "source": [
    "rides_go['date']"
   ]
  },
  {
   "cell_type": "code",
   "execution_count": 20,
   "id": "7b755c2c",
   "metadata": {},
   "outputs": [],
   "source": [
    "rides_go['date'] = pd.to_datetime(rides_go['date'])"
   ]
  },
  {
   "cell_type": "markdown",
   "id": "9d6cd91d",
   "metadata": {},
   "source": [
    "Добавлю столбец с месяцем, который понадобится на этапе подсчета выручки:"
   ]
  },
  {
   "cell_type": "code",
   "execution_count": 21,
   "id": "f03d3ac3",
   "metadata": {},
   "outputs": [],
   "source": [
    "rides_go['month'] = rides_go['date'].dt.month"
   ]
  },
  {
   "cell_type": "markdown",
   "id": "bb8807b3",
   "metadata": {},
   "source": [
    "Также для удобства дальнейшей работы округлю значения в столбце `distance` до двух знаков. Данные в стобце `duration`округлю до большего и переведу в тип int"
   ]
  },
  {
   "cell_type": "code",
   "execution_count": 22,
   "id": "804ddfb7",
   "metadata": {},
   "outputs": [],
   "source": [
    "rides_go['distance'] = rides_go['distance'].round(2)\n",
    "rides_go['duration'] = np.ceil(rides_go['duration']).astype('int')"
   ]
  },
  {
   "cell_type": "code",
   "execution_count": 23,
   "id": "10e4d423",
   "metadata": {},
   "outputs": [
    {
     "name": "stdout",
     "output_type": "stream",
     "text": [
      "<class 'pandas.core.frame.DataFrame'>\n",
      "RangeIndex: 18068 entries, 0 to 18067\n",
      "Data columns (total 5 columns):\n",
      " #   Column    Non-Null Count  Dtype         \n",
      "---  ------    --------------  -----         \n",
      " 0   user_id   18068 non-null  int64         \n",
      " 1   distance  18068 non-null  float64       \n",
      " 2   duration  18068 non-null  int32         \n",
      " 3   date      18068 non-null  datetime64[ns]\n",
      " 4   month     18068 non-null  int32         \n",
      "dtypes: datetime64[ns](1), float64(1), int32(2), int64(1)\n",
      "memory usage: 564.8 KB\n"
     ]
    }
   ],
   "source": [
    "rides_go.info()"
   ]
  },
  {
   "cell_type": "markdown",
   "id": "495eff78",
   "metadata": {},
   "source": [
    "Отлично, типы данных для всех стобцов корректны."
   ]
  },
  {
   "cell_type": "markdown",
   "id": "00337273",
   "metadata": {},
   "source": [
    "***Вывод***"
   ]
  },
  {
   "cell_type": "markdown",
   "id": "6085947a",
   "metadata": {},
   "source": [
    "Я избавилась от дубликатов и привела тип данных к корректному. А так же для двух столбцов выполнила округление для комфортной работы в дальнейшем. Данные можно признать качественными и пригодными для провередения анализа. А так же добавила новый столбец, который потребуется позднее."
   ]
  },
  {
   "cell_type": "markdown",
   "id": "212593c7",
   "metadata": {},
   "source": [
    "### Исследовательский анализ данных"
   ]
  },
  {
   "cell_type": "markdown",
   "id": "f7b8d06f",
   "metadata": {},
   "source": [
    "На данном этапе необходимо описать и визуализировать общую информацию о пользователях и поездках:\n",
    "1. частота встречаемости городов;\n",
    "2. соотношение пользователей с подпиской и без подписки;\n",
    "3. возраст пользователей;\n",
    "4. расстояние, которое пользователь преодолел за одну поездку;\n",
    "5. продолжительность поездок."
   ]
  },
  {
   "cell_type": "markdown",
   "id": "7fdc3628",
   "metadata": {},
   "source": [
    "#### Частота встречаемости городов"
   ]
  },
  {
   "cell_type": "markdown",
   "id": "a8a33ffc",
   "metadata": {},
   "source": [
    "Найду количество пользователей по городам"
   ]
  },
  {
   "cell_type": "code",
   "execution_count": 24,
   "id": "c21a587c",
   "metadata": {},
   "outputs": [
    {
     "data": {
      "text/html": [
       "<div>\n",
       "<style scoped>\n",
       "    .dataframe tbody tr th:only-of-type {\n",
       "        vertical-align: middle;\n",
       "    }\n",
       "\n",
       "    .dataframe tbody tr th {\n",
       "        vertical-align: top;\n",
       "    }\n",
       "\n",
       "    .dataframe thead th {\n",
       "        text-align: right;\n",
       "    }\n",
       "</style>\n",
       "<table border=\"1\" class=\"dataframe\">\n",
       "  <thead>\n",
       "    <tr style=\"text-align: right;\">\n",
       "      <th></th>\n",
       "      <th>user_id</th>\n",
       "    </tr>\n",
       "    <tr>\n",
       "      <th>city</th>\n",
       "      <th></th>\n",
       "    </tr>\n",
       "  </thead>\n",
       "  <tbody>\n",
       "    <tr>\n",
       "      <th>Пятигорск</th>\n",
       "      <td>219</td>\n",
       "    </tr>\n",
       "    <tr>\n",
       "      <th>Екатеринбург</th>\n",
       "      <td>204</td>\n",
       "    </tr>\n",
       "    <tr>\n",
       "      <th>Ростов-на-Дону</th>\n",
       "      <td>198</td>\n",
       "    </tr>\n",
       "    <tr>\n",
       "      <th>Краснодар</th>\n",
       "      <td>193</td>\n",
       "    </tr>\n",
       "    <tr>\n",
       "      <th>Сочи</th>\n",
       "      <td>189</td>\n",
       "    </tr>\n",
       "    <tr>\n",
       "      <th>Омск</th>\n",
       "      <td>183</td>\n",
       "    </tr>\n",
       "    <tr>\n",
       "      <th>Тюмень</th>\n",
       "      <td>180</td>\n",
       "    </tr>\n",
       "    <tr>\n",
       "      <th>Москва</th>\n",
       "      <td>168</td>\n",
       "    </tr>\n",
       "  </tbody>\n",
       "</table>\n",
       "</div>"
      ],
      "text/plain": [
       "                user_id\n",
       "city                   \n",
       "Пятигорск           219\n",
       "Екатеринбург        204\n",
       "Ростов-на-Дону      198\n",
       "Краснодар           193\n",
       "Сочи                189\n",
       "Омск                183\n",
       "Тюмень              180\n",
       "Москва              168"
      ]
     },
     "execution_count": 24,
     "metadata": {},
     "output_type": "execute_result"
    }
   ],
   "source": [
    "users_go.pivot_table(index='city', values='user_id', aggfunc='count').sort_values(by='user_id', ascending=False)"
   ]
  },
  {
   "cell_type": "code",
   "execution_count": 25,
   "id": "f2373130",
   "metadata": {},
   "outputs": [
    {
     "data": {
      "image/png": "[encoded data removed]",
      "text/plain": [
       "<Figure size 1000x500 with 1 Axes>"
      ]
     },
     "metadata": {},
     "output_type": "display_data"
    }
   ],
   "source": [
    "(\n",
    "    users_go.pivot_table(index='city', values='user_id', aggfunc='count').sort_values(by='user_id', ascending=True)\n",
    "    .plot(kind='barh', grid=True, figsize=(10, 5))\n",
    ")\n",
    "plt.title('Количество пользователей по городам')\n",
    "plt.ylabel('Города')\n",
    "plt.xlabel('Количество пользователей')\n",
    "\n",
    "plt.show()"
   ]
  },
  {
   "cell_type": "markdown",
   "id": "fad3deed",
   "metadata": {},
   "source": [
    "Больше всего пользователей в Пятигорске, Екатеринбурге и Ростове-на-Дону. В первой половине преобладают более южные города. Это можно объяснить более долгим прокатным сезоном. Исключение Екатеринбург, это можно объяснить высокой плотностью населения."
   ]
  },
  {
   "cell_type": "markdown",
   "id": "d2533609",
   "metadata": {},
   "source": [
    "#### Соотношение пользователей с подпиской и без подписки"
   ]
  },
  {
   "cell_type": "code",
   "execution_count": 26,
   "id": "58cdf568",
   "metadata": {},
   "outputs": [
    {
     "data": {
      "image/png": "[encoded data removed]",
      "text/plain": [
       "<Figure size 1000x1000 with 1 Axes>"
      ]
     },
     "metadata": {},
     "output_type": "display_data"
    }
   ],
   "source": [
    "(\n",
    "    users_go.pivot_table(index='subscription_type', values='user_id', aggfunc='count')\n",
    "    .plot.pie(y='user_id', figsize=(10,10),  label='Количество пользователей', \n",
    "    autopct='%1.1f%%', startangle=45, #выводим с одним знаком после запятой и начинаем с угла 45 градусов по часовой стрелке от положительного направления оси x.\n",
    "    title='Отношение пользователей `free` - без подписки, `ultra` - с подпиской, к общему количеству')\n",
    "\n",
    ")\n",
    "plt.axis('equal') #для того, чтобы диаграмма была круглой\n",
    "plt.show()"
   ]
  },
  {
   "cell_type": "markdown",
   "id": "d2d8e5b7",
   "metadata": {},
   "source": [
    "Колличество пользователей без подписки привышает количество с подпиской на 8,8%"
   ]
  },
  {
   "cell_type": "markdown",
   "id": "86c5a5e5",
   "metadata": {},
   "source": [
    "#### Возраст пользователей"
   ]
  },
  {
   "cell_type": "code",
   "execution_count": 27,
   "id": "98e80a4e",
   "metadata": {},
   "outputs": [
    {
     "data": {
      "image/png": "[encoded data removed]",
      "text/plain": [
       "<Figure size 1000x500 with 1 Axes>"
      ]
     },
     "metadata": {},
     "output_type": "display_data"
    }
   ],
   "source": [
    "(\n",
    "    users_go.pivot_table(index='age', values='user_id', aggfunc='count').sort_values(by='age', ascending=True)\n",
    "    .plot(kind='bar' , grid=True, figsize=(10, 5))\n",
    ")\n",
    "plt.title('Количество пользователей по возрастам')\n",
    "plt.xlabel('Возраст')\n",
    "plt.ylabel('Количество')\n",
    "plt.show()"
   ]
  },
  {
   "cell_type": "code",
   "execution_count": 28,
   "id": "031c7611",
   "metadata": {},
   "outputs": [
    {
     "data": {
      "text/plain": [
       "24.9"
      ]
     },
     "execution_count": 28,
     "metadata": {},
     "output_type": "execute_result"
    }
   ],
   "source": [
    "users_go['age'].mean().round(1)"
   ]
  },
  {
   "cell_type": "code",
   "execution_count": 29,
   "id": "38f8af49",
   "metadata": {},
   "outputs": [
    {
     "data": {
      "text/plain": [
       "count    1534.000000\n",
       "mean       24.903520\n",
       "std         4.572367\n",
       "min        12.000000\n",
       "25%        22.000000\n",
       "50%        25.000000\n",
       "75%        28.000000\n",
       "max        43.000000\n",
       "Name: age, dtype: float64"
      ]
     },
     "execution_count": 29,
     "metadata": {},
     "output_type": "execute_result"
    }
   ],
   "source": [
    "users_go['age'].describe()"
   ]
  },
  {
   "cell_type": "markdown",
   "id": "6342b929",
   "metadata": {},
   "source": [
    "Количества пользователей в зависимости от возраста указывает, что средний возраст потребителя услуги подчиняется нормальному распределению с медианой примерно в 25 лет, при этом средний возраст и медиана практически совпадают. Удивляет, что минимальный возраст 12 и 13, и таких пользователей хоть и не много, но они есть. Не уверена что это корректные данные, так как для регистрации на сервисе, возможно, нужен паспорт, а паспорт получают в 14. Если паспорт не нужен, то не понятно как происходит сбор данных. Ведь если попросить людей просто указать возвраст, то есть высокий риск получения не правдоподобной статистики."
   ]
  },
  {
   "cell_type": "markdown",
   "id": "4e33d1ab",
   "metadata": {},
   "source": [
    "#### Расстояние, которое пользователь преодолел за одну поездку"
   ]
  },
  {
   "cell_type": "code",
   "execution_count": 30,
   "id": "4ca3c70b",
   "metadata": {},
   "outputs": [
    {
     "data": {
      "text/plain": [
       "count    18068.000000\n",
       "mean      3070.659992\n",
       "std       1116.831222\n",
       "min          0.860000\n",
       "25%       2543.227500\n",
       "50%       3133.610000\n",
       "75%       3776.220000\n",
       "max       7211.010000\n",
       "Name: distance, dtype: float64"
      ]
     },
     "execution_count": 30,
     "metadata": {},
     "output_type": "execute_result"
    }
   ],
   "source": [
    "rides_go['distance'].describe()"
   ]
  },
  {
   "cell_type": "code",
   "execution_count": 31,
   "id": "15529e35",
   "metadata": {},
   "outputs": [
    {
     "data": {
      "image/png": "[encoded data removed]",
      "text/plain": [
       "<Figure size 640x480 with 1 Axes>"
      ]
     },
     "metadata": {},
     "output_type": "display_data"
    }
   ],
   "source": [
    "plt.hist(rides_go['distance'], bins=500, range=(1310,5009))\n",
    "plt.title('Количество поездок в зависимости от расстояния поездки')\n",
    "plt.xlabel('Расстояние в метрах')\n",
    "plt.ylabel('Количество поездок')\n",
    "plt.show()"
   ]
  },
  {
   "cell_type": "code",
   "execution_count": 32,
   "id": "0bc51d5a",
   "metadata": {},
   "outputs": [
    {
     "data": {
      "image/png": "[encoded data removed]",
      "text/plain": [
       "<Figure size 640x480 with 1 Axes>"
      ]
     },
     "metadata": {},
     "output_type": "display_data"
    }
   ],
   "source": [
    "plt.hist(rides_go['distance'], bins=500, range=(1,5620))\n",
    "plt.title('Количество поездок в зависимости от расстояния поездки')\n",
    "plt.xlabel('Расстояние в метрах')\n",
    "plt.ylabel('Количество поездок')\n",
    "plt.show()"
   ]
  },
  {
   "cell_type": "markdown",
   "id": "c7b648b2",
   "metadata": {},
   "source": [
    "Визуализация количества поездок в зависимости от расстояния показывает, что медианное значение длины поездок составляет 3133 метра, а первый квартиль находится на уровне 2543 метра, а третий квартиль - на уровне 3776 метров. При построении гистограммы с диапазоном (1310, 5009) отчетливо видно нормальное распределение зависимости. Однако, если увеличить диапазон до (1, 5620), то становится заметным второй пик на уровне 700 метров. Хотя этот пик не вписывается в основное распределение, его присутствие следует учитывать."
   ]
  },
  {
   "cell_type": "markdown",
   "id": "0f158759",
   "metadata": {},
   "source": [
    "#### Продолжительность поездок"
   ]
  },
  {
   "cell_type": "code",
   "execution_count": 33,
   "id": "40c252f6",
   "metadata": {},
   "outputs": [
    {
     "data": {
      "text/plain": [
       "count    18068.000000\n",
       "mean        18.303520\n",
       "std          6.094928\n",
       "min          1.000000\n",
       "25%         14.000000\n",
       "50%         18.000000\n",
       "75%         22.000000\n",
       "max         41.000000\n",
       "Name: duration, dtype: float64"
      ]
     },
     "execution_count": 33,
     "metadata": {},
     "output_type": "execute_result"
    }
   ],
   "source": [
    "rides_go['duration'].describe()"
   ]
  },
  {
   "cell_type": "code",
   "execution_count": 34,
   "id": "a69b03eb",
   "metadata": {},
   "outputs": [
    {
     "data": {
      "image/png": "[encoded data removed]",
      "text/plain": [
       "<Figure size 640x480 with 1 Axes>"
      ]
     },
     "metadata": {},
     "output_type": "display_data"
    }
   ],
   "source": [
    "plt.hist(rides_go['duration'], bins=41, range=(1,41))\n",
    "plt.title('Количество поездок в зависимости от продолжительности')\n",
    "plt.xlabel('продолжительность поездки')\n",
    "plt.ylabel('Количество поездок')\n",
    "plt.show()"
   ]
  },
  {
   "cell_type": "code",
   "execution_count": 35,
   "id": "15400630",
   "metadata": {},
   "outputs": [
    {
     "data": {
      "image/png": "[encoded data removed]",
      "text/plain": [
       "<Figure size 640x480 with 1 Axes>"
      ]
     },
     "metadata": {},
     "output_type": "display_data"
    }
   ],
   "source": [
    "plt.hist(rides_go['distance'] / rides_go['duration'])\n",
    "plt.title('Количество поездок с определенной скоростью')\n",
    "plt.xlabel('Рассояние / Время (Метр/Мин)')\n",
    "plt.ylabel('Количество поездок')\n",
    "plt.show()"
   ]
  },
  {
   "cell_type": "code",
   "execution_count": 36,
   "id": "c9893a05",
   "metadata": {},
   "outputs": [
    {
     "data": {
      "image/png": "[encoded data removed]",
      "text/plain": [
       "<Figure size 640x480 with 1 Axes>"
      ]
     },
     "metadata": {},
     "output_type": "display_data"
    }
   ],
   "source": [
    "plt.hist(rides_go['distance'] / rides_go['duration'], bins=100, range=(1000,7000))\n",
    "plt.title('Количество поездок с определенной скоростью')\n",
    "plt.xlabel('Рассояние / Время (Метр/Мин)')\n",
    "plt.ylabel('Количество поездок')\n",
    "plt.show()"
   ]
  },
  {
   "cell_type": "code",
   "execution_count": 37,
   "id": "73a7c4fb",
   "metadata": {},
   "outputs": [
    {
     "data": {
      "text/plain": [
       "7211.01"
      ]
     },
     "execution_count": 37,
     "metadata": {},
     "output_type": "execute_result"
    }
   ],
   "source": [
    "(rides_go['distance'] / rides_go['duration']).max()"
   ]
  },
  {
   "cell_type": "markdown",
   "id": "bfc32503",
   "metadata": {},
   "source": [
    "Визуализация количества поездок в зависимости от продолжительности указывает на следующие статистические характеристики: медианное значение времени поездки составляет 18 минут, первый квартиль находится на уровне 14 минут, а третий квартиль - на уровне 22 минут. На гистограмме отчетливо видно наличие аномально коротких времен поездок, порядка 100 случаев с временем менее 1 минуты. Это указывает на наличие аномалий в данных по времени поездок.\n",
    "\n",
    "Также стоит отметить, что расчет средней скорости перемещения показывает, что в некоторых случаях средняя скорость самокатов составляла от 4000 до 7211,01 метра в минуту, что практически невозможно. Эти аномалии следует сообщить владельцам проката для дальнейшего анализа и устранения. Пока что мы оставим такие значения без изменений."
   ]
  },
  {
   "cell_type": "markdown",
   "id": "00ab212b",
   "metadata": {},
   "source": [
    "***Вывод***"
   ]
  },
  {
   "cell_type": "markdown",
   "id": "02c1c357",
   "metadata": {},
   "source": [
    "Услугами сервиса аренды самокатов пользуются преимущественно в южных городах, где сезон проката обычно длится дольше. Однако, на втором месте оказался уральский город Екатеринбург, что может быть интересным наблюдением для анализа спроса в регионах с различным климатом.\n",
    "\n",
    "Анализ количества пользователей показывает, что 54.4% пользователей не имеют подписки, что превышает количество пользователей с подпиской Ultra, составляющих 45.6%.\n",
    "\n",
    "Распределение количества пользователей в зависимости от возраста демонстрирует нормальное распределение с медианным возрастом около 25 лет, что говорит о том, что услуга популярна среди молодежи.\n",
    "\n",
    "Анализ количества поездок в зависимости от расстояния показывает, что медианное значение составляет 3133 метра, при этом замечен второй пик на 700 метрах. Это указывает на наличие аномалий в данных, которые следует учитывать при дальнейшем анализе.\n",
    "\n",
    "Визуализация количества поездок в зависимости от продолжительности подтверждает наличие аномалий в данных, таких как поездки с аномально коротким временем, менее 1 минуты. Также выявлены случаи, когда средняя скорость перемещения самокатов была неправдоподобно высокой, что требует дополнительного внимания и, возможно, корректировки данных."
   ]
  },
  {
   "cell_type": "markdown",
   "id": "4ef51331",
   "metadata": {},
   "source": [
    "### Объединение данных"
   ]
  },
  {
   "cell_type": "code",
   "execution_count": 38,
   "id": "6bf288b5",
   "metadata": {},
   "outputs": [],
   "source": [
    "merged_df = users_go.merge(rides_go, on='user_id').merge(sub_go, on='subscription_type')"
   ]
  },
  {
   "cell_type": "code",
   "execution_count": 39,
   "id": "5760b2e6",
   "metadata": {},
   "outputs": [
    {
     "name": "stdout",
     "output_type": "stream",
     "text": [
      "<class 'pandas.core.frame.DataFrame'>\n",
      "RangeIndex: 18068 entries, 0 to 18067\n",
      "Data columns (total 12 columns):\n",
      " #   Column             Non-Null Count  Dtype         \n",
      "---  ------             --------------  -----         \n",
      " 0   user_id            18068 non-null  int64         \n",
      " 1   name               18068 non-null  object        \n",
      " 2   age                18068 non-null  int64         \n",
      " 3   city               18068 non-null  object        \n",
      " 4   subscription_type  18068 non-null  object        \n",
      " 5   distance           18068 non-null  float64       \n",
      " 6   duration           18068 non-null  int32         \n",
      " 7   date               18068 non-null  datetime64[ns]\n",
      " 8   month              18068 non-null  int32         \n",
      " 9   minute_price       18068 non-null  int64         \n",
      " 10  start_ride_price   18068 non-null  int64         \n",
      " 11  subscription_fee   18068 non-null  int64         \n",
      "dtypes: datetime64[ns](1), float64(1), int32(2), int64(5), object(3)\n",
      "memory usage: 1.5+ MB\n"
     ]
    }
   ],
   "source": [
    "merged_df.info()"
   ]
  },
  {
   "cell_type": "markdown",
   "id": "25bf847d",
   "metadata": {},
   "source": [
    "Созданный датафрейм объединяющий таблицы  `rides_go `,  `users_go `,  `subscriptions_go ` в своем составе имеет 18068 строк во всех столбцах, что соответствует исходной таблице rides_go и указывает на отсутствие пропусков в столбцах. Объединение прошло успешно"
   ]
  },
  {
   "cell_type": "markdown",
   "id": "39f72275",
   "metadata": {},
   "source": [
    "#### Создам еще два датафрема:"
   ]
  },
  {
   "cell_type": "markdown",
   "id": "ef49c57c",
   "metadata": {},
   "source": [
    "Для пользователей без подписки:"
   ]
  },
  {
   "cell_type": "code",
   "execution_count": 40,
   "id": "fe76ae0e",
   "metadata": {},
   "outputs": [],
   "source": [
    "free_df = merged_df[merged_df['subscription_type'] == 'free']"
   ]
  },
  {
   "cell_type": "code",
   "execution_count": 41,
   "id": "603cf2e1",
   "metadata": {},
   "outputs": [
    {
     "data": {
      "text/html": [
       "<div>\n",
       "<style scoped>\n",
       "    .dataframe tbody tr th:only-of-type {\n",
       "        vertical-align: middle;\n",
       "    }\n",
       "\n",
       "    .dataframe tbody tr th {\n",
       "        vertical-align: top;\n",
       "    }\n",
       "\n",
       "    .dataframe thead th {\n",
       "        text-align: right;\n",
       "    }\n",
       "</style>\n",
       "<table border=\"1\" class=\"dataframe\">\n",
       "  <thead>\n",
       "    <tr style=\"text-align: right;\">\n",
       "      <th></th>\n",
       "      <th>user_id</th>\n",
       "      <th>name</th>\n",
       "      <th>age</th>\n",
       "      <th>city</th>\n",
       "      <th>subscription_type</th>\n",
       "      <th>distance</th>\n",
       "      <th>duration</th>\n",
       "      <th>date</th>\n",
       "      <th>month</th>\n",
       "      <th>minute_price</th>\n",
       "      <th>start_ride_price</th>\n",
       "      <th>subscription_fee</th>\n",
       "    </tr>\n",
       "  </thead>\n",
       "  <tbody>\n",
       "    <tr>\n",
       "      <th>6500</th>\n",
       "      <td>700</td>\n",
       "      <td>Айдар</td>\n",
       "      <td>22</td>\n",
       "      <td>Омск</td>\n",
       "      <td>free</td>\n",
       "      <td>2515.69</td>\n",
       "      <td>15</td>\n",
       "      <td>2021-01-02</td>\n",
       "      <td>1</td>\n",
       "      <td>8</td>\n",
       "      <td>50</td>\n",
       "      <td>0</td>\n",
       "    </tr>\n",
       "    <tr>\n",
       "      <th>6501</th>\n",
       "      <td>700</td>\n",
       "      <td>Айдар</td>\n",
       "      <td>22</td>\n",
       "      <td>Омск</td>\n",
       "      <td>free</td>\n",
       "      <td>846.93</td>\n",
       "      <td>17</td>\n",
       "      <td>2021-02-01</td>\n",
       "      <td>2</td>\n",
       "      <td>8</td>\n",
       "      <td>50</td>\n",
       "      <td>0</td>\n",
       "    </tr>\n",
       "    <tr>\n",
       "      <th>6502</th>\n",
       "      <td>700</td>\n",
       "      <td>Айдар</td>\n",
       "      <td>22</td>\n",
       "      <td>Омск</td>\n",
       "      <td>free</td>\n",
       "      <td>4004.43</td>\n",
       "      <td>21</td>\n",
       "      <td>2021-02-04</td>\n",
       "      <td>2</td>\n",
       "      <td>8</td>\n",
       "      <td>50</td>\n",
       "      <td>0</td>\n",
       "    </tr>\n",
       "    <tr>\n",
       "      <th>6503</th>\n",
       "      <td>700</td>\n",
       "      <td>Айдар</td>\n",
       "      <td>22</td>\n",
       "      <td>Омск</td>\n",
       "      <td>free</td>\n",
       "      <td>1205.91</td>\n",
       "      <td>10</td>\n",
       "      <td>2021-02-10</td>\n",
       "      <td>2</td>\n",
       "      <td>8</td>\n",
       "      <td>50</td>\n",
       "      <td>0</td>\n",
       "    </tr>\n",
       "    <tr>\n",
       "      <th>6504</th>\n",
       "      <td>700</td>\n",
       "      <td>Айдар</td>\n",
       "      <td>22</td>\n",
       "      <td>Омск</td>\n",
       "      <td>free</td>\n",
       "      <td>3047.38</td>\n",
       "      <td>18</td>\n",
       "      <td>2021-02-14</td>\n",
       "      <td>2</td>\n",
       "      <td>8</td>\n",
       "      <td>50</td>\n",
       "      <td>0</td>\n",
       "    </tr>\n",
       "  </tbody>\n",
       "</table>\n",
       "</div>"
      ],
      "text/plain": [
       "      user_id   name  age  city subscription_type  distance  duration  \\\n",
       "6500      700  Айдар   22  Омск              free   2515.69        15   \n",
       "6501      700  Айдар   22  Омск              free    846.93        17   \n",
       "6502      700  Айдар   22  Омск              free   4004.43        21   \n",
       "6503      700  Айдар   22  Омск              free   1205.91        10   \n",
       "6504      700  Айдар   22  Омск              free   3047.38        18   \n",
       "\n",
       "           date  month  minute_price  start_ride_price  subscription_fee  \n",
       "6500 2021-01-02      1             8                50                 0  \n",
       "6501 2021-02-01      2             8                50                 0  \n",
       "6502 2021-02-04      2             8                50                 0  \n",
       "6503 2021-02-10      2             8                50                 0  \n",
       "6504 2021-02-14      2             8                50                 0  "
      ]
     },
     "execution_count": 41,
     "metadata": {},
     "output_type": "execute_result"
    }
   ],
   "source": [
    "free_df.head()"
   ]
  },
  {
   "cell_type": "markdown",
   "id": "6d34510a",
   "metadata": {},
   "source": [
    "Для пользователей с подпиской:"
   ]
  },
  {
   "cell_type": "code",
   "execution_count": 42,
   "id": "5d9bb4fc",
   "metadata": {},
   "outputs": [],
   "source": [
    "ultra_df = merged_df[merged_df['subscription_type'] == 'ultra']"
   ]
  },
  {
   "cell_type": "code",
   "execution_count": 43,
   "id": "b658d651",
   "metadata": {},
   "outputs": [
    {
     "data": {
      "text/html": [
       "<div>\n",
       "<style scoped>\n",
       "    .dataframe tbody tr th:only-of-type {\n",
       "        vertical-align: middle;\n",
       "    }\n",
       "\n",
       "    .dataframe tbody tr th {\n",
       "        vertical-align: top;\n",
       "    }\n",
       "\n",
       "    .dataframe thead th {\n",
       "        text-align: right;\n",
       "    }\n",
       "</style>\n",
       "<table border=\"1\" class=\"dataframe\">\n",
       "  <thead>\n",
       "    <tr style=\"text-align: right;\">\n",
       "      <th></th>\n",
       "      <th>user_id</th>\n",
       "      <th>name</th>\n",
       "      <th>age</th>\n",
       "      <th>city</th>\n",
       "      <th>subscription_type</th>\n",
       "      <th>distance</th>\n",
       "      <th>duration</th>\n",
       "      <th>date</th>\n",
       "      <th>month</th>\n",
       "      <th>minute_price</th>\n",
       "      <th>start_ride_price</th>\n",
       "      <th>subscription_fee</th>\n",
       "    </tr>\n",
       "  </thead>\n",
       "  <tbody>\n",
       "    <tr>\n",
       "      <th>0</th>\n",
       "      <td>1</td>\n",
       "      <td>Кира</td>\n",
       "      <td>22</td>\n",
       "      <td>Тюмень</td>\n",
       "      <td>ultra</td>\n",
       "      <td>4409.92</td>\n",
       "      <td>26</td>\n",
       "      <td>2021-01-01</td>\n",
       "      <td>1</td>\n",
       "      <td>6</td>\n",
       "      <td>0</td>\n",
       "      <td>199</td>\n",
       "    </tr>\n",
       "    <tr>\n",
       "      <th>1</th>\n",
       "      <td>1</td>\n",
       "      <td>Кира</td>\n",
       "      <td>22</td>\n",
       "      <td>Тюмень</td>\n",
       "      <td>ultra</td>\n",
       "      <td>2617.59</td>\n",
       "      <td>16</td>\n",
       "      <td>2021-01-18</td>\n",
       "      <td>1</td>\n",
       "      <td>6</td>\n",
       "      <td>0</td>\n",
       "      <td>199</td>\n",
       "    </tr>\n",
       "    <tr>\n",
       "      <th>2</th>\n",
       "      <td>1</td>\n",
       "      <td>Кира</td>\n",
       "      <td>22</td>\n",
       "      <td>Тюмень</td>\n",
       "      <td>ultra</td>\n",
       "      <td>754.16</td>\n",
       "      <td>7</td>\n",
       "      <td>2021-04-20</td>\n",
       "      <td>4</td>\n",
       "      <td>6</td>\n",
       "      <td>0</td>\n",
       "      <td>199</td>\n",
       "    </tr>\n",
       "    <tr>\n",
       "      <th>3</th>\n",
       "      <td>1</td>\n",
       "      <td>Кира</td>\n",
       "      <td>22</td>\n",
       "      <td>Тюмень</td>\n",
       "      <td>ultra</td>\n",
       "      <td>2694.78</td>\n",
       "      <td>19</td>\n",
       "      <td>2021-08-11</td>\n",
       "      <td>8</td>\n",
       "      <td>6</td>\n",
       "      <td>0</td>\n",
       "      <td>199</td>\n",
       "    </tr>\n",
       "    <tr>\n",
       "      <th>4</th>\n",
       "      <td>1</td>\n",
       "      <td>Кира</td>\n",
       "      <td>22</td>\n",
       "      <td>Тюмень</td>\n",
       "      <td>ultra</td>\n",
       "      <td>4028.69</td>\n",
       "      <td>27</td>\n",
       "      <td>2021-08-28</td>\n",
       "      <td>8</td>\n",
       "      <td>6</td>\n",
       "      <td>0</td>\n",
       "      <td>199</td>\n",
       "    </tr>\n",
       "  </tbody>\n",
       "</table>\n",
       "</div>"
      ],
      "text/plain": [
       "   user_id  name  age    city subscription_type  distance  duration  \\\n",
       "0        1  Кира   22  Тюмень             ultra   4409.92        26   \n",
       "1        1  Кира   22  Тюмень             ultra   2617.59        16   \n",
       "2        1  Кира   22  Тюмень             ultra    754.16         7   \n",
       "3        1  Кира   22  Тюмень             ultra   2694.78        19   \n",
       "4        1  Кира   22  Тюмень             ultra   4028.69        27   \n",
       "\n",
       "        date  month  minute_price  start_ride_price  subscription_fee  \n",
       "0 2021-01-01      1             6                 0               199  \n",
       "1 2021-01-18      1             6                 0               199  \n",
       "2 2021-04-20      4             6                 0               199  \n",
       "3 2021-08-11      8             6                 0               199  \n",
       "4 2021-08-28      8             6                 0               199  "
      ]
     },
     "execution_count": 43,
     "metadata": {},
     "output_type": "execute_result"
    }
   ],
   "source": [
    "ultra_df.head()"
   ]
  },
  {
   "cell_type": "markdown",
   "id": "02bfe9cb",
   "metadata": {},
   "source": [
    "Отлично теперь у меня есть данные о каждой категории пользователей."
   ]
  },
  {
   "cell_type": "markdown",
   "id": "d2543807",
   "metadata": {},
   "source": [
    "#### Визуализирую информацию о расстоянии и времени поездок для пользователей обеих категорий"
   ]
  },
  {
   "cell_type": "code",
   "execution_count": 44,
   "id": "f976e5c4",
   "metadata": {
    "scrolled": true
   },
   "outputs": [
    {
     "data": {
      "image/png": "[encoded data removed]",
      "text/plain": [
       "<Figure size 640x480 with 1 Axes>"
      ]
     },
     "metadata": {},
     "output_type": "display_data"
    }
   ],
   "source": [
    "plt.hist([free_df['distance'], ultra_df['distance']], bins=50, range=(1,5600), label=['free', 'ultra'])\n",
    "plt.legend(loc='upper right')\n",
    "plt.title('Количество поездок в зависимости расстояния поездки')\n",
    "plt.xlabel('Расстояние в метрах')\n",
    "plt.ylabel('Количество поездок')\n",
    "plt.show()"
   ]
  },
  {
   "cell_type": "code",
   "execution_count": 45,
   "id": "4a1b760c",
   "metadata": {},
   "outputs": [
    {
     "data": {
      "image/png": "[encoded data removed]",
      "text/plain": [
       "<Figure size 640x480 with 1 Axes>"
      ]
     },
     "metadata": {},
     "output_type": "display_data"
    }
   ],
   "source": [
    "plt.hist([free_df['duration'], ultra_df['duration']], bins=30, range=(1,30), label=['free', 'ultra'])\n",
    "plt.legend(loc='upper right')\n",
    "plt.title('Количество поездок в зависимости от продолжительности')\n",
    "plt.xlabel('продолжительность поездки')\n",
    "plt.ylabel('Количество поездок')\n",
    "plt.show()"
   ]
  },
  {
   "cell_type": "code",
   "execution_count": 46,
   "id": "5b641c04",
   "metadata": {},
   "outputs": [
    {
     "data": {
      "text/html": [
       "<div>\n",
       "<style scoped>\n",
       "    .dataframe tbody tr th:only-of-type {\n",
       "        vertical-align: middle;\n",
       "    }\n",
       "\n",
       "    .dataframe tbody tr th {\n",
       "        vertical-align: top;\n",
       "    }\n",
       "\n",
       "    .dataframe thead th {\n",
       "        text-align: right;\n",
       "    }\n",
       "</style>\n",
       "<table border=\"1\" class=\"dataframe\">\n",
       "  <thead>\n",
       "    <tr style=\"text-align: right;\">\n",
       "      <th></th>\n",
       "      <th>distance</th>\n",
       "      <th>duration</th>\n",
       "    </tr>\n",
       "  </thead>\n",
       "  <tbody>\n",
       "    <tr>\n",
       "      <th>count</th>\n",
       "      <td>11568.000000</td>\n",
       "      <td>11568.000000</td>\n",
       "    </tr>\n",
       "    <tr>\n",
       "      <th>mean</th>\n",
       "      <td>3045.495284</td>\n",
       "      <td>17.890992</td>\n",
       "    </tr>\n",
       "    <tr>\n",
       "      <th>std</th>\n",
       "      <td>1246.173810</td>\n",
       "      <td>6.330250</td>\n",
       "    </tr>\n",
       "    <tr>\n",
       "      <th>min</th>\n",
       "      <td>0.860000</td>\n",
       "      <td>1.000000</td>\n",
       "    </tr>\n",
       "    <tr>\n",
       "      <th>25%</th>\n",
       "      <td>2366.560000</td>\n",
       "      <td>13.000000</td>\n",
       "    </tr>\n",
       "    <tr>\n",
       "      <th>50%</th>\n",
       "      <td>3114.650000</td>\n",
       "      <td>18.000000</td>\n",
       "    </tr>\n",
       "    <tr>\n",
       "      <th>75%</th>\n",
       "      <td>3905.695000</td>\n",
       "      <td>22.000000</td>\n",
       "    </tr>\n",
       "    <tr>\n",
       "      <th>max</th>\n",
       "      <td>7211.010000</td>\n",
       "      <td>35.000000</td>\n",
       "    </tr>\n",
       "  </tbody>\n",
       "</table>\n",
       "</div>"
      ],
      "text/plain": [
       "           distance      duration\n",
       "count  11568.000000  11568.000000\n",
       "mean    3045.495284     17.890992\n",
       "std     1246.173810      6.330250\n",
       "min        0.860000      1.000000\n",
       "25%     2366.560000     13.000000\n",
       "50%     3114.650000     18.000000\n",
       "75%     3905.695000     22.000000\n",
       "max     7211.010000     35.000000"
      ]
     },
     "execution_count": 46,
     "metadata": {},
     "output_type": "execute_result"
    }
   ],
   "source": [
    "(free_df[\n",
    "    ['distance',\n",
    "     'duration']].describe()\n",
    ")"
   ]
  },
  {
   "cell_type": "code",
   "execution_count": 47,
   "id": "682d8ace",
   "metadata": {},
   "outputs": [
    {
     "data": {
      "text/html": [
       "<div>\n",
       "<style scoped>\n",
       "    .dataframe tbody tr th:only-of-type {\n",
       "        vertical-align: middle;\n",
       "    }\n",
       "\n",
       "    .dataframe tbody tr th {\n",
       "        vertical-align: top;\n",
       "    }\n",
       "\n",
       "    .dataframe thead th {\n",
       "        text-align: right;\n",
       "    }\n",
       "</style>\n",
       "<table border=\"1\" class=\"dataframe\">\n",
       "  <thead>\n",
       "    <tr style=\"text-align: right;\">\n",
       "      <th></th>\n",
       "      <th>distance</th>\n",
       "      <th>duration</th>\n",
       "    </tr>\n",
       "  </thead>\n",
       "  <tbody>\n",
       "    <tr>\n",
       "      <th>count</th>\n",
       "      <td>6500.000000</td>\n",
       "      <td>6500.000000</td>\n",
       "    </tr>\n",
       "    <tr>\n",
       "      <th>mean</th>\n",
       "      <td>3115.445431</td>\n",
       "      <td>19.037692</td>\n",
       "    </tr>\n",
       "    <tr>\n",
       "      <th>std</th>\n",
       "      <td>836.895369</td>\n",
       "      <td>5.577439</td>\n",
       "    </tr>\n",
       "    <tr>\n",
       "      <th>min</th>\n",
       "      <td>244.210000</td>\n",
       "      <td>4.000000</td>\n",
       "    </tr>\n",
       "    <tr>\n",
       "      <th>25%</th>\n",
       "      <td>2785.447500</td>\n",
       "      <td>15.000000</td>\n",
       "    </tr>\n",
       "    <tr>\n",
       "      <th>50%</th>\n",
       "      <td>3148.640000</td>\n",
       "      <td>19.000000</td>\n",
       "    </tr>\n",
       "    <tr>\n",
       "      <th>75%</th>\n",
       "      <td>3560.577500</td>\n",
       "      <td>22.000000</td>\n",
       "    </tr>\n",
       "    <tr>\n",
       "      <th>max</th>\n",
       "      <td>5699.770000</td>\n",
       "      <td>41.000000</td>\n",
       "    </tr>\n",
       "  </tbody>\n",
       "</table>\n",
       "</div>"
      ],
      "text/plain": [
       "          distance     duration\n",
       "count  6500.000000  6500.000000\n",
       "mean   3115.445431    19.037692\n",
       "std     836.895369     5.577439\n",
       "min     244.210000     4.000000\n",
       "25%    2785.447500    15.000000\n",
       "50%    3148.640000    19.000000\n",
       "75%    3560.577500    22.000000\n",
       "max    5699.770000    41.000000"
      ]
     },
     "execution_count": 47,
     "metadata": {},
     "output_type": "execute_result"
    }
   ],
   "source": [
    "(ultra_df[\n",
    "    ['distance',\n",
    "     'duration']].describe()\n",
    ")"
   ]
  },
  {
   "cell_type": "markdown",
   "id": "6427cbe1",
   "metadata": {},
   "source": [
    "***Вывод***"
   ]
  },
  {
   "cell_type": "markdown",
   "id": "36ad7e1a",
   "metadata": {},
   "source": [
    "Визуализация созданных датафреймов зависимости количества поездок на определенное расстояние и описательная статистика (.describe()) по пользователям без подписки free и с подпиской ultra указывает, что подписка влияет на медианные значения (расстояния поезки без подписки 3114.65 метров с подпиской 3148.64 метров), при этом заметно что у пользователей с подпиской меньший разброс ( видно из графиков и по стандартному отклонению free - 1246,17 ultra - 836.89), также заметно смешение центра дополнительного пика с 500 метров (free) до 1000 (ultra).\n",
    "\n",
    "Визуализация созданных датафреймов зависимости количества поездок за определенное время и описательная статистика (.describe()) по пользователям без подписки free и с подпиской ultra указывает, что подписка влияет на медианные значения (время поезки без подписки 18 мин с подпиской 19 мин), так же замечено снижение стандартного отклонения free - 6.33 ultra - 5.57. Подписка влияет на расстояние поездок и на время в пути"
   ]
  },
  {
   "cell_type": "markdown",
   "id": "402d620f",
   "metadata": {},
   "source": [
    "### Подсчёт выручки"
   ]
  },
  {
   "cell_type": "markdown",
   "id": "f8942e8a",
   "metadata": {},
   "source": [
    "Cоздадам датафрейм с агрегированными данными о поездках на основе датафрейма с объединёнными данными из шага 4: найду суммарное расстояние, количество поездок и суммарное время для каждого пользователя за каждый месяц"
   ]
  },
  {
   "cell_type": "code",
   "execution_count": 48,
   "id": "ffdf3611",
   "metadata": {},
   "outputs": [],
   "source": [
    "grouped_df = merged_df.groupby(['subscription_type', 'month', 'user_id'], as_index=False)\n",
    "#Группировка данных по типу подписки, месяцу и пользователю"
   ]
  },
  {
   "cell_type": "code",
   "execution_count": 49,
   "id": "ef6d9e31",
   "metadata": {},
   "outputs": [],
   "source": [
    "# Вычисление суммарного расстояния, количества поездок и суммарного времени для каждого пользователя за каждый месяц\n",
    "aggregated_df = grouped_df.agg({\n",
    "    'distance': 'sum',\n",
    "    'user_id': 'count',\n",
    "    'duration': 'sum',\n",
    "    'minute_price': 'first',  # Добавляем стоимость одной минуты поездки (цену из первой строки группы)\n",
    "    'start_ride_price': 'first',  # Добавляем стоимость старта поездки (цену из первой строки группы)\n",
    "    'subscription_fee': 'first'  # Добавляем стоимость подписки (цену из первой строки группы)\n",
    "}).reset_index()"
   ]
  },
  {
   "cell_type": "code",
   "execution_count": 50,
   "id": "0b13f7da",
   "metadata": {},
   "outputs": [],
   "source": [
    "# Вычисление помесячной выручки для каждого пользователя\n",
    "def calculate_monthly_revenue(row):\n",
    "    start_ride_price = row['start_ride_price']\n",
    "    minute_price = row['minute_price']\n",
    "    duration = row['duration']\n",
    "    subscription_fee = row['subscription_fee']\n",
    "    revenue = start_ride_price * row['user_id']  # Стоимость старта поездки умножается на количество поездок\n",
    "    revenue += minute_price * duration  # Стоимость одной минуты поездки умножается на общую продолжительность всех поездок\n",
    "    revenue += subscription_fee  # Плюс стоимость подписки\n",
    "    return revenue"
   ]
  },
  {
   "cell_type": "code",
   "execution_count": 51,
   "id": "21c158a5",
   "metadata": {},
   "outputs": [],
   "source": [
    "aggregated_df['monthly_revenue'] = aggregated_df.apply(calculate_monthly_revenue, axis=1)"
   ]
  },
  {
   "cell_type": "code",
   "execution_count": 52,
   "id": "5ee6b774",
   "metadata": {
    "scrolled": true
   },
   "outputs": [
    {
     "data": {
      "text/html": [
       "<div>\n",
       "<style scoped>\n",
       "    .dataframe tbody tr th:only-of-type {\n",
       "        vertical-align: middle;\n",
       "    }\n",
       "\n",
       "    .dataframe tbody tr th {\n",
       "        vertical-align: top;\n",
       "    }\n",
       "\n",
       "    .dataframe thead th {\n",
       "        text-align: right;\n",
       "    }\n",
       "</style>\n",
       "<table border=\"1\" class=\"dataframe\">\n",
       "  <thead>\n",
       "    <tr style=\"text-align: right;\">\n",
       "      <th></th>\n",
       "      <th>index</th>\n",
       "      <th>subscription_type</th>\n",
       "      <th>month</th>\n",
       "      <th>distance</th>\n",
       "      <th>user_id</th>\n",
       "      <th>duration</th>\n",
       "      <th>minute_price</th>\n",
       "      <th>start_ride_price</th>\n",
       "      <th>subscription_fee</th>\n",
       "      <th>monthly_revenue</th>\n",
       "    </tr>\n",
       "  </thead>\n",
       "  <tbody>\n",
       "    <tr>\n",
       "      <th>0</th>\n",
       "      <td>0</td>\n",
       "      <td>free</td>\n",
       "      <td>1</td>\n",
       "      <td>2515.69</td>\n",
       "      <td>1</td>\n",
       "      <td>15</td>\n",
       "      <td>8</td>\n",
       "      <td>50</td>\n",
       "      <td>0</td>\n",
       "      <td>170</td>\n",
       "    </tr>\n",
       "    <tr>\n",
       "      <th>1</th>\n",
       "      <td>1</td>\n",
       "      <td>free</td>\n",
       "      <td>1</td>\n",
       "      <td>2676.47</td>\n",
       "      <td>1</td>\n",
       "      <td>18</td>\n",
       "      <td>8</td>\n",
       "      <td>50</td>\n",
       "      <td>0</td>\n",
       "      <td>194</td>\n",
       "    </tr>\n",
       "    <tr>\n",
       "      <th>2</th>\n",
       "      <td>2</td>\n",
       "      <td>free</td>\n",
       "      <td>1</td>\n",
       "      <td>903.86</td>\n",
       "      <td>1</td>\n",
       "      <td>16</td>\n",
       "      <td>8</td>\n",
       "      <td>50</td>\n",
       "      <td>0</td>\n",
       "      <td>178</td>\n",
       "    </tr>\n",
       "    <tr>\n",
       "      <th>3</th>\n",
       "      <td>3</td>\n",
       "      <td>free</td>\n",
       "      <td>1</td>\n",
       "      <td>3406.58</td>\n",
       "      <td>1</td>\n",
       "      <td>24</td>\n",
       "      <td>8</td>\n",
       "      <td>50</td>\n",
       "      <td>0</td>\n",
       "      <td>242</td>\n",
       "    </tr>\n",
       "    <tr>\n",
       "      <th>4</th>\n",
       "      <td>4</td>\n",
       "      <td>free</td>\n",
       "      <td>1</td>\n",
       "      <td>3197.14</td>\n",
       "      <td>1</td>\n",
       "      <td>18</td>\n",
       "      <td>8</td>\n",
       "      <td>50</td>\n",
       "      <td>0</td>\n",
       "      <td>194</td>\n",
       "    </tr>\n",
       "  </tbody>\n",
       "</table>\n",
       "</div>"
      ],
      "text/plain": [
       "   index subscription_type  month  distance  user_id  duration  minute_price  \\\n",
       "0      0              free      1   2515.69        1        15             8   \n",
       "1      1              free      1   2676.47        1        18             8   \n",
       "2      2              free      1    903.86        1        16             8   \n",
       "3      3              free      1   3406.58        1        24             8   \n",
       "4      4              free      1   3197.14        1        18             8   \n",
       "\n",
       "   start_ride_price  subscription_fee  monthly_revenue  \n",
       "0                50                 0              170  \n",
       "1                50                 0              194  \n",
       "2                50                 0              178  \n",
       "3                50                 0              242  \n",
       "4                50                 0              194  "
      ]
     },
     "execution_count": 52,
     "metadata": {},
     "output_type": "execute_result"
    }
   ],
   "source": [
    "aggregated_df.head()"
   ]
  },
  {
   "cell_type": "markdown",
   "id": "66c4a771",
   "metadata": {},
   "source": [
    "***Вывод***"
   ]
  },
  {
   "cell_type": "markdown",
   "id": "35945d38",
   "metadata": {},
   "source": [
    "Создала новый датафрейм с агрегированными данными (aggregated_df) на основе датафрейма с объединенными данными (merged_df).\n",
    "\n",
    "Нашла суммарное расстояние, количество поездок и суммарное время для каждого пользователя за каждый месяц. Также добавили столбец с помесячной выручкой, которую принес каждый пользователь."
   ]
  },
  {
   "cell_type": "markdown",
   "id": "41545ac0",
   "metadata": {},
   "source": [
    "### Проверка гипотез"
   ]
  },
  {
   "cell_type": "markdown",
   "id": "11035c4b",
   "metadata": {},
   "source": [
    "**Определю, тратят ли пользователи с подпиской больше времени на поездки**"
   ]
  },
  {
   "cell_type": "markdown",
   "id": "162e0b55",
   "metadata": {},
   "source": [
    "Если да, то пользователи с подпиской могут быть «выгоднее» для компании.\n",
    "\n",
    "Сформулиру гипотезы:\n",
    "\n",
    " - Н0: Средняя продолжительность поездок с подпиской ultra и без free равна\n",
    " - Н1: Средняя продолжительность поездок с подпиской ultra больше продолжительности поездок без подписок free\n",
    "\n",
    "\n",
    "Проверю гипотезы, используем исходные данные о продолжительности каждой сессии — отдельно для подписчиков и тех, у кого нет подписки."
   ]
  },
  {
   "cell_type": "code",
   "execution_count": 53,
   "id": "fa6f5272",
   "metadata": {},
   "outputs": [
    {
     "data": {
      "text/plain": [
       "2.4959453720736625e-34"
      ]
     },
     "execution_count": 53,
     "metadata": {},
     "output_type": "execute_result"
    }
   ],
   "source": [
    "alpha = 0.05\n",
    "results = st.ttest_ind(\n",
    "    ultra_df['duration'], \n",
    "    free_df['duration'], \n",
    "    equal_var=True, \n",
    "    alternative='greater')\n",
    "results.pvalue"
   ]
  },
  {
   "cell_type": "markdown",
   "id": "b406f749",
   "metadata": {},
   "source": [
    "Нулевая гипотеза отвергнута, есть основания утверждать, что средняя продолжительность поездки с подпиской больше продолжительности поездок без подписки при установленном уровне значимости в 5 %"
   ]
  },
  {
   "cell_type": "markdown",
   "id": "be5de657",
   "metadata": {},
   "source": [
    "**Оптимальное растояние поездки с точки зрения износа самоката для пользователей с подпиской**"
   ]
  },
  {
   "cell_type": "markdown",
   "id": "726beb09",
   "metadata": {},
   "source": [
    "Расстояние одной поездки в 3130 метров — оптимальное с точки зрения износа самоката.\n",
    "\n",
    "Установлю действительно ли, что расстояние, которое проезжают пользователи с подпиской за одну поездку, не превышает 3130 метров?\n",
    "\n",
    "Выдвину гипотезы:\n",
    "\n",
    " - Н0: Среднее расстояние поездок с подпиской ultra равно оптимальному расстоянию в 3130 метров.\n",
    " - Н1: Среднее расстояние поездок с подпиской ultra больше оптимального в 3130 метров.\n",
    "\n",
    "\n",
    "Проверим гипотезы, используем исходные данные о расстоянии в для подписчиков."
   ]
  },
  {
   "cell_type": "code",
   "execution_count": 54,
   "id": "11c2991c",
   "metadata": {},
   "outputs": [
    {
     "data": {
      "text/plain": [
       "0.9195362605842414"
      ]
     },
     "execution_count": 54,
     "metadata": {},
     "output_type": "execute_result"
    }
   ],
   "source": [
    "distance = 3130\n",
    "alpha = 0.05\n",
    "\n",
    "results = st.ttest_1samp(\n",
    "    ultra_df['distance'], \n",
    "    distance,\n",
    "    alternative='greater')\n",
    "\n",
    "results.pvalue"
   ]
  },
  {
   "cell_type": "markdown",
   "id": "b68c3ef6",
   "metadata": {},
   "source": [
    "Нулевую гипотезу неудалось отвергнуть и следовательно, есть основания утверждать, что среднее расстояние поездки, пользователей с подпиской, не превышает оптимальное расстоянием в 3130 метров с точки зрения износа самоката, при установленном уровне значимости в 5 %"
   ]
  },
  {
   "cell_type": "markdown",
   "id": "e50671d9",
   "metadata": {},
   "source": [
    "**Определю, будет ли помесячная выручка от пользователей с подпиской по месяцам выше, чем выручка от пользователей без подписки.**"
   ]
  },
  {
   "cell_type": "markdown",
   "id": "2572d138",
   "metadata": {},
   "source": [
    "Выдвину гипотезы:\n",
    "\n",
    " - Н0: Помесячная средняя выручка от пользователей с подпиской равна помесячной средней выручке от пользователей без подписки.\n",
    " - Н1: Помесячная средняя выручка от пользователей с подпиской больше помесячной средней выручки от пользователей без подписки.\n",
    "\n",
    "\n",
    "Проверим гипотезы, используем данные о выручке с подпиской и без подписки."
   ]
  },
  {
   "cell_type": "code",
   "execution_count": 55,
   "id": "6ed2189a",
   "metadata": {},
   "outputs": [
    {
     "data": {
      "text/plain": [
       "1.8850394384715216e-31"
      ]
     },
     "execution_count": 55,
     "metadata": {},
     "output_type": "execute_result"
    }
   ],
   "source": [
    "alpha = 0.05\n",
    "results = st.ttest_ind(\n",
    "    aggregated_df.loc[aggregated_df['subscription_type'] == 'ultra', 'monthly_revenue'], \n",
    "    aggregated_df.loc[aggregated_df['subscription_type'] == 'free', 'monthly_revenue'], \n",
    "    equal_var=True, \n",
    "    alternative='greater')\n",
    "results.pvalue"
   ]
  },
  {
   "cell_type": "markdown",
   "id": "288a1017",
   "metadata": {},
   "source": [
    "Результат p-value, который получен (1.8850394384715216e-31), гораздо меньше заданного уровня значимости alpha (0.05). Это означает, что у нас есть достаточно сильные доказательства против нулевой гипотезы (H0) в пользу альтернативной гипотезы (H1).\n",
    "\n",
    "Отвергаем нулевую гипотезу о том, что помесячная средняя выручка от пользователей с подпиской равна помесячной средней выручке от пользователей без подписки. Вместо этого мы принимаем альтернативную гипотезу о том, что помесячная средняя выручка от пользователей с подпиской больше, чем от пользователей без подписки."
   ]
  },
  {
   "cell_type": "markdown",
   "id": "0a34e786",
   "metadata": {},
   "source": [
    "**Какой тест нужен для проверки гипотезы о снижении количества обращений в техподдержку после обновления серверов?**"
   ]
  },
  {
   "cell_type": "markdown",
   "id": "e4715f78",
   "metadata": {},
   "source": [
    "Необходимо использовать гипотезу о равенстве средних для зависимых (парных) выборок.\n",
    "\n",
    "Гипотезы будут сформулированы так:\n",
    "\n",
    "H0 : μ1 = μ2\n",
    "H1 : μ1 != μ2\n",
    "где μ1 и μ2 - средние значения количество обращений в техподдержку до и после изменения.\n",
    "\n",
    "Метод, который нужно использовать при сравнении: `scipy.stats.ttest_rel()`"
   ]
  },
  {
   "cell_type": "markdown",
   "id": "3b6fa699",
   "metadata": {},
   "source": [
    "### Итоговый вывод"
   ]
  },
  {
   "cell_type": "markdown",
   "id": "47a05643",
   "metadata": {},
   "source": [
    "В данной работе были рассмотрены три датафрейма: в первом содержались данный о пользователях, во втором о поездах, а в третьем о подписах.\n",
    "    Ни в одном датафреме не оказалось пропусков. Дубликаты были выявлены и удалены в датафреме, соджержащим информацию о пользователях. Кроме того, был выявлен и изменен некорректный тип данных в таблице, содержащей информацию о поездах. В эту таблицу также добавила столбец с номером месяца из даты. Также были приведи к более удобному для работы формату данные из столбцов с длительностью сессии и расстоянием поездки. \n",
    "    Благодаря исследовательскому анализу, можно сделать вывод, что самые популярные города для аренды самокатов - это южные города, исключением явялется Екатеринбург. Возможно, он оказался в выборке из-за высокой плотности населения. Самой многочисленной категорией пользователей, являются молодые люди около 25 лет, что удивительно, есть пользователи младше 14 лет. Пользователей без подписки больше почти на 9%, что можно объяснить тем, что большенство пользователей пользуются арендой для коротких поездко длительностью около 15 минут. Что интересно, есть группа пользователей, которая пользуется арендой для очень коротких поездок меньше 1 км. \n",
    "    Также было выявлено, что пользователи с подпиской приносят компании более высокую выручку, нежели пользователи без подписки, несмотря на то, что их меньше.\n",
    "    Руководству сервиса желательно принять меры для перехода клиентов на подписку!"
   ]
  }
 ],
 "metadata": {
  "ExecuteTimeLog": [
   {
    "duration": 1243,
    "start_time": "2024-04-16T09:05:24.020Z"
   },
   {
    "duration": 3,
    "start_time": "2024-04-16T09:12:56.748Z"
   },
   {
    "duration": 201,
    "start_time": "2024-04-16T09:12:57.383Z"
   },
   {
    "duration": 106,
    "start_time": "2024-04-16T09:12:57.728Z"
   },
   {
    "duration": 12,
    "start_time": "2024-04-16T09:12:58.095Z"
   },
   {
    "duration": 7,
    "start_time": "2024-04-16T09:13:01.742Z"
   },
   {
    "duration": 8,
    "start_time": "2024-04-16T09:13:15.534Z"
   },
   {
    "duration": 11,
    "start_time": "2024-04-16T09:15:05.706Z"
   },
   {
    "duration": 9,
    "start_time": "2024-04-16T09:15:06.602Z"
   },
   {
    "duration": 3,
    "start_time": "2024-04-16T09:15:55.834Z"
   },
   {
    "duration": 98,
    "start_time": "2024-04-16T09:15:55.839Z"
   },
   {
    "duration": 9,
    "start_time": "2024-04-16T09:15:55.939Z"
   },
   {
    "duration": 30,
    "start_time": "2024-04-16T09:15:55.950Z"
   },
   {
    "duration": 10,
    "start_time": "2024-04-16T09:15:55.981Z"
   },
   {
    "duration": 12,
    "start_time": "2024-04-16T09:15:55.992Z"
   },
   {
    "duration": 10,
    "start_time": "2024-04-16T09:15:56.006Z"
   },
   {
    "duration": 15,
    "start_time": "2024-04-16T09:16:07.752Z"
   },
   {
    "duration": 55,
    "start_time": "2024-04-16T09:28:53.564Z"
   },
   {
    "duration": 7,
    "start_time": "2024-04-16T09:29:36.002Z"
   },
   {
    "duration": 8,
    "start_time": "2024-04-16T09:29:36.610Z"
   },
   {
    "duration": 4,
    "start_time": "2024-04-16T09:29:37.027Z"
   },
   {
    "duration": 237,
    "start_time": "2024-04-16T09:33:10.843Z"
   },
   {
    "duration": 246,
    "start_time": "2024-04-16T09:33:12.330Z"
   },
   {
    "duration": 245,
    "start_time": "2024-04-16T09:33:15.634Z"
   },
   {
    "duration": 4919,
    "start_time": "2024-04-16T09:33:18.794Z"
   },
   {
    "duration": 326,
    "start_time": "2024-04-16T09:36:26.540Z"
   },
   {
    "duration": 10,
    "start_time": "2024-04-16T09:37:16.403Z"
   },
   {
    "duration": 241,
    "start_time": "2024-04-16T09:37:27.580Z"
   },
   {
    "duration": 225,
    "start_time": "2024-04-16T09:38:09.112Z"
   },
   {
    "duration": 162,
    "start_time": "2024-04-16T09:39:38.133Z"
   },
   {
    "duration": 9,
    "start_time": "2024-04-16T09:41:07.961Z"
   },
   {
    "duration": 51,
    "start_time": "2024-04-18T13:07:58.715Z"
   },
   {
    "duration": 1244,
    "start_time": "2024-04-18T13:08:03.162Z"
   },
   {
    "duration": 217,
    "start_time": "2024-04-18T13:08:04.409Z"
   },
   {
    "duration": 14,
    "start_time": "2024-04-18T13:08:04.627Z"
   },
   {
    "duration": 18,
    "start_time": "2024-04-18T13:08:04.644Z"
   },
   {
    "duration": 31,
    "start_time": "2024-04-18T13:08:04.664Z"
   },
   {
    "duration": 24,
    "start_time": "2024-04-18T13:08:04.697Z"
   },
   {
    "duration": 11,
    "start_time": "2024-04-18T13:08:04.723Z"
   },
   {
    "duration": 19,
    "start_time": "2024-04-18T13:08:04.735Z"
   },
   {
    "duration": 20,
    "start_time": "2024-04-18T13:08:04.756Z"
   },
   {
    "duration": 14,
    "start_time": "2024-04-18T13:08:04.779Z"
   },
   {
    "duration": 5,
    "start_time": "2024-04-18T13:08:04.795Z"
   },
   {
    "duration": 277,
    "start_time": "2024-04-18T13:08:04.802Z"
   },
   {
    "duration": 313,
    "start_time": "2024-04-18T13:08:05.081Z"
   },
   {
    "duration": 252,
    "start_time": "2024-04-18T13:12:12.936Z"
   },
   {
    "duration": 4934,
    "start_time": "2024-04-18T13:13:58.859Z"
   },
   {
    "duration": 4767,
    "start_time": "2024-04-18T13:14:12.988Z"
   },
   {
    "duration": 51,
    "start_time": "2024-04-19T10:32:37.356Z"
   },
   {
    "duration": 1377,
    "start_time": "2024-04-19T10:32:41.409Z"
   },
   {
    "duration": 299,
    "start_time": "2024-04-19T10:32:42.787Z"
   },
   {
    "duration": 12,
    "start_time": "2024-04-19T10:32:43.088Z"
   },
   {
    "duration": 22,
    "start_time": "2024-04-19T10:32:43.104Z"
   },
   {
    "duration": 18,
    "start_time": "2024-04-19T10:32:43.128Z"
   },
   {
    "duration": 23,
    "start_time": "2024-04-19T10:32:43.148Z"
   },
   {
    "duration": 34,
    "start_time": "2024-04-19T10:32:43.173Z"
   },
   {
    "duration": 25,
    "start_time": "2024-04-19T10:32:43.209Z"
   },
   {
    "duration": 14,
    "start_time": "2024-04-19T10:32:43.235Z"
   },
   {
    "duration": 17,
    "start_time": "2024-04-19T10:32:43.251Z"
   },
   {
    "duration": 6,
    "start_time": "2024-04-19T10:32:43.270Z"
   },
   {
    "duration": 275,
    "start_time": "2024-04-19T10:32:43.278Z"
   },
   {
    "duration": 269,
    "start_time": "2024-04-19T10:32:43.554Z"
   },
   {
    "duration": 271,
    "start_time": "2024-04-19T10:32:43.824Z"
   },
   {
    "duration": 4,
    "start_time": "2024-04-19T10:32:44.097Z"
   },
   {
    "duration": 6,
    "start_time": "2024-04-19T10:33:10.951Z"
   },
   {
    "duration": 1089,
    "start_time": "2024-04-21T13:02:33.679Z"
   },
   {
    "duration": 69,
    "start_time": "2024-04-21T13:02:34.770Z"
   },
   {
    "duration": 12,
    "start_time": "2024-04-21T13:02:34.840Z"
   },
   {
    "duration": 11,
    "start_time": "2024-04-21T13:02:34.853Z"
   },
   {
    "duration": 20,
    "start_time": "2024-04-21T13:02:34.866Z"
   },
   {
    "duration": 13,
    "start_time": "2024-04-21T13:02:34.887Z"
   },
   {
    "duration": 12,
    "start_time": "2024-04-21T13:02:34.901Z"
   },
   {
    "duration": 9,
    "start_time": "2024-04-21T13:02:34.915Z"
   },
   {
    "duration": 20,
    "start_time": "2024-04-21T13:02:34.926Z"
   },
   {
    "duration": 20,
    "start_time": "2024-04-21T13:02:34.948Z"
   },
   {
    "duration": 5,
    "start_time": "2024-04-21T13:02:34.970Z"
   },
   {
    "duration": 242,
    "start_time": "2024-04-21T13:02:34.976Z"
   },
   {
    "duration": 160,
    "start_time": "2024-04-21T13:02:35.219Z"
   },
   {
    "duration": 241,
    "start_time": "2024-04-21T13:02:35.382Z"
   },
   {
    "duration": 242,
    "start_time": "2024-04-21T13:02:35.625Z"
   },
   {
    "duration": 6,
    "start_time": "2024-04-21T13:02:35.868Z"
   },
   {
    "duration": 6,
    "start_time": "2024-04-21T13:02:35.875Z"
   },
   {
    "duration": 10,
    "start_time": "2024-04-21T13:02:35.882Z"
   },
   {
    "duration": 11,
    "start_time": "2024-04-21T13:02:35.894Z"
   },
   {
    "duration": 20,
    "start_time": "2024-04-21T13:02:35.907Z"
   },
   {
    "duration": 16,
    "start_time": "2024-04-21T13:02:35.928Z"
   },
   {
    "duration": 25,
    "start_time": "2024-04-21T13:02:35.946Z"
   },
   {
    "duration": 17,
    "start_time": "2024-04-21T13:02:35.972Z"
   },
   {
    "duration": 38,
    "start_time": "2024-04-21T13:02:35.991Z"
   },
   {
    "duration": 211,
    "start_time": "2024-04-21T13:02:36.030Z"
   },
   {
    "duration": 194,
    "start_time": "2024-04-21T13:02:36.242Z"
   },
   {
    "duration": 350,
    "start_time": "2024-04-21T13:02:36.438Z"
   },
   {
    "duration": 5,
    "start_time": "2024-04-21T13:02:36.790Z"
   },
   {
    "duration": 10,
    "start_time": "2024-04-21T13:02:36.797Z"
   },
   {
    "duration": 8,
    "start_time": "2024-04-21T13:02:36.808Z"
   },
   {
    "duration": 767,
    "start_time": "2024-04-21T13:02:36.817Z"
   },
   {
    "duration": 813,
    "start_time": "2024-04-21T13:02:37.585Z"
   },
   {
    "duration": 8,
    "start_time": "2024-04-21T13:02:38.399Z"
   },
   {
    "duration": 186,
    "start_time": "2024-04-21T13:02:38.408Z"
   },
   {
    "duration": 150,
    "start_time": "2024-04-21T13:02:38.595Z"
   },
   {
    "duration": 244,
    "start_time": "2024-04-21T13:02:38.747Z"
   },
   {
    "duration": 5,
    "start_time": "2024-04-21T13:02:38.992Z"
   },
   {
    "duration": 22,
    "start_time": "2024-04-21T13:02:38.999Z"
   },
   {
    "duration": 32,
    "start_time": "2024-04-21T13:02:39.022Z"
   },
   {
    "duration": 42,
    "start_time": "2024-04-21T13:02:39.055Z"
   },
   {
    "duration": 38,
    "start_time": "2024-04-21T13:02:39.100Z"
   },
   {
    "duration": 24,
    "start_time": "2024-04-21T13:02:39.140Z"
   },
   {
    "duration": 34,
    "start_time": "2024-04-21T13:02:39.165Z"
   },
   {
    "duration": 283,
    "start_time": "2024-04-21T13:02:39.200Z"
   },
   {
    "duration": 227,
    "start_time": "2024-04-21T13:02:39.484Z"
   },
   {
    "duration": 15,
    "start_time": "2024-04-21T13:02:39.712Z"
   },
   {
    "duration": 54,
    "start_time": "2024-04-21T13:02:39.728Z"
   },
   {
    "duration": 18,
    "start_time": "2024-04-21T13:02:39.783Z"
   },
   {
    "duration": 46,
    "start_time": "2024-04-21T13:02:39.803Z"
   },
   {
    "duration": 13,
    "start_time": "2024-04-21T13:02:39.851Z"
   },
   {
    "duration": 14683,
    "start_time": "2024-04-21T13:02:39.866Z"
   },
   {
    "duration": 113,
    "start_time": "2024-04-21T13:02:54.550Z"
   },
   {
    "duration": 9,
    "start_time": "2024-04-21T13:02:54.665Z"
   },
   {
    "duration": 5,
    "start_time": "2024-04-21T13:02:54.675Z"
   },
   {
    "duration": 11,
    "start_time": "2024-04-21T13:02:54.681Z"
   },
   {
    "duration": 104,
    "start_time": "2024-04-21T13:31:02.517Z"
   },
   {
    "duration": 12,
    "start_time": "2024-04-21T13:31:24.376Z"
   },
   {
    "duration": 12,
    "start_time": "2024-04-21T13:32:37.207Z"
   },
   {
    "duration": 1194,
    "start_time": "2024-04-21T13:37:16.088Z"
   },
   {
    "duration": 74,
    "start_time": "2024-04-21T13:37:17.284Z"
   },
   {
    "duration": 15,
    "start_time": "2024-04-21T13:37:17.359Z"
   },
   {
    "duration": 45,
    "start_time": "2024-04-21T13:37:17.376Z"
   },
   {
    "duration": 34,
    "start_time": "2024-04-21T13:37:17.424Z"
   },
   {
    "duration": 50,
    "start_time": "2024-04-21T13:37:17.459Z"
   },
   {
    "duration": 31,
    "start_time": "2024-04-21T13:37:17.511Z"
   },
   {
    "duration": 29,
    "start_time": "2024-04-21T13:37:17.543Z"
   },
   {
    "duration": 23,
    "start_time": "2024-04-21T13:37:17.574Z"
   },
   {
    "duration": 28,
    "start_time": "2024-04-21T13:37:17.599Z"
   },
   {
    "duration": 27,
    "start_time": "2024-04-21T13:37:17.629Z"
   },
   {
    "duration": 288,
    "start_time": "2024-04-21T13:37:17.658Z"
   },
   {
    "duration": 179,
    "start_time": "2024-04-21T13:37:17.948Z"
   },
   {
    "duration": 271,
    "start_time": "2024-04-21T13:37:18.129Z"
   },
   {
    "duration": 262,
    "start_time": "2024-04-21T13:37:18.401Z"
   },
   {
    "duration": 9,
    "start_time": "2024-04-21T13:37:18.665Z"
   },
   {
    "duration": 18,
    "start_time": "2024-04-21T13:37:18.677Z"
   },
   {
    "duration": 23,
    "start_time": "2024-04-21T13:37:18.697Z"
   },
   {
    "duration": 27,
    "start_time": "2024-04-21T13:37:18.722Z"
   },
   {
    "duration": 21,
    "start_time": "2024-04-21T13:37:18.751Z"
   },
   {
    "duration": 7,
    "start_time": "2024-04-21T13:37:18.774Z"
   },
   {
    "duration": 6,
    "start_time": "2024-04-21T13:37:18.783Z"
   },
   {
    "duration": 21,
    "start_time": "2024-04-21T13:37:18.792Z"
   },
   {
    "duration": 18,
    "start_time": "2024-04-21T13:37:18.815Z"
   },
   {
    "duration": 268,
    "start_time": "2024-04-21T13:37:18.835Z"
   },
   {
    "duration": 194,
    "start_time": "2024-04-21T13:37:19.105Z"
   },
   {
    "duration": 379,
    "start_time": "2024-04-21T13:37:19.300Z"
   },
   {
    "duration": 5,
    "start_time": "2024-04-21T13:37:19.680Z"
   },
   {
    "duration": 15,
    "start_time": "2024-04-21T13:37:19.687Z"
   },
   {
    "duration": 49,
    "start_time": "2024-04-21T13:37:19.704Z"
   },
   {
    "duration": 821,
    "start_time": "2024-04-21T13:37:19.755Z"
   },
   {
    "duration": 890,
    "start_time": "2024-04-21T13:37:20.578Z"
   },
   {
    "duration": 10,
    "start_time": "2024-04-21T13:37:21.471Z"
   },
   {
    "duration": 227,
    "start_time": "2024-04-21T13:37:21.482Z"
   },
   {
    "duration": 183,
    "start_time": "2024-04-21T13:37:21.710Z"
   },
   {
    "duration": 295,
    "start_time": "2024-04-21T13:37:21.895Z"
   },
   {
    "duration": 6,
    "start_time": "2024-04-21T13:37:22.192Z"
   },
   {
    "duration": 33,
    "start_time": "2024-04-21T13:37:22.200Z"
   },
   {
    "duration": 27,
    "start_time": "2024-04-21T13:37:22.235Z"
   },
   {
    "duration": 18,
    "start_time": "2024-04-21T13:37:22.264Z"
   },
   {
    "duration": 41,
    "start_time": "2024-04-21T13:37:22.285Z"
   },
   {
    "duration": 38,
    "start_time": "2024-04-21T13:37:22.327Z"
   },
   {
    "duration": 41,
    "start_time": "2024-04-21T13:37:22.367Z"
   },
   {
    "duration": 346,
    "start_time": "2024-04-21T13:37:22.410Z"
   },
   {
    "duration": 255,
    "start_time": "2024-04-21T13:37:22.758Z"
   },
   {
    "duration": 17,
    "start_time": "2024-04-21T13:37:23.014Z"
   },
   {
    "duration": 41,
    "start_time": "2024-04-21T13:37:23.033Z"
   },
   {
    "duration": 3,
    "start_time": "2024-04-21T13:37:23.076Z"
   },
   {
    "duration": 30,
    "start_time": "2024-04-21T13:37:23.081Z"
   },
   {
    "duration": 5,
    "start_time": "2024-04-21T13:37:23.112Z"
   },
   {
    "duration": 16518,
    "start_time": "2024-04-21T13:37:23.118Z"
   },
   {
    "duration": 120,
    "start_time": "2024-04-21T13:37:39.637Z"
   },
   {
    "duration": 7,
    "start_time": "2024-04-21T13:37:39.761Z"
   },
   {
    "duration": 7,
    "start_time": "2024-04-21T13:37:39.770Z"
   },
   {
    "duration": 10,
    "start_time": "2024-04-21T13:37:39.782Z"
   },
   {
    "duration": 4,
    "start_time": "2024-04-21T15:25:06.730Z"
   },
   {
    "duration": 30,
    "start_time": "2024-04-21T15:25:07.095Z"
   },
   {
    "duration": 3,
    "start_time": "2024-04-21T15:25:07.448Z"
   },
   {
    "duration": 171,
    "start_time": "2024-04-21T15:25:07.799Z"
   },
   {
    "duration": 10,
    "start_time": "2024-04-21T15:25:08.240Z"
   },
   {
    "duration": 3,
    "start_time": "2024-04-21T15:30:23.696Z"
   },
   {
    "duration": 22,
    "start_time": "2024-04-21T15:30:23.956Z"
   },
   {
    "duration": 3,
    "start_time": "2024-04-21T15:30:24.214Z"
   },
   {
    "duration": 170,
    "start_time": "2024-04-21T15:30:24.503Z"
   },
   {
    "duration": 9,
    "start_time": "2024-04-21T15:30:24.775Z"
   },
   {
    "duration": 5,
    "start_time": "2024-04-21T15:30:26.844Z"
   },
   {
    "duration": 5,
    "start_time": "2024-04-21T15:30:28.325Z"
   },
   {
    "duration": 8,
    "start_time": "2024-04-21T15:30:31.645Z"
   },
   {
    "duration": 3,
    "start_time": "2024-04-21T15:39:42.394Z"
   },
   {
    "duration": 78,
    "start_time": "2024-04-21T15:39:42.399Z"
   },
   {
    "duration": 8,
    "start_time": "2024-04-21T15:39:42.478Z"
   },
   {
    "duration": 12,
    "start_time": "2024-04-21T15:39:42.488Z"
   },
   {
    "duration": 9,
    "start_time": "2024-04-21T15:39:42.502Z"
   },
   {
    "duration": 21,
    "start_time": "2024-04-21T15:39:42.512Z"
   },
   {
    "duration": 15,
    "start_time": "2024-04-21T15:39:42.535Z"
   },
   {
    "duration": 31,
    "start_time": "2024-04-21T15:39:42.551Z"
   },
   {
    "duration": 8,
    "start_time": "2024-04-21T15:39:42.583Z"
   },
   {
    "duration": 9,
    "start_time": "2024-04-21T15:39:42.593Z"
   },
   {
    "duration": 4,
    "start_time": "2024-04-21T15:39:42.605Z"
   },
   {
    "duration": 243,
    "start_time": "2024-04-21T15:39:42.611Z"
   },
   {
    "duration": 160,
    "start_time": "2024-04-21T15:39:42.856Z"
   },
   {
    "duration": 229,
    "start_time": "2024-04-21T15:39:43.018Z"
   },
   {
    "duration": 341,
    "start_time": "2024-04-21T15:39:43.249Z"
   },
   {
    "duration": 5,
    "start_time": "2024-04-21T15:39:43.591Z"
   },
   {
    "duration": 8,
    "start_time": "2024-04-21T15:39:43.597Z"
   },
   {
    "duration": 8,
    "start_time": "2024-04-21T15:39:43.606Z"
   },
   {
    "duration": 14,
    "start_time": "2024-04-21T15:39:43.615Z"
   },
   {
    "duration": 10,
    "start_time": "2024-04-21T15:39:43.630Z"
   },
   {
    "duration": 32,
    "start_time": "2024-04-21T15:39:43.641Z"
   },
   {
    "duration": 5,
    "start_time": "2024-04-21T15:39:43.674Z"
   },
   {
    "duration": 10,
    "start_time": "2024-04-21T15:39:43.680Z"
   },
   {
    "duration": 11,
    "start_time": "2024-04-21T15:39:43.692Z"
   },
   {
    "duration": 176,
    "start_time": "2024-04-21T15:39:43.704Z"
   },
   {
    "duration": 197,
    "start_time": "2024-04-21T15:39:43.881Z"
   },
   {
    "duration": 273,
    "start_time": "2024-04-21T15:39:44.080Z"
   },
   {
    "duration": 3,
    "start_time": "2024-04-21T15:39:44.355Z"
   },
   {
    "duration": 16,
    "start_time": "2024-04-21T15:39:44.361Z"
   },
   {
    "duration": 27,
    "start_time": "2024-04-21T15:39:44.378Z"
   },
   {
    "duration": 630,
    "start_time": "2024-04-21T15:39:44.406Z"
   },
   {
    "duration": 729,
    "start_time": "2024-04-21T15:39:45.037Z"
   },
   {
    "duration": 11,
    "start_time": "2024-04-21T15:39:45.768Z"
   },
   {
    "duration": 211,
    "start_time": "2024-04-21T15:39:45.780Z"
   },
   {
    "duration": 162,
    "start_time": "2024-04-21T15:39:45.992Z"
   },
   {
    "duration": 225,
    "start_time": "2024-04-21T15:39:46.155Z"
   },
   {
    "duration": 4,
    "start_time": "2024-04-21T15:39:46.381Z"
   },
   {
    "duration": 34,
    "start_time": "2024-04-21T15:39:46.387Z"
   },
   {
    "duration": 22,
    "start_time": "2024-04-21T15:39:46.423Z"
   },
   {
    "duration": 26,
    "start_time": "2024-04-21T15:39:46.447Z"
   },
   {
    "duration": 10,
    "start_time": "2024-04-21T15:39:46.475Z"
   },
   {
    "duration": 15,
    "start_time": "2024-04-21T15:39:46.487Z"
   },
   {
    "duration": 23,
    "start_time": "2024-04-21T15:39:46.503Z"
   },
   {
    "duration": 326,
    "start_time": "2024-04-21T15:39:46.527Z"
   },
   {
    "duration": 198,
    "start_time": "2024-04-21T15:39:46.855Z"
   },
   {
    "duration": 23,
    "start_time": "2024-04-21T15:39:47.055Z"
   },
   {
    "duration": 24,
    "start_time": "2024-04-21T15:39:47.080Z"
   },
   {
    "duration": 28,
    "start_time": "2024-04-21T15:39:47.105Z"
   },
   {
    "duration": 51,
    "start_time": "2024-04-21T15:39:47.134Z"
   },
   {
    "duration": 14,
    "start_time": "2024-04-21T15:39:47.186Z"
   },
   {
    "duration": 14200,
    "start_time": "2024-04-21T15:39:47.202Z"
   },
   {
    "duration": 3,
    "start_time": "2024-04-21T15:40:01.404Z"
   },
   {
    "duration": 154,
    "start_time": "2024-04-21T15:40:01.408Z"
   },
   {
    "duration": 132,
    "start_time": "2024-04-21T15:40:01.564Z"
   },
   {
    "duration": 268,
    "start_time": "2024-04-21T15:40:01.697Z"
   },
   {
    "duration": 235,
    "start_time": "2024-04-21T15:40:01.967Z"
   },
   {
    "duration": 308,
    "start_time": "2024-04-21T15:40:02.203Z"
   },
   {
    "duration": 63,
    "start_time": "2024-04-21T15:40:02.513Z"
   },
   {
    "duration": 22,
    "start_time": "2024-04-21T15:40:02.578Z"
   },
   {
    "duration": 1103,
    "start_time": "2024-04-21T17:11:25.135Z"
   },
   {
    "duration": 70,
    "start_time": "2024-04-21T17:11:26.241Z"
   },
   {
    "duration": 14,
    "start_time": "2024-04-21T17:11:26.313Z"
   },
   {
    "duration": 21,
    "start_time": "2024-04-21T17:11:26.330Z"
   },
   {
    "duration": 31,
    "start_time": "2024-04-21T17:11:26.352Z"
   },
   {
    "duration": 25,
    "start_time": "2024-04-21T17:11:26.384Z"
   },
   {
    "duration": 43,
    "start_time": "2024-04-21T17:11:26.411Z"
   },
   {
    "duration": 26,
    "start_time": "2024-04-21T17:11:26.456Z"
   },
   {
    "duration": 35,
    "start_time": "2024-04-21T17:11:26.487Z"
   },
   {
    "duration": 38,
    "start_time": "2024-04-21T17:11:26.525Z"
   },
   {
    "duration": 51,
    "start_time": "2024-04-21T17:11:26.564Z"
   },
   {
    "duration": 305,
    "start_time": "2024-04-21T17:11:26.617Z"
   },
   {
    "duration": 198,
    "start_time": "2024-04-21T17:11:26.923Z"
   },
   {
    "duration": 262,
    "start_time": "2024-04-21T17:11:27.123Z"
   },
   {
    "duration": 255,
    "start_time": "2024-04-21T17:11:27.387Z"
   },
   {
    "duration": 7,
    "start_time": "2024-04-21T17:11:27.643Z"
   },
   {
    "duration": 58,
    "start_time": "2024-04-21T17:11:27.660Z"
   },
   {
    "duration": 45,
    "start_time": "2024-04-21T17:11:27.720Z"
   },
   {
    "duration": 33,
    "start_time": "2024-04-21T17:11:27.768Z"
   },
   {
    "duration": 31,
    "start_time": "2024-04-21T17:11:27.803Z"
   },
   {
    "duration": 24,
    "start_time": "2024-04-21T17:11:27.836Z"
   },
   {
    "duration": 52,
    "start_time": "2024-04-21T17:11:27.862Z"
   },
   {
    "duration": 65,
    "start_time": "2024-04-21T17:11:27.916Z"
   },
   {
    "duration": 22,
    "start_time": "2024-04-21T17:11:27.983Z"
   },
   {
    "duration": 192,
    "start_time": "2024-04-21T17:11:28.007Z"
   },
   {
    "duration": 221,
    "start_time": "2024-04-21T17:11:28.201Z"
   },
   {
    "duration": 454,
    "start_time": "2024-04-21T17:11:28.425Z"
   },
   {
    "duration": 5,
    "start_time": "2024-04-21T17:11:28.884Z"
   },
   {
    "duration": 46,
    "start_time": "2024-04-21T17:11:28.890Z"
   },
   {
    "duration": 42,
    "start_time": "2024-04-21T17:11:28.938Z"
   },
   {
    "duration": 751,
    "start_time": "2024-04-21T17:11:28.982Z"
   },
   {
    "duration": 897,
    "start_time": "2024-04-21T17:11:29.734Z"
   },
   {
    "duration": 8,
    "start_time": "2024-04-21T17:11:30.633Z"
   },
   {
    "duration": 305,
    "start_time": "2024-04-21T17:11:30.643Z"
   },
   {
    "duration": 159,
    "start_time": "2024-04-21T17:11:30.949Z"
   },
   {
    "duration": 255,
    "start_time": "2024-04-21T17:11:31.109Z"
   },
   {
    "duration": 8,
    "start_time": "2024-04-21T17:11:31.366Z"
   },
   {
    "duration": 62,
    "start_time": "2024-04-21T17:11:31.376Z"
   },
   {
    "duration": 49,
    "start_time": "2024-04-21T17:11:31.440Z"
   },
   {
    "duration": 47,
    "start_time": "2024-04-21T17:11:31.490Z"
   },
   {
    "duration": 53,
    "start_time": "2024-04-21T17:11:31.540Z"
   },
   {
    "duration": 101,
    "start_time": "2024-04-21T17:11:31.595Z"
   },
   {
    "duration": 168,
    "start_time": "2024-04-21T17:11:31.698Z"
   },
   {
    "duration": 367,
    "start_time": "2024-04-21T17:11:31.867Z"
   },
   {
    "duration": 242,
    "start_time": "2024-04-21T17:11:32.236Z"
   },
   {
    "duration": 20,
    "start_time": "2024-04-21T17:11:32.480Z"
   },
   {
    "duration": 21,
    "start_time": "2024-04-21T17:11:32.503Z"
   },
   {
    "duration": 4,
    "start_time": "2024-04-21T17:11:32.526Z"
   },
   {
    "duration": 50,
    "start_time": "2024-04-21T17:11:32.533Z"
   },
   {
    "duration": 5,
    "start_time": "2024-04-21T17:11:32.585Z"
   },
   {
    "duration": 15386,
    "start_time": "2024-04-21T17:11:32.592Z"
   },
   {
    "duration": 3,
    "start_time": "2024-04-21T17:11:47.980Z"
   },
   {
    "duration": 42,
    "start_time": "2024-04-21T17:11:47.985Z"
   },
   {
    "duration": 4,
    "start_time": "2024-04-21T17:11:48.029Z"
   },
   {
    "duration": 182,
    "start_time": "2024-04-21T17:11:48.034Z"
   },
   {
    "duration": 9,
    "start_time": "2024-04-21T17:11:48.218Z"
   },
   {
    "duration": 5,
    "start_time": "2024-04-21T17:11:48.230Z"
   },
   {
    "duration": 5,
    "start_time": "2024-04-21T17:11:48.237Z"
   },
   {
    "duration": 23,
    "start_time": "2024-04-21T17:11:48.243Z"
   },
   {
    "duration": 12,
    "start_time": "2024-04-21T17:28:40.657Z"
   },
   {
    "duration": 1145,
    "start_time": "2024-04-21T17:32:26.202Z"
   },
   {
    "duration": 69,
    "start_time": "2024-04-21T17:32:27.349Z"
   },
   {
    "duration": 12,
    "start_time": "2024-04-21T17:32:27.420Z"
   },
   {
    "duration": 7,
    "start_time": "2024-04-21T17:32:27.435Z"
   },
   {
    "duration": 7,
    "start_time": "2024-04-21T17:32:27.444Z"
   },
   {
    "duration": 11,
    "start_time": "2024-04-21T17:32:27.452Z"
   },
   {
    "duration": 14,
    "start_time": "2024-04-21T17:32:27.465Z"
   },
   {
    "duration": 12,
    "start_time": "2024-04-21T17:32:27.481Z"
   },
   {
    "duration": 6,
    "start_time": "2024-04-21T17:32:27.495Z"
   },
   {
    "duration": 11,
    "start_time": "2024-04-21T17:32:27.504Z"
   },
   {
    "duration": 5,
    "start_time": "2024-04-21T17:32:27.517Z"
   },
   {
    "duration": 281,
    "start_time": "2024-04-21T17:32:27.523Z"
   },
   {
    "duration": 180,
    "start_time": "2024-04-21T17:32:27.806Z"
   },
   {
    "duration": 251,
    "start_time": "2024-04-21T17:32:27.987Z"
   },
   {
    "duration": 247,
    "start_time": "2024-04-21T17:32:28.240Z"
   },
   {
    "duration": 8,
    "start_time": "2024-04-21T17:32:28.489Z"
   },
   {
    "duration": 16,
    "start_time": "2024-04-21T17:32:28.500Z"
   },
   {
    "duration": 9,
    "start_time": "2024-04-21T17:32:28.518Z"
   },
   {
    "duration": 12,
    "start_time": "2024-04-21T17:32:28.529Z"
   },
   {
    "duration": 22,
    "start_time": "2024-04-21T17:32:28.543Z"
   },
   {
    "duration": 16,
    "start_time": "2024-04-21T17:32:28.567Z"
   },
   {
    "duration": 14,
    "start_time": "2024-04-21T17:32:28.588Z"
   },
   {
    "duration": 13,
    "start_time": "2024-04-21T17:32:28.604Z"
   },
   {
    "duration": 18,
    "start_time": "2024-04-21T17:32:28.619Z"
   },
   {
    "duration": 214,
    "start_time": "2024-04-21T17:32:28.639Z"
   },
   {
    "duration": 204,
    "start_time": "2024-04-21T17:32:28.855Z"
   },
   {
    "duration": 409,
    "start_time": "2024-04-21T17:32:29.061Z"
   },
   {
    "duration": 4,
    "start_time": "2024-04-21T17:32:29.474Z"
   },
   {
    "duration": 28,
    "start_time": "2024-04-21T17:32:29.480Z"
   },
   {
    "duration": 12,
    "start_time": "2024-04-21T17:32:29.510Z"
   },
   {
    "duration": 732,
    "start_time": "2024-04-21T17:32:29.523Z"
   },
   {
    "duration": 847,
    "start_time": "2024-04-21T17:32:30.261Z"
   },
   {
    "duration": 8,
    "start_time": "2024-04-21T17:32:31.110Z"
   },
   {
    "duration": 254,
    "start_time": "2024-04-21T17:32:31.120Z"
   },
   {
    "duration": 162,
    "start_time": "2024-04-21T17:32:31.375Z"
   },
   {
    "duration": 243,
    "start_time": "2024-04-21T17:32:31.539Z"
   },
   {
    "duration": 6,
    "start_time": "2024-04-21T17:32:31.784Z"
   },
   {
    "duration": 50,
    "start_time": "2024-04-21T17:32:31.792Z"
   },
   {
    "duration": 21,
    "start_time": "2024-04-21T17:32:31.844Z"
   },
   {
    "duration": 67,
    "start_time": "2024-04-21T17:32:31.867Z"
   },
   {
    "duration": 24,
    "start_time": "2024-04-21T17:32:31.936Z"
   },
   {
    "duration": 30,
    "start_time": "2024-04-21T17:32:31.964Z"
   },
   {
    "duration": 45,
    "start_time": "2024-04-21T17:32:31.996Z"
   },
   {
    "duration": 350,
    "start_time": "2024-04-21T17:32:32.043Z"
   },
   {
    "duration": 244,
    "start_time": "2024-04-21T17:32:32.395Z"
   },
   {
    "duration": 23,
    "start_time": "2024-04-21T17:32:32.641Z"
   },
   {
    "duration": 16,
    "start_time": "2024-04-21T17:32:32.666Z"
   },
   {
    "duration": 4,
    "start_time": "2024-04-21T17:32:32.684Z"
   },
   {
    "duration": 21,
    "start_time": "2024-04-21T17:32:32.689Z"
   },
   {
    "duration": 3,
    "start_time": "2024-04-21T17:32:32.712Z"
   },
   {
    "duration": 15714,
    "start_time": "2024-04-21T17:32:32.717Z"
   },
   {
    "duration": 3,
    "start_time": "2024-04-21T17:32:48.433Z"
   },
   {
    "duration": 53,
    "start_time": "2024-04-21T17:32:48.438Z"
   },
   {
    "duration": 67,
    "start_time": "2024-04-21T17:32:48.493Z"
   },
   {
    "duration": 233,
    "start_time": "2024-04-21T17:32:48.562Z"
   },
   {
    "duration": 10,
    "start_time": "2024-04-21T17:32:48.797Z"
   },
   {
    "duration": 42,
    "start_time": "2024-04-21T17:32:48.809Z"
   },
   {
    "duration": 34,
    "start_time": "2024-04-21T17:32:48.853Z"
   },
   {
    "duration": 31,
    "start_time": "2024-04-21T17:32:48.889Z"
   }
  ],
  "kernelspec": {
   "display_name": "Python 3 (ipykernel)",
   "language": "python",
   "name": "python3"
  },
  "language_info": {
   "codemirror_mode": {
    "name": "ipython",
    "version": 3
   },
   "file_extension": ".py",
   "mimetype": "text/x-python",
   "name": "python",
   "nbconvert_exporter": "python",
   "pygments_lexer": "ipython3",
   "version": "3.11.5"
  },
  "toc": {
   "base_numbering": 1,
   "nav_menu": {},
   "number_sections": true,
   "sideBar": true,
   "skip_h1_title": true,
   "title_cell": "Table of Contents",
   "title_sidebar": "Contents",
   "toc_cell": false,
   "toc_position": {},
   "toc_section_display": true,
   "toc_window_display": false
  }
 },
 "nbformat": 4,
 "nbformat_minor": 5
}
