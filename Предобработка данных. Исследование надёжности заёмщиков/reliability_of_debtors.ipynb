{
 "cells": [
  {
   "cell_type": "markdown",
   "id": "f2def823",
   "metadata": {},
   "source": [
    "****Проект предобработка данных - Исследование надежности заемщиков****"
   ]
  },
  {
   "cell_type": "markdown",
   "id": "00c7de5e",
   "metadata": {},
   "source": [
    "### Описание проекта"
   ]
  },
  {
   "cell_type": "markdown",
   "id": "d4ce8e4f",
   "metadata": {},
   "source": [
    "В данном исследовании заказчик — кредитный отдел банка. Нужно разобраться, влияет ли семейное положение и количество детей клиента на факт погашения кредита в срок. Входные данные от банка — статистика о платёжеспособности клиентов.\n",
    "Результаты исследования будут учтены при построении модели кредитного скоринга — специальной системы, которая оценивает способность потенциального заёмщика вернуть кредит банку."
   ]
  },
  {
   "cell_type": "markdown",
   "id": "e58ebbfe",
   "metadata": {},
   "source": [
    "**Цель исследования** - выяснить влияет ли статус человека на возвращаемость кредита в срок\n",
    "\n"
   ]
  },
  {
   "cell_type": "markdown",
   "id": "24b05a3f",
   "metadata": {},
   "source": [
    "**Задачи исследования:**\n",
    "\n",
    "1. Ознакомиться с данными;\n",
    "\n",
    "2. Выполнить предобработку;\n",
    "\n",
    "3. Выяснить влияет ли количество детей на возврат кредита;\n",
    "\n",
    "4. Выяснить влияет ли семейное положение на возврат кредита;\n",
    "\n",
    "5. Выяснить влияет ли уровень дохода на возврат кредита;\n",
    "\n",
    "6. Выяснить влияет ли цель кредита на его возврат в срок;"
   ]
  },
  {
   "cell_type": "markdown",
   "id": "0a0572ec",
   "metadata": {},
   "source": [
    "### Описание данных"
   ]
  },
  {
   "cell_type": "markdown",
   "id": "abe59b50",
   "metadata": {},
   "source": [
    "Файл `data.csv`:\n",
    "\n",
    "\n",
    "- `children` — количество детей в семье;\n",
    "\n",
    "\n",
    "- `days_employed` — общий трудовой стаж в днях;\n",
    "\n",
    "\n",
    "- `dob_years` — возраст клиента в годах;\n",
    "\n",
    "\n",
    "- `education` — уровень образования клиента;\n",
    "\n",
    "\n",
    "- `education_id` — идентификатор уровня образования;\n",
    "\n",
    "\n",
    "- `family_status` — семейное положение;\n",
    "\n",
    "\n",
    "- `family_status_id` — идентификатор семейного положения;\n",
    "\n",
    "\n",
    "- `gender` — пол клиента;\n",
    "\n",
    "\n",
    "- `income_type` — тип занятости;\n",
    "\n",
    "\n",
    "- `debt` — имел ли задолженность по возврату кредитов;\n",
    "\n",
    "\n",
    "- `total_income` — ежемесячный доход;\n",
    "\n",
    "\n",
    "- `purpose` — цель получения кредита;"
   ]
  },
  {
   "cell_type": "markdown",
   "id": "b407547e",
   "metadata": {},
   "source": [
    "### Загрузка и изучение данных."
   ]
  },
  {
   "cell_type": "code",
   "execution_count": 1,
   "id": "7f51a3ca",
   "metadata": {},
   "outputs": [],
   "source": [
    "# Импортирую библиотеки\n",
    "import pandas as pd"
   ]
  },
  {
   "cell_type": "code",
   "execution_count": 2,
   "id": "788c7553",
   "metadata": {},
   "outputs": [],
   "source": [
    "# Загружаю данные\n",
    "debtors = pd.read_csv('data.csv')"
   ]
  },
  {
   "cell_type": "code",
   "execution_count": 3,
   "id": "c42dde1c",
   "metadata": {},
   "outputs": [
    {
     "data": {
      "text/html": [
       "<div>\n",
       "<style scoped>\n",
       "    .dataframe tbody tr th:only-of-type {\n",
       "        vertical-align: middle;\n",
       "    }\n",
       "\n",
       "    .dataframe tbody tr th {\n",
       "        vertical-align: top;\n",
       "    }\n",
       "\n",
       "    .dataframe thead th {\n",
       "        text-align: right;\n",
       "    }\n",
       "</style>\n",
       "<table border=\"1\" class=\"dataframe\">\n",
       "  <thead>\n",
       "    <tr style=\"text-align: right;\">\n",
       "      <th></th>\n",
       "      <th>children</th>\n",
       "      <th>days_employed</th>\n",
       "      <th>dob_years</th>\n",
       "      <th>education</th>\n",
       "      <th>education_id</th>\n",
       "      <th>family_status</th>\n",
       "      <th>family_status_id</th>\n",
       "      <th>gender</th>\n",
       "      <th>income_type</th>\n",
       "      <th>debt</th>\n",
       "      <th>total_income</th>\n",
       "      <th>purpose</th>\n",
       "    </tr>\n",
       "  </thead>\n",
       "  <tbody>\n",
       "    <tr>\n",
       "      <th>0</th>\n",
       "      <td>1</td>\n",
       "      <td>-8437.673028</td>\n",
       "      <td>42</td>\n",
       "      <td>высшее</td>\n",
       "      <td>0</td>\n",
       "      <td>женат / замужем</td>\n",
       "      <td>0</td>\n",
       "      <td>F</td>\n",
       "      <td>сотрудник</td>\n",
       "      <td>0</td>\n",
       "      <td>253875.639453</td>\n",
       "      <td>покупка жилья</td>\n",
       "    </tr>\n",
       "    <tr>\n",
       "      <th>1</th>\n",
       "      <td>1</td>\n",
       "      <td>-4024.803754</td>\n",
       "      <td>36</td>\n",
       "      <td>среднее</td>\n",
       "      <td>1</td>\n",
       "      <td>женат / замужем</td>\n",
       "      <td>0</td>\n",
       "      <td>F</td>\n",
       "      <td>сотрудник</td>\n",
       "      <td>0</td>\n",
       "      <td>112080.014102</td>\n",
       "      <td>приобретение автомобиля</td>\n",
       "    </tr>\n",
       "    <tr>\n",
       "      <th>2</th>\n",
       "      <td>0</td>\n",
       "      <td>-5623.422610</td>\n",
       "      <td>33</td>\n",
       "      <td>Среднее</td>\n",
       "      <td>1</td>\n",
       "      <td>женат / замужем</td>\n",
       "      <td>0</td>\n",
       "      <td>M</td>\n",
       "      <td>сотрудник</td>\n",
       "      <td>0</td>\n",
       "      <td>145885.952297</td>\n",
       "      <td>покупка жилья</td>\n",
       "    </tr>\n",
       "    <tr>\n",
       "      <th>3</th>\n",
       "      <td>3</td>\n",
       "      <td>-4124.747207</td>\n",
       "      <td>32</td>\n",
       "      <td>среднее</td>\n",
       "      <td>1</td>\n",
       "      <td>женат / замужем</td>\n",
       "      <td>0</td>\n",
       "      <td>M</td>\n",
       "      <td>сотрудник</td>\n",
       "      <td>0</td>\n",
       "      <td>267628.550329</td>\n",
       "      <td>дополнительное образование</td>\n",
       "    </tr>\n",
       "    <tr>\n",
       "      <th>4</th>\n",
       "      <td>0</td>\n",
       "      <td>340266.072047</td>\n",
       "      <td>53</td>\n",
       "      <td>среднее</td>\n",
       "      <td>1</td>\n",
       "      <td>гражданский брак</td>\n",
       "      <td>1</td>\n",
       "      <td>F</td>\n",
       "      <td>пенсионер</td>\n",
       "      <td>0</td>\n",
       "      <td>158616.077870</td>\n",
       "      <td>сыграть свадьбу</td>\n",
       "    </tr>\n",
       "    <tr>\n",
       "      <th>5</th>\n",
       "      <td>0</td>\n",
       "      <td>-926.185831</td>\n",
       "      <td>27</td>\n",
       "      <td>высшее</td>\n",
       "      <td>0</td>\n",
       "      <td>гражданский брак</td>\n",
       "      <td>1</td>\n",
       "      <td>M</td>\n",
       "      <td>компаньон</td>\n",
       "      <td>0</td>\n",
       "      <td>255763.565419</td>\n",
       "      <td>покупка жилья</td>\n",
       "    </tr>\n",
       "    <tr>\n",
       "      <th>6</th>\n",
       "      <td>0</td>\n",
       "      <td>-2879.202052</td>\n",
       "      <td>43</td>\n",
       "      <td>высшее</td>\n",
       "      <td>0</td>\n",
       "      <td>женат / замужем</td>\n",
       "      <td>0</td>\n",
       "      <td>F</td>\n",
       "      <td>компаньон</td>\n",
       "      <td>0</td>\n",
       "      <td>240525.971920</td>\n",
       "      <td>операции с жильем</td>\n",
       "    </tr>\n",
       "    <tr>\n",
       "      <th>7</th>\n",
       "      <td>0</td>\n",
       "      <td>-152.779569</td>\n",
       "      <td>50</td>\n",
       "      <td>СРЕДНЕЕ</td>\n",
       "      <td>1</td>\n",
       "      <td>женат / замужем</td>\n",
       "      <td>0</td>\n",
       "      <td>M</td>\n",
       "      <td>сотрудник</td>\n",
       "      <td>0</td>\n",
       "      <td>135823.934197</td>\n",
       "      <td>образование</td>\n",
       "    </tr>\n",
       "    <tr>\n",
       "      <th>8</th>\n",
       "      <td>2</td>\n",
       "      <td>-6929.865299</td>\n",
       "      <td>35</td>\n",
       "      <td>ВЫСШЕЕ</td>\n",
       "      <td>0</td>\n",
       "      <td>гражданский брак</td>\n",
       "      <td>1</td>\n",
       "      <td>F</td>\n",
       "      <td>сотрудник</td>\n",
       "      <td>0</td>\n",
       "      <td>95856.832424</td>\n",
       "      <td>на проведение свадьбы</td>\n",
       "    </tr>\n",
       "    <tr>\n",
       "      <th>9</th>\n",
       "      <td>0</td>\n",
       "      <td>-2188.756445</td>\n",
       "      <td>41</td>\n",
       "      <td>среднее</td>\n",
       "      <td>1</td>\n",
       "      <td>женат / замужем</td>\n",
       "      <td>0</td>\n",
       "      <td>M</td>\n",
       "      <td>сотрудник</td>\n",
       "      <td>0</td>\n",
       "      <td>144425.938277</td>\n",
       "      <td>покупка жилья для семьи</td>\n",
       "    </tr>\n",
       "    <tr>\n",
       "      <th>10</th>\n",
       "      <td>2</td>\n",
       "      <td>-4171.483647</td>\n",
       "      <td>36</td>\n",
       "      <td>высшее</td>\n",
       "      <td>0</td>\n",
       "      <td>женат / замужем</td>\n",
       "      <td>0</td>\n",
       "      <td>M</td>\n",
       "      <td>компаньон</td>\n",
       "      <td>0</td>\n",
       "      <td>113943.491460</td>\n",
       "      <td>покупка недвижимости</td>\n",
       "    </tr>\n",
       "    <tr>\n",
       "      <th>11</th>\n",
       "      <td>0</td>\n",
       "      <td>-792.701887</td>\n",
       "      <td>40</td>\n",
       "      <td>среднее</td>\n",
       "      <td>1</td>\n",
       "      <td>женат / замужем</td>\n",
       "      <td>0</td>\n",
       "      <td>F</td>\n",
       "      <td>сотрудник</td>\n",
       "      <td>0</td>\n",
       "      <td>77069.234271</td>\n",
       "      <td>покупка коммерческой недвижимости</td>\n",
       "    </tr>\n",
       "    <tr>\n",
       "      <th>12</th>\n",
       "      <td>0</td>\n",
       "      <td>NaN</td>\n",
       "      <td>65</td>\n",
       "      <td>среднее</td>\n",
       "      <td>1</td>\n",
       "      <td>гражданский брак</td>\n",
       "      <td>1</td>\n",
       "      <td>M</td>\n",
       "      <td>пенсионер</td>\n",
       "      <td>0</td>\n",
       "      <td>NaN</td>\n",
       "      <td>сыграть свадьбу</td>\n",
       "    </tr>\n",
       "    <tr>\n",
       "      <th>13</th>\n",
       "      <td>0</td>\n",
       "      <td>-1846.641941</td>\n",
       "      <td>54</td>\n",
       "      <td>неоконченное высшее</td>\n",
       "      <td>2</td>\n",
       "      <td>женат / замужем</td>\n",
       "      <td>0</td>\n",
       "      <td>F</td>\n",
       "      <td>сотрудник</td>\n",
       "      <td>0</td>\n",
       "      <td>130458.228857</td>\n",
       "      <td>приобретение автомобиля</td>\n",
       "    </tr>\n",
       "    <tr>\n",
       "      <th>14</th>\n",
       "      <td>0</td>\n",
       "      <td>-1844.956182</td>\n",
       "      <td>56</td>\n",
       "      <td>высшее</td>\n",
       "      <td>0</td>\n",
       "      <td>гражданский брак</td>\n",
       "      <td>1</td>\n",
       "      <td>F</td>\n",
       "      <td>компаньон</td>\n",
       "      <td>1</td>\n",
       "      <td>165127.911772</td>\n",
       "      <td>покупка жилой недвижимости</td>\n",
       "    </tr>\n",
       "    <tr>\n",
       "      <th>15</th>\n",
       "      <td>1</td>\n",
       "      <td>-972.364419</td>\n",
       "      <td>26</td>\n",
       "      <td>среднее</td>\n",
       "      <td>1</td>\n",
       "      <td>женат / замужем</td>\n",
       "      <td>0</td>\n",
       "      <td>F</td>\n",
       "      <td>сотрудник</td>\n",
       "      <td>0</td>\n",
       "      <td>116820.904450</td>\n",
       "      <td>строительство собственной недвижимости</td>\n",
       "    </tr>\n",
       "    <tr>\n",
       "      <th>16</th>\n",
       "      <td>0</td>\n",
       "      <td>-1719.934226</td>\n",
       "      <td>35</td>\n",
       "      <td>среднее</td>\n",
       "      <td>1</td>\n",
       "      <td>женат / замужем</td>\n",
       "      <td>0</td>\n",
       "      <td>F</td>\n",
       "      <td>сотрудник</td>\n",
       "      <td>0</td>\n",
       "      <td>289202.704229</td>\n",
       "      <td>недвижимость</td>\n",
       "    </tr>\n",
       "    <tr>\n",
       "      <th>17</th>\n",
       "      <td>0</td>\n",
       "      <td>-2369.999720</td>\n",
       "      <td>33</td>\n",
       "      <td>высшее</td>\n",
       "      <td>0</td>\n",
       "      <td>гражданский брак</td>\n",
       "      <td>1</td>\n",
       "      <td>M</td>\n",
       "      <td>сотрудник</td>\n",
       "      <td>0</td>\n",
       "      <td>90410.586745</td>\n",
       "      <td>строительство недвижимости</td>\n",
       "    </tr>\n",
       "    <tr>\n",
       "      <th>18</th>\n",
       "      <td>0</td>\n",
       "      <td>400281.136913</td>\n",
       "      <td>53</td>\n",
       "      <td>среднее</td>\n",
       "      <td>1</td>\n",
       "      <td>вдовец / вдова</td>\n",
       "      <td>2</td>\n",
       "      <td>F</td>\n",
       "      <td>пенсионер</td>\n",
       "      <td>0</td>\n",
       "      <td>56823.777243</td>\n",
       "      <td>на покупку подержанного автомобиля</td>\n",
       "    </tr>\n",
       "    <tr>\n",
       "      <th>19</th>\n",
       "      <td>0</td>\n",
       "      <td>-10038.818549</td>\n",
       "      <td>48</td>\n",
       "      <td>СРЕДНЕЕ</td>\n",
       "      <td>1</td>\n",
       "      <td>в разводе</td>\n",
       "      <td>3</td>\n",
       "      <td>F</td>\n",
       "      <td>сотрудник</td>\n",
       "      <td>0</td>\n",
       "      <td>242831.107982</td>\n",
       "      <td>на покупку своего автомобиля</td>\n",
       "    </tr>\n",
       "  </tbody>\n",
       "</table>\n",
       "</div>"
      ],
      "text/plain": [
       "    children  days_employed  dob_years            education  education_id  \\\n",
       "0          1   -8437.673028         42               высшее             0   \n",
       "1          1   -4024.803754         36              среднее             1   \n",
       "2          0   -5623.422610         33              Среднее             1   \n",
       "3          3   -4124.747207         32              среднее             1   \n",
       "4          0  340266.072047         53              среднее             1   \n",
       "5          0    -926.185831         27               высшее             0   \n",
       "6          0   -2879.202052         43               высшее             0   \n",
       "7          0    -152.779569         50              СРЕДНЕЕ             1   \n",
       "8          2   -6929.865299         35               ВЫСШЕЕ             0   \n",
       "9          0   -2188.756445         41              среднее             1   \n",
       "10         2   -4171.483647         36               высшее             0   \n",
       "11         0    -792.701887         40              среднее             1   \n",
       "12         0            NaN         65              среднее             1   \n",
       "13         0   -1846.641941         54  неоконченное высшее             2   \n",
       "14         0   -1844.956182         56               высшее             0   \n",
       "15         1    -972.364419         26              среднее             1   \n",
       "16         0   -1719.934226         35              среднее             1   \n",
       "17         0   -2369.999720         33               высшее             0   \n",
       "18         0  400281.136913         53              среднее             1   \n",
       "19         0  -10038.818549         48              СРЕДНЕЕ             1   \n",
       "\n",
       "       family_status  family_status_id gender income_type  debt  \\\n",
       "0    женат / замужем                 0      F   сотрудник     0   \n",
       "1    женат / замужем                 0      F   сотрудник     0   \n",
       "2    женат / замужем                 0      M   сотрудник     0   \n",
       "3    женат / замужем                 0      M   сотрудник     0   \n",
       "4   гражданский брак                 1      F   пенсионер     0   \n",
       "5   гражданский брак                 1      M   компаньон     0   \n",
       "6    женат / замужем                 0      F   компаньон     0   \n",
       "7    женат / замужем                 0      M   сотрудник     0   \n",
       "8   гражданский брак                 1      F   сотрудник     0   \n",
       "9    женат / замужем                 0      M   сотрудник     0   \n",
       "10   женат / замужем                 0      M   компаньон     0   \n",
       "11   женат / замужем                 0      F   сотрудник     0   \n",
       "12  гражданский брак                 1      M   пенсионер     0   \n",
       "13   женат / замужем                 0      F   сотрудник     0   \n",
       "14  гражданский брак                 1      F   компаньон     1   \n",
       "15   женат / замужем                 0      F   сотрудник     0   \n",
       "16   женат / замужем                 0      F   сотрудник     0   \n",
       "17  гражданский брак                 1      M   сотрудник     0   \n",
       "18    вдовец / вдова                 2      F   пенсионер     0   \n",
       "19         в разводе                 3      F   сотрудник     0   \n",
       "\n",
       "     total_income                                 purpose  \n",
       "0   253875.639453                           покупка жилья  \n",
       "1   112080.014102                 приобретение автомобиля  \n",
       "2   145885.952297                           покупка жилья  \n",
       "3   267628.550329              дополнительное образование  \n",
       "4   158616.077870                         сыграть свадьбу  \n",
       "5   255763.565419                           покупка жилья  \n",
       "6   240525.971920                       операции с жильем  \n",
       "7   135823.934197                             образование  \n",
       "8    95856.832424                   на проведение свадьбы  \n",
       "9   144425.938277                 покупка жилья для семьи  \n",
       "10  113943.491460                    покупка недвижимости  \n",
       "11   77069.234271       покупка коммерческой недвижимости  \n",
       "12            NaN                         сыграть свадьбу  \n",
       "13  130458.228857                 приобретение автомобиля  \n",
       "14  165127.911772              покупка жилой недвижимости  \n",
       "15  116820.904450  строительство собственной недвижимости  \n",
       "16  289202.704229                            недвижимость  \n",
       "17   90410.586745              строительство недвижимости  \n",
       "18   56823.777243      на покупку подержанного автомобиля  \n",
       "19  242831.107982            на покупку своего автомобиля  "
      ]
     },
     "execution_count": 3,
     "metadata": {},
     "output_type": "execute_result"
    }
   ],
   "source": [
    "# Вывожу первые 20 строк\n",
    "debtors.head(20)"
   ]
  },
  {
   "cell_type": "code",
   "execution_count": 4,
   "id": "72590459",
   "metadata": {},
   "outputs": [
    {
     "name": "stdout",
     "output_type": "stream",
     "text": [
      "<class 'pandas.core.frame.DataFrame'>\n",
      "RangeIndex: 21525 entries, 0 to 21524\n",
      "Data columns (total 12 columns):\n",
      " #   Column            Non-Null Count  Dtype  \n",
      "---  ------            --------------  -----  \n",
      " 0   children          21525 non-null  int64  \n",
      " 1   days_employed     19351 non-null  float64\n",
      " 2   dob_years         21525 non-null  int64  \n",
      " 3   education         21525 non-null  object \n",
      " 4   education_id      21525 non-null  int64  \n",
      " 5   family_status     21525 non-null  object \n",
      " 6   family_status_id  21525 non-null  int64  \n",
      " 7   gender            21525 non-null  object \n",
      " 8   income_type       21525 non-null  object \n",
      " 9   debt              21525 non-null  int64  \n",
      " 10  total_income      19351 non-null  float64\n",
      " 11  purpose           21525 non-null  object \n",
      "dtypes: float64(2), int64(5), object(5)\n",
      "memory usage: 2.0+ MB\n"
     ]
    }
   ],
   "source": [
    "# Вывожу основную информацию\n",
    "debtors.info()"
   ]
  },
  {
   "cell_type": "code",
   "execution_count": 5,
   "id": "573cc0f4",
   "metadata": {},
   "outputs": [
    {
     "data": {
      "text/plain": [
       "54"
      ]
     },
     "execution_count": 5,
     "metadata": {},
     "output_type": "execute_result"
    }
   ],
   "source": [
    "debtors.duplicated().sum()"
   ]
  },
  {
   "cell_type": "markdown",
   "id": "560b1a52",
   "metadata": {},
   "source": [
    "***Выводы***"
   ]
  },
  {
   "cell_type": "markdown",
   "id": "0ad55de9",
   "metadata": {},
   "source": [
    "Я ознакомилась с данными. В датсете `debtors` всего 21 525 строк и 12 столбцв. \n",
    "\n",
    "Уже на данном этапе видны проблемы, которые необходимо устранить на этапе предобработке данных:\n",
    "\n",
    "- Некорректный тип данных `total_income`;\n",
    "\n",
    "\n",
    "- Наличие пропусков в столбцах:\n",
    "    - `days_employed` - 2 174 пропуска;\n",
    "    - `total_income` - 2 174 пропуска;\n",
    "\n",
    "\n",
    "- Наличие 54 явных дубликатов;\n",
    "\n",
    "\n",
    "- Необходима проверка на неявные дубликаты;\n",
    "\n",
    "\n",
    "- Необходима проверка на артефакты;\n",
    "\n",
    "\n",
    "- Необходимо создать дополнительные столбцы с категориальными переменными.\n",
    "\n",
    "\n",
    "Для дальнейшей работы необходио провести предобработку данных. Иначе исследование будет некорректным"
   ]
  },
  {
   "cell_type": "markdown",
   "id": "5a699249",
   "metadata": {},
   "source": [
    "### Предобработка данных"
   ]
  },
  {
   "cell_type": "markdown",
   "id": "0092734d",
   "metadata": {},
   "source": [
    "#### Удаление пропусков"
   ]
  },
  {
   "cell_type": "code",
   "execution_count": 6,
   "id": "4c21741d",
   "metadata": {},
   "outputs": [
    {
     "data": {
      "text/plain": [
       "days_employed       2174\n",
       "total_income        2174\n",
       "children               0\n",
       "dob_years              0\n",
       "education              0\n",
       "education_id           0\n",
       "family_status          0\n",
       "family_status_id       0\n",
       "gender                 0\n",
       "income_type            0\n",
       "debt                   0\n",
       "purpose                0\n",
       "dtype: int64"
      ]
     },
     "execution_count": 6,
     "metadata": {},
     "output_type": "execute_result"
    }
   ],
   "source": [
    "# Вывожу количество пропущенных значений для каждого столбца\n",
    "debtors.isna().sum().sort_values(ascending=False)"
   ]
  },
  {
   "cell_type": "markdown",
   "id": "9a808c0c",
   "metadata": {},
   "source": [
    "Пропуски в days_employed обработаю позднее. Другой столбец с пропущенными значениями — total_income — хранит данные о доходах. На сумму дохода сильнее всего влияет тип занятости, поэтому заполнить пропуски в этом столбце нужно медианным значением по каждому типу из столбца income_type"
   ]
  },
  {
   "cell_type": "code",
   "execution_count": 7,
   "id": "5427534c",
   "metadata": {},
   "outputs": [],
   "source": [
    "for t in debtors['income_type'].unique():\n",
    "    debtors.loc[(debtors['income_type'] == t) & (debtors['total_income'].isna()), 'total_income'] = \\\n",
    "    debtors.loc[(debtors['income_type'] == t), 'total_income'].median()"
   ]
  },
  {
   "cell_type": "markdown",
   "id": "fb79213d",
   "metadata": {},
   "source": [
    "#### Обработка аномальных значений"
   ]
  },
  {
   "cell_type": "markdown",
   "id": "247c5cd9",
   "metadata": {},
   "source": [
    "В данных могут встречаться артефакты  — значения, которые не отражают действительность и появились по какой-то ошибке. таким артефактом будет отрицательное количество дней трудового стажа в столбце days_employed"
   ]
  },
  {
   "cell_type": "code",
   "execution_count": 8,
   "id": "706188af",
   "metadata": {},
   "outputs": [],
   "source": [
    "debtors['days_employed'] = debtors['days_employed'].abs()"
   ]
  },
  {
   "cell_type": "markdown",
   "id": "6c76f5e8",
   "metadata": {},
   "source": [
    "Выведу медианное значение трудового стажа days_employed в днях"
   ]
  },
  {
   "cell_type": "code",
   "execution_count": 9,
   "id": "58cbe3a8",
   "metadata": {},
   "outputs": [
    {
     "data": {
      "text/plain": [
       "income_type\n",
       "безработный        366413.652744\n",
       "в декрете            3296.759962\n",
       "госслужащий          2689.368353\n",
       "компаньон            1547.382223\n",
       "пенсионер          365213.306266\n",
       "предприниматель       520.848083\n",
       "сотрудник            1574.202821\n",
       "студент               578.751554\n",
       "Name: days_employed, dtype: float64"
      ]
     },
     "execution_count": 9,
     "metadata": {},
     "output_type": "execute_result"
    }
   ],
   "source": [
    "debtors.groupby('income_type')['days_employed'].agg('median')"
   ]
  },
  {
   "cell_type": "markdown",
   "id": "33b5c20e",
   "metadata": {},
   "source": [
    "У двух типов (безработные и пенсионеры) получатся аномально большие значения. Исправить такие значения сложно, поэтому на данном этапе их нужно оставить без изменений."
   ]
  },
  {
   "cell_type": "markdown",
   "id": "a6acf9a8",
   "metadata": {},
   "source": [
    "Выведу перечень уникальных значений столбца `children`"
   ]
  },
  {
   "cell_type": "code",
   "execution_count": 10,
   "id": "3af22264",
   "metadata": {},
   "outputs": [
    {
     "data": {
      "text/plain": [
       "array([ 1,  0,  3,  2, -1,  4, 20,  5], dtype=int64)"
      ]
     },
     "execution_count": 10,
     "metadata": {},
     "output_type": "execute_result"
    }
   ],
   "source": [
    "debtors['children'].unique()"
   ]
  },
  {
   "cell_type": "markdown",
   "id": "b1fff3af",
   "metadata": {},
   "source": [
    "В столбце children есть два аномальных значения"
   ]
  },
  {
   "cell_type": "code",
   "execution_count": 11,
   "id": "f36b2220",
   "metadata": {},
   "outputs": [],
   "source": [
    "debtors = debtors[(debtors['children'] != -1) & (debtors['children'] != 20)]"
   ]
  },
  {
   "cell_type": "code",
   "execution_count": 12,
   "id": "c824ab49",
   "metadata": {},
   "outputs": [
    {
     "data": {
      "text/plain": [
       "array([1, 0, 3, 2, 4, 5], dtype=int64)"
      ]
     },
     "execution_count": 12,
     "metadata": {},
     "output_type": "execute_result"
    }
   ],
   "source": [
    "# Проверка\n",
    "debtors['children'].unique()"
   ]
  },
  {
   "cell_type": "markdown",
   "id": "fa02565d",
   "metadata": {},
   "source": [
    "#### Удаление пропусков (days_employed)"
   ]
  },
  {
   "cell_type": "markdown",
   "id": "18cac77a",
   "metadata": {},
   "source": [
    "Заполню пропуски в столбце `days_employed` медианными значениями по каждого типа занятости `income_type`"
   ]
  },
  {
   "cell_type": "code",
   "execution_count": 13,
   "id": "9a852c51",
   "metadata": {},
   "outputs": [],
   "source": [
    "for t in debtors['income_type'].unique():\n",
    "    debtors.loc[(debtors['income_type'] == t) & (debtors['days_employed'].isna()), 'days_employed'] = \\\n",
    "    debtors.loc[(debtors['income_type'] == t), 'days_employed'].median()"
   ]
  },
  {
   "cell_type": "code",
   "execution_count": 14,
   "id": "dd010e10",
   "metadata": {},
   "outputs": [
    {
     "data": {
      "text/plain": [
       "children            0\n",
       "days_employed       0\n",
       "dob_years           0\n",
       "education           0\n",
       "education_id        0\n",
       "family_status       0\n",
       "family_status_id    0\n",
       "gender              0\n",
       "income_type         0\n",
       "debt                0\n",
       "total_income        0\n",
       "purpose             0\n",
       "dtype: int64"
      ]
     },
     "execution_count": 14,
     "metadata": {},
     "output_type": "execute_result"
    }
   ],
   "source": [
    "# Проверка\n",
    "debtors.isna().sum()"
   ]
  },
  {
   "cell_type": "markdown",
   "id": "28ffb480",
   "metadata": {},
   "source": [
    "#### Изменение типов данных"
   ]
  },
  {
   "cell_type": "code",
   "execution_count": 15,
   "id": "f22b5cb9",
   "metadata": {},
   "outputs": [],
   "source": [
    "debtors['total_income'] = debtors['total_income'].astype(int)"
   ]
  },
  {
   "cell_type": "markdown",
   "id": "400f0bbd",
   "metadata": {},
   "source": [
    "#### Обработка дубликатов"
   ]
  },
  {
   "cell_type": "markdown",
   "id": "be0b122c",
   "metadata": {},
   "source": [
    "В этом столбце есть одни и те же значения, но записанные по-разному: с использованием заглавных и строчных букв. Приведу их к нижнему регистру."
   ]
  },
  {
   "cell_type": "code",
   "execution_count": 16,
   "id": "ad8556e0",
   "metadata": {},
   "outputs": [],
   "source": [
    "debtors['education'] = debtors['education'].str.lower()"
   ]
  },
  {
   "cell_type": "code",
   "execution_count": 17,
   "id": "4921d93a",
   "metadata": {},
   "outputs": [
    {
     "data": {
      "text/plain": [
       "71"
      ]
     },
     "execution_count": 17,
     "metadata": {},
     "output_type": "execute_result"
    }
   ],
   "source": [
    "debtors.duplicated().sum()"
   ]
  },
  {
   "cell_type": "markdown",
   "id": "7ecee163",
   "metadata": {},
   "source": [
    "Дубликатов стало больше. Их необходимо удалить."
   ]
  },
  {
   "cell_type": "code",
   "execution_count": 18,
   "id": "98a9d101",
   "metadata": {},
   "outputs": [],
   "source": [
    "debtors = debtors.drop_duplicates()"
   ]
  },
  {
   "cell_type": "markdown",
   "id": "ec6e6af0",
   "metadata": {},
   "source": [
    "#### Категоризация данных"
   ]
  },
  {
   "cell_type": "markdown",
   "id": "5796e535",
   "metadata": {},
   "source": [
    "На основании диапазонов, указанных ниже, необходимо создать в датафрейме debtors столбец total_income_category с категориями:\n",
    "\n",
    "- 0–30000 — 'E';\n",
    "- 30001–50000 — 'D';\n",
    "- 50001–200000 — 'C';\n",
    "- 200001–1000000 — 'B';\n",
    "- 1000001 и выше — 'A'.\n",
    "\n",
    "\n",
    "\n",
    "Например, кредитополучателю с доходом 25000 нужно назначить категорию 'E', а клиенту, получающему 235000, — 'B'. "
   ]
  },
  {
   "cell_type": "code",
   "execution_count": 19,
   "id": "8b3baf55",
   "metadata": {},
   "outputs": [],
   "source": [
    "def categorize_income(income):\n",
    "    try:\n",
    "        if 0 <= income <= 30000:\n",
    "            return 'E'\n",
    "        elif 30001 <= income <= 50000:\n",
    "            return 'D'\n",
    "        elif 50001 <= income <= 200000:\n",
    "            return 'C'\n",
    "        elif 200001 <= income <= 1000000:\n",
    "            return 'B'\n",
    "        elif income >= 1000001:\n",
    "            return 'A'\n",
    "    except:\n",
    "        pass"
   ]
  },
  {
   "cell_type": "code",
   "execution_count": 20,
   "id": "d4c07242",
   "metadata": {},
   "outputs": [],
   "source": [
    "debtors['total_income_category'] = debtors['total_income'].apply(categorize_income)"
   ]
  },
  {
   "cell_type": "markdown",
   "id": "b5c9ad79",
   "metadata": {},
   "source": [
    "Выведу уникальные значения цели кредита"
   ]
  },
  {
   "cell_type": "code",
   "execution_count": 21,
   "id": "2e6da104",
   "metadata": {},
   "outputs": [
    {
     "data": {
      "text/plain": [
       "array(['покупка жилья', 'приобретение автомобиля',\n",
       "       'дополнительное образование', 'сыграть свадьбу',\n",
       "       'операции с жильем', 'образование', 'на проведение свадьбы',\n",
       "       'покупка жилья для семьи', 'покупка недвижимости',\n",
       "       'покупка коммерческой недвижимости', 'покупка жилой недвижимости',\n",
       "       'строительство собственной недвижимости', 'недвижимость',\n",
       "       'строительство недвижимости', 'на покупку подержанного автомобиля',\n",
       "       'на покупку своего автомобиля',\n",
       "       'операции с коммерческой недвижимостью',\n",
       "       'строительство жилой недвижимости', 'жилье',\n",
       "       'операции со своей недвижимостью', 'автомобили',\n",
       "       'заняться образованием', 'сделка с подержанным автомобилем',\n",
       "       'получение образования', 'автомобиль', 'свадьба',\n",
       "       'получение дополнительного образования', 'покупка своего жилья',\n",
       "       'операции с недвижимостью', 'получение высшего образования',\n",
       "       'свой автомобиль', 'сделка с автомобилем',\n",
       "       'профильное образование', 'высшее образование',\n",
       "       'покупка жилья для сдачи', 'на покупку автомобиля', 'ремонт жилью',\n",
       "       'заняться высшим образованием'], dtype=object)"
      ]
     },
     "execution_count": 21,
     "metadata": {},
     "output_type": "execute_result"
    }
   ],
   "source": [
    "debtors['purpose'].unique()"
   ]
  },
  {
   "cell_type": "markdown",
   "id": "451f4456",
   "metadata": {},
   "source": [
    "Нужно создать функцию, которая на основании данных из столбца `purpose` сформирует новый столбец `purpose_category`, в который войдут следующие категории:\n",
    "\n",
    "- `'операции с автомобилем'`,\n",
    "- `'операции с недвижимостью'`,\n",
    "- `'проведение свадьбы'`,\n",
    "- `'получение образования'`.\n",
    "\n",
    "Например, если в столбце `purpose` находится подстрока `'на покупку автомобиля'`, то в столбце `purpose_category` должна появиться строка `'операции с автомобилем'`.\n"
   ]
  },
  {
   "cell_type": "code",
   "execution_count": 22,
   "id": "d2709ebb",
   "metadata": {},
   "outputs": [],
   "source": [
    "def categorize_purpose(row):\n",
    "    try:\n",
    "        if 'автом' in row:\n",
    "            return 'операции с автомобилем'\n",
    "        elif 'жил' in row or 'недвиж' in row:\n",
    "            return 'операции с недвижимостью'\n",
    "        elif 'свад' in row:\n",
    "            return 'проведение свадьбы'\n",
    "        elif 'образов' in row:\n",
    "            return 'получение образования'\n",
    "    except:\n",
    "        return 'нет категории'"
   ]
  },
  {
   "cell_type": "code",
   "execution_count": 23,
   "id": "3e659eff",
   "metadata": {},
   "outputs": [],
   "source": [
    "debtors['purpose_category'] = debtors['purpose'].apply(categorize_purpose)"
   ]
  },
  {
   "cell_type": "markdown",
   "id": "bcce3c1d",
   "metadata": {},
   "source": [
    "### Исследование данных"
   ]
  },
  {
   "cell_type": "markdown",
   "id": "95700035",
   "metadata": {},
   "source": [
    "#### Есть ли зависимость между количеством детей и возвратом кредита в срок?"
   ]
  },
  {
   "cell_type": "code",
   "execution_count": 24,
   "id": "5ddb799f",
   "metadata": {},
   "outputs": [
    {
     "data": {
      "text/html": [
       "<div>\n",
       "<style scoped>\n",
       "    .dataframe tbody tr th:only-of-type {\n",
       "        vertical-align: middle;\n",
       "    }\n",
       "\n",
       "    .dataframe tbody tr th {\n",
       "        vertical-align: top;\n",
       "    }\n",
       "\n",
       "    .dataframe thead th {\n",
       "        text-align: right;\n",
       "    }\n",
       "</style>\n",
       "<table border=\"1\" class=\"dataframe\">\n",
       "  <thead>\n",
       "    <tr style=\"text-align: right;\">\n",
       "      <th></th>\n",
       "      <th>count</th>\n",
       "      <th>sum</th>\n",
       "      <th>share</th>\n",
       "    </tr>\n",
       "    <tr>\n",
       "      <th>children</th>\n",
       "      <th></th>\n",
       "      <th></th>\n",
       "      <th></th>\n",
       "    </tr>\n",
       "  </thead>\n",
       "  <tbody>\n",
       "    <tr>\n",
       "      <th>5</th>\n",
       "      <td>9</td>\n",
       "      <td>0</td>\n",
       "      <td>0.000</td>\n",
       "    </tr>\n",
       "    <tr>\n",
       "      <th>0</th>\n",
       "      <td>14091</td>\n",
       "      <td>1063</td>\n",
       "      <td>0.075</td>\n",
       "    </tr>\n",
       "    <tr>\n",
       "      <th>3</th>\n",
       "      <td>330</td>\n",
       "      <td>27</td>\n",
       "      <td>0.082</td>\n",
       "    </tr>\n",
       "    <tr>\n",
       "      <th>1</th>\n",
       "      <td>4808</td>\n",
       "      <td>444</td>\n",
       "      <td>0.092</td>\n",
       "    </tr>\n",
       "    <tr>\n",
       "      <th>2</th>\n",
       "      <td>2052</td>\n",
       "      <td>194</td>\n",
       "      <td>0.095</td>\n",
       "    </tr>\n",
       "    <tr>\n",
       "      <th>4</th>\n",
       "      <td>41</td>\n",
       "      <td>4</td>\n",
       "      <td>0.098</td>\n",
       "    </tr>\n",
       "  </tbody>\n",
       "</table>\n",
       "</div>"
      ],
      "text/plain": [
       "          count   sum  share\n",
       "children                    \n",
       "5             9     0  0.000\n",
       "0         14091  1063  0.075\n",
       "3           330    27  0.082\n",
       "1          4808   444  0.092\n",
       "2          2052   194  0.095\n",
       "4            41     4  0.098"
      ]
     },
     "execution_count": 24,
     "metadata": {},
     "output_type": "execute_result"
    }
   ],
   "source": [
    "repayment_by_parents = debtors.pivot_table(index=['children'], values='debt', aggfunc={'sum', 'count'}) \n",
    "repayment_by_parents['share'] = round(repayment_by_parents['sum'] / repayment_by_parents['count'],3)\n",
    "repayment_by_parents.sort_values(by='share', ascending=True)"
   ]
  },
  {
   "cell_type": "markdown",
   "id": "847d55e5",
   "metadata": {},
   "source": [
    "***Вывод***"
   ]
  },
  {
   "cell_type": "markdown",
   "id": "f4a91554",
   "metadata": {},
   "source": [
    "Зависимость между количеством детей и возвратом кредита в срок существует. Семьи с тремя и пятью детьми чаще возвращают кредиты вовремя, также как и люди без детей. Это может быть связано с тем, что семьи с пятью детьми обычно более ответственны и организованы, а люди без детей имеют больше финансовых возможностей для погашения кредитов, так как не несут дополнительных расходов на содержание детей. Что касается семей с одним или двумя детьми, они демонстрируют примерно одинаковый уровень просрочки по кредитам. При этом семьи с двумя детьми допускают такое чаще. Наибольший процент непогашения кредитов наблюдается среди семей с четырьмя детьми, возможно, из-за значительной финансовой нагрузки на семейный бюджет."
   ]
  },
  {
   "cell_type": "markdown",
   "id": "655fce26",
   "metadata": {},
   "source": [
    "#### Есть ли зависимость между семейным положением и возвратом кредита в срок?"
   ]
  },
  {
   "cell_type": "code",
   "execution_count": 25,
   "id": "73da396c",
   "metadata": {},
   "outputs": [
    {
     "data": {
      "text/html": [
       "<div>\n",
       "<style scoped>\n",
       "    .dataframe tbody tr th:only-of-type {\n",
       "        vertical-align: middle;\n",
       "    }\n",
       "\n",
       "    .dataframe tbody tr th {\n",
       "        vertical-align: top;\n",
       "    }\n",
       "\n",
       "    .dataframe thead th {\n",
       "        text-align: right;\n",
       "    }\n",
       "</style>\n",
       "<table border=\"1\" class=\"dataframe\">\n",
       "  <thead>\n",
       "    <tr style=\"text-align: right;\">\n",
       "      <th></th>\n",
       "      <th>count</th>\n",
       "      <th>sum</th>\n",
       "      <th>share</th>\n",
       "    </tr>\n",
       "    <tr>\n",
       "      <th>family_status</th>\n",
       "      <th></th>\n",
       "      <th></th>\n",
       "      <th></th>\n",
       "    </tr>\n",
       "  </thead>\n",
       "  <tbody>\n",
       "    <tr>\n",
       "      <th>вдовец / вдова</th>\n",
       "      <td>951</td>\n",
       "      <td>63</td>\n",
       "      <td>0.066</td>\n",
       "    </tr>\n",
       "    <tr>\n",
       "      <th>в разводе</th>\n",
       "      <td>1189</td>\n",
       "      <td>84</td>\n",
       "      <td>0.071</td>\n",
       "    </tr>\n",
       "    <tr>\n",
       "      <th>женат / замужем</th>\n",
       "      <td>12261</td>\n",
       "      <td>927</td>\n",
       "      <td>0.076</td>\n",
       "    </tr>\n",
       "    <tr>\n",
       "      <th>гражданский брак</th>\n",
       "      <td>4134</td>\n",
       "      <td>385</td>\n",
       "      <td>0.093</td>\n",
       "    </tr>\n",
       "    <tr>\n",
       "      <th>Не женат / не замужем</th>\n",
       "      <td>2796</td>\n",
       "      <td>273</td>\n",
       "      <td>0.098</td>\n",
       "    </tr>\n",
       "  </tbody>\n",
       "</table>\n",
       "</div>"
      ],
      "text/plain": [
       "                       count  sum  share\n",
       "family_status                           \n",
       "вдовец / вдова           951   63  0.066\n",
       "в разводе               1189   84  0.071\n",
       "женат / замужем        12261  927  0.076\n",
       "гражданский брак        4134  385  0.093\n",
       "Не женат / не замужем   2796  273  0.098"
      ]
     },
     "execution_count": 25,
     "metadata": {},
     "output_type": "execute_result"
    }
   ],
   "source": [
    "repayment_by_spouses = debtors.pivot_table(index=['family_status'], values='debt', aggfunc={'sum', 'count'}) \n",
    "repayment_by_spouses['share'] = round(repayment_by_spouses['sum'] / repayment_by_spouses['count'],3)\n",
    "repayment_by_spouses.sort_values(by='share', ascending=True)"
   ]
  },
  {
   "cell_type": "markdown",
   "id": "756f22f1",
   "metadata": {},
   "source": [
    "***Вывод***"
   ]
  },
  {
   "cell_type": "markdown",
   "id": "341b8b36",
   "metadata": {},
   "source": [
    "Высока вероятность своевременного возврата кредитов людьми, которые не состоят в браке, но имеют опыт семейной жизни в прошлом. Возраст, чувство ответственности и финансовая стабильность могут быть возможными причинами такого успеха. Те, кто состоит в браке, имеют хорошую, но не идеальную кредитную историю. Наличие детей и финансовые трудности могут быть факторами, влияющими на это. Гражданский брак и незамужние люди имеют самый низкий процент возврата кредитов. Причины могут быть разными: наличие детей, молодой возраст, недостаточный доход и так далее. В целом, существует взаимосвязь между этими факторами."
   ]
  },
  {
   "cell_type": "markdown",
   "id": "26d2719c",
   "metadata": {},
   "source": [
    "#### Есть ли зависимость между уровнем дохода и возвратом кредита в срок?"
   ]
  },
  {
   "cell_type": "code",
   "execution_count": 26,
   "id": "5ddabb0f",
   "metadata": {},
   "outputs": [
    {
     "data": {
      "text/html": [
       "<div>\n",
       "<style scoped>\n",
       "    .dataframe tbody tr th:only-of-type {\n",
       "        vertical-align: middle;\n",
       "    }\n",
       "\n",
       "    .dataframe tbody tr th {\n",
       "        vertical-align: top;\n",
       "    }\n",
       "\n",
       "    .dataframe thead th {\n",
       "        text-align: right;\n",
       "    }\n",
       "</style>\n",
       "<table border=\"1\" class=\"dataframe\">\n",
       "  <thead>\n",
       "    <tr style=\"text-align: right;\">\n",
       "      <th></th>\n",
       "      <th>count</th>\n",
       "      <th>sum</th>\n",
       "      <th>share</th>\n",
       "    </tr>\n",
       "    <tr>\n",
       "      <th>total_income_category</th>\n",
       "      <th></th>\n",
       "      <th></th>\n",
       "      <th></th>\n",
       "    </tr>\n",
       "  </thead>\n",
       "  <tbody>\n",
       "    <tr>\n",
       "      <th>D</th>\n",
       "      <td>349</td>\n",
       "      <td>21</td>\n",
       "      <td>0.060</td>\n",
       "    </tr>\n",
       "    <tr>\n",
       "      <th>B</th>\n",
       "      <td>5014</td>\n",
       "      <td>354</td>\n",
       "      <td>0.071</td>\n",
       "    </tr>\n",
       "    <tr>\n",
       "      <th>A</th>\n",
       "      <td>25</td>\n",
       "      <td>2</td>\n",
       "      <td>0.080</td>\n",
       "    </tr>\n",
       "    <tr>\n",
       "      <th>C</th>\n",
       "      <td>15921</td>\n",
       "      <td>1353</td>\n",
       "      <td>0.085</td>\n",
       "    </tr>\n",
       "    <tr>\n",
       "      <th>E</th>\n",
       "      <td>22</td>\n",
       "      <td>2</td>\n",
       "      <td>0.091</td>\n",
       "    </tr>\n",
       "  </tbody>\n",
       "</table>\n",
       "</div>"
      ],
      "text/plain": [
       "                       count   sum  share\n",
       "total_income_category                    \n",
       "D                        349    21  0.060\n",
       "B                       5014   354  0.071\n",
       "A                         25     2  0.080\n",
       "C                      15921  1353  0.085\n",
       "E                         22     2  0.091"
      ]
     },
     "execution_count": 26,
     "metadata": {},
     "output_type": "execute_result"
    }
   ],
   "source": [
    "repayment_from_income = debtors.pivot_table(index=['total_income_category'], values='debt', aggfunc={'sum', 'count'}) \n",
    "repayment_from_income['share'] = round(repayment_from_income['sum'] / repayment_from_income['count'],3)\n",
    "repayment_from_income.sort_values(by='share', ascending=True)"
   ]
  },
  {
   "cell_type": "markdown",
   "id": "d633ab83",
   "metadata": {},
   "source": [
    "***Вывод***"
   ]
  },
  {
   "cell_type": "markdown",
   "id": "c59247be",
   "metadata": {},
   "source": [
    "Самая высокая возвратность кредитов наблюдается у людей с доходом категории D. Вероятно, это связано с тем, что они не хотят получать штрафы, так как их доход может не покрывать их. Люди с доходом категории C также имеют низкий процент просрочки по кредитам, что может быть связано с их высоким уровнем ответственности и осознанностью в финансовых вопросах.\n",
    "Интересно отметить, что у людей с высокими доходами вероятность несвоевременного возврата кредита относительно средняя. Это может быть связано с различными факторами, такими как наличие нескольких кредитов или другие обязательства. Люди с самыми низкими доходами категории E имеют наибольшую вероятность несвоевременного погашения кредита, что указывает на очевидную корреляцию между доходом и вероятностью несвоевременного погашения кредита.\n",
    "Самые многочисленные категории — B с доходом от 200 тысяч до 1 миллиона и C с доходом от 50 тысяч до 200 тысяч. Люди с категорией B редко допускают просрочки, так как в эту категорию, вероятно, входят предприниматели и бизнесмены, чьи кредиты взяты на бизнес-цели, например, покупку коммерческой недвижимости. Соответственно, если и есть просрочки, то, скорее всего, у человека начались проблемы с получением прибыли или даже дело идёт к банкротству.\n",
    "Люди с категорией C относительно часто допускают просрочки по кредитам. Можно предположить, что это категория людей с относительно низкой финансовой грамотностью, возможно, начинающие и мелкие предпринимателей, молодые IT-специалистов."
   ]
  },
  {
   "cell_type": "markdown",
   "id": "39985fb5",
   "metadata": {},
   "source": [
    "#### Как разные цели кредита влияют на его возврат в срок?"
   ]
  },
  {
   "cell_type": "code",
   "execution_count": 27,
   "id": "b14233e6",
   "metadata": {},
   "outputs": [
    {
     "data": {
      "text/html": [
       "<div>\n",
       "<style scoped>\n",
       "    .dataframe tbody tr th:only-of-type {\n",
       "        vertical-align: middle;\n",
       "    }\n",
       "\n",
       "    .dataframe tbody tr th {\n",
       "        vertical-align: top;\n",
       "    }\n",
       "\n",
       "    .dataframe thead th {\n",
       "        text-align: right;\n",
       "    }\n",
       "</style>\n",
       "<table border=\"1\" class=\"dataframe\">\n",
       "  <thead>\n",
       "    <tr style=\"text-align: right;\">\n",
       "      <th></th>\n",
       "      <th>count</th>\n",
       "      <th>sum</th>\n",
       "      <th>share</th>\n",
       "    </tr>\n",
       "    <tr>\n",
       "      <th>purpose_category</th>\n",
       "      <th></th>\n",
       "      <th></th>\n",
       "      <th></th>\n",
       "    </tr>\n",
       "  </thead>\n",
       "  <tbody>\n",
       "    <tr>\n",
       "      <th>операции с недвижимостью</th>\n",
       "      <td>10751</td>\n",
       "      <td>780</td>\n",
       "      <td>0.073</td>\n",
       "    </tr>\n",
       "    <tr>\n",
       "      <th>проведение свадьбы</th>\n",
       "      <td>2313</td>\n",
       "      <td>183</td>\n",
       "      <td>0.079</td>\n",
       "    </tr>\n",
       "    <tr>\n",
       "      <th>операции с автомобилем</th>\n",
       "      <td>4279</td>\n",
       "      <td>400</td>\n",
       "      <td>0.093</td>\n",
       "    </tr>\n",
       "    <tr>\n",
       "      <th>получение образования</th>\n",
       "      <td>3988</td>\n",
       "      <td>369</td>\n",
       "      <td>0.093</td>\n",
       "    </tr>\n",
       "  </tbody>\n",
       "</table>\n",
       "</div>"
      ],
      "text/plain": [
       "                          count  sum  share\n",
       "purpose_category                           \n",
       "операции с недвижимостью  10751  780  0.073\n",
       "проведение свадьбы         2313  183  0.079\n",
       "операции с автомобилем     4279  400  0.093\n",
       "получение образования      3988  369  0.093"
      ]
     },
     "execution_count": 27,
     "metadata": {},
     "output_type": "execute_result"
    }
   ],
   "source": [
    "repayment_from_purpose = debtors.pivot_table(index=['purpose_category'], values='debt', aggfunc={'sum', 'count'}) \n",
    "repayment_from_purpose['share'] = round(repayment_from_purpose['sum'] / repayment_from_purpose['count'],3)\n",
    "repayment_from_purpose.sort_values(by='share', ascending=True)"
   ]
  },
  {
   "cell_type": "markdown",
   "id": "1320c6f7",
   "metadata": {},
   "source": [
    "***Вывод***"
   ]
  },
  {
   "cell_type": "markdown",
   "id": "5e6da369",
   "metadata": {},
   "source": [
    "Здесь прослеживается закономерность. У людей, которые хотят создать семью или купить жильё, вероятность своевременного погашения кредита выше, чем у тех, кто берёт потребительский кредит на меньшие суммы. Возможно, это связано с размером суммы кредита. Также люди, которые берут кредит на образование, чаще всего являются студентами (поскольку сейчас в России существуют специальные образовательные кредиты), которые не осознают степень ответственности и не учитывают свои финансовые возможности."
   ]
  },
  {
   "cell_type": "markdown",
   "id": "d516b40a",
   "metadata": {},
   "source": [
    "#### Возможные причины появления пропусков в исходных данных"
   ]
  },
  {
   "cell_type": "markdown",
   "id": "3ef6f24f",
   "metadata": {},
   "source": [
    "В столбцах days_employed и total_income были обнаружены пропуски. Вероятно, это связано с человеческим фактором: некоторые люди могли неверно заполнить таблицу или отказаться предоставлять данные. Примечательно, что количество пропусков в обоих столбцах одинаково. Из этого можно сделать вывод, что возникновение пропусков в одном столбце могло повлиять на их появление в другом столбце.\n",
    "Ещё одной возможной причиной возникновения пропусков могут быть технологические ошибки, такие как сбои при записи данных, копировании или считывании информации."
   ]
  },
  {
   "cell_type": "markdown",
   "id": "bc61fb2f",
   "metadata": {},
   "source": [
    "#### Почему заполнить пропуски медианным значением — лучшее решение для количественных переменных"
   ]
  },
  {
   "cell_type": "markdown",
   "id": "d4c4d4af",
   "metadata": {},
   "source": [
    "В этом случае медианное значение является наилучшим вариантом, поскольку данные могут иметь большой разброс, который искажает среднее арифметическое значение."
   ]
  },
  {
   "cell_type": "markdown",
   "id": "a49831f9",
   "metadata": {},
   "source": [
    "### Итоговый вывод"
   ]
  },
  {
   "cell_type": "markdown",
   "id": "781a7a81",
   "metadata": {},
   "source": [
    "В ходе исследования надёжности заёмщиков были проанализированы полученные данные, устранены пробелы, удалены дубликаты, а клиенты разделены на группы по различным критериям. На основе проведённой работы можно сделать следующие выводы:\n",
    "\n",
    "\n",
    "1. Люди, состоящие в официальном браке или бывшие ранее в официальном браке и не имеющие детей, берущие жилищный кредит, являются самыми ответственными заёмщиками.\n",
    "\n",
    "\n",
    "2. Те, кто состоит в гражданском браке или не имеет отношений, при этом имея одного или двух детей, берущие кредит на свадьбу или образование, считаются наименее ответственными заёмщиками.\n",
    "\n",
    "\n",
    "Для получения более чёткого представления о потенциальных заёмщиках и улучшения системы скоринга рекомендуется учитывать такие факторы, как возраст, место работы, должность, стаж в текущей компании и общий стаж работы (частая смена места работы может существенно повлиять на решение о выдаче кредита), а также законность трудоустройства."
   ]
  }
 ],
 "metadata": {
  "kernelspec": {
   "display_name": "Python 3 (ipykernel)",
   "language": "python",
   "name": "python3"
  },
  "language_info": {
   "codemirror_mode": {
    "name": "ipython",
    "version": 3
   },
   "file_extension": ".py",
   "mimetype": "text/x-python",
   "name": "python",
   "nbconvert_exporter": "python",
   "pygments_lexer": "ipython3",
   "version": "3.11.5"
  }
 },
 "nbformat": 4,
 "nbformat_minor": 5
}
